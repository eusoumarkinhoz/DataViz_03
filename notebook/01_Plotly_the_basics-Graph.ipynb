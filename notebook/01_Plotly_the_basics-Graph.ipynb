{
 "cells": [
  {
   "cell_type": "code",
   "execution_count": 1,
   "metadata": {},
   "outputs": [],
   "source": [
    "import pandas as pd\n",
    "import numpy as np\n",
    "import plotly\n",
    "import plotly.graph_objects as go\n",
    "import pandas as pd\n",
    "import plotly.express as px\n",
    "from sklearn.preprocessing import MinMaxScaler\n"
   ]
  },
  {
   "cell_type": "markdown",
   "metadata": {},
   "source": [
    "3. Mix énergétique en France: Quelle situation, quelle évolution ?"
   ]
  },
  {
   "cell_type": "code",
   "execution_count": 2,
   "metadata": {},
   "outputs": [],
   "source": [
    "df_data_nationales = pd.read_pickle('./Pickles/df_data_nationales.pkl')"
   ]
  },
  {
   "cell_type": "code",
   "execution_count": 3,
   "metadata": {},
   "outputs": [
    {
     "data": {
      "text/html": [
       "<div>\n",
       "<style scoped>\n",
       "    .dataframe tbody tr th:only-of-type {\n",
       "        vertical-align: middle;\n",
       "    }\n",
       "\n",
       "    .dataframe tbody tr th {\n",
       "        vertical-align: top;\n",
       "    }\n",
       "\n",
       "    .dataframe thead th {\n",
       "        text-align: right;\n",
       "    }\n",
       "</style>\n",
       "<table border=\"1\" class=\"dataframe\">\n",
       "  <thead>\n",
       "    <tr style=\"text-align: right;\">\n",
       "      <th></th>\n",
       "      <th>Consommation</th>\n",
       "      <th>Fioul</th>\n",
       "      <th>Charbon</th>\n",
       "      <th>Gaz</th>\n",
       "      <th>Nucléaire</th>\n",
       "      <th>Eolien</th>\n",
       "      <th>Solaire</th>\n",
       "      <th>Hydraulique</th>\n",
       "      <th>Pompage</th>\n",
       "      <th>Bioénergies</th>\n",
       "      <th>Ech. physiques</th>\n",
       "    </tr>\n",
       "    <tr>\n",
       "      <th>DateTime</th>\n",
       "      <th></th>\n",
       "      <th></th>\n",
       "      <th></th>\n",
       "      <th></th>\n",
       "      <th></th>\n",
       "      <th></th>\n",
       "      <th></th>\n",
       "      <th></th>\n",
       "      <th></th>\n",
       "      <th></th>\n",
       "      <th></th>\n",
       "    </tr>\n",
       "  </thead>\n",
       "  <tbody>\n",
       "    <tr>\n",
       "      <th>2012-01-01 00:00:00</th>\n",
       "      <td>58315.0</td>\n",
       "      <td>492.0</td>\n",
       "      <td>25.0</td>\n",
       "      <td>3816.0</td>\n",
       "      <td>52697.0</td>\n",
       "      <td>3588.0</td>\n",
       "      <td>0.0</td>\n",
       "      <td>7922.0</td>\n",
       "      <td>-1139.0</td>\n",
       "      <td>719.0</td>\n",
       "      <td>-9806.0</td>\n",
       "    </tr>\n",
       "    <tr>\n",
       "      <th>2012-01-01 00:15:00</th>\n",
       "      <td>NaN</td>\n",
       "      <td>NaN</td>\n",
       "      <td>NaN</td>\n",
       "      <td>NaN</td>\n",
       "      <td>NaN</td>\n",
       "      <td>NaN</td>\n",
       "      <td>NaN</td>\n",
       "      <td>NaN</td>\n",
       "      <td>NaN</td>\n",
       "      <td>NaN</td>\n",
       "      <td>NaN</td>\n",
       "    </tr>\n",
       "    <tr>\n",
       "      <th>2012-01-01 00:30:00</th>\n",
       "      <td>58315.0</td>\n",
       "      <td>492.0</td>\n",
       "      <td>25.0</td>\n",
       "      <td>3816.0</td>\n",
       "      <td>52697.0</td>\n",
       "      <td>3588.0</td>\n",
       "      <td>0.0</td>\n",
       "      <td>7922.0</td>\n",
       "      <td>-1139.0</td>\n",
       "      <td>719.0</td>\n",
       "      <td>-9806.0</td>\n",
       "    </tr>\n",
       "    <tr>\n",
       "      <th>2012-01-01 00:45:00</th>\n",
       "      <td>NaN</td>\n",
       "      <td>NaN</td>\n",
       "      <td>NaN</td>\n",
       "      <td>NaN</td>\n",
       "      <td>NaN</td>\n",
       "      <td>NaN</td>\n",
       "      <td>NaN</td>\n",
       "      <td>NaN</td>\n",
       "      <td>NaN</td>\n",
       "      <td>NaN</td>\n",
       "      <td>NaN</td>\n",
       "    </tr>\n",
       "    <tr>\n",
       "      <th>2012-01-01 01:00:00</th>\n",
       "      <td>56231.0</td>\n",
       "      <td>492.0</td>\n",
       "      <td>25.0</td>\n",
       "      <td>3834.0</td>\n",
       "      <td>51747.0</td>\n",
       "      <td>3536.0</td>\n",
       "      <td>0.0</td>\n",
       "      <td>7598.0</td>\n",
       "      <td>-1730.0</td>\n",
       "      <td>721.0</td>\n",
       "      <td>-9993.0</td>\n",
       "    </tr>\n",
       "  </tbody>\n",
       "</table>\n",
       "</div>"
      ],
      "text/plain": [
       "                     Consommation  Fioul  Charbon     Gaz  Nucléaire  Eolien  \\\n",
       "DateTime                                                                       \n",
       "2012-01-01 00:00:00       58315.0  492.0     25.0  3816.0    52697.0  3588.0   \n",
       "2012-01-01 00:15:00           NaN    NaN      NaN     NaN        NaN     NaN   \n",
       "2012-01-01 00:30:00       58315.0  492.0     25.0  3816.0    52697.0  3588.0   \n",
       "2012-01-01 00:45:00           NaN    NaN      NaN     NaN        NaN     NaN   \n",
       "2012-01-01 01:00:00       56231.0  492.0     25.0  3834.0    51747.0  3536.0   \n",
       "\n",
       "                     Solaire  Hydraulique  Pompage  Bioénergies  \\\n",
       "DateTime                                                          \n",
       "2012-01-01 00:00:00      0.0       7922.0  -1139.0        719.0   \n",
       "2012-01-01 00:15:00      NaN          NaN      NaN          NaN   \n",
       "2012-01-01 00:30:00      0.0       7922.0  -1139.0        719.0   \n",
       "2012-01-01 00:45:00      NaN          NaN      NaN          NaN   \n",
       "2012-01-01 01:00:00      0.0       7598.0  -1730.0        721.0   \n",
       "\n",
       "                     Ech. physiques  \n",
       "DateTime                             \n",
       "2012-01-01 00:00:00         -9806.0  \n",
       "2012-01-01 00:15:00             NaN  \n",
       "2012-01-01 00:30:00         -9806.0  \n",
       "2012-01-01 00:45:00             NaN  \n",
       "2012-01-01 01:00:00         -9993.0  "
      ]
     },
     "execution_count": 3,
     "metadata": {},
     "output_type": "execute_result"
    }
   ],
   "source": [
    "df_data_nationales.head()"
   ]
  },
  {
   "cell_type": "code",
   "execution_count": 4,
   "metadata": {},
   "outputs": [],
   "source": [
    "df_data_nationales_clean = (df_data_nationales.dropna(how='all')\n",
    "                                              .drop(['Ech. physiques'], axis=1)\n",
    ")"
   ]
  },
  {
   "cell_type": "code",
   "execution_count": 5,
   "metadata": {},
   "outputs": [],
   "source": [
    "df_data_nationales_clean = df_data_nationales_clean.dropna(how='all', axis=1)"
   ]
  },
  {
   "cell_type": "code",
   "execution_count": 6,
   "metadata": {},
   "outputs": [
    {
     "name": "stdout",
     "output_type": "stream",
     "text": [
      "<class 'pandas.core.frame.DataFrame'>\n",
      "DatetimeIndex: 122736 entries, 2012-01-01 00:00:00 to 2018-12-31 23:30:00\n",
      "Data columns (total 10 columns):\n",
      " #   Column        Non-Null Count   Dtype  \n",
      "---  ------        --------------   -----  \n",
      " 0   Consommation  122736 non-null  float64\n",
      " 1   Fioul         122736 non-null  float64\n",
      " 2   Charbon       122736 non-null  float64\n",
      " 3   Gaz           122736 non-null  float64\n",
      " 4   Nucléaire     122736 non-null  float64\n",
      " 5   Eolien        122736 non-null  float64\n",
      " 6   Solaire       122736 non-null  float64\n",
      " 7   Hydraulique   122736 non-null  float64\n",
      " 8   Pompage       122736 non-null  float64\n",
      " 9   Bioénergies   122736 non-null  float64\n",
      "dtypes: float64(10)\n",
      "memory usage: 10.3 MB\n"
     ]
    }
   ],
   "source": [
    "df_data_nationales_clean.info()"
   ]
  },
  {
   "cell_type": "code",
   "execution_count": 7,
   "metadata": {},
   "outputs": [],
   "source": [
    "df_data_nationales2 = df_data_nationales_clean"
   ]
  },
  {
   "cell_type": "code",
   "execution_count": 8,
   "metadata": {},
   "outputs": [],
   "source": [
    "df_data_nationales_clean = df_data_nationales_clean.groupby(pd.Grouper(freq=\"M\")).sum()"
   ]
  },
  {
   "cell_type": "code",
   "execution_count": 9,
   "metadata": {},
   "outputs": [
    {
     "data": {
      "text/html": [
       "<div>\n",
       "<style scoped>\n",
       "    .dataframe tbody tr th:only-of-type {\n",
       "        vertical-align: middle;\n",
       "    }\n",
       "\n",
       "    .dataframe tbody tr th {\n",
       "        vertical-align: top;\n",
       "    }\n",
       "\n",
       "    .dataframe thead th {\n",
       "        text-align: right;\n",
       "    }\n",
       "</style>\n",
       "<table border=\"1\" class=\"dataframe\">\n",
       "  <thead>\n",
       "    <tr style=\"text-align: right;\">\n",
       "      <th></th>\n",
       "      <th>Consommation</th>\n",
       "      <th>Fioul</th>\n",
       "      <th>Charbon</th>\n",
       "      <th>Gaz</th>\n",
       "      <th>Nucléaire</th>\n",
       "      <th>Eolien</th>\n",
       "      <th>Solaire</th>\n",
       "      <th>Hydraulique</th>\n",
       "      <th>Pompage</th>\n",
       "      <th>Bioénergies</th>\n",
       "    </tr>\n",
       "    <tr>\n",
       "      <th>DateTime</th>\n",
       "      <th></th>\n",
       "      <th></th>\n",
       "      <th></th>\n",
       "      <th></th>\n",
       "      <th></th>\n",
       "      <th></th>\n",
       "      <th></th>\n",
       "      <th></th>\n",
       "      <th></th>\n",
       "      <th></th>\n",
       "    </tr>\n",
       "  </thead>\n",
       "  <tbody>\n",
       "    <tr>\n",
       "      <th>2012-01-31</th>\n",
       "      <td>101573076.0</td>\n",
       "      <td>893223.0</td>\n",
       "      <td>1537770.0</td>\n",
       "      <td>8150964.0</td>\n",
       "      <td>85553029.0</td>\n",
       "      <td>3170579.0</td>\n",
       "      <td>233044.0</td>\n",
       "      <td>13372457.0</td>\n",
       "      <td>-1222987.0</td>\n",
       "      <td>1039213.0</td>\n",
       "    </tr>\n",
       "    <tr>\n",
       "      <th>2012-02-29</th>\n",
       "      <td>108364070.0</td>\n",
       "      <td>2070743.0</td>\n",
       "      <td>5111869.0</td>\n",
       "      <td>9966798.0</td>\n",
       "      <td>77305538.0</td>\n",
       "      <td>2242160.0</td>\n",
       "      <td>404651.0</td>\n",
       "      <td>10405047.0</td>\n",
       "      <td>-835944.0</td>\n",
       "      <td>924169.0</td>\n",
       "    </tr>\n",
       "    <tr>\n",
       "      <th>2012-03-31</th>\n",
       "      <td>85891077.0</td>\n",
       "      <td>875593.0</td>\n",
       "      <td>2921514.0</td>\n",
       "      <td>6575791.0</td>\n",
       "      <td>75117981.0</td>\n",
       "      <td>1950245.0</td>\n",
       "      <td>665576.0</td>\n",
       "      <td>7740614.0</td>\n",
       "      <td>-876794.0</td>\n",
       "      <td>1080601.0</td>\n",
       "    </tr>\n",
       "    <tr>\n",
       "      <th>2012-04-30</th>\n",
       "      <td>79899382.0</td>\n",
       "      <td>705657.0</td>\n",
       "      <td>3298460.0</td>\n",
       "      <td>2813866.0</td>\n",
       "      <td>66152813.0</td>\n",
       "      <td>3137120.0</td>\n",
       "      <td>614459.0</td>\n",
       "      <td>10521234.0</td>\n",
       "      <td>-1027837.0</td>\n",
       "      <td>820778.0</td>\n",
       "    </tr>\n",
       "    <tr>\n",
       "      <th>2012-05-31</th>\n",
       "      <td>70077667.0</td>\n",
       "      <td>526000.0</td>\n",
       "      <td>1706754.0</td>\n",
       "      <td>1234807.0</td>\n",
       "      <td>58064275.0</td>\n",
       "      <td>1944665.0</td>\n",
       "      <td>851728.0</td>\n",
       "      <td>15256472.0</td>\n",
       "      <td>-1293309.0</td>\n",
       "      <td>943855.0</td>\n",
       "    </tr>\n",
       "  </tbody>\n",
       "</table>\n",
       "</div>"
      ],
      "text/plain": [
       "            Consommation      Fioul    Charbon        Gaz   Nucléaire  \\\n",
       "DateTime                                                                \n",
       "2012-01-31   101573076.0   893223.0  1537770.0  8150964.0  85553029.0   \n",
       "2012-02-29   108364070.0  2070743.0  5111869.0  9966798.0  77305538.0   \n",
       "2012-03-31    85891077.0   875593.0  2921514.0  6575791.0  75117981.0   \n",
       "2012-04-30    79899382.0   705657.0  3298460.0  2813866.0  66152813.0   \n",
       "2012-05-31    70077667.0   526000.0  1706754.0  1234807.0  58064275.0   \n",
       "\n",
       "               Eolien   Solaire  Hydraulique    Pompage  Bioénergies  \n",
       "DateTime                                                              \n",
       "2012-01-31  3170579.0  233044.0   13372457.0 -1222987.0    1039213.0  \n",
       "2012-02-29  2242160.0  404651.0   10405047.0  -835944.0     924169.0  \n",
       "2012-03-31  1950245.0  665576.0    7740614.0  -876794.0    1080601.0  \n",
       "2012-04-30  3137120.0  614459.0   10521234.0 -1027837.0     820778.0  \n",
       "2012-05-31  1944665.0  851728.0   15256472.0 -1293309.0     943855.0  "
      ]
     },
     "execution_count": 9,
     "metadata": {},
     "output_type": "execute_result"
    }
   ],
   "source": [
    "df_data_nationales_clean.head(5)"
   ]
  },
  {
   "cell_type": "code",
   "execution_count": 10,
   "metadata": {},
   "outputs": [
    {
     "data": {
      "image/png": "[encoded data removed]",
      "text/plain": [
       "<Figure size 1000x600 with 1 Axes>"
      ]
     },
     "metadata": {},
     "output_type": "display_data"
    }
   ],
   "source": [
    "import pandas as pd\n",
    "import matplotlib.pyplot as plt\n",
    "\n",
    "base_month_consumption = df_data_nationales_clean.iloc[0, :]\n",
    "relative_consumption = df_data_nationales_clean.div(base_month_consumption)\n",
    "\n",
    "plt.figure(figsize=(10, 6))\n",
    "\n",
    "for source in relative_consumption.columns:\n",
    "    plt.plot(df_data_nationales_clean.index, relative_consumption[source], label=source)\n",
    "\n",
    "plt.title('Relative Monthly Energy Consumption Over Time (Month 1 as Base)')\n",
    "plt.xlabel('Month')\n",
    "plt.ylabel('Relative Consumption')\n",
    "plt.legend()\n",
    "plt.grid(True)\n",
    "plt.show()\n"
   ]
  },
  {
   "cell_type": "code",
   "execution_count": 11,
   "metadata": {},
   "outputs": [
    {
     "data": {
      "text/plain": [
       "Consommation    101573076.0\n",
       "Fioul              893223.0\n",
       "Charbon           1537770.0\n",
       "Gaz               8150964.0\n",
       "Nucléaire        85553029.0\n",
       "Eolien            3170579.0\n",
       "Solaire            233044.0\n",
       "Hydraulique      13372457.0\n",
       "Pompage          -1222987.0\n",
       "Bioénergies       1039213.0\n",
       "Name: 2012-01-31 00:00:00, dtype: float64"
      ]
     },
     "execution_count": 11,
     "metadata": {},
     "output_type": "execute_result"
    }
   ],
   "source": [
    "base_month_consumption"
   ]
  },
  {
   "cell_type": "markdown",
   "metadata": {},
   "source": []
  },
  {
   "cell_type": "code",
   "execution_count": 12,
   "metadata": {},
   "outputs": [
    {
     "data": {
      "image/png": "[encoded data removed]",
      "text/plain": [
       "<Figure size 1000x600 with 1 Axes>"
      ]
     },
     "metadata": {},
     "output_type": "display_data"
    }
   ],
   "source": [
    "base_month_consumption = df_data_nationales_clean.iloc[0, :]\n",
    "relative_consumption = df_data_nationales_clean.div(base_month_consumption)\n",
    "\n",
    "plt.figure(figsize=(10, 6))\n",
    "\n",
    "for source in relative_consumption.columns:\n",
    "    rolling_mean = relative_consumption[source].rolling(window=12).mean()\n",
    "    \n",
    "    plt.plot(df_data_nationales_clean.index, rolling_mean, label=f'{source} (Rolling Mean)')\n",
    "\n",
    "plt.title('Relative Monthly Energy Consumption Over Time (Month 1 as Base) with Rolling Mean')\n",
    "plt.xlabel('Month')\n",
    "plt.ylabel('Relative Consumption')\n",
    "plt.legend()\n",
    "plt.grid(True)\n",
    "plt.show()\n"
   ]
  },
  {
   "cell_type": "code",
   "execution_count": 13,
   "metadata": {},
   "outputs": [
    {
     "data": {
      "application/vnd.plotly.v1+json": {
       "config": {
        "plotlyServerURL": "https://plot.ly"
       },
       "data": [
        {
         "hovertemplate": "variable=Consommation<br>DateTime=%{x}<br>Relative Consumption=%{y}<extra></extra>",
         "legendgroup": "Consommation",
         "line": {
          "color": "#636efa",
          "dash": "solid"
         },
         "marker": {
          "symbol": "circle"
         },
         "mode": "lines",
         "name": "Consommation",
         "orientation": "v",
         "showlegend": true,
         "type": "scatter",
         "x": [
          "2012-01-31T00:00:00",
          "2012-02-29T00:00:00",
          "2012-03-31T00:00:00",
          "2012-04-30T00:00:00",
          "2012-05-31T00:00:00",
          "2012-06-30T00:00:00",
          "2012-07-31T00:00:00",
          "2012-08-31T00:00:00",
          "2012-09-30T00:00:00",
          "2012-10-31T00:00:00",
          "2012-11-30T00:00:00",
          "2012-12-31T00:00:00",
          "2013-01-31T00:00:00",
          "2013-02-28T00:00:00",
          "2013-03-31T00:00:00",
          "2013-04-30T00:00:00",
          "2013-05-31T00:00:00",
          "2013-06-30T00:00:00",
          "2013-07-31T00:00:00",
          "2013-08-31T00:00:00",
          "2013-09-30T00:00:00",
          "2013-10-31T00:00:00",
          "2013-11-30T00:00:00",
          "2013-12-31T00:00:00",
          "2014-01-31T00:00:00",
          "2014-02-28T00:00:00",
          "2014-03-31T00:00:00",
          "2014-04-30T00:00:00",
          "2014-05-31T00:00:00",
          "2014-06-30T00:00:00",
          "2014-07-31T00:00:00",
          "2014-08-31T00:00:00",
          "2014-09-30T00:00:00",
          "2014-10-31T00:00:00",
          "2014-11-30T00:00:00",
          "2014-12-31T00:00:00",
          "2015-01-31T00:00:00",
          "2015-02-28T00:00:00",
          "2015-03-31T00:00:00",
          "2015-04-30T00:00:00",
          "2015-05-31T00:00:00",
          "2015-06-30T00:00:00",
          "2015-07-31T00:00:00",
          "2015-08-31T00:00:00",
          "2015-09-30T00:00:00",
          "2015-10-31T00:00:00",
          "2015-11-30T00:00:00",
          "2015-12-31T00:00:00",
          "2016-01-31T00:00:00",
          "2016-02-29T00:00:00",
          "2016-03-31T00:00:00",
          "2016-04-30T00:00:00",
          "2016-05-31T00:00:00",
          "2016-06-30T00:00:00",
          "2016-07-31T00:00:00",
          "2016-08-31T00:00:00",
          "2016-09-30T00:00:00",
          "2016-10-31T00:00:00",
          "2016-11-30T00:00:00",
          "2016-12-31T00:00:00",
          "2017-01-31T00:00:00",
          "2017-02-28T00:00:00",
          "2017-03-31T00:00:00",
          "2017-04-30T00:00:00",
          "2017-05-31T00:00:00",
          "2017-06-30T00:00:00",
          "2017-07-31T00:00:00",
          "2017-08-31T00:00:00",
          "2017-09-30T00:00:00",
          "2017-10-31T00:00:00",
          "2017-11-30T00:00:00",
          "2017-12-31T00:00:00",
          "2018-01-31T00:00:00",
          "2018-02-28T00:00:00",
          "2018-03-31T00:00:00",
          "2018-04-30T00:00:00",
          "2018-05-31T00:00:00",
          "2018-06-30T00:00:00",
          "2018-07-31T00:00:00",
          "2018-08-31T00:00:00",
          "2018-09-30T00:00:00",
          "2018-10-31T00:00:00",
          "2018-11-30T00:00:00",
          "2018-12-31T00:00:00"
         ],
         "xaxis": "x",
         "y": [
          1,
          1.0668582095515153,
          0.845608702447881,
          0.78661969437649,
          0.6899236466955082,
          0.6498847883665549,
          0.6674360536250767,
          0.6298851183752671,
          0.6510942525753577,
          0.7558162952552505,
          0.867065924044675,
          0.9712226200573073,
          1.049405395579435,
          0.9714433576866374,
          0.9698164009525516,
          0.7904011295276713,
          0.7220267209393166,
          0.6465265165347557,
          0.6803657201441846,
          0.6180796670960325,
          0.6504192016396156,
          0.7250592568447961,
          0.8871228434590285,
          0.980587828215422,
          0.9657460014305366,
          0.871846925261966,
          0.8451683101533718,
          0.7107758162212199,
          0.6790081852005743,
          0.637706393769152,
          0.6633878351778969,
          0.605464178322216,
          0.6505483401920407,
          0.710819607353429,
          0.7955053660086064,
          0.967782239852616,
          1.0285679642113035,
          0.9529005304515933,
          0.8963378838699342,
          0.7222626988277878,
          0.6642007769854287,
          0.6507869368847311,
          0.6825008331932372,
          0.6172034604918335,
          0.6560125834921057,
          0.7663336099026872,
          0.8042670087100641,
          0.8751262686974253,
          0.9819814455555131,
          0.9092304440991823,
          0.9265197501747412,
          0.7656804348427924,
          0.6800750230307094,
          0.6428870087581083,
          0.6592133431107275,
          0.6278708444351927,
          0.6504715383434878,
          0.7544357817813847,
          0.8671906421343388,
          0.9920766207769468,
          1.1239495100059784,
          0.8586790657004422,
          0.8374114415910767,
          0.7172879947044234,
          0.6857648379182688,
          0.652853764121508,
          0.6621657002885292,
          0.6271537744903974,
          0.6581764147814131,
          0.7160016597311674,
          0.8801754905994971,
          1.0128927079061778,
          0.9537237899539441,
          0.9827009078665689,
          0.9504391399941456,
          0.709970652065317,
          0.6651895134100301,
          0.6381976361531081,
          0.6764826241946241,
          0.6339498471031831,
          0.6394946137104286,
          0.7256458394545421,
          0.8565742953378709,
          0.9307620357977541
         ],
         "yaxis": "y"
        },
        {
         "hovertemplate": "variable=Fioul<br>DateTime=%{x}<br>Relative Consumption=%{y}<extra></extra>",
         "legendgroup": "Fioul",
         "line": {
          "color": "#EF553B",
          "dash": "solid"
         },
         "marker": {
          "symbol": "circle"
         },
         "mode": "lines",
         "name": "Fioul",
         "orientation": "v",
         "showlegend": true,
         "type": "scatter",
         "x": [
          "2012-01-31T00:00:00",
          "2012-02-29T00:00:00",
          "2012-03-31T00:00:00",
          "2012-04-30T00:00:00",
          "2012-05-31T00:00:00",
          "2012-06-30T00:00:00",
          "2012-07-31T00:00:00",
          "2012-08-31T00:00:00",
          "2012-09-30T00:00:00",
          "2012-10-31T00:00:00",
          "2012-11-30T00:00:00",
          "2012-12-31T00:00:00",
          "2013-01-31T00:00:00",
          "2013-02-28T00:00:00",
          "2013-03-31T00:00:00",
          "2013-04-30T00:00:00",
          "2013-05-31T00:00:00",
          "2013-06-30T00:00:00",
          "2013-07-31T00:00:00",
          "2013-08-31T00:00:00",
          "2013-09-30T00:00:00",
          "2013-10-31T00:00:00",
          "2013-11-30T00:00:00",
          "2013-12-31T00:00:00",
          "2014-01-31T00:00:00",
          "2014-02-28T00:00:00",
          "2014-03-31T00:00:00",
          "2014-04-30T00:00:00",
          "2014-05-31T00:00:00",
          "2014-06-30T00:00:00",
          "2014-07-31T00:00:00",
          "2014-08-31T00:00:00",
          "2014-09-30T00:00:00",
          "2014-10-31T00:00:00",
          "2014-11-30T00:00:00",
          "2014-12-31T00:00:00",
          "2015-01-31T00:00:00",
          "2015-02-28T00:00:00",
          "2015-03-31T00:00:00",
          "2015-04-30T00:00:00",
          "2015-05-31T00:00:00",
          "2015-06-30T00:00:00",
          "2015-07-31T00:00:00",
          "2015-08-31T00:00:00",
          "2015-09-30T00:00:00",
          "2015-10-31T00:00:00",
          "2015-11-30T00:00:00",
          "2015-12-31T00:00:00",
          "2016-01-31T00:00:00",
          "2016-02-29T00:00:00",
          "2016-03-31T00:00:00",
          "2016-04-30T00:00:00",
          "2016-05-31T00:00:00",
          "2016-06-30T00:00:00",
          "2016-07-31T00:00:00",
          "2016-08-31T00:00:00",
          "2016-09-30T00:00:00",
          "2016-10-31T00:00:00",
          "2016-11-30T00:00:00",
          "2016-12-31T00:00:00",
          "2017-01-31T00:00:00",
          "2017-02-28T00:00:00",
          "2017-03-31T00:00:00",
          "2017-04-30T00:00:00",
          "2017-05-31T00:00:00",
          "2017-06-30T00:00:00",
          "2017-07-31T00:00:00",
          "2017-08-31T00:00:00",
          "2017-09-30T00:00:00",
          "2017-10-31T00:00:00",
          "2017-11-30T00:00:00",
          "2017-12-31T00:00:00",
          "2018-01-31T00:00:00",
          "2018-02-28T00:00:00",
          "2018-03-31T00:00:00",
          "2018-04-30T00:00:00",
          "2018-05-31T00:00:00",
          "2018-06-30T00:00:00",
          "2018-07-31T00:00:00",
          "2018-08-31T00:00:00",
          "2018-09-30T00:00:00",
          "2018-10-31T00:00:00",
          "2018-11-30T00:00:00",
          "2018-12-31T00:00:00"
         ],
         "xaxis": "x",
         "y": [
          1,
          2.318282220677255,
          0.9802624876430633,
          0.7900121246318109,
          0.5888787010634522,
          0.5462555263355288,
          0.5450878448047128,
          0.47662453832917423,
          0.5465992255013585,
          0.6889119514387785,
          0.8518253560421082,
          0.8420685539893173,
          0.9083991343707003,
          0.9322733516714191,
          1.048123480922457,
          0.7706776471273131,
          0.6093696646861981,
          0.6541501954159263,
          0.5942972807462414,
          0.5341958279175525,
          0.5566235979145185,
          0.71219169233215,
          0.774050824933975,
          0.8087935487554619,
          0.4775761483974327,
          0.46971025152733414,
          0.5273319204722673,
          0.42511108648120344,
          0.3865451292678312,
          0.34056445031084065,
          0.4007453905687605,
          0.36868172897473533,
          0.422430904712485,
          0.527397973406417,
          0.5069876167541588,
          0.48710680311635507,
          0.5690135610032433,
          0.5603180840618748,
          0.529285519965339,
          0.42992063572030725,
          0.39235778747300504,
          0.4037737496683359,
          0.4149478909522034,
          0.3611136300789389,
          0.39240592774704636,
          0.529548612160681,
          0.7670682461154718,
          0.5931060888490333,
          0.49309299021632896,
          0.3620562838171431,
          0.32677170202737726,
          0.3077070339657622,
          0.29073366897180214,
          0.27590982319084933,
          0.24000949370985744,
          0.21919946082893074,
          0.2365568284739645,
          0.2863831316479759,
          0.49913291529662807,
          0.31939504468648927,
          1.673698505300468,
          0.7838792776271994,
          0.8404093938467774,
          0.48221104920047964,
          0.35198601021245535,
          0.27561986200534466,
          0.24138205129066315,
          0.22971531185381477,
          0.47472803544019804,
          0.8074041980558047,
          0.8584317689983353,
          0.7692905355101693,
          0.3188554258007239,
          0.7518659953897291,
          0.5821760075591426,
          0.13788829889064658,
          0.14209777401611914,
          0.13577460499785607,
          0.151263458285333,
          0.1766535344477247,
          0.2964343730512985,
          0.600916008656293,
          0.7211950431191315,
          0.5850588262953372
         ],
         "yaxis": "y"
        },
        {
         "hovertemplate": "variable=Charbon<br>DateTime=%{x}<br>Relative Consumption=%{y}<extra></extra>",
         "legendgroup": "Charbon",
         "line": {
          "color": "#00cc96",
          "dash": "solid"
         },
         "marker": {
          "symbol": "circle"
         },
         "mode": "lines",
         "name": "Charbon",
         "orientation": "v",
         "showlegend": true,
         "type": "scatter",
         "x": [
          "2012-01-31T00:00:00",
          "2012-02-29T00:00:00",
          "2012-03-31T00:00:00",
          "2012-04-30T00:00:00",
          "2012-05-31T00:00:00",
          "2012-06-30T00:00:00",
          "2012-07-31T00:00:00",
          "2012-08-31T00:00:00",
          "2012-09-30T00:00:00",
          "2012-10-31T00:00:00",
          "2012-11-30T00:00:00",
          "2012-12-31T00:00:00",
          "2013-01-31T00:00:00",
          "2013-02-28T00:00:00",
          "2013-03-31T00:00:00",
          "2013-04-30T00:00:00",
          "2013-05-31T00:00:00",
          "2013-06-30T00:00:00",
          "2013-07-31T00:00:00",
          "2013-08-31T00:00:00",
          "2013-09-30T00:00:00",
          "2013-10-31T00:00:00",
          "2013-11-30T00:00:00",
          "2013-12-31T00:00:00",
          "2014-01-31T00:00:00",
          "2014-02-28T00:00:00",
          "2014-03-31T00:00:00",
          "2014-04-30T00:00:00",
          "2014-05-31T00:00:00",
          "2014-06-30T00:00:00",
          "2014-07-31T00:00:00",
          "2014-08-31T00:00:00",
          "2014-09-30T00:00:00",
          "2014-10-31T00:00:00",
          "2014-11-30T00:00:00",
          "2014-12-31T00:00:00",
          "2015-01-31T00:00:00",
          "2015-02-28T00:00:00",
          "2015-03-31T00:00:00",
          "2015-04-30T00:00:00",
          "2015-05-31T00:00:00",
          "2015-06-30T00:00:00",
          "2015-07-31T00:00:00",
          "2015-08-31T00:00:00",
          "2015-09-30T00:00:00",
          "2015-10-31T00:00:00",
          "2015-11-30T00:00:00",
          "2015-12-31T00:00:00",
          "2016-01-31T00:00:00",
          "2016-02-29T00:00:00",
          "2016-03-31T00:00:00",
          "2016-04-30T00:00:00",
          "2016-05-31T00:00:00",
          "2016-06-30T00:00:00",
          "2016-07-31T00:00:00",
          "2016-08-31T00:00:00",
          "2016-09-30T00:00:00",
          "2016-10-31T00:00:00",
          "2016-11-30T00:00:00",
          "2016-12-31T00:00:00",
          "2017-01-31T00:00:00",
          "2017-02-28T00:00:00",
          "2017-03-31T00:00:00",
          "2017-04-30T00:00:00",
          "2017-05-31T00:00:00",
          "2017-06-30T00:00:00",
          "2017-07-31T00:00:00",
          "2017-08-31T00:00:00",
          "2017-09-30T00:00:00",
          "2017-10-31T00:00:00",
          "2017-11-30T00:00:00",
          "2017-12-31T00:00:00",
          "2018-01-31T00:00:00",
          "2018-02-28T00:00:00",
          "2018-03-31T00:00:00",
          "2018-04-30T00:00:00",
          "2018-05-31T00:00:00",
          "2018-06-30T00:00:00",
          "2018-07-31T00:00:00",
          "2018-08-31T00:00:00",
          "2018-09-30T00:00:00",
          "2018-10-31T00:00:00",
          "2018-11-30T00:00:00",
          "2018-12-31T00:00:00"
         ],
         "xaxis": "x",
         "y": [
          1,
          3.324209081982351,
          1.8998380772157084,
          2.144963160940843,
          1.1098889951032989,
          1.2497584164081754,
          1.443617055866612,
          1.5094643542272252,
          1.7896857137283209,
          2.6329847766571075,
          2.353539215877537,
          2.231793441151798,
          3.305801907957627,
          3.434684640746015,
          3.651815941265599,
          2.005416934912243,
          0.7391410939217178,
          0.5014638079816878,
          1.1119419679145777,
          1.5502936069763358,
          2.2145847558477536,
          2.503150666224468,
          2.6948113176873005,
          1.9420452993620632,
          1.2434980523745423,
          0.9090598724126495,
          1.3274254277297646,
          0.9926978676915273,
          0.476979652353733,
          0.4581946584989953,
          0.2030095527939809,
          0.10309148962458625,
          0.892976192798663,
          1.3977077196199692,
          1.2158859907528434,
          1.5948360287949432,
          2.1020958921035007,
          2.2166065146283254,
          1.4330023345493799,
          0.7121442088218655,
          0.04482464867958147,
          0.0723521723014495,
          0.29405112598112854,
          0.20328137497805263,
          0.7751529812650787,
          1.306474310202436,
          1.034770479330459,
          1.003198787855141,
          0.9948815492563907,
          0.5694043972765758,
          1.0073404995545499,
          0.6311184377377631,
          0.21545289607678653,
          0.2111655189007459,
          0.23790358766265438,
          0.1739473393290284,
          1.0016426383659456,
          1.244046899081137,
          1.5254004174876608,
          1.684825429030349,
          2.212271015821612,
          1.266991162527556,
          0.5094962185502383,
          0.8378476625243046,
          0.6750781976498436,
          0.45871489234410867,
          1.1253399403031663,
          0.25870838942104474,
          0.7520519973728191,
          1.5792712824414574,
          1.8796965736098377,
          1.1060399149417663,
          0.4026505914408527,
          1.27962764262536,
          1.0903197487270528,
          0.321747075310352,
          0.20500074783615235,
          0.35324788492427345,
          0.7602307237103078,
          0.6512514875436509,
          0.45165857052745206,
          1.0265338769777015,
          0.6521098733880879,
          0.2828947111726721
         ],
         "yaxis": "y"
        },
        {
         "hovertemplate": "variable=Gaz<br>DateTime=%{x}<br>Relative Consumption=%{y}<extra></extra>",
         "legendgroup": "Gaz",
         "line": {
          "color": "#ab63fa",
          "dash": "solid"
         },
         "marker": {
          "symbol": "circle"
         },
         "mode": "lines",
         "name": "Gaz",
         "orientation": "v",
         "showlegend": true,
         "type": "scatter",
         "x": [
          "2012-01-31T00:00:00",
          "2012-02-29T00:00:00",
          "2012-03-31T00:00:00",
          "2012-04-30T00:00:00",
          "2012-05-31T00:00:00",
          "2012-06-30T00:00:00",
          "2012-07-31T00:00:00",
          "2012-08-31T00:00:00",
          "2012-09-30T00:00:00",
          "2012-10-31T00:00:00",
          "2012-11-30T00:00:00",
          "2012-12-31T00:00:00",
          "2013-01-31T00:00:00",
          "2013-02-28T00:00:00",
          "2013-03-31T00:00:00",
          "2013-04-30T00:00:00",
          "2013-05-31T00:00:00",
          "2013-06-30T00:00:00",
          "2013-07-31T00:00:00",
          "2013-08-31T00:00:00",
          "2013-09-30T00:00:00",
          "2013-10-31T00:00:00",
          "2013-11-30T00:00:00",
          "2013-12-31T00:00:00",
          "2014-01-31T00:00:00",
          "2014-02-28T00:00:00",
          "2014-03-31T00:00:00",
          "2014-04-30T00:00:00",
          "2014-05-31T00:00:00",
          "2014-06-30T00:00:00",
          "2014-07-31T00:00:00",
          "2014-08-31T00:00:00",
          "2014-09-30T00:00:00",
          "2014-10-31T00:00:00",
          "2014-11-30T00:00:00",
          "2014-12-31T00:00:00",
          "2015-01-31T00:00:00",
          "2015-02-28T00:00:00",
          "2015-03-31T00:00:00",
          "2015-04-30T00:00:00",
          "2015-05-31T00:00:00",
          "2015-06-30T00:00:00",
          "2015-07-31T00:00:00",
          "2015-08-31T00:00:00",
          "2015-09-30T00:00:00",
          "2015-10-31T00:00:00",
          "2015-11-30T00:00:00",
          "2015-12-31T00:00:00",
          "2016-01-31T00:00:00",
          "2016-02-29T00:00:00",
          "2016-03-31T00:00:00",
          "2016-04-30T00:00:00",
          "2016-05-31T00:00:00",
          "2016-06-30T00:00:00",
          "2016-07-31T00:00:00",
          "2016-08-31T00:00:00",
          "2016-09-30T00:00:00",
          "2016-10-31T00:00:00",
          "2016-11-30T00:00:00",
          "2016-12-31T00:00:00",
          "2017-01-31T00:00:00",
          "2017-02-28T00:00:00",
          "2017-03-31T00:00:00",
          "2017-04-30T00:00:00",
          "2017-05-31T00:00:00",
          "2017-06-30T00:00:00",
          "2017-07-31T00:00:00",
          "2017-08-31T00:00:00",
          "2017-09-30T00:00:00",
          "2017-10-31T00:00:00",
          "2017-11-30T00:00:00",
          "2017-12-31T00:00:00",
          "2018-01-31T00:00:00",
          "2018-02-28T00:00:00",
          "2018-03-31T00:00:00",
          "2018-04-30T00:00:00",
          "2018-05-31T00:00:00",
          "2018-06-30T00:00:00",
          "2018-07-31T00:00:00",
          "2018-08-31T00:00:00",
          "2018-09-30T00:00:00",
          "2018-10-31T00:00:00",
          "2018-11-30T00:00:00",
          "2018-12-31T00:00:00"
         ],
         "xaxis": "x",
         "y": [
          1,
          1.2227753674289323,
          0.806750097289106,
          0.3452187986598886,
          0.15149214252449159,
          0.2310538974285741,
          0.18692586545591416,
          0.2556750342658856,
          0.18344799461756917,
          0.26878599880946596,
          0.7180695436760609,
          0.7738046689937533,
          0.8217916310267105,
          0.8092704126775679,
          0.7423259383798039,
          0.2847718380304465,
          0.15115561791218807,
          0.11740758516415972,
          0.11972976447939164,
          0.1416118387960001,
          0.2023802337981127,
          0.2521501751203907,
          0.6063820181269357,
          0.6577333674888025,
          0.4744719765662074,
          0.41215358085252246,
          0.40947267096260026,
          0.1333017787834666,
          0.12698939659161787,
          0.11554142552954473,
          0.10579595247874975,
          0.11376433511422698,
          0.13460788196340948,
          0.2430863392354573,
          0.546970763212793,
          0.6826668600180298,
          0.75250718810683,
          0.8187236503559578,
          0.6472928846207638,
          0.23164106724063557,
          0.11889931056007609,
          0.11023972133848217,
          0.20882339806678082,
          0.10581251493688354,
          0.2675492125839349,
          0.5804076671176562,
          0.8407524557831442,
          0.7384427167142439,
          0.9169884690939624,
          0.7382005367708654,
          0.8235122863994983,
          0.4429811001496265,
          0.2666586430758374,
          0.29376660233071816,
          0.3819805853638907,
          0.420852061179512,
          0.7623871237806964,
          0.9401322346657401,
          1.2591468935453525,
          1.4317507720559188,
          1.3992716689706886,
          1.153396702525002,
          1.0445255309678707,
          0.6028619436915683,
          0.3959662930666851,
          0.3569201139889711,
          0.5258043097724392,
          0.38424105418696486,
          0.5137470856207929,
          0.8969672789623412,
          1.2521986356460413,
          1.1762266401863632,
          0.747613533810234,
          1.1404652259536419,
          0.935673866305875,
          0.2032218520410592,
          0.1442709107781607,
          0.1765700351516704,
          0.46497972509754676,
          0.4465158967700017,
          0.38746840251042697,
          0.6333731813807545,
          1.155819115383162,
          0.9722145748650098
         ],
         "yaxis": "y"
        },
        {
         "hovertemplate": "variable=Nucléaire<br>DateTime=%{x}<br>Relative Consumption=%{y}<extra></extra>",
         "legendgroup": "Nucléaire",
         "line": {
          "color": "#FFA15A",
          "dash": "solid"
         },
         "marker": {
          "symbol": "circle"
         },
         "mode": "lines",
         "name": "Nucléaire",
         "orientation": "v",
         "showlegend": true,
         "type": "scatter",
         "x": [
          "2012-01-31T00:00:00",
          "2012-02-29T00:00:00",
          "2012-03-31T00:00:00",
          "2012-04-30T00:00:00",
          "2012-05-31T00:00:00",
          "2012-06-30T00:00:00",
          "2012-07-31T00:00:00",
          "2012-08-31T00:00:00",
          "2012-09-30T00:00:00",
          "2012-10-31T00:00:00",
          "2012-11-30T00:00:00",
          "2012-12-31T00:00:00",
          "2013-01-31T00:00:00",
          "2013-02-28T00:00:00",
          "2013-03-31T00:00:00",
          "2013-04-30T00:00:00",
          "2013-05-31T00:00:00",
          "2013-06-30T00:00:00",
          "2013-07-31T00:00:00",
          "2013-08-31T00:00:00",
          "2013-09-30T00:00:00",
          "2013-10-31T00:00:00",
          "2013-11-30T00:00:00",
          "2013-12-31T00:00:00",
          "2014-01-31T00:00:00",
          "2014-02-28T00:00:00",
          "2014-03-31T00:00:00",
          "2014-04-30T00:00:00",
          "2014-05-31T00:00:00",
          "2014-06-30T00:00:00",
          "2014-07-31T00:00:00",
          "2014-08-31T00:00:00",
          "2014-09-30T00:00:00",
          "2014-10-31T00:00:00",
          "2014-11-30T00:00:00",
          "2014-12-31T00:00:00",
          "2015-01-31T00:00:00",
          "2015-02-28T00:00:00",
          "2015-03-31T00:00:00",
          "2015-04-30T00:00:00",
          "2015-05-31T00:00:00",
          "2015-06-30T00:00:00",
          "2015-07-31T00:00:00",
          "2015-08-31T00:00:00",
          "2015-09-30T00:00:00",
          "2015-10-31T00:00:00",
          "2015-11-30T00:00:00",
          "2015-12-31T00:00:00",
          "2016-01-31T00:00:00",
          "2016-02-29T00:00:00",
          "2016-03-31T00:00:00",
          "2016-04-30T00:00:00",
          "2016-05-31T00:00:00",
          "2016-06-30T00:00:00",
          "2016-07-31T00:00:00",
          "2016-08-31T00:00:00",
          "2016-09-30T00:00:00",
          "2016-10-31T00:00:00",
          "2016-11-30T00:00:00",
          "2016-12-31T00:00:00",
          "2017-01-31T00:00:00",
          "2017-02-28T00:00:00",
          "2017-03-31T00:00:00",
          "2017-04-30T00:00:00",
          "2017-05-31T00:00:00",
          "2017-06-30T00:00:00",
          "2017-07-31T00:00:00",
          "2017-08-31T00:00:00",
          "2017-09-30T00:00:00",
          "2017-10-31T00:00:00",
          "2017-11-30T00:00:00",
          "2017-12-31T00:00:00",
          "2018-01-31T00:00:00",
          "2018-02-28T00:00:00",
          "2018-03-31T00:00:00",
          "2018-04-30T00:00:00",
          "2018-05-31T00:00:00",
          "2018-06-30T00:00:00",
          "2018-07-31T00:00:00",
          "2018-08-31T00:00:00",
          "2018-09-30T00:00:00",
          "2018-10-31T00:00:00",
          "2018-11-30T00:00:00",
          "2018-12-31T00:00:00"
         ],
         "xaxis": "x",
         "y": [
          1,
          0.9035979076789905,
          0.8780283045267748,
          0.7732375320107018,
          0.6786933867648333,
          0.620333255529737,
          0.6730112968881558,
          0.6613258544007834,
          0.7037746261444466,
          0.7661920538196257,
          0.8668956069340339,
          0.93230433723159,
          0.9908148430372933,
          0.8589466072557174,
          0.8607012850474295,
          0.7357493444212244,
          0.7278825627553175,
          0.6682306011631687,
          0.7169205312415063,
          0.6985478912733762,
          0.6950912515324268,
          0.7257496517160135,
          0.8089328549664794,
          0.9444654729875198,
          0.997302351504118,
          0.8502419475995409,
          0.8373736481030963,
          0.729008449250815,
          0.740671507960285,
          0.723789732798356,
          0.7799620630614961,
          0.7238267624633138,
          0.7458669873628905,
          0.765203812947406,
          0.847501869279228,
          0.9726271409981287,
          1.023182498892003,
          0.8760103046731402,
          0.8636254480247567,
          0.7283714875834496,
          0.7082946881985909,
          0.7173781772238595,
          0.7771363536409681,
          0.7472765926265451,
          0.7156756775964063,
          0.8044873314771824,
          0.8331976299752052,
          0.9409477483257782,
          0.9715428544324246,
          0.8718153742984366,
          0.8696105780193942,
          0.7255196890807922,
          0.687535914128768,
          0.6690034317779678,
          0.6619954157321537,
          0.6333883046969617,
          0.6186151632340218,
          0.677025871287386,
          0.7275873423488022,
          0.8563346249260211,
          0.9462659001822133,
          0.7871286474263816,
          0.8017020297434472,
          0.7418477842555405,
          0.7039669162385823,
          0.6280113822737942,
          0.657863101492292,
          0.6678147538177754,
          0.6856316098404885,
          0.6546714319138834,
          0.7088283455165567,
          0.8736105649748532,
          0.9528994584166038,
          0.8509993258099605,
          0.8347806715294674,
          0.714631342859877,
          0.7144082297775805,
          0.6687977347944045,
          0.7000053148322779,
          0.637806874143521,
          0.7032245111976105,
          0.7377047281400171,
          0.763070714889592,
          0.9085690350016713
         ],
         "yaxis": "y"
        },
        {
         "hovertemplate": "variable=Eolien<br>DateTime=%{x}<br>Relative Consumption=%{y}<extra></extra>",
         "legendgroup": "Eolien",
         "line": {
          "color": "#19d3f3",
          "dash": "solid"
         },
         "marker": {
          "symbol": "circle"
         },
         "mode": "lines",
         "name": "Eolien",
         "orientation": "v",
         "showlegend": true,
         "type": "scatter",
         "x": [
          "2012-01-31T00:00:00",
          "2012-02-29T00:00:00",
          "2012-03-31T00:00:00",
          "2012-04-30T00:00:00",
          "2012-05-31T00:00:00",
          "2012-06-30T00:00:00",
          "2012-07-31T00:00:00",
          "2012-08-31T00:00:00",
          "2012-09-30T00:00:00",
          "2012-10-31T00:00:00",
          "2012-11-30T00:00:00",
          "2012-12-31T00:00:00",
          "2013-01-31T00:00:00",
          "2013-02-28T00:00:00",
          "2013-03-31T00:00:00",
          "2013-04-30T00:00:00",
          "2013-05-31T00:00:00",
          "2013-06-30T00:00:00",
          "2013-07-31T00:00:00",
          "2013-08-31T00:00:00",
          "2013-09-30T00:00:00",
          "2013-10-31T00:00:00",
          "2013-11-30T00:00:00",
          "2013-12-31T00:00:00",
          "2014-01-31T00:00:00",
          "2014-02-28T00:00:00",
          "2014-03-31T00:00:00",
          "2014-04-30T00:00:00",
          "2014-05-31T00:00:00",
          "2014-06-30T00:00:00",
          "2014-07-31T00:00:00",
          "2014-08-31T00:00:00",
          "2014-09-30T00:00:00",
          "2014-10-31T00:00:00",
          "2014-11-30T00:00:00",
          "2014-12-31T00:00:00",
          "2015-01-31T00:00:00",
          "2015-02-28T00:00:00",
          "2015-03-31T00:00:00",
          "2015-04-30T00:00:00",
          "2015-05-31T00:00:00",
          "2015-06-30T00:00:00",
          "2015-07-31T00:00:00",
          "2015-08-31T00:00:00",
          "2015-09-30T00:00:00",
          "2015-10-31T00:00:00",
          "2015-11-30T00:00:00",
          "2015-12-31T00:00:00",
          "2016-01-31T00:00:00",
          "2016-02-29T00:00:00",
          "2016-03-31T00:00:00",
          "2016-04-30T00:00:00",
          "2016-05-31T00:00:00",
          "2016-06-30T00:00:00",
          "2016-07-31T00:00:00",
          "2016-08-31T00:00:00",
          "2016-09-30T00:00:00",
          "2016-10-31T00:00:00",
          "2016-11-30T00:00:00",
          "2016-12-31T00:00:00",
          "2017-01-31T00:00:00",
          "2017-02-28T00:00:00",
          "2017-03-31T00:00:00",
          "2017-04-30T00:00:00",
          "2017-05-31T00:00:00",
          "2017-06-30T00:00:00",
          "2017-07-31T00:00:00",
          "2017-08-31T00:00:00",
          "2017-09-30T00:00:00",
          "2017-10-31T00:00:00",
          "2017-11-30T00:00:00",
          "2017-12-31T00:00:00",
          "2018-01-31T00:00:00",
          "2018-02-28T00:00:00",
          "2018-03-31T00:00:00",
          "2018-04-30T00:00:00",
          "2018-05-31T00:00:00",
          "2018-06-30T00:00:00",
          "2018-07-31T00:00:00",
          "2018-08-31T00:00:00",
          "2018-09-30T00:00:00",
          "2018-10-31T00:00:00",
          "2018-11-30T00:00:00",
          "2018-12-31T00:00:00"
         ],
         "xaxis": "x",
         "y": [
          1,
          0.7071768279547679,
          0.6151068937250893,
          0.9894470379069564,
          0.6133469628102627,
          0.6258456263035869,
          0.5741184811985445,
          0.5712574895626319,
          0.5862118559417696,
          0.8509609758974622,
          0.8251883961888349,
          1.441965647283982,
          0.834202207230919,
          0.9219357095344415,
          0.8523417962460484,
          0.9387644969578112,
          0.7266363651560173,
          0.7316319826757195,
          0.5526315540473837,
          0.46460851472238984,
          0.5966512741048244,
          1.0123734497705308,
          1.1387677140358274,
          1.2669518721974755,
          1.382004990255723,
          1.5657976035291976,
          0.8164442519804742,
          0.6653179119649755,
          0.9637526773500992,
          0.6057660130846764,
          0.6019859464154654,
          0.6142423828581467,
          0.458709907559471,
          0.8037582410026686,
          0.9466807166766701,
          1.3363338368165563,
          1.4478557386521516,
          1.2031253597529032,
          1.2677744348902835,
          0.9168123550935019,
          0.9958758321429619,
          0.7912125829383213,
          0.881544033439949,
          0.7096747944145217,
          1.0537103790821802,
          0.8126509385194313,
          1.6030977307299392,
          1.6229218701063748,
          1.7944829635218047,
          1.8278323927585467,
          1.5494147914308396,
          1.050662039961786,
          0.9707400446416885,
          0.6745499796724825,
          0.6409662083802359,
          0.7478097849004867,
          0.624191354323611,
          0.8859731929089293,
          1.4643527254801094,
          0.9640229749834336,
          1.289240230254474,
          1.6008893012916567,
          1.6789138513817192,
          0.9273955955678758,
          0.9477858775952279,
          0.9300755477154172,
          1.0807584356043487,
          0.7832531534461056,
          1.0405853315750846,
          1.316772740877928,
          1.4724739550725594,
          2.132596916840741,
          2.525945261102152,
          1.7535358683697835,
          1.9739296828749575,
          1.3648062388604731,
          1.0107604951650786,
          0.865297789457383,
          0.6952051975364753,
          0.8863806894576669,
          1.017843428597742,
          1.571452406642446,
          1.770405973167677,
          2.309384500433517
         ],
         "yaxis": "y"
        },
        {
         "hovertemplate": "variable=Solaire<br>DateTime=%{x}<br>Relative Consumption=%{y}<extra></extra>",
         "legendgroup": "Solaire",
         "line": {
          "color": "#FF6692",
          "dash": "solid"
         },
         "marker": {
          "symbol": "circle"
         },
         "mode": "lines",
         "name": "Solaire",
         "orientation": "v",
         "showlegend": true,
         "type": "scatter",
         "x": [
          "2012-01-31T00:00:00",
          "2012-02-29T00:00:00",
          "2012-03-31T00:00:00",
          "2012-04-30T00:00:00",
          "2012-05-31T00:00:00",
          "2012-06-30T00:00:00",
          "2012-07-31T00:00:00",
          "2012-08-31T00:00:00",
          "2012-09-30T00:00:00",
          "2012-10-31T00:00:00",
          "2012-11-30T00:00:00",
          "2012-12-31T00:00:00",
          "2013-01-31T00:00:00",
          "2013-02-28T00:00:00",
          "2013-03-31T00:00:00",
          "2013-04-30T00:00:00",
          "2013-05-31T00:00:00",
          "2013-06-30T00:00:00",
          "2013-07-31T00:00:00",
          "2013-08-31T00:00:00",
          "2013-09-30T00:00:00",
          "2013-10-31T00:00:00",
          "2013-11-30T00:00:00",
          "2013-12-31T00:00:00",
          "2014-01-31T00:00:00",
          "2014-02-28T00:00:00",
          "2014-03-31T00:00:00",
          "2014-04-30T00:00:00",
          "2014-05-31T00:00:00",
          "2014-06-30T00:00:00",
          "2014-07-31T00:00:00",
          "2014-08-31T00:00:00",
          "2014-09-30T00:00:00",
          "2014-10-31T00:00:00",
          "2014-11-30T00:00:00",
          "2014-12-31T00:00:00",
          "2015-01-31T00:00:00",
          "2015-02-28T00:00:00",
          "2015-03-31T00:00:00",
          "2015-04-30T00:00:00",
          "2015-05-31T00:00:00",
          "2015-06-30T00:00:00",
          "2015-07-31T00:00:00",
          "2015-08-31T00:00:00",
          "2015-09-30T00:00:00",
          "2015-10-31T00:00:00",
          "2015-11-30T00:00:00",
          "2015-12-31T00:00:00",
          "2016-01-31T00:00:00",
          "2016-02-29T00:00:00",
          "2016-03-31T00:00:00",
          "2016-04-30T00:00:00",
          "2016-05-31T00:00:00",
          "2016-06-30T00:00:00",
          "2016-07-31T00:00:00",
          "2016-08-31T00:00:00",
          "2016-09-30T00:00:00",
          "2016-10-31T00:00:00",
          "2016-11-30T00:00:00",
          "2016-12-31T00:00:00",
          "2017-01-31T00:00:00",
          "2017-02-28T00:00:00",
          "2017-03-31T00:00:00",
          "2017-04-30T00:00:00",
          "2017-05-31T00:00:00",
          "2017-06-30T00:00:00",
          "2017-07-31T00:00:00",
          "2017-08-31T00:00:00",
          "2017-09-30T00:00:00",
          "2017-10-31T00:00:00",
          "2017-11-30T00:00:00",
          "2017-12-31T00:00:00",
          "2018-01-31T00:00:00",
          "2018-02-28T00:00:00",
          "2018-03-31T00:00:00",
          "2018-04-30T00:00:00",
          "2018-05-31T00:00:00",
          "2018-06-30T00:00:00",
          "2018-07-31T00:00:00",
          "2018-08-31T00:00:00",
          "2018-09-30T00:00:00",
          "2018-10-31T00:00:00",
          "2018-11-30T00:00:00",
          "2018-12-31T00:00:00"
         ],
         "xaxis": "x",
         "y": [
          1,
          1.7363716723022262,
          2.8560100238581554,
          2.636665179107808,
          3.654794802698203,
          3.828925009869381,
          4.333726678223854,
          4.264130378812585,
          3.294081804294468,
          2.2576552067420743,
          1.4395650606752373,
          1.1624199721940922,
          1.203682566382314,
          1.9187835773502,
          2.8886176001098507,
          3.6341592145689225,
          4.21138926554642,
          4.718387943907588,
          5.527724378229004,
          5.049282538919689,
          3.8704579392732703,
          2.6779363553663686,
          1.5215495786203463,
          1.7964719108837817,
          1.4605267674773863,
          2.1965980673177596,
          4.503020888759204,
          4.9282023995468665,
          5.735427644564975,
          6.434257050170784,
          5.799415561009938,
          5.8353486895178595,
          5.395410308782891,
          4.025415801307908,
          2.0474545579375567,
          1.5771914316609739,
          2.092158562331577,
          3.013392320763461,
          4.520056298381421,
          6.593699043957364,
          7.110815983247798,
          8.026844716019292,
          7.9461818369063355,
          7.149611232213659,
          6.034392646882134,
          4.317485110107962,
          3.1664320900774103,
          2.560756766962462,
          2.3017198468958653,
          3.446117471378795,
          5.693916170336932,
          6.707329946276239,
          7.844501467534028,
          7.6645440346029075,
          8.996867544326394,
          8.959029196203293,
          6.935145294450833,
          6.144170199618956,
          3.100513207806251,
          3.1010882065189405,
          3.060396320008239,
          3.615673435059474,
          5.915320711968556,
          8.826599268807607,
          9.201725854345103,
          9.549012203704022,
          9.10116115411682,
          8.848071608794905,
          6.914934518803316,
          6.011796055680472,
          3.82042017816378,
          2.3191028303667975,
          2.3777526990611215,
          4.587610065052093,
          6.715251197198812,
          8.76251694958892,
          9.930742692367106,
          11.123877894303222,
          12.324942929232249,
          11.396152657867184,
          10.087176670499991,
          6.9480956385918535,
          4.138338682823845,
          2.4298973584387498
         ],
         "yaxis": "y"
        },
        {
         "hovertemplate": "variable=Hydraulique<br>DateTime=%{x}<br>Relative Consumption=%{y}<extra></extra>",
         "legendgroup": "Hydraulique",
         "line": {
          "color": "#B6E880",
          "dash": "solid"
         },
         "marker": {
          "symbol": "circle"
         },
         "mode": "lines",
         "name": "Hydraulique",
         "orientation": "v",
         "showlegend": true,
         "type": "scatter",
         "x": [
          "2012-01-31T00:00:00",
          "2012-02-29T00:00:00",
          "2012-03-31T00:00:00",
          "2012-04-30T00:00:00",
          "2012-05-31T00:00:00",
          "2012-06-30T00:00:00",
          "2012-07-31T00:00:00",
          "2012-08-31T00:00:00",
          "2012-09-30T00:00:00",
          "2012-10-31T00:00:00",
          "2012-11-30T00:00:00",
          "2012-12-31T00:00:00",
          "2013-01-31T00:00:00",
          "2013-02-28T00:00:00",
          "2013-03-31T00:00:00",
          "2013-04-30T00:00:00",
          "2013-05-31T00:00:00",
          "2013-06-30T00:00:00",
          "2013-07-31T00:00:00",
          "2013-08-31T00:00:00",
          "2013-09-30T00:00:00",
          "2013-10-31T00:00:00",
          "2013-11-30T00:00:00",
          "2013-12-31T00:00:00",
          "2014-01-31T00:00:00",
          "2014-02-28T00:00:00",
          "2014-03-31T00:00:00",
          "2014-04-30T00:00:00",
          "2014-05-31T00:00:00",
          "2014-06-30T00:00:00",
          "2014-07-31T00:00:00",
          "2014-08-31T00:00:00",
          "2014-09-30T00:00:00",
          "2014-10-31T00:00:00",
          "2014-11-30T00:00:00",
          "2014-12-31T00:00:00",
          "2015-01-31T00:00:00",
          "2015-02-28T00:00:00",
          "2015-03-31T00:00:00",
          "2015-04-30T00:00:00",
          "2015-05-31T00:00:00",
          "2015-06-30T00:00:00",
          "2015-07-31T00:00:00",
          "2015-08-31T00:00:00",
          "2015-09-30T00:00:00",
          "2015-10-31T00:00:00",
          "2015-11-30T00:00:00",
          "2015-12-31T00:00:00",
          "2016-01-31T00:00:00",
          "2016-02-29T00:00:00",
          "2016-03-31T00:00:00",
          "2016-04-30T00:00:00",
          "2016-05-31T00:00:00",
          "2016-06-30T00:00:00",
          "2016-07-31T00:00:00",
          "2016-08-31T00:00:00",
          "2016-09-30T00:00:00",
          "2016-10-31T00:00:00",
          "2016-11-30T00:00:00",
          "2016-12-31T00:00:00",
          "2017-01-31T00:00:00",
          "2017-02-28T00:00:00",
          "2017-03-31T00:00:00",
          "2017-04-30T00:00:00",
          "2017-05-31T00:00:00",
          "2017-06-30T00:00:00",
          "2017-07-31T00:00:00",
          "2017-08-31T00:00:00",
          "2017-09-30T00:00:00",
          "2017-10-31T00:00:00",
          "2017-11-30T00:00:00",
          "2017-12-31T00:00:00",
          "2018-01-31T00:00:00",
          "2018-02-28T00:00:00",
          "2018-03-31T00:00:00",
          "2018-04-30T00:00:00",
          "2018-05-31T00:00:00",
          "2018-06-30T00:00:00",
          "2018-07-31T00:00:00",
          "2018-08-31T00:00:00",
          "2018-09-30T00:00:00",
          "2018-10-31T00:00:00",
          "2018-11-30T00:00:00",
          "2018-12-31T00:00:00"
         ],
         "xaxis": "x",
         "y": [
          1,
          0.7780953791812529,
          0.5788475520990645,
          0.7867839096435307,
          1.140887721680466,
          1.0166071201425437,
          0.7319237594108547,
          0.5308534549783933,
          0.5443272691024544,
          0.6753355796918995,
          0.7282260844061791,
          0.9645287324535797,
          1.0200195820409068,
          1.0125819062271055,
          0.9518475924057935,
          1.0658164763588323,
          1.2725028018411275,
          1.0939367387758285,
          0.9532638616822623,
          0.676687687236534,
          0.6138162194127825,
          0.7223864694423769,
          0.9411627945410481,
          0.8407764556655519,
          1.0376733310864263,
          1.0435538510237872,
          1.0380688455382583,
          0.8636955796530137,
          0.9186191438117917,
          0.751062949763084,
          0.923054678732562,
          0.7918257654520781,
          0.5634783495658278,
          0.5639826697517143,
          0.727884337186502,
          0.8515780607856881,
          0.9221762313387883,
          0.9406498745892397,
          0.9554373590432932,
          0.8504001171961144,
          0.9655049180565696,
          0.8391270205617412,
          0.6011688801840978,
          0.5096024612380508,
          0.5135932013092284,
          0.5787910927662733,
          0.5304153155998184,
          0.5457030073082306,
          0.8384102487672983,
          1.025495314735355,
          0.9760713382738864,
          0.9628423557465917,
          0.9762853602744807,
          1.0731087787382678,
          0.7921900216242984,
          0.5780539058753377,
          0.5033388404240148,
          0.4575152494414452,
          0.6304207222352631,
          0.6623972692527633,
          0.7692887701938395,
          0.6648782643309303,
          0.9242092160027137,
          0.6175292992155443,
          0.8520493279582054,
          0.7591692386821659,
          0.5799009112536313,
          0.5216424326509331,
          0.46027869074471506,
          0.4064746665478154,
          0.5864148226462796,
          0.7869515676887202,
          1.0813959618640014,
          1.0631084474603283,
          1.0475745781048313,
          1.0278912843017554,
          1.1395295569093997,
          1.1267827595183144,
          0.7846042802754947,
          0.5798018269940969,
          0.4503870904202571,
          0.43316325489025687,
          0.5825731950381295,
          0.765092757449136
         ],
         "yaxis": "y"
        },
        {
         "hovertemplate": "variable=Pompage<br>DateTime=%{x}<br>Relative Consumption=%{y}<extra></extra>",
         "legendgroup": "Pompage",
         "line": {
          "color": "#FF97FF",
          "dash": "solid"
         },
         "marker": {
          "symbol": "circle"
         },
         "mode": "lines",
         "name": "Pompage",
         "orientation": "v",
         "showlegend": true,
         "type": "scatter",
         "x": [
          "2012-01-31T00:00:00",
          "2012-02-29T00:00:00",
          "2012-03-31T00:00:00",
          "2012-04-30T00:00:00",
          "2012-05-31T00:00:00",
          "2012-06-30T00:00:00",
          "2012-07-31T00:00:00",
          "2012-08-31T00:00:00",
          "2012-09-30T00:00:00",
          "2012-10-31T00:00:00",
          "2012-11-30T00:00:00",
          "2012-12-31T00:00:00",
          "2013-01-31T00:00:00",
          "2013-02-28T00:00:00",
          "2013-03-31T00:00:00",
          "2013-04-30T00:00:00",
          "2013-05-31T00:00:00",
          "2013-06-30T00:00:00",
          "2013-07-31T00:00:00",
          "2013-08-31T00:00:00",
          "2013-09-30T00:00:00",
          "2013-10-31T00:00:00",
          "2013-11-30T00:00:00",
          "2013-12-31T00:00:00",
          "2014-01-31T00:00:00",
          "2014-02-28T00:00:00",
          "2014-03-31T00:00:00",
          "2014-04-30T00:00:00",
          "2014-05-31T00:00:00",
          "2014-06-30T00:00:00",
          "2014-07-31T00:00:00",
          "2014-08-31T00:00:00",
          "2014-09-30T00:00:00",
          "2014-10-31T00:00:00",
          "2014-11-30T00:00:00",
          "2014-12-31T00:00:00",
          "2015-01-31T00:00:00",
          "2015-02-28T00:00:00",
          "2015-03-31T00:00:00",
          "2015-04-30T00:00:00",
          "2015-05-31T00:00:00",
          "2015-06-30T00:00:00",
          "2015-07-31T00:00:00",
          "2015-08-31T00:00:00",
          "2015-09-30T00:00:00",
          "2015-10-31T00:00:00",
          "2015-11-30T00:00:00",
          "2015-12-31T00:00:00",
          "2016-01-31T00:00:00",
          "2016-02-29T00:00:00",
          "2016-03-31T00:00:00",
          "2016-04-30T00:00:00",
          "2016-05-31T00:00:00",
          "2016-06-30T00:00:00",
          "2016-07-31T00:00:00",
          "2016-08-31T00:00:00",
          "2016-09-30T00:00:00",
          "2016-10-31T00:00:00",
          "2016-11-30T00:00:00",
          "2016-12-31T00:00:00",
          "2017-01-31T00:00:00",
          "2017-02-28T00:00:00",
          "2017-03-31T00:00:00",
          "2017-04-30T00:00:00",
          "2017-05-31T00:00:00",
          "2017-06-30T00:00:00",
          "2017-07-31T00:00:00",
          "2017-08-31T00:00:00",
          "2017-09-30T00:00:00",
          "2017-10-31T00:00:00",
          "2017-11-30T00:00:00",
          "2017-12-31T00:00:00",
          "2018-01-31T00:00:00",
          "2018-02-28T00:00:00",
          "2018-03-31T00:00:00",
          "2018-04-30T00:00:00",
          "2018-05-31T00:00:00",
          "2018-06-30T00:00:00",
          "2018-07-31T00:00:00",
          "2018-08-31T00:00:00",
          "2018-09-30T00:00:00",
          "2018-10-31T00:00:00",
          "2018-11-30T00:00:00",
          "2018-12-31T00:00:00"
         ],
         "xaxis": "x",
         "y": [
          1,
          0.683526480657603,
          0.7169283074963184,
          0.840431664441241,
          1.0575002023733695,
          0.9497950509694707,
          0.8416131978508357,
          0.7791317487430365,
          1.0665182867847327,
          1.076838919792279,
          0.8933030359276101,
          1.0672092180865373,
          0.9867921735881084,
          0.7745503427264558,
          0.9831919717871082,
          0.8894035668408576,
          1.1055293310558494,
          1.0089199639898052,
          0.9059164161188958,
          1.009133375906694,
          0.8744573736270296,
          0.9943098332198135,
          1.042828746339904,
          1.1915245215198527,
          1.278787100762314,
          1.117394543032755,
          1.0765641826119166,
          0.8260194098547246,
          1.1916177359203328,
          1.0409726350320976,
          1.1023535000780875,
          1.0744488698571613,
          0.9930154613254271,
          1.159924022086907,
          1.175307668846848,
          1.0353478818662831,
          1.0658600622901142,
          0.757220640938947,
          1.0176428694663149,
          0.8701090036116492,
          1.2119572816391344,
          1.0400086018902899,
          0.8632152263270174,
          0.833949992927153,
          0.689166769556831,
          0.7549671419238307,
          0.9138527228825818,
          1.2525693241220062,
          1.2505079775991077,
          1.0095667411019087,
          0.8959841764466834,
          0.6668255672382454,
          1.027928342656136,
          0.8984151098907838,
          0.7914499499994685,
          0.8815097789265135,
          0.8002930529923866,
          0.9846695018017363,
          0.9588074116895764,
          0.8761286914742348,
          0.9248978116692982,
          1.0450781570041219,
          1.0990754603278694,
          0.9526830620439956,
          1.07971303047375,
          0.9106270140238613,
          0.8057313773572409,
          0.837630326405759,
          0.8055465838966399,
          1.1149734216308105,
          0.9958323350943223,
          1.1381290234483277,
          1.3141325296180582,
          0.7994508527073468,
          1.0375809391269082,
          1.1016625687762829,
          1.0601241059798674,
          0.8768261641374765,
          0.7374027687947623,
          0.8529395651793519,
          1.0091889774789102,
          1.125494383832371,
          1.0989331857166103,
          1.0879780406496553
         ],
         "yaxis": "y"
        },
        {
         "hovertemplate": "variable=Bioénergies<br>DateTime=%{x}<br>Relative Consumption=%{y}<extra></extra>",
         "legendgroup": "Bioénergies",
         "line": {
          "color": "#FECB52",
          "dash": "solid"
         },
         "marker": {
          "symbol": "circle"
         },
         "mode": "lines",
         "name": "Bioénergies",
         "orientation": "v",
         "showlegend": true,
         "type": "scatter",
         "x": [
          "2012-01-31T00:00:00",
          "2012-02-29T00:00:00",
          "2012-03-31T00:00:00",
          "2012-04-30T00:00:00",
          "2012-05-31T00:00:00",
          "2012-06-30T00:00:00",
          "2012-07-31T00:00:00",
          "2012-08-31T00:00:00",
          "2012-09-30T00:00:00",
          "2012-10-31T00:00:00",
          "2012-11-30T00:00:00",
          "2012-12-31T00:00:00",
          "2013-01-31T00:00:00",
          "2013-02-28T00:00:00",
          "2013-03-31T00:00:00",
          "2013-04-30T00:00:00",
          "2013-05-31T00:00:00",
          "2013-06-30T00:00:00",
          "2013-07-31T00:00:00",
          "2013-08-31T00:00:00",
          "2013-09-30T00:00:00",
          "2013-10-31T00:00:00",
          "2013-11-30T00:00:00",
          "2013-12-31T00:00:00",
          "2014-01-31T00:00:00",
          "2014-02-28T00:00:00",
          "2014-03-31T00:00:00",
          "2014-04-30T00:00:00",
          "2014-05-31T00:00:00",
          "2014-06-30T00:00:00",
          "2014-07-31T00:00:00",
          "2014-08-31T00:00:00",
          "2014-09-30T00:00:00",
          "2014-10-31T00:00:00",
          "2014-11-30T00:00:00",
          "2014-12-31T00:00:00",
          "2015-01-31T00:00:00",
          "2015-02-28T00:00:00",
          "2015-03-31T00:00:00",
          "2015-04-30T00:00:00",
          "2015-05-31T00:00:00",
          "2015-06-30T00:00:00",
          "2015-07-31T00:00:00",
          "2015-08-31T00:00:00",
          "2015-09-30T00:00:00",
          "2015-10-31T00:00:00",
          "2015-11-30T00:00:00",
          "2015-12-31T00:00:00",
          "2016-01-31T00:00:00",
          "2016-02-29T00:00:00",
          "2016-03-31T00:00:00",
          "2016-04-30T00:00:00",
          "2016-05-31T00:00:00",
          "2016-06-30T00:00:00",
          "2016-07-31T00:00:00",
          "2016-08-31T00:00:00",
          "2016-09-30T00:00:00",
          "2016-10-31T00:00:00",
          "2016-11-30T00:00:00",
          "2016-12-31T00:00:00",
          "2017-01-31T00:00:00",
          "2017-02-28T00:00:00",
          "2017-03-31T00:00:00",
          "2017-04-30T00:00:00",
          "2017-05-31T00:00:00",
          "2017-06-30T00:00:00",
          "2017-07-31T00:00:00",
          "2017-08-31T00:00:00",
          "2017-09-30T00:00:00",
          "2017-10-31T00:00:00",
          "2017-11-30T00:00:00",
          "2017-12-31T00:00:00",
          "2018-01-31T00:00:00",
          "2018-02-28T00:00:00",
          "2018-03-31T00:00:00",
          "2018-04-30T00:00:00",
          "2018-05-31T00:00:00",
          "2018-06-30T00:00:00",
          "2018-07-31T00:00:00",
          "2018-08-31T00:00:00",
          "2018-09-30T00:00:00",
          "2018-10-31T00:00:00",
          "2018-11-30T00:00:00",
          "2018-12-31T00:00:00"
         ],
         "xaxis": "x",
         "y": [
          1,
          0.8892969968620484,
          1.039826291626452,
          0.7898072868603453,
          0.9082401779038561,
          0.8431986512870797,
          0.9934267565936916,
          0.9489806228367044,
          0.9204600019437786,
          0.8815738448229574,
          1.0066126963384792,
          1.0110343115415223,
          1.0634749565296047,
          0.9576256263152982,
          1.0417893155686082,
          0.8287511799794652,
          0.9568673602043084,
          0.904534489079717,
          1.0327709526343494,
          1.046815234220511,
          0.9354906068342101,
          0.9708067547268943,
          1.082948346489122,
          1.1137524261147618,
          1.315127890047565,
          1.226641699054958,
          1.324152988848292,
          1.055879785953409,
          1.1820464139690323,
          1.0220407173505335,
          1.1546516450429316,
          1.151910147390381,
          1.0700289546031467,
          1.1778057048939918,
          1.35840102077245,
          1.4146214491158213,
          1.3329355964561644,
          1.2229898971625643,
          1.3416181283336526,
          1.1250629081814796,
          1.2269553979790475,
          1.1535527365419793,
          1.2559542653912144,
          1.2808461787910659,
          1.2336171699160807,
          1.1980113797652647,
          1.39719095122944,
          1.4664731869212568,
          1.4894809822432937,
          1.3876856813761953,
          1.4886563197342604,
          1.3227577022227397,
          1.3645460555247095,
          1.2449468973155648,
          1.4311195106296783,
          1.3866599051397548,
          1.3020410637665234,
          1.2863426458291034,
          1.4950072795471188,
          1.566067783986536,
          1.5935914966421705,
          1.414327957791136,
          1.5162319947883638,
          1.431025208499124,
          1.426999084884427,
          1.4541561739508648,
          1.5737187660277536,
          1.5123328903699242,
          1.4740558480311543,
          1.4766414584882983,
          1.6716736607413494,
          1.620198169191494,
          1.5492329291492697,
          1.5015506926876396,
          1.5680346569952455,
          1.5268563807419653,
          1.5691547353622404,
          1.4028298337299476,
          1.5587940104675364,
          1.5603990712202407,
          1.5128823446204003,
          1.4784457084351332,
          1.5208123839867285,
          1.6225682319216561
         ],
         "yaxis": "y"
        },
        {
         "mode": "lines",
         "name": "Consommation (Rolling Mean)",
         "type": "scatter",
         "x": [
          "2012-01-31T00:00:00",
          "2012-02-29T00:00:00",
          "2012-03-31T00:00:00",
          "2012-04-30T00:00:00",
          "2012-05-31T00:00:00",
          "2012-06-30T00:00:00",
          "2012-07-31T00:00:00",
          "2012-08-31T00:00:00",
          "2012-09-30T00:00:00",
          "2012-10-31T00:00:00",
          "2012-11-30T00:00:00",
          "2012-12-31T00:00:00",
          "2013-01-31T00:00:00",
          "2013-02-28T00:00:00",
          "2013-03-31T00:00:00",
          "2013-04-30T00:00:00",
          "2013-05-31T00:00:00",
          "2013-06-30T00:00:00",
          "2013-07-31T00:00:00",
          "2013-08-31T00:00:00",
          "2013-09-30T00:00:00",
          "2013-10-31T00:00:00",
          "2013-11-30T00:00:00",
          "2013-12-31T00:00:00",
          "2014-01-31T00:00:00",
          "2014-02-28T00:00:00",
          "2014-03-31T00:00:00",
          "2014-04-30T00:00:00",
          "2014-05-31T00:00:00",
          "2014-06-30T00:00:00",
          "2014-07-31T00:00:00",
          "2014-08-31T00:00:00",
          "2014-09-30T00:00:00",
          "2014-10-31T00:00:00",
          "2014-11-30T00:00:00",
          "2014-12-31T00:00:00",
          "2015-01-31T00:00:00",
          "2015-02-28T00:00:00",
          "2015-03-31T00:00:00",
          "2015-04-30T00:00:00",
          "2015-05-31T00:00:00",
          "2015-06-30T00:00:00",
          "2015-07-31T00:00:00",
          "2015-08-31T00:00:00",
          "2015-09-30T00:00:00",
          "2015-10-31T00:00:00",
          "2015-11-30T00:00:00",
          "2015-12-31T00:00:00",
          "2016-01-31T00:00:00",
          "2016-02-29T00:00:00",
          "2016-03-31T00:00:00",
          "2016-04-30T00:00:00",
          "2016-05-31T00:00:00",
          "2016-06-30T00:00:00",
          "2016-07-31T00:00:00",
          "2016-08-31T00:00:00",
          "2016-09-30T00:00:00",
          "2016-10-31T00:00:00",
          "2016-11-30T00:00:00",
          "2016-12-31T00:00:00",
          "2017-01-31T00:00:00",
          "2017-02-28T00:00:00",
          "2017-03-31T00:00:00",
          "2017-04-30T00:00:00",
          "2017-05-31T00:00:00",
          "2017-06-30T00:00:00",
          "2017-07-31T00:00:00",
          "2017-08-31T00:00:00",
          "2017-09-30T00:00:00",
          "2017-10-31T00:00:00",
          "2017-11-30T00:00:00",
          "2017-12-31T00:00:00",
          "2018-01-31T00:00:00",
          "2018-02-28T00:00:00",
          "2018-03-31T00:00:00",
          "2018-04-30T00:00:00",
          "2018-05-31T00:00:00",
          "2018-06-30T00:00:00",
          "2018-07-31T00:00:00",
          "2018-08-31T00:00:00",
          "2018-09-30T00:00:00",
          "2018-10-31T00:00:00",
          "2018-11-30T00:00:00",
          "2018-12-31T00:00:00"
         ],
         "y": [
          null,
          null,
          null,
          null,
          null,
          null,
          null,
          null,
          null,
          null,
          null,
          0.7984512754475737,
          0.8025683917458598,
          0.7946171540904534,
          0.8049677956325092,
          0.8052829152284411,
          0.8079581714154251,
          0.8076783154294418,
          0.8087557876393675,
          0.8077720000327645,
          0.8077157457881193,
          0.8051526592539148,
          0.8068240692051111,
          0.8076045032182871,
          0.8006328870392124,
          0.7923331843371564,
          0.7819458434372248,
          0.7753104006616871,
          0.7717255226834586,
          0.7709905124529915,
          0.769575688705801,
          0.7685243979746498,
          0.7685351595206851,
          0.7673485220630711,
          0.759713732275536,
          0.7586465999119688,
          0.7638817634770327,
          0.7706362305761684,
          0.7749003617192152,
          0.7758576019364293,
          0.7746236512518337,
          0.7757136965114654,
          0.7773064463460769,
          0.7782847198602117,
          0.7787400734685505,
          0.7833662403476555,
          0.7840963772394435,
          0.7763750463098442,
          0.7724928364218617,
          0.7688536625591609,
          0.7713688180845614,
          0.7749869627524785,
          0.7763098165895852,
          0.7756514892456999,
          0.7737108650721575,
          0.774599813734104,
          0.7741380599717193,
          0.773146574294944,
          0.7783902104136337,
          0.7881360730869272,
          0.799966745124466,
          0.7957541302579041,
          0.7883284378759322,
          0.784295734531068,
          0.784769885771698,
          0.785600448718648,
          0.7858464784834648,
          0.7857867226547318,
          0.7864287956912256,
          0.7832259521870409,
          0.7843080228924707,
          0.7860426968199065,
          0.7718572201489037,
          0.7821923736627477,
          0.7916113485296701,
          0.7910015699764111,
          0.7892869596007247,
          0.7880656156033581,
          0.7892586925955326,
          0.7898250319799315,
          0.788268215224016,
          0.7890718968676306,
          0.7871051305958284,
          0.7802609079201264
         ]
        },
        {
         "mode": "lines",
         "name": "Fioul (Rolling Mean)",
         "type": "scatter",
         "x": [
          "2012-01-31T00:00:00",
          "2012-02-29T00:00:00",
          "2012-03-31T00:00:00",
          "2012-04-30T00:00:00",
          "2012-05-31T00:00:00",
          "2012-06-30T00:00:00",
          "2012-07-31T00:00:00",
          "2012-08-31T00:00:00",
          "2012-09-30T00:00:00",
          "2012-10-31T00:00:00",
          "2012-11-30T00:00:00",
          "2012-12-31T00:00:00",
          "2013-01-31T00:00:00",
          "2013-02-28T00:00:00",
          "2013-03-31T00:00:00",
          "2013-04-30T00:00:00",
          "2013-05-31T00:00:00",
          "2013-06-30T00:00:00",
          "2013-07-31T00:00:00",
          "2013-08-31T00:00:00",
          "2013-09-30T00:00:00",
          "2013-10-31T00:00:00",
          "2013-11-30T00:00:00",
          "2013-12-31T00:00:00",
          "2014-01-31T00:00:00",
          "2014-02-28T00:00:00",
          "2014-03-31T00:00:00",
          "2014-04-30T00:00:00",
          "2014-05-31T00:00:00",
          "2014-06-30T00:00:00",
          "2014-07-31T00:00:00",
          "2014-08-31T00:00:00",
          "2014-09-30T00:00:00",
          "2014-10-31T00:00:00",
          "2014-11-30T00:00:00",
          "2014-12-31T00:00:00",
          "2015-01-31T00:00:00",
          "2015-02-28T00:00:00",
          "2015-03-31T00:00:00",
          "2015-04-30T00:00:00",
          "2015-05-31T00:00:00",
          "2015-06-30T00:00:00",
          "2015-07-31T00:00:00",
          "2015-08-31T00:00:00",
          "2015-09-30T00:00:00",
          "2015-10-31T00:00:00",
          "2015-11-30T00:00:00",
          "2015-12-31T00:00:00",
          "2016-01-31T00:00:00",
          "2016-02-29T00:00:00",
          "2016-03-31T00:00:00",
          "2016-04-30T00:00:00",
          "2016-05-31T00:00:00",
          "2016-06-30T00:00:00",
          "2016-07-31T00:00:00",
          "2016-08-31T00:00:00",
          "2016-09-30T00:00:00",
          "2016-10-31T00:00:00",
          "2016-11-30T00:00:00",
          "2016-12-31T00:00:00",
          "2017-01-31T00:00:00",
          "2017-02-28T00:00:00",
          "2017-03-31T00:00:00",
          "2017-04-30T00:00:00",
          "2017-05-31T00:00:00",
          "2017-06-30T00:00:00",
          "2017-07-31T00:00:00",
          "2017-08-31T00:00:00",
          "2017-09-30T00:00:00",
          "2017-10-31T00:00:00",
          "2017-11-30T00:00:00",
          "2017-12-31T00:00:00",
          "2018-01-31T00:00:00",
          "2018-02-28T00:00:00",
          "2018-03-31T00:00:00",
          "2018-04-30T00:00:00",
          "2018-05-31T00:00:00",
          "2018-06-30T00:00:00",
          "2018-07-31T00:00:00",
          "2018-08-31T00:00:00",
          "2018-09-30T00:00:00",
          "2018-10-31T00:00:00",
          "2018-11-30T00:00:00",
          "2018-12-31T00:00:00"
         ],
         "y": [
          null,
          null,
          null,
          null,
          null,
          null,
          null,
          null,
          null,
          null,
          null,
          0.84790071087138,
          0.8402673054022717,
          0.724766566318452,
          0.7304216490917348,
          0.7288104426330267,
          0.7305180229349223,
          0.7395092453582888,
          0.7436100316867494,
          0.7484076391524476,
          0.7492430035202108,
          0.7511829819279919,
          0.744701771002314,
          0.7419288538994929,
          0.7060269384017205,
          0.6674800133897135,
          0.6240807166855309,
          0.5952835032983551,
          0.5767147920134913,
          0.5505826465880674,
          0.5344533224066107,
          0.5206604808280425,
          0.5094777563945397,
          0.4940782798173953,
          0.47182301246907726,
          0.4450157836658184,
          0.45263556804963595,
          0.46018622076084775,
          0.4603490207186037,
          0.4607498164885289,
          0.4612342046722935,
          0.46650164628541807,
          0.4676851879840383,
          0.46705451307605533,
          0.4645524316622687,
          0.4647316515584574,
          0.4864050373385668,
          0.4952383111496233,
          0.48891159691738045,
          0.47238978023031947,
          0.45551362873548934,
          0.4453291619226107,
          0.4368604853808437,
          0.4262051581743865,
          0.411626958404191,
          0.3998007776333569,
          0.3868133526939335,
          0.3665495626512081,
          0.34422161841630444,
          0.3214123647360924,
          0.4197961576597707,
          0.4549480738106087,
          0.4977512147955587,
          0.5122932160651185,
          0.5173975778351729,
          0.5173734144030475,
          0.517487794201448,
          0.5183641151201884,
          0.5382117157007078,
          0.5816301379013602,
          0.6115717090431692,
          0.6490629999451425,
          0.5361594099868305,
          0.5334916364670412,
          0.5119721876097384,
          0.48327862508391894,
          0.46578793873422425,
          0.4541341673169336,
          0.4466242845664894,
          0.44220246978264854,
          0.4273446645835735,
          0.4101373154669476,
          0.3987009216436806,
          0.38334827920911135
         ]
        },
        {
         "mode": "lines",
         "name": "Charbon (Rolling Mean)",
         "type": "scatter",
         "x": [
          "2012-01-31T00:00:00",
          "2012-02-29T00:00:00",
          "2012-03-31T00:00:00",
          "2012-04-30T00:00:00",
          "2012-05-31T00:00:00",
          "2012-06-30T00:00:00",
          "2012-07-31T00:00:00",
          "2012-08-31T00:00:00",
          "2012-09-30T00:00:00",
          "2012-10-31T00:00:00",
          "2012-11-30T00:00:00",
          "2012-12-31T00:00:00",
          "2013-01-31T00:00:00",
          "2013-02-28T00:00:00",
          "2013-03-31T00:00:00",
          "2013-04-30T00:00:00",
          "2013-05-31T00:00:00",
          "2013-06-30T00:00:00",
          "2013-07-31T00:00:00",
          "2013-08-31T00:00:00",
          "2013-09-30T00:00:00",
          "2013-10-31T00:00:00",
          "2013-11-30T00:00:00",
          "2013-12-31T00:00:00",
          "2014-01-31T00:00:00",
          "2014-02-28T00:00:00",
          "2014-03-31T00:00:00",
          "2014-04-30T00:00:00",
          "2014-05-31T00:00:00",
          "2014-06-30T00:00:00",
          "2014-07-31T00:00:00",
          "2014-08-31T00:00:00",
          "2014-09-30T00:00:00",
          "2014-10-31T00:00:00",
          "2014-11-30T00:00:00",
          "2014-12-31T00:00:00",
          "2015-01-31T00:00:00",
          "2015-02-28T00:00:00",
          "2015-03-31T00:00:00",
          "2015-04-30T00:00:00",
          "2015-05-31T00:00:00",
          "2015-06-30T00:00:00",
          "2015-07-31T00:00:00",
          "2015-08-31T00:00:00",
          "2015-09-30T00:00:00",
          "2015-10-31T00:00:00",
          "2015-11-30T00:00:00",
          "2015-12-31T00:00:00",
          "2016-01-31T00:00:00",
          "2016-02-29T00:00:00",
          "2016-03-31T00:00:00",
          "2016-04-30T00:00:00",
          "2016-05-31T00:00:00",
          "2016-06-30T00:00:00",
          "2016-07-31T00:00:00",
          "2016-08-31T00:00:00",
          "2016-09-30T00:00:00",
          "2016-10-31T00:00:00",
          "2016-11-30T00:00:00",
          "2016-12-31T00:00:00",
          "2017-01-31T00:00:00",
          "2017-02-28T00:00:00",
          "2017-03-31T00:00:00",
          "2017-04-30T00:00:00",
          "2017-05-31T00:00:00",
          "2017-06-30T00:00:00",
          "2017-07-31T00:00:00",
          "2017-08-31T00:00:00",
          "2017-09-30T00:00:00",
          "2017-10-31T00:00:00",
          "2017-11-30T00:00:00",
          "2017-12-31T00:00:00",
          "2018-01-31T00:00:00",
          "2018-02-28T00:00:00",
          "2018-03-31T00:00:00",
          "2018-04-30T00:00:00",
          "2018-05-31T00:00:00",
          "2018-06-30T00:00:00",
          "2018-07-31T00:00:00",
          "2018-08-31T00:00:00",
          "2018-09-30T00:00:00",
          "2018-10-31T00:00:00",
          "2018-11-30T00:00:00",
          "2018-12-31T00:00:00"
         ],
         "y": [
          null,
          null,
          null,
          null,
          null,
          null,
          null,
          null,
          null,
          null,
          null,
          1.8908118574299149,
          2.0829620164263836,
          2.0921683129900224,
          2.2381664683275133,
          2.2265376161584634,
          2.195641957726665,
          2.1332840736911245,
          2.1056444830284544,
          2.1090469207575473,
          2.1444551742675,
          2.13363566506478,
          2.1620750068822603,
          2.1379293283997822,
          1.9660706737678586,
          1.7556019430734116,
          1.5619027336120919,
          1.4775094780103657,
          1.4556626912130337,
          1.4520569287561422,
          1.3763125608294262,
          1.255712384383447,
          1.1455783374626896,
          1.0534580919123144,
          0.9302143146677765,
          0.9012802087871833,
          0.9728300287645965,
          1.081792248949236,
          1.0905903245175372,
          1.0672108529450655,
          1.0311979359722194,
          0.9990443954557574,
          1.006631193221353,
          1.014980350334142,
          1.0051617493730098,
          0.9975589652548821,
          0.9824660059696834,
          0.9331629025580331,
          0.8408950406541074,
          0.7036281975414616,
          0.668156377958559,
          0.6614042303682172,
          0.675623250984651,
          0.6871910298679257,
          0.6825120683413862,
          0.6800675653706341,
          0.6989417034623729,
          0.6937394192022648,
          0.7346252473820316,
          0.7914274674799656,
          0.8928765896937341,
          0.9510088201313156,
          0.9095217967142898,
          0.9267492321131683,
          0.9650513405775897,
          0.9856804550312033,
          1.0596334844179125,
          1.066696905258914,
          1.0458976851761534,
          1.07383305045618,
          1.103357730133028,
          1.0551256039589794,
          0.9043239019272497,
          0.9053769419354,
          0.9537789027834679,
          0.9107705205156384,
          0.8715973996978308,
          0.8628084824128446,
          0.8323827143634398,
          0.8650946392069901,
          0.8400618536365431,
          0.7940004031812299,
          0.6917015114960842,
          0.6231060778486596
         ]
        },
        {
         "mode": "lines",
         "name": "Gaz (Rolling Mean)",
         "type": "scatter",
         "x": [
          "2012-01-31T00:00:00",
          "2012-02-29T00:00:00",
          "2012-03-31T00:00:00",
          "2012-04-30T00:00:00",
          "2012-05-31T00:00:00",
          "2012-06-30T00:00:00",
          "2012-07-31T00:00:00",
          "2012-08-31T00:00:00",
          "2012-09-30T00:00:00",
          "2012-10-31T00:00:00",
          "2012-11-30T00:00:00",
          "2012-12-31T00:00:00",
          "2013-01-31T00:00:00",
          "2013-02-28T00:00:00",
          "2013-03-31T00:00:00",
          "2013-04-30T00:00:00",
          "2013-05-31T00:00:00",
          "2013-06-30T00:00:00",
          "2013-07-31T00:00:00",
          "2013-08-31T00:00:00",
          "2013-09-30T00:00:00",
          "2013-10-31T00:00:00",
          "2013-11-30T00:00:00",
          "2013-12-31T00:00:00",
          "2014-01-31T00:00:00",
          "2014-02-28T00:00:00",
          "2014-03-31T00:00:00",
          "2014-04-30T00:00:00",
          "2014-05-31T00:00:00",
          "2014-06-30T00:00:00",
          "2014-07-31T00:00:00",
          "2014-08-31T00:00:00",
          "2014-09-30T00:00:00",
          "2014-10-31T00:00:00",
          "2014-11-30T00:00:00",
          "2014-12-31T00:00:00",
          "2015-01-31T00:00:00",
          "2015-02-28T00:00:00",
          "2015-03-31T00:00:00",
          "2015-04-30T00:00:00",
          "2015-05-31T00:00:00",
          "2015-06-30T00:00:00",
          "2015-07-31T00:00:00",
          "2015-08-31T00:00:00",
          "2015-09-30T00:00:00",
          "2015-10-31T00:00:00",
          "2015-11-30T00:00:00",
          "2015-12-31T00:00:00",
          "2016-01-31T00:00:00",
          "2016-02-29T00:00:00",
          "2016-03-31T00:00:00",
          "2016-04-30T00:00:00",
          "2016-05-31T00:00:00",
          "2016-06-30T00:00:00",
          "2016-07-31T00:00:00",
          "2016-08-31T00:00:00",
          "2016-09-30T00:00:00",
          "2016-10-31T00:00:00",
          "2016-11-30T00:00:00",
          "2016-12-31T00:00:00",
          "2017-01-31T00:00:00",
          "2017-02-28T00:00:00",
          "2017-03-31T00:00:00",
          "2017-04-30T00:00:00",
          "2017-05-31T00:00:00",
          "2017-06-30T00:00:00",
          "2017-07-31T00:00:00",
          "2017-08-31T00:00:00",
          "2017-09-30T00:00:00",
          "2017-10-31T00:00:00",
          "2017-11-30T00:00:00",
          "2017-12-31T00:00:00",
          "2018-01-31T00:00:00",
          "2018-02-28T00:00:00",
          "2018-03-31T00:00:00",
          "2018-04-30T00:00:00",
          "2018-05-31T00:00:00",
          "2018-06-30T00:00:00",
          "2018-07-31T00:00:00",
          "2018-08-31T00:00:00",
          "2018-09-30T00:00:00",
          "2018-10-31T00:00:00",
          "2018-11-30T00:00:00",
          "2018-12-31T00:00:00"
         ],
         "y": [
          null,
          null,
          null,
          null,
          null,
          null,
          null,
          null,
          null,
          null,
          null,
          0.5119999507624701,
          0.49714925334802934,
          0.46269050711874904,
          0.4573218272096405,
          0.4522845804905203,
          0.45225653677282834,
          0.44278601075079377,
          0.43718633566941695,
          0.4276810693802598,
          0.42925875597863844,
          0.42787243733788216,
          0.41856514354212176,
          0.4088925350833758,
          0.37994923054500057,
          0.3468561612262468,
          0.3191183889414798,
          0.3064958840042315,
          0.3044820322275173,
          0.3043265189246327,
          0.3031653679245792,
          0.3008447426177648,
          0.2951970466315395,
          0.29444172697446175,
          0.28949078906494985,
          0.2915685801090521,
          0.31473818107077073,
          0.348619020196057,
          0.36843737133423726,
          0.3766323120390014,
          0.3759581382030395,
          0.37551632952045105,
          0.38410194998612024,
          0.383439298304675,
          0.3945177425230521,
          0.422627853179902,
          0.4471096608940979,
          0.4517576489521158,
          0.4654644223677101,
          0.45875416290228577,
          0.4734391130505136,
          0.49105078245959616,
          0.503364060169243,
          0.5186579669185959,
          0.5330877325266885,
          0.5593410280469074,
          0.6005775206466376,
          0.6305545679423112,
          0.665420771089162,
          0.7231964423676348,
          0.7633867090240288,
          0.7979863895035401,
          0.8164041598842378,
          0.8297275635127329,
          0.8405032010119702,
          0.8457659936501579,
          0.8577513040175372,
          0.8547003867681581,
          0.8339803835881662,
          0.8303833039462164,
          0.829804282454607,
          0.8085106047988107,
          0.7542057602021061,
          0.7531281371544928,
          0.7440571650993265,
          0.7107538241284508,
          0.6897792089377403,
          0.6747500357012987,
          0.6696813203117243,
          0.6748708905269774,
          0.6643476669344469,
          0.6423814921359813,
          0.634349865447408,
          0.6173488600039619
         ]
        },
        {
         "mode": "lines",
         "name": "Nucléaire (Rolling Mean)",
         "type": "scatter",
         "x": [
          "2012-01-31T00:00:00",
          "2012-02-29T00:00:00",
          "2012-03-31T00:00:00",
          "2012-04-30T00:00:00",
          "2012-05-31T00:00:00",
          "2012-06-30T00:00:00",
          "2012-07-31T00:00:00",
          "2012-08-31T00:00:00",
          "2012-09-30T00:00:00",
          "2012-10-31T00:00:00",
          "2012-11-30T00:00:00",
          "2012-12-31T00:00:00",
          "2013-01-31T00:00:00",
          "2013-02-28T00:00:00",
          "2013-03-31T00:00:00",
          "2013-04-30T00:00:00",
          "2013-05-31T00:00:00",
          "2013-06-30T00:00:00",
          "2013-07-31T00:00:00",
          "2013-08-31T00:00:00",
          "2013-09-30T00:00:00",
          "2013-10-31T00:00:00",
          "2013-11-30T00:00:00",
          "2013-12-31T00:00:00",
          "2014-01-31T00:00:00",
          "2014-02-28T00:00:00",
          "2014-03-31T00:00:00",
          "2014-04-30T00:00:00",
          "2014-05-31T00:00:00",
          "2014-06-30T00:00:00",
          "2014-07-31T00:00:00",
          "2014-08-31T00:00:00",
          "2014-09-30T00:00:00",
          "2014-10-31T00:00:00",
          "2014-11-30T00:00:00",
          "2014-12-31T00:00:00",
          "2015-01-31T00:00:00",
          "2015-02-28T00:00:00",
          "2015-03-31T00:00:00",
          "2015-04-30T00:00:00",
          "2015-05-31T00:00:00",
          "2015-06-30T00:00:00",
          "2015-07-31T00:00:00",
          "2015-08-31T00:00:00",
          "2015-09-30T00:00:00",
          "2015-10-31T00:00:00",
          "2015-11-30T00:00:00",
          "2015-12-31T00:00:00",
          "2016-01-31T00:00:00",
          "2016-02-29T00:00:00",
          "2016-03-31T00:00:00",
          "2016-04-30T00:00:00",
          "2016-05-31T00:00:00",
          "2016-06-30T00:00:00",
          "2016-07-31T00:00:00",
          "2016-08-31T00:00:00",
          "2016-09-30T00:00:00",
          "2016-10-31T00:00:00",
          "2016-11-30T00:00:00",
          "2016-12-31T00:00:00",
          "2017-01-31T00:00:00",
          "2017-02-28T00:00:00",
          "2017-03-31T00:00:00",
          "2017-04-30T00:00:00",
          "2017-05-31T00:00:00",
          "2017-06-30T00:00:00",
          "2017-07-31T00:00:00",
          "2017-08-31T00:00:00",
          "2017-09-30T00:00:00",
          "2017-10-31T00:00:00",
          "2017-11-30T00:00:00",
          "2017-12-31T00:00:00",
          "2018-01-31T00:00:00",
          "2018-02-28T00:00:00",
          "2018-03-31T00:00:00",
          "2018-04-30T00:00:00",
          "2018-05-31T00:00:00",
          "2018-06-30T00:00:00",
          "2018-07-31T00:00:00",
          "2018-08-31T00:00:00",
          "2018-09-30T00:00:00",
          "2018-10-31T00:00:00",
          "2018-11-30T00:00:00",
          "2018-12-31T00:00:00"
         ],
         "y": [
          null,
          null,
          null,
          null,
          null,
          null,
          null,
          null,
          null,
          null,
          null,
          0.788116180160806,
          0.7873507504139138,
          0.7836298087119743,
          0.782185890422029,
          0.7790618747895725,
          0.7831609727887795,
          0.787152418258232,
          0.7908115211210114,
          0.7939133575270608,
          0.7931897429760592,
          0.7898195428007582,
          0.7849893134701285,
          0.7860027414497894,
          0.7865433671553581,
          0.7858179788506767,
          0.7838740091053156,
          0.783312267841115,
          0.7843780132748622,
          0.7890079409111278,
          0.7942614018961268,
          0.7963679744952884,
          0.8005992858144936,
          0.8038871325837764,
          0.8071012171098388,
          0.8094480227773895,
          0.81160470172638,
          0.8137520648158466,
          0.8159397148093183,
          0.8158866346703711,
          0.8131885663568966,
          0.812654270059022,
          0.8124187942739779,
          0.8143729467875804,
          0.8118570043070402,
          0.8151306308511882,
          0.8139386109091863,
          0.8112986615198238,
          0.8069953578148589,
          0.8066457802836337,
          0.8071445411165201,
          0.8069068912412987,
          0.8051769934021468,
          0.8011457646149891,
          0.7915506864559213,
          0.7820599957951226,
          0.7739716195982572,
          0.7633498312491075,
          0.7545489739469072,
          0.7474978803302609,
          0.7453914674760765,
          0.7383342402367385,
          0.7326751945470763,
          0.734035869144972,
          0.7354051193207899,
          0.7319891151954421,
          0.7316447556754536,
          0.7345136264355214,
          0.7400983303193936,
          0.7382354603716018,
          0.7366722106355814,
          0.7381118723063174,
          0.7386646688258499,
          0.7439872253578148,
          0.7467437788399831,
          0.7444757420570113,
          0.7453458515185943,
          0.7487447142286453,
          0.7522565653403107,
          0.7497559087007896,
          0.751221983813883,
          0.7581414251660609,
          0.7626616226138139,
          0.765574828449382
         ]
        },
        {
         "mode": "lines",
         "name": "Eolien (Rolling Mean)",
         "type": "scatter",
         "x": [
          "2012-01-31T00:00:00",
          "2012-02-29T00:00:00",
          "2012-03-31T00:00:00",
          "2012-04-30T00:00:00",
          "2012-05-31T00:00:00",
          "2012-06-30T00:00:00",
          "2012-07-31T00:00:00",
          "2012-08-31T00:00:00",
          "2012-09-30T00:00:00",
          "2012-10-31T00:00:00",
          "2012-11-30T00:00:00",
          "2012-12-31T00:00:00",
          "2013-01-31T00:00:00",
          "2013-02-28T00:00:00",
          "2013-03-31T00:00:00",
          "2013-04-30T00:00:00",
          "2013-05-31T00:00:00",
          "2013-06-30T00:00:00",
          "2013-07-31T00:00:00",
          "2013-08-31T00:00:00",
          "2013-09-30T00:00:00",
          "2013-10-31T00:00:00",
          "2013-11-30T00:00:00",
          "2013-12-31T00:00:00",
          "2014-01-31T00:00:00",
          "2014-02-28T00:00:00",
          "2014-03-31T00:00:00",
          "2014-04-30T00:00:00",
          "2014-05-31T00:00:00",
          "2014-06-30T00:00:00",
          "2014-07-31T00:00:00",
          "2014-08-31T00:00:00",
          "2014-09-30T00:00:00",
          "2014-10-31T00:00:00",
          "2014-11-30T00:00:00",
          "2014-12-31T00:00:00",
          "2015-01-31T00:00:00",
          "2015-02-28T00:00:00",
          "2015-03-31T00:00:00",
          "2015-04-30T00:00:00",
          "2015-05-31T00:00:00",
          "2015-06-30T00:00:00",
          "2015-07-31T00:00:00",
          "2015-08-31T00:00:00",
          "2015-09-30T00:00:00",
          "2015-10-31T00:00:00",
          "2015-11-30T00:00:00",
          "2015-12-31T00:00:00",
          "2016-01-31T00:00:00",
          "2016-02-29T00:00:00",
          "2016-03-31T00:00:00",
          "2016-04-30T00:00:00",
          "2016-05-31T00:00:00",
          "2016-06-30T00:00:00",
          "2016-07-31T00:00:00",
          "2016-08-31T00:00:00",
          "2016-09-30T00:00:00",
          "2016-10-31T00:00:00",
          "2016-11-30T00:00:00",
          "2016-12-31T00:00:00",
          "2017-01-31T00:00:00",
          "2017-02-28T00:00:00",
          "2017-03-31T00:00:00",
          "2017-04-30T00:00:00",
          "2017-05-31T00:00:00",
          "2017-06-30T00:00:00",
          "2017-07-31T00:00:00",
          "2017-08-31T00:00:00",
          "2017-09-30T00:00:00",
          "2017-10-31T00:00:00",
          "2017-11-30T00:00:00",
          "2017-12-31T00:00:00",
          "2018-01-31T00:00:00",
          "2018-02-28T00:00:00",
          "2018-03-31T00:00:00",
          "2018-04-30T00:00:00",
          "2018-05-31T00:00:00",
          "2018-06-30T00:00:00",
          "2018-07-31T00:00:00",
          "2018-08-31T00:00:00",
          "2018-09-30T00:00:00",
          "2018-10-31T00:00:00",
          "2018-11-30T00:00:00",
          "2018-12-31T00:00:00"
         ],
         "y": [
          null,
          null,
          null,
          null,
          null,
          null,
          null,
          null,
          null,
          null,
          null,
          0.7833855162311574,
          0.7695690335004005,
          0.7874656069653733,
          0.8072351821754533,
          0.8030116370963579,
          0.8124524206251708,
          0.8212679503228485,
          0.8194773730602517,
          0.8105899584902315,
          0.8114599100038195,
          0.824910949493242,
          0.8510425593138246,
          0.8364580780566157,
          0.8821083099753494,
          0.9357634678082457,
          0.9327720057861145,
          0.909984790370045,
          0.9297444830528852,
          0.9192556522536314,
          0.9233685182843049,
          0.935838007295618,
          0.9243428934168386,
          0.9069582926861836,
          0.8909510429062535,
          0.8967328732911771,
          0.9022204356575462,
          0.8719977486761882,
          0.9096085972520056,
          0.930566467512716,
          0.933243397078788,
          0.9486972778999251,
          0.9719937851519654,
          0.9799464861149967,
          1.029529858741889,
          1.030270916868286,
          1.0849723347060585,
          1.1088546708135432,
          1.1377402728860144,
          1.1897991923031512,
          1.2132692220148644,
          1.2244233624205547,
          1.2223287134621152,
          1.2126068298566286,
          1.1925586777683193,
          1.1957365936421496,
          1.1599433415789355,
          1.1660535294447272,
          1.154491445673908,
          1.0995832044136629,
          1.057479643308052,
          1.0385677190191445,
          1.0493593073483845,
          1.039087103648892,
          1.0371742563950201,
          1.0584680537319315,
          1.0951174060006075,
          1.0980710200460757,
          1.1327705181503651,
          1.168670480481115,
          1.1693472496138193,
          1.2667284114352615,
          1.3697871640059012,
          1.3825077112624118,
          1.4070923638868484,
          1.443543250827898,
          1.4487911356253858,
          1.4433929891038828,
          1.4112635525982267,
          1.4198575139325236,
          1.4179623553510785,
          1.4391856608314548,
          1.464013329006048,
          1.4787456276387794
         ]
        },
        {
         "mode": "lines",
         "name": "Solaire (Rolling Mean)",
         "type": "scatter",
         "x": [
          "2012-01-31T00:00:00",
          "2012-02-29T00:00:00",
          "2012-03-31T00:00:00",
          "2012-04-30T00:00:00",
          "2012-05-31T00:00:00",
          "2012-06-30T00:00:00",
          "2012-07-31T00:00:00",
          "2012-08-31T00:00:00",
          "2012-09-30T00:00:00",
          "2012-10-31T00:00:00",
          "2012-11-30T00:00:00",
          "2012-12-31T00:00:00",
          "2013-01-31T00:00:00",
          "2013-02-28T00:00:00",
          "2013-03-31T00:00:00",
          "2013-04-30T00:00:00",
          "2013-05-31T00:00:00",
          "2013-06-30T00:00:00",
          "2013-07-31T00:00:00",
          "2013-08-31T00:00:00",
          "2013-09-30T00:00:00",
          "2013-10-31T00:00:00",
          "2013-11-30T00:00:00",
          "2013-12-31T00:00:00",
          "2014-01-31T00:00:00",
          "2014-02-28T00:00:00",
          "2014-03-31T00:00:00",
          "2014-04-30T00:00:00",
          "2014-05-31T00:00:00",
          "2014-06-30T00:00:00",
          "2014-07-31T00:00:00",
          "2014-08-31T00:00:00",
          "2014-09-30T00:00:00",
          "2014-10-31T00:00:00",
          "2014-11-30T00:00:00",
          "2014-12-31T00:00:00",
          "2015-01-31T00:00:00",
          "2015-02-28T00:00:00",
          "2015-03-31T00:00:00",
          "2015-04-30T00:00:00",
          "2015-05-31T00:00:00",
          "2015-06-30T00:00:00",
          "2015-07-31T00:00:00",
          "2015-08-31T00:00:00",
          "2015-09-30T00:00:00",
          "2015-10-31T00:00:00",
          "2015-11-30T00:00:00",
          "2015-12-31T00:00:00",
          "2016-01-31T00:00:00",
          "2016-02-29T00:00:00",
          "2016-03-31T00:00:00",
          "2016-04-30T00:00:00",
          "2016-05-31T00:00:00",
          "2016-06-30T00:00:00",
          "2016-07-31T00:00:00",
          "2016-08-31T00:00:00",
          "2016-09-30T00:00:00",
          "2016-10-31T00:00:00",
          "2016-11-30T00:00:00",
          "2016-12-31T00:00:00",
          "2017-01-31T00:00:00",
          "2017-02-28T00:00:00",
          "2017-03-31T00:00:00",
          "2017-04-30T00:00:00",
          "2017-05-31T00:00:00",
          "2017-06-30T00:00:00",
          "2017-07-31T00:00:00",
          "2017-08-31T00:00:00",
          "2017-09-30T00:00:00",
          "2017-10-31T00:00:00",
          "2017-11-30T00:00:00",
          "2017-12-31T00:00:00",
          "2018-01-31T00:00:00",
          "2018-02-28T00:00:00",
          "2018-03-31T00:00:00",
          "2018-04-30T00:00:00",
          "2018-05-31T00:00:00",
          "2018-06-30T00:00:00",
          "2018-07-31T00:00:00",
          "2018-08-31T00:00:00",
          "2018-09-30T00:00:00",
          "2018-10-31T00:00:00",
          "2018-11-30T00:00:00",
          "2018-12-31T00:00:00"
         ],
         "y": [
          null,
          null,
          null,
          null,
          null,
          null,
          null,
          null,
          null,
          null,
          null,
          2.70536214906484,
          2.7223356962633662,
          2.7375366883506977,
          2.740253986371672,
          2.8233784893267653,
          2.869761361230783,
          2.9438832724006336,
          3.043383080734396,
          3.1088124274099886,
          3.1568437719915554,
          3.19186720104358,
          3.1986992442056725,
          3.2515369057631465,
          3.2729405891877357,
          3.296091796685032,
          3.430625404072479,
          3.5384623361539735,
          3.66546553440552,
          3.80845462659412,
          3.8310955584925313,
          3.896601071042378,
          4.02368043516818,
          4.135970388996642,
          4.179795803939743,
          4.161522430671175,
          4.214158413575691,
          4.282224601362834,
          4.283644218831351,
          4.42243560586556,
          4.537051300755794,
          4.669766939576504,
          4.848664129234536,
          4.95818600779252,
          5.011434535967457,
          5.035773645034127,
          5.129021772712449,
          5.21098555065424,
          5.228448991034598,
          5.2645094202525415,
          5.362331076248835,
          5.371800318108741,
          5.432940775132593,
          5.402749051681227,
          5.490306193966233,
          5.641091024298702,
          5.716153744929426,
          5.868377502388675,
          5.862884262199413,
          5.907911882162453,
          5.971134921588484,
          5.985264585228541,
          6.003714963697843,
          6.180320740575456,
          6.293422772809713,
          6.450461786901472,
          6.459152921050674,
          6.449906455433308,
          6.448222224129349,
          6.437191045467809,
          6.497183292997604,
          6.432017844984924,
          6.375130876572665,
          6.456125595738716,
          6.522786469507904,
          6.5174462762396805,
          6.578197679408181,
          6.709436486958114,
          6.978084968217733,
          7.190425055640422,
          7.454778568281813,
          7.532803533524427,
          7.5592967422461,
          7.568529619585429
         ]
        },
        {
         "mode": "lines",
         "name": "Hydraulique (Rolling Mean)",
         "type": "scatter",
         "x": [
          "2012-01-31T00:00:00",
          "2012-02-29T00:00:00",
          "2012-03-31T00:00:00",
          "2012-04-30T00:00:00",
          "2012-05-31T00:00:00",
          "2012-06-30T00:00:00",
          "2012-07-31T00:00:00",
          "2012-08-31T00:00:00",
          "2012-09-30T00:00:00",
          "2012-10-31T00:00:00",
          "2012-11-30T00:00:00",
          "2012-12-31T00:00:00",
          "2013-01-31T00:00:00",
          "2013-02-28T00:00:00",
          "2013-03-31T00:00:00",
          "2013-04-30T00:00:00",
          "2013-05-31T00:00:00",
          "2013-06-30T00:00:00",
          "2013-07-31T00:00:00",
          "2013-08-31T00:00:00",
          "2013-09-30T00:00:00",
          "2013-10-31T00:00:00",
          "2013-11-30T00:00:00",
          "2013-12-31T00:00:00",
          "2014-01-31T00:00:00",
          "2014-02-28T00:00:00",
          "2014-03-31T00:00:00",
          "2014-04-30T00:00:00",
          "2014-05-31T00:00:00",
          "2014-06-30T00:00:00",
          "2014-07-31T00:00:00",
          "2014-08-31T00:00:00",
          "2014-09-30T00:00:00",
          "2014-10-31T00:00:00",
          "2014-11-30T00:00:00",
          "2014-12-31T00:00:00",
          "2015-01-31T00:00:00",
          "2015-02-28T00:00:00",
          "2015-03-31T00:00:00",
          "2015-04-30T00:00:00",
          "2015-05-31T00:00:00",
          "2015-06-30T00:00:00",
          "2015-07-31T00:00:00",
          "2015-08-31T00:00:00",
          "2015-09-30T00:00:00",
          "2015-10-31T00:00:00",
          "2015-11-30T00:00:00",
          "2015-12-31T00:00:00",
          "2016-01-31T00:00:00",
          "2016-02-29T00:00:00",
          "2016-03-31T00:00:00",
          "2016-04-30T00:00:00",
          "2016-05-31T00:00:00",
          "2016-06-30T00:00:00",
          "2016-07-31T00:00:00",
          "2016-08-31T00:00:00",
          "2016-09-30T00:00:00",
          "2016-10-31T00:00:00",
          "2016-11-30T00:00:00",
          "2016-12-31T00:00:00",
          "2017-01-31T00:00:00",
          "2017-02-28T00:00:00",
          "2017-03-31T00:00:00",
          "2017-04-30T00:00:00",
          "2017-05-31T00:00:00",
          "2017-06-30T00:00:00",
          "2017-07-31T00:00:00",
          "2017-08-31T00:00:00",
          "2017-09-30T00:00:00",
          "2017-10-31T00:00:00",
          "2017-11-30T00:00:00",
          "2017-12-31T00:00:00",
          "2018-01-31T00:00:00",
          "2018-02-28T00:00:00",
          "2018-03-31T00:00:00",
          "2018-04-30T00:00:00",
          "2018-05-31T00:00:00",
          "2018-06-30T00:00:00",
          "2018-07-31T00:00:00",
          "2018-08-31T00:00:00",
          "2018-09-30T00:00:00",
          "2018-10-31T00:00:00",
          "2018-11-30T00:00:00",
          "2018-12-31T00:00:00"
         ],
         "y": [
          null,
          null,
          null,
          null,
          null,
          null,
          null,
          null,
          null,
          null,
          null,
          0.7897013802325182,
          0.7913696787359271,
          0.8109102226564149,
          0.8419935593486424,
          0.865246273241584,
          0.8762141965883058,
          0.8826583314744129,
          0.9011033399970302,
          0.9132561926852086,
          0.9190469385444026,
          0.9229678460236092,
          0.9407125718681816,
          0.9303998821358458,
          0.9318710278896392,
          0.9344520232893626,
          0.941637127717068,
          0.9247937196582497,
          0.8953034148224718,
          0.8667305990714098,
          0.8642131671589347,
          0.8738080070102301,
          0.8696131845229838,
          0.8564128678820953,
          0.8386396631025498,
          0.8395397968625611,
          0.8299150385502578,
          0.8213397071807124,
          0.8144537499727985,
          0.813345794768057,
          0.8172529426217884,
          0.8245916151883432,
          0.7977677986426378,
          0.7742491899581356,
          0.7700920942700856,
          0.7713261295212989,
          0.7548703777224085,
          0.7293807899326206,
          0.7224002913849964,
          0.7294707447305059,
          0.731190242999722,
          0.7405604295455951,
          0.7414587997304211,
          0.760957279578465,
          0.776875708031815,
          0.7825799950849222,
          0.7817254650111544,
          0.7716191447340853,
          0.7799529286203725,
          0.7896774504490836,
          0.7839173272346286,
          0.7538659063675932,
          0.7495440628449955,
          0.7207679748007415,
          0.7104149721077185,
          0.6842533437697101,
          0.6665625845721546,
          0.6618616284701209,
          0.6582732826635125,
          0.65401990075571,
          0.6503527424566281,
          0.6607322673262911,
          0.6867411999654713,
          0.7199270485595878,
          0.7302074954014309,
          0.7644043274919485,
          0.7883610132378814,
          0.8189954733075604,
          0.8360540873927157,
          0.8409007035879794,
          0.8400764035609413,
          0.842300452589478,
          0.8419803169554655,
          0.8401587494355002
         ]
        },
        {
         "mode": "lines",
         "name": "Pompage (Rolling Mean)",
         "type": "scatter",
         "x": [
          "2012-01-31T00:00:00",
          "2012-02-29T00:00:00",
          "2012-03-31T00:00:00",
          "2012-04-30T00:00:00",
          "2012-05-31T00:00:00",
          "2012-06-30T00:00:00",
          "2012-07-31T00:00:00",
          "2012-08-31T00:00:00",
          "2012-09-30T00:00:00",
          "2012-10-31T00:00:00",
          "2012-11-30T00:00:00",
          "2012-12-31T00:00:00",
          "2013-01-31T00:00:00",
          "2013-02-28T00:00:00",
          "2013-03-31T00:00:00",
          "2013-04-30T00:00:00",
          "2013-05-31T00:00:00",
          "2013-06-30T00:00:00",
          "2013-07-31T00:00:00",
          "2013-08-31T00:00:00",
          "2013-09-30T00:00:00",
          "2013-10-31T00:00:00",
          "2013-11-30T00:00:00",
          "2013-12-31T00:00:00",
          "2014-01-31T00:00:00",
          "2014-02-28T00:00:00",
          "2014-03-31T00:00:00",
          "2014-04-30T00:00:00",
          "2014-05-31T00:00:00",
          "2014-06-30T00:00:00",
          "2014-07-31T00:00:00",
          "2014-08-31T00:00:00",
          "2014-09-30T00:00:00",
          "2014-10-31T00:00:00",
          "2014-11-30T00:00:00",
          "2014-12-31T00:00:00",
          "2015-01-31T00:00:00",
          "2015-02-28T00:00:00",
          "2015-03-31T00:00:00",
          "2015-04-30T00:00:00",
          "2015-05-31T00:00:00",
          "2015-06-30T00:00:00",
          "2015-07-31T00:00:00",
          "2015-08-31T00:00:00",
          "2015-09-30T00:00:00",
          "2015-10-31T00:00:00",
          "2015-11-30T00:00:00",
          "2015-12-31T00:00:00",
          "2016-01-31T00:00:00",
          "2016-02-29T00:00:00",
          "2016-03-31T00:00:00",
          "2016-04-30T00:00:00",
          "2016-05-31T00:00:00",
          "2016-06-30T00:00:00",
          "2016-07-31T00:00:00",
          "2016-08-31T00:00:00",
          "2016-09-30T00:00:00",
          "2016-10-31T00:00:00",
          "2016-11-30T00:00:00",
          "2016-12-31T00:00:00",
          "2017-01-31T00:00:00",
          "2017-02-28T00:00:00",
          "2017-03-31T00:00:00",
          "2017-04-30T00:00:00",
          "2017-05-31T00:00:00",
          "2017-06-30T00:00:00",
          "2017-07-31T00:00:00",
          "2017-08-31T00:00:00",
          "2017-09-30T00:00:00",
          "2017-10-31T00:00:00",
          "2017-11-30T00:00:00",
          "2017-12-31T00:00:00",
          "2018-01-31T00:00:00",
          "2018-02-28T00:00:00",
          "2018-03-31T00:00:00",
          "2018-04-30T00:00:00",
          "2018-05-31T00:00:00",
          "2018-06-30T00:00:00",
          "2018-07-31T00:00:00",
          "2018-08-31T00:00:00",
          "2018-09-30T00:00:00",
          "2018-10-31T00:00:00",
          "2018-11-30T00:00:00",
          "2018-12-31T00:00:00"
         ],
         "y": [
          null,
          null,
          null,
          null,
          null,
          null,
          null,
          null,
          null,
          null,
          null,
          0.9143996760935861,
          0.9132990238925952,
          0.9208843457316663,
          0.9430729844225655,
          0.9471539762892002,
          0.9511564036794068,
          0.9560834797644348,
          0.9614420812867729,
          0.9806088835504112,
          0.9646038074539359,
          0.9577263835728971,
          0.9701868594405884,
          0.9805464680600312,
          1.0048793786578816,
          1.0334497286834066,
          1.0412307462521406,
          1.0359487331699628,
          1.04312276690867,
          1.0457938228288608,
          1.0621635798254603,
          1.0676065376546657,
          1.077486378296199,
          1.09128756070179,
          1.102327470910702,
          1.0893127509395713,
          1.071568831066888,
          1.0415543392257371,
          1.0366442297969372,
          1.040318362610014,
          1.0420133247532477,
          1.041932988658097,
          1.022004799178841,
          1.0019632261013405,
          0.9766425017872907,
          0.9428960951070344,
          0.9211081829433455,
          0.9392099697979891,
          0.9545972960737387,
          0.9756261377539853,
          0.9654879133356827,
          0.9485476269712324,
          0.9332118820559826,
          0.9214124243893571,
          0.9154319846953948,
          0.9193953001953413,
          0.928655823814971,
          0.9477976871381298,
          0.9515439112053795,
          0.9201738584847318,
          0.8930396779905809,
          0.8959989626490987,
          0.9129232363058642,
          0.9367446942063434,
          0.9410600848578113,
          0.9420777435355677,
          0.9432678624820486,
          0.9396112414386525,
          0.9400490356806737,
          0.9509076956664297,
          0.9539931059501585,
          0.9758264669479998,
          1.0082626934437298,
          0.9877937514189985,
          0.9826692079855851,
          0.9950841668799423,
          0.993451756505452,
          0.99063501901492,
          0.98494096830138,
          0.9862167381991797,
          1.0031869376643687,
          1.0040636845144988,
          1.012655422066356,
          1.0084761734998
         ]
        },
        {
         "mode": "lines",
         "name": "Bioénergies (Rolling Mean)",
         "type": "scatter",
         "x": [
          "2012-01-31T00:00:00",
          "2012-02-29T00:00:00",
          "2012-03-31T00:00:00",
          "2012-04-30T00:00:00",
          "2012-05-31T00:00:00",
          "2012-06-30T00:00:00",
          "2012-07-31T00:00:00",
          "2012-08-31T00:00:00",
          "2012-09-30T00:00:00",
          "2012-10-31T00:00:00",
          "2012-11-30T00:00:00",
          "2012-12-31T00:00:00",
          "2013-01-31T00:00:00",
          "2013-02-28T00:00:00",
          "2013-03-31T00:00:00",
          "2013-04-30T00:00:00",
          "2013-05-31T00:00:00",
          "2013-06-30T00:00:00",
          "2013-07-31T00:00:00",
          "2013-08-31T00:00:00",
          "2013-09-30T00:00:00",
          "2013-10-31T00:00:00",
          "2013-11-30T00:00:00",
          "2013-12-31T00:00:00",
          "2014-01-31T00:00:00",
          "2014-02-28T00:00:00",
          "2014-03-31T00:00:00",
          "2014-04-30T00:00:00",
          "2014-05-31T00:00:00",
          "2014-06-30T00:00:00",
          "2014-07-31T00:00:00",
          "2014-08-31T00:00:00",
          "2014-09-30T00:00:00",
          "2014-10-31T00:00:00",
          "2014-11-30T00:00:00",
          "2014-12-31T00:00:00",
          "2015-01-31T00:00:00",
          "2015-02-28T00:00:00",
          "2015-03-31T00:00:00",
          "2015-04-30T00:00:00",
          "2015-05-31T00:00:00",
          "2015-06-30T00:00:00",
          "2015-07-31T00:00:00",
          "2015-08-31T00:00:00",
          "2015-09-30T00:00:00",
          "2015-10-31T00:00:00",
          "2015-11-30T00:00:00",
          "2015-12-31T00:00:00",
          "2016-01-31T00:00:00",
          "2016-02-29T00:00:00",
          "2016-03-31T00:00:00",
          "2016-04-30T00:00:00",
          "2016-05-31T00:00:00",
          "2016-06-30T00:00:00",
          "2016-07-31T00:00:00",
          "2016-08-31T00:00:00",
          "2016-09-30T00:00:00",
          "2016-10-31T00:00:00",
          "2016-11-30T00:00:00",
          "2016-12-31T00:00:00",
          "2017-01-31T00:00:00",
          "2017-02-28T00:00:00",
          "2017-03-31T00:00:00",
          "2017-04-30T00:00:00",
          "2017-05-31T00:00:00",
          "2017-06-30T00:00:00",
          "2017-07-31T00:00:00",
          "2017-08-31T00:00:00",
          "2017-09-30T00:00:00",
          "2017-10-31T00:00:00",
          "2017-11-30T00:00:00",
          "2017-12-31T00:00:00",
          "2018-01-31T00:00:00",
          "2018-02-28T00:00:00",
          "2018-03-31T00:00:00",
          "2018-04-30T00:00:00",
          "2018-05-31T00:00:00",
          "2018-06-30T00:00:00",
          "2018-07-31T00:00:00",
          "2018-08-31T00:00:00",
          "2018-09-30T00:00:00",
          "2018-10-31T00:00:00",
          "2018-11-30T00:00:00",
          "2018-12-31T00:00:00"
         ],
         "y": [
          null,
          null,
          null,
          null,
          null,
          null,
          null,
          null,
          null,
          null,
          null,
          0.9360381365514095,
          0.9413277162622099,
          0.9470217687166474,
          0.9471853540451606,
          0.9504306784717538,
          0.9544829436634581,
          0.9595942634795113,
          0.9628729464828994,
          0.9710258307648832,
          0.9722783811724193,
          0.9797144569977473,
          0.9860757611769676,
          0.9946356040580709,
          1.0156066818512344,
          1.0380246879128725,
          1.0615549940195128,
          1.080482377850675,
          1.099247298997735,
          1.1090394846869698,
          1.1191962090543517,
          1.1279541184851742,
          1.1391656474659189,
          1.1564155599798438,
          1.1793699495034544,
          1.2044423680868759,
          1.205926343620926,
          1.2056220267965598,
          1.2070774550870065,
          1.212842715272679,
          1.2165851306068471,
          1.2275444655394674,
          1.2359863505684912,
          1.2467310198518815,
          1.2603633711279594,
          1.262047177367232,
          1.2652796715719812,
          1.2696006497224341,
          1.2826460985380284,
          1.2963707472224975,
          1.308623929839215,
          1.3250984960093197,
          1.336564384138125,
          1.3441805642025904,
          1.3587776679724624,
          1.3675954785015199,
          1.3732974696557234,
          1.3806584084943765,
          1.3888097691875165,
          1.3971093189429566,
          1.4057851951428628,
          1.4080053848441079,
          1.410303357765283,
          1.419325649954982,
          1.4245300690682916,
          1.4419641754545667,
          1.4538474467377398,
          1.4643201955069205,
          1.4786547608623064,
          1.4945129952505727,
          1.5092351936834252,
          1.5137460591171716,
          1.5100495118260966,
          1.5173180730674718,
          1.521634961584712,
          1.5296208926049486,
          1.541467196811433,
          1.5371900017930236,
          1.5359462721630053,
          1.539951787233865,
          1.543187328616302,
          1.5433376827785388,
          1.5307659097156534,
          1.530963414943167
         ]
        }
       ],
       "layout": {
        "legend": {
         "title": {
          "text": "Source"
         },
         "tracegroupgap": 0
        },
        "template": {
         "data": {
          "bar": [
           {
            "error_x": {
             "color": "#f2f5fa"
            },
            "error_y": {
             "color": "#f2f5fa"
            },
            "marker": {
             "line": {
              "color": "rgb(17,17,17)",
              "width": 0.5
             },
             "pattern": {
              "fillmode": "overlay",
              "size": 10,
              "solidity": 0.2
             }
            },
            "type": "bar"
           }
          ],
          "barpolar": [
           {
            "marker": {
             "line": {
              "color": "rgb(17,17,17)",
              "width": 0.5
             },
             "pattern": {
              "fillmode": "overlay",
              "size": 10,
              "solidity": 0.2
             }
            },
            "type": "barpolar"
           }
          ],
          "carpet": [
           {
            "aaxis": {
             "endlinecolor": "#A2B1C6",
             "gridcolor": "#506784",
             "linecolor": "#506784",
             "minorgridcolor": "#506784",
             "startlinecolor": "#A2B1C6"
            },
            "baxis": {
             "endlinecolor": "#A2B1C6",
             "gridcolor": "#506784",
             "linecolor": "#506784",
             "minorgridcolor": "#506784",
             "startlinecolor": "#A2B1C6"
            },
            "type": "carpet"
           }
          ],
          "choropleth": [
           {
            "colorbar": {
             "outlinewidth": 0,
             "ticks": ""
            },
            "type": "choropleth"
           }
          ],
          "contour": [
           {
            "colorbar": {
             "outlinewidth": 0,
             "ticks": ""
            },
            "colorscale": [
             [
              0,
              "#0d0887"
             ],
             [
              0.1111111111111111,
              "#46039f"
             ],
             [
              0.2222222222222222,
              "#7201a8"
             ],
             [
              0.3333333333333333,
              "#9c179e"
             ],
             [
              0.4444444444444444,
              "#bd3786"
             ],
             [
              0.5555555555555556,
              "#d8576b"
             ],
             [
              0.6666666666666666,
              "#ed7953"
             ],
             [
              0.7777777777777778,
              "#fb9f3a"
             ],
             [
              0.8888888888888888,
              "#fdca26"
             ],
             [
              1,
              "#f0f921"
             ]
            ],
            "type": "contour"
           }
          ],
          "contourcarpet": [
           {
            "colorbar": {
             "outlinewidth": 0,
             "ticks": ""
            },
            "type": "contourcarpet"
           }
          ],
          "heatmap": [
           {
            "colorbar": {
             "outlinewidth": 0,
             "ticks": ""
            },
            "colorscale": [
             [
              0,
              "#0d0887"
             ],
             [
              0.1111111111111111,
              "#46039f"
             ],
             [
              0.2222222222222222,
              "#7201a8"
             ],
             [
              0.3333333333333333,
              "#9c179e"
             ],
             [
              0.4444444444444444,
              "#bd3786"
             ],
             [
              0.5555555555555556,
              "#d8576b"
             ],
             [
              0.6666666666666666,
              "#ed7953"
             ],
             [
              0.7777777777777778,
              "#fb9f3a"
             ],
             [
              0.8888888888888888,
              "#fdca26"
             ],
             [
              1,
              "#f0f921"
             ]
            ],
            "type": "heatmap"
           }
          ],
          "heatmapgl": [
           {
            "colorbar": {
             "outlinewidth": 0,
             "ticks": ""
            },
            "colorscale": [
             [
              0,
              "#0d0887"
             ],
             [
              0.1111111111111111,
              "#46039f"
             ],
             [
              0.2222222222222222,
              "#7201a8"
             ],
             [
              0.3333333333333333,
              "#9c179e"
             ],
             [
              0.4444444444444444,
              "#bd3786"
             ],
             [
              0.5555555555555556,
              "#d8576b"
             ],
             [
              0.6666666666666666,
              "#ed7953"
             ],
             [
              0.7777777777777778,
              "#fb9f3a"
             ],
             [
              0.8888888888888888,
              "#fdca26"
             ],
             [
              1,
              "#f0f921"
             ]
            ],
            "type": "heatmapgl"
           }
          ],
          "histogram": [
           {
            "marker": {
             "pattern": {
              "fillmode": "overlay",
              "size": 10,
              "solidity": 0.2
             }
            },
            "type": "histogram"
           }
          ],
          "histogram2d": [
           {
            "colorbar": {
             "outlinewidth": 0,
             "ticks": ""
            },
            "colorscale": [
             [
              0,
              "#0d0887"
             ],
             [
              0.1111111111111111,
              "#46039f"
             ],
             [
              0.2222222222222222,
              "#7201a8"
             ],
             [
              0.3333333333333333,
              "#9c179e"
             ],
             [
              0.4444444444444444,
              "#bd3786"
             ],
             [
              0.5555555555555556,
              "#d8576b"
             ],
             [
              0.6666666666666666,
              "#ed7953"
             ],
             [
              0.7777777777777778,
              "#fb9f3a"
             ],
             [
              0.8888888888888888,
              "#fdca26"
             ],
             [
              1,
              "#f0f921"
             ]
            ],
            "type": "histogram2d"
           }
          ],
          "histogram2dcontour": [
           {
            "colorbar": {
             "outlinewidth": 0,
             "ticks": ""
            },
            "colorscale": [
             [
              0,
              "#0d0887"
             ],
             [
              0.1111111111111111,
              "#46039f"
             ],
             [
              0.2222222222222222,
              "#7201a8"
             ],
             [
              0.3333333333333333,
              "#9c179e"
             ],
             [
              0.4444444444444444,
              "#bd3786"
             ],
             [
              0.5555555555555556,
              "#d8576b"
             ],
             [
              0.6666666666666666,
              "#ed7953"
             ],
             [
              0.7777777777777778,
              "#fb9f3a"
             ],
             [
              0.8888888888888888,
              "#fdca26"
             ],
             [
              1,
              "#f0f921"
             ]
            ],
            "type": "histogram2dcontour"
           }
          ],
          "mesh3d": [
           {
            "colorbar": {
             "outlinewidth": 0,
             "ticks": ""
            },
            "type": "mesh3d"
           }
          ],
          "parcoords": [
           {
            "line": {
             "colorbar": {
              "outlinewidth": 0,
              "ticks": ""
             }
            },
            "type": "parcoords"
           }
          ],
          "pie": [
           {
            "automargin": true,
            "type": "pie"
           }
          ],
          "scatter": [
           {
            "marker": {
             "line": {
              "color": "#283442"
             }
            },
            "type": "scatter"
           }
          ],
          "scatter3d": [
           {
            "line": {
             "colorbar": {
              "outlinewidth": 0,
              "ticks": ""
             }
            },
            "marker": {
             "colorbar": {
              "outlinewidth": 0,
              "ticks": ""
             }
            },
            "type": "scatter3d"
           }
          ],
          "scattercarpet": [
           {
            "marker": {
             "colorbar": {
              "outlinewidth": 0,
              "ticks": ""
             }
            },
            "type": "scattercarpet"
           }
          ],
          "scattergeo": [
           {
            "marker": {
             "colorbar": {
              "outlinewidth": 0,
              "ticks": ""
             }
            },
            "type": "scattergeo"
           }
          ],
          "scattergl": [
           {
            "marker": {
             "line": {
              "color": "#283442"
             }
            },
            "type": "scattergl"
           }
          ],
          "scattermapbox": [
           {
            "marker": {
             "colorbar": {
              "outlinewidth": 0,
              "ticks": ""
             }
            },
            "type": "scattermapbox"
           }
          ],
          "scatterpolar": [
           {
            "marker": {
             "colorbar": {
              "outlinewidth": 0,
              "ticks": ""
             }
            },
            "type": "scatterpolar"
           }
          ],
          "scatterpolargl": [
           {
            "marker": {
             "colorbar": {
              "outlinewidth": 0,
              "ticks": ""
             }
            },
            "type": "scatterpolargl"
           }
          ],
          "scatterternary": [
           {
            "marker": {
             "colorbar": {
              "outlinewidth": 0,
              "ticks": ""
             }
            },
            "type": "scatterternary"
           }
          ],
          "surface": [
           {
            "colorbar": {
             "outlinewidth": 0,
             "ticks": ""
            },
            "colorscale": [
             [
              0,
              "#0d0887"
             ],
             [
              0.1111111111111111,
              "#46039f"
             ],
             [
              0.2222222222222222,
              "#7201a8"
             ],
             [
              0.3333333333333333,
              "#9c179e"
             ],
             [
              0.4444444444444444,
              "#bd3786"
             ],
             [
              0.5555555555555556,
              "#d8576b"
             ],
             [
              0.6666666666666666,
              "#ed7953"
             ],
             [
              0.7777777777777778,
              "#fb9f3a"
             ],
             [
              0.8888888888888888,
              "#fdca26"
             ],
             [
              1,
              "#f0f921"
             ]
            ],
            "type": "surface"
           }
          ],
          "table": [
           {
            "cells": {
             "fill": {
              "color": "#506784"
             },
             "line": {
              "color": "rgb(17,17,17)"
             }
            },
            "header": {
             "fill": {
              "color": "#2a3f5f"
             },
             "line": {
              "color": "rgb(17,17,17)"
             }
            },
            "type": "table"
           }
          ]
         },
         "layout": {
          "annotationdefaults": {
           "arrowcolor": "#f2f5fa",
           "arrowhead": 0,
           "arrowwidth": 1
          },
          "autotypenumbers": "strict",
          "coloraxis": {
           "colorbar": {
            "outlinewidth": 0,
            "ticks": ""
           }
          },
          "colorscale": {
           "diverging": [
            [
             0,
             "#8e0152"
            ],
            [
             0.1,
             "#c51b7d"
            ],
            [
             0.2,
             "#de77ae"
            ],
            [
             0.3,
             "#f1b6da"
            ],
            [
             0.4,
             "#fde0ef"
            ],
            [
             0.5,
             "#f7f7f7"
            ],
            [
             0.6,
             "#e6f5d0"
            ],
            [
             0.7,
             "#b8e186"
            ],
            [
             0.8,
             "#7fbc41"
            ],
            [
             0.9,
             "#4d9221"
            ],
            [
             1,
             "#276419"
            ]
           ],
           "sequential": [
            [
             0,
             "#0d0887"
            ],
            [
             0.1111111111111111,
             "#46039f"
            ],
            [
             0.2222222222222222,
             "#7201a8"
            ],
            [
             0.3333333333333333,
             "#9c179e"
            ],
            [
             0.4444444444444444,
             "#bd3786"
            ],
            [
             0.5555555555555556,
             "#d8576b"
            ],
            [
             0.6666666666666666,
             "#ed7953"
            ],
            [
             0.7777777777777778,
             "#fb9f3a"
            ],
            [
             0.8888888888888888,
             "#fdca26"
            ],
            [
             1,
             "#f0f921"
            ]
           ],
           "sequentialminus": [
            [
             0,
             "#0d0887"
            ],
            [
             0.1111111111111111,
             "#46039f"
            ],
            [
             0.2222222222222222,
             "#7201a8"
            ],
            [
             0.3333333333333333,
             "#9c179e"
            ],
            [
             0.4444444444444444,
             "#bd3786"
            ],
            [
             0.5555555555555556,
             "#d8576b"
            ],
            [
             0.6666666666666666,
             "#ed7953"
            ],
            [
             0.7777777777777778,
             "#fb9f3a"
            ],
            [
             0.8888888888888888,
             "#fdca26"
            ],
            [
             1,
             "#f0f921"
            ]
           ]
          },
          "colorway": [
           "#636efa",
           "#EF553B",
           "#00cc96",
           "#ab63fa",
           "#FFA15A",
           "#19d3f3",
           "#FF6692",
           "#B6E880",
           "#FF97FF",
           "#FECB52"
          ],
          "font": {
           "color": "#f2f5fa"
          },
          "geo": {
           "bgcolor": "rgb(17,17,17)",
           "lakecolor": "rgb(17,17,17)",
           "landcolor": "rgb(17,17,17)",
           "showlakes": true,
           "showland": true,
           "subunitcolor": "#506784"
          },
          "hoverlabel": {
           "align": "left"
          },
          "hovermode": "closest",
          "mapbox": {
           "style": "dark"
          },
          "paper_bgcolor": "rgb(17,17,17)",
          "plot_bgcolor": "rgb(17,17,17)",
          "polar": {
           "angularaxis": {
            "gridcolor": "#506784",
            "linecolor": "#506784",
            "ticks": ""
           },
           "bgcolor": "rgb(17,17,17)",
           "radialaxis": {
            "gridcolor": "#506784",
            "linecolor": "#506784",
            "ticks": ""
           }
          },
          "scene": {
           "xaxis": {
            "backgroundcolor": "rgb(17,17,17)",
            "gridcolor": "#506784",
            "gridwidth": 2,
            "linecolor": "#506784",
            "showbackground": true,
            "ticks": "",
            "zerolinecolor": "#C8D4E3"
           },
           "yaxis": {
            "backgroundcolor": "rgb(17,17,17)",
            "gridcolor": "#506784",
            "gridwidth": 2,
            "linecolor": "#506784",
            "showbackground": true,
            "ticks": "",
            "zerolinecolor": "#C8D4E3"
           },
           "zaxis": {
            "backgroundcolor": "rgb(17,17,17)",
            "gridcolor": "#506784",
            "gridwidth": 2,
            "linecolor": "#506784",
            "showbackground": true,
            "ticks": "",
            "zerolinecolor": "#C8D4E3"
           }
          },
          "shapedefaults": {
           "line": {
            "color": "#f2f5fa"
           }
          },
          "sliderdefaults": {
           "bgcolor": "#C8D4E3",
           "bordercolor": "rgb(17,17,17)",
           "borderwidth": 1,
           "tickwidth": 0
          },
          "ternary": {
           "aaxis": {
            "gridcolor": "#506784",
            "linecolor": "#506784",
            "ticks": ""
           },
           "baxis": {
            "gridcolor": "#506784",
            "linecolor": "#506784",
            "ticks": ""
           },
           "bgcolor": "rgb(17,17,17)",
           "caxis": {
            "gridcolor": "#506784",
            "linecolor": "#506784",
            "ticks": ""
           }
          },
          "title": {
           "x": 0.05
          },
          "updatemenudefaults": {
           "bgcolor": "#506784",
           "borderwidth": 0
          },
          "xaxis": {
           "automargin": true,
           "gridcolor": "#283442",
           "linecolor": "#506784",
           "ticks": "",
           "title": {
            "standoff": 15
           },
           "zerolinecolor": "#283442",
           "zerolinewidth": 2
          },
          "yaxis": {
           "automargin": true,
           "gridcolor": "#283442",
           "linecolor": "#506784",
           "ticks": "",
           "title": {
            "standoff": 15
           },
           "zerolinecolor": "#283442",
           "zerolinewidth": 2
          }
         }
        },
        "title": {
         "text": "Relative Monthly Energy Consumption Over Time (Month 1 as Base)"
        },
        "xaxis": {
         "anchor": "y",
         "domain": [
          0,
          1
         ],
         "title": {
          "text": "Month"
         }
        },
        "yaxis": {
         "anchor": "x",
         "domain": [
          0,
          1
         ],
         "title": {
          "text": "Relative Consumption(Year base=2013)"
         }
        }
       }
      }
     },
     "metadata": {},
     "output_type": "display_data"
    }
   ],
   "source": [
    "base_month_consumption = df_data_nationales_clean.iloc[0, :]\n",
    "relative_consumption = df_data_nationales_clean.div(base_month_consumption)\n",
    "\n",
    "fig = px.line(relative_consumption, x=df_data_nationales_clean.index, y=relative_consumption.columns,\n",
    "              labels={'index': 'Month', 'value': 'Relative Consumption'},\n",
    "              title='Relative Monthly Energy Consumption Over Time (Month 1 as Base)',\n",
    "              template='plotly_dark')\n",
    "\n",
    "for source in relative_consumption.columns:\n",
    "    rolling_mean = relative_consumption[source].rolling(window=12).mean()\n",
    "    fig.add_scatter(x=df_data_nationales_clean.index, y=rolling_mean, mode='lines', name=f'{source} (Rolling Mean)')\n",
    "\n",
    "fig.update_layout(xaxis_title='Month', yaxis_title='Relative Consumption(Year base=2013)', legend_title='Source')\n",
    "fig.show()\n"
   ]
  },
  {
   "cell_type": "code",
   "execution_count": 14,
   "metadata": {},
   "outputs": [],
   "source": [
    "#Normalisation: Option 1\n",
    "# from sklearn.preprocessing import StandardScaler\n",
    "\n",
    "# scaler = StandardScaler().set_output(transform=\"pandas\")\n",
    "# df_data_nationales_norm = scaler.fit_transform(df_data_nationales_clean)\n",
    "# print(type(df_data_nationales_norm))\n",
    "# df_data_nationales_norm"
   ]
  },
  {
   "cell_type": "code",
   "execution_count": 15,
   "metadata": {},
   "outputs": [],
   "source": [
    "# #Normalisation: Option 2\n",
    "\n",
    "from sklearn.preprocessing import MinMaxScaler\n",
    "import pandas as pd\n",
    "\n",
    "scaler = MinMaxScaler()\n",
    "df_data_nationales_norm_minmax = pd.DataFrame(scaler.fit_transform(df_data_nationales_clean), columns=df_data_nationales_clean.columns)\n"
   ]
  },
  {
   "cell_type": "code",
   "execution_count": 16,
   "metadata": {},
   "outputs": [],
   "source": [
    "df_data_nationales_norm_minmax.index=df_data_nationales_clean.index"
   ]
  },
  {
   "cell_type": "code",
   "execution_count": 17,
   "metadata": {},
   "outputs": [
    {
     "data": {
      "text/plain": [
       "Index(['Consommation', 'Fioul', 'Charbon', 'Gaz', 'Nucléaire', 'Eolien',\n",
       "       'Solaire', 'Hydraulique', 'Pompage', 'Bioénergies'],\n",
       "      dtype='object')"
      ]
     },
     "execution_count": 17,
     "metadata": {},
     "output_type": "execute_result"
    }
   ],
   "source": [
    "df_data_nationales_norm_minmax.columns"
   ]
  },
  {
   "cell_type": "code",
   "execution_count": 18,
   "metadata": {},
   "outputs": [
    {
     "data": {
      "text/html": [
       "<div>\n",
       "<style scoped>\n",
       "    .dataframe tbody tr th:only-of-type {\n",
       "        vertical-align: middle;\n",
       "    }\n",
       "\n",
       "    .dataframe tbody tr th {\n",
       "        vertical-align: top;\n",
       "    }\n",
       "\n",
       "    .dataframe thead th {\n",
       "        text-align: right;\n",
       "    }\n",
       "</style>\n",
       "<table border=\"1\" class=\"dataframe\">\n",
       "  <thead>\n",
       "    <tr style=\"text-align: right;\">\n",
       "      <th></th>\n",
       "      <th>Consommation</th>\n",
       "      <th>Fioul</th>\n",
       "      <th>Charbon</th>\n",
       "      <th>Gaz</th>\n",
       "      <th>Nucléaire</th>\n",
       "      <th>Eolien</th>\n",
       "      <th>Solaire</th>\n",
       "      <th>Hydraulique</th>\n",
       "      <th>Pompage</th>\n",
       "      <th>Bioénergies</th>\n",
       "    </tr>\n",
       "    <tr>\n",
       "      <th>DateTime</th>\n",
       "      <th></th>\n",
       "      <th></th>\n",
       "      <th></th>\n",
       "      <th></th>\n",
       "      <th></th>\n",
       "      <th></th>\n",
       "      <th></th>\n",
       "      <th></th>\n",
       "      <th></th>\n",
       "      <th></th>\n",
       "    </tr>\n",
       "  </thead>\n",
       "  <tbody>\n",
       "    <tr>\n",
       "      <th>2012-01-31</th>\n",
       "      <td>0.760939</td>\n",
       "      <td>0.395978</td>\n",
       "      <td>0.264812</td>\n",
       "      <td>0.674385</td>\n",
       "      <td>0.942698</td>\n",
       "      <td>0.261843</td>\n",
       "      <td>0.000000</td>\n",
       "      <td>0.685342</td>\n",
       "      <td>0.485291</td>\n",
       "      <td>0.238350</td>\n",
       "    </tr>\n",
       "    <tr>\n",
       "      <th>2012-02-29</th>\n",
       "      <td>0.889888</td>\n",
       "      <td>1.000000</td>\n",
       "      <td>0.909174</td>\n",
       "      <td>0.842396</td>\n",
       "      <td>0.704414</td>\n",
       "      <td>0.120193</td>\n",
       "      <td>0.065022</td>\n",
       "      <td>0.429109</td>\n",
       "      <td>0.974199</td>\n",
       "      <td>0.112817</td>\n",
       "    </tr>\n",
       "    <tr>\n",
       "      <th>2012-03-31</th>\n",
       "      <td>0.463166</td>\n",
       "      <td>0.386935</td>\n",
       "      <td>0.514283</td>\n",
       "      <td>0.528641</td>\n",
       "      <td>0.641211</td>\n",
       "      <td>0.075655</td>\n",
       "      <td>0.163887</td>\n",
       "      <td>0.199038</td>\n",
       "      <td>0.922598</td>\n",
       "      <td>0.283511</td>\n",
       "    </tr>\n",
       "    <tr>\n",
       "      <th>2012-04-30</th>\n",
       "      <td>0.349394</td>\n",
       "      <td>0.299764</td>\n",
       "      <td>0.582241</td>\n",
       "      <td>0.180566</td>\n",
       "      <td>0.382192</td>\n",
       "      <td>0.256738</td>\n",
       "      <td>0.144519</td>\n",
       "      <td>0.439142</td>\n",
       "      <td>0.731803</td>\n",
       "      <td>0.000000</td>\n",
       "    </tr>\n",
       "    <tr>\n",
       "      <th>2012-05-31</th>\n",
       "      <td>0.162897</td>\n",
       "      <td>0.207607</td>\n",
       "      <td>0.295278</td>\n",
       "      <td>0.034463</td>\n",
       "      <td>0.148500</td>\n",
       "      <td>0.074804</td>\n",
       "      <td>0.234420</td>\n",
       "      <td>0.848024</td>\n",
       "      <td>0.396462</td>\n",
       "      <td>0.134298</td>\n",
       "    </tr>\n",
       "    <tr>\n",
       "      <th>...</th>\n",
       "      <td>...</td>\n",
       "      <td>...</td>\n",
       "      <td>...</td>\n",
       "      <td>...</td>\n",
       "      <td>...</td>\n",
       "      <td>...</td>\n",
       "      <td>...</td>\n",
       "      <td>...</td>\n",
       "      <td>...</td>\n",
       "      <td>...</td>\n",
       "    </tr>\n",
       "    <tr>\n",
       "      <th>2018-08-31</th>\n",
       "      <td>0.054940</td>\n",
       "      <td>0.018730</td>\n",
       "      <td>0.168125</td>\n",
       "      <td>0.256962</td>\n",
       "      <td>0.047438</td>\n",
       "      <td>0.206881</td>\n",
       "      <td>0.917987</td>\n",
       "      <td>0.200140</td>\n",
       "      <td>0.712480</td>\n",
       "      <td>0.873819</td>\n",
       "    </tr>\n",
       "    <tr>\n",
       "      <th>2018-09-30</th>\n",
       "      <td>0.065634</td>\n",
       "      <td>0.073612</td>\n",
       "      <td>0.112790</td>\n",
       "      <td>0.212430</td>\n",
       "      <td>0.209135</td>\n",
       "      <td>0.270474</td>\n",
       "      <td>0.802404</td>\n",
       "      <td>0.050706</td>\n",
       "      <td>0.471096</td>\n",
       "      <td>0.819937</td>\n",
       "    </tr>\n",
       "    <tr>\n",
       "      <th>2018-10-31</th>\n",
       "      <td>0.231794</td>\n",
       "      <td>0.213122</td>\n",
       "      <td>0.272168</td>\n",
       "      <td>0.397885</td>\n",
       "      <td>0.294363</td>\n",
       "      <td>0.538276</td>\n",
       "      <td>0.525221</td>\n",
       "      <td>0.030817</td>\n",
       "      <td>0.291420</td>\n",
       "      <td>0.780887</td>\n",
       "    </tr>\n",
       "    <tr>\n",
       "      <th>2018-11-30</th>\n",
       "      <td>0.484315</td>\n",
       "      <td>0.268233</td>\n",
       "      <td>0.168363</td>\n",
       "      <td>0.791900</td>\n",
       "      <td>0.357062</td>\n",
       "      <td>0.634517</td>\n",
       "      <td>0.277117</td>\n",
       "      <td>0.203340</td>\n",
       "      <td>0.332453</td>\n",
       "      <td>0.828930</td>\n",
       "    </tr>\n",
       "    <tr>\n",
       "      <th>2018-12-31</th>\n",
       "      <td>0.627400</td>\n",
       "      <td>0.205857</td>\n",
       "      <td>0.066002</td>\n",
       "      <td>0.653430</td>\n",
       "      <td>0.716701</td>\n",
       "      <td>0.895241</td>\n",
       "      <td>0.126261</td>\n",
       "      <td>0.414095</td>\n",
       "      <td>0.349378</td>\n",
       "      <td>0.944316</td>\n",
       "    </tr>\n",
       "  </tbody>\n",
       "</table>\n",
       "<p>84 rows × 10 columns</p>\n",
       "</div>"
      ],
      "text/plain": [
       "            Consommation     Fioul   Charbon       Gaz  Nucléaire    Eolien  \\\n",
       "DateTime                                                                      \n",
       "2012-01-31      0.760939  0.395978  0.264812  0.674385   0.942698  0.261843   \n",
       "2012-02-29      0.889888  1.000000  0.909174  0.842396   0.704414  0.120193   \n",
       "2012-03-31      0.463166  0.386935  0.514283  0.528641   0.641211  0.075655   \n",
       "2012-04-30      0.349394  0.299764  0.582241  0.180566   0.382192  0.256738   \n",
       "2012-05-31      0.162897  0.207607  0.295278  0.034463   0.148500  0.074804   \n",
       "...                  ...       ...       ...       ...        ...       ...   \n",
       "2018-08-31      0.054940  0.018730  0.168125  0.256962   0.047438  0.206881   \n",
       "2018-09-30      0.065634  0.073612  0.112790  0.212430   0.209135  0.270474   \n",
       "2018-10-31      0.231794  0.213122  0.272168  0.397885   0.294363  0.538276   \n",
       "2018-11-30      0.484315  0.268233  0.168363  0.791900   0.357062  0.634517   \n",
       "2018-12-31      0.627400  0.205857  0.066002  0.653430   0.716701  0.895241   \n",
       "\n",
       "             Solaire  Hydraulique   Pompage  Bioénergies  \n",
       "DateTime                                                  \n",
       "2012-01-31  0.000000     0.685342  0.485291     0.238350  \n",
       "2012-02-29  0.065022     0.429109  0.974199     0.112817  \n",
       "2012-03-31  0.163887     0.199038  0.922598     0.283511  \n",
       "2012-04-30  0.144519     0.439142  0.731803     0.000000  \n",
       "2012-05-31  0.234420     0.848024  0.396462     0.134298  \n",
       "...              ...          ...       ...          ...  \n",
       "2018-08-31  0.917987     0.200140  0.712480     0.873819  \n",
       "2018-09-30  0.802404     0.050706  0.471096     0.819937  \n",
       "2018-10-31  0.525221     0.030817  0.291420     0.780887  \n",
       "2018-11-30  0.277117     0.203340  0.332453     0.828930  \n",
       "2018-12-31  0.126261     0.414095  0.349378     0.944316  \n",
       "\n",
       "[84 rows x 10 columns]"
      ]
     },
     "execution_count": 18,
     "metadata": {},
     "output_type": "execute_result"
    }
   ],
   "source": [
    "df_data_nationales_norm_minmax"
   ]
  },
  {
   "cell_type": "code",
   "execution_count": 19,
   "metadata": {},
   "outputs": [
    {
     "data": {
      "application/vnd.plotly.v1+json": {
       "config": {
        "plotlyServerURL": "https://plot.ly"
       },
       "data": [
        {
         "hovertemplate": "variable=Consommation<br>DateTime=%{x}<br>Relative Consumption=%{y}<extra></extra>",
         "legendgroup": "Consommation",
         "line": {
          "color": "#636efa",
          "dash": "solid"
         },
         "marker": {
          "symbol": "circle"
         },
         "mode": "lines",
         "name": "Consommation",
         "orientation": "v",
         "showlegend": true,
         "type": "scatter",
         "x": [
          "2012-01-31T00:00:00",
          "2012-02-29T00:00:00",
          "2012-03-31T00:00:00",
          "2012-04-30T00:00:00",
          "2012-05-31T00:00:00",
          "2012-06-30T00:00:00",
          "2012-07-31T00:00:00",
          "2012-08-31T00:00:00",
          "2012-09-30T00:00:00",
          "2012-10-31T00:00:00",
          "2012-11-30T00:00:00",
          "2012-12-31T00:00:00",
          "2013-01-31T00:00:00",
          "2013-02-28T00:00:00",
          "2013-03-31T00:00:00",
          "2013-04-30T00:00:00",
          "2013-05-31T00:00:00",
          "2013-06-30T00:00:00",
          "2013-07-31T00:00:00",
          "2013-08-31T00:00:00",
          "2013-09-30T00:00:00",
          "2013-10-31T00:00:00",
          "2013-11-30T00:00:00",
          "2013-12-31T00:00:00",
          "2014-01-31T00:00:00",
          "2014-02-28T00:00:00",
          "2014-03-31T00:00:00",
          "2014-04-30T00:00:00",
          "2014-05-31T00:00:00",
          "2014-06-30T00:00:00",
          "2014-07-31T00:00:00",
          "2014-08-31T00:00:00",
          "2014-09-30T00:00:00",
          "2014-10-31T00:00:00",
          "2014-11-30T00:00:00",
          "2014-12-31T00:00:00",
          "2015-01-31T00:00:00",
          "2015-02-28T00:00:00",
          "2015-03-31T00:00:00",
          "2015-04-30T00:00:00",
          "2015-05-31T00:00:00",
          "2015-06-30T00:00:00",
          "2015-07-31T00:00:00",
          "2015-08-31T00:00:00",
          "2015-09-30T00:00:00",
          "2015-10-31T00:00:00",
          "2015-11-30T00:00:00",
          "2015-12-31T00:00:00",
          "2016-01-31T00:00:00",
          "2016-02-29T00:00:00",
          "2016-03-31T00:00:00",
          "2016-04-30T00:00:00",
          "2016-05-31T00:00:00",
          "2016-06-30T00:00:00",
          "2016-07-31T00:00:00",
          "2016-08-31T00:00:00",
          "2016-09-30T00:00:00",
          "2016-10-31T00:00:00",
          "2016-11-30T00:00:00",
          "2016-12-31T00:00:00",
          "2017-01-31T00:00:00",
          "2017-02-28T00:00:00",
          "2017-03-31T00:00:00",
          "2017-04-30T00:00:00",
          "2017-05-31T00:00:00",
          "2017-06-30T00:00:00",
          "2017-07-31T00:00:00",
          "2017-08-31T00:00:00",
          "2017-09-30T00:00:00",
          "2017-10-31T00:00:00",
          "2017-11-30T00:00:00",
          "2017-12-31T00:00:00",
          "2018-01-31T00:00:00",
          "2018-02-28T00:00:00",
          "2018-03-31T00:00:00",
          "2018-04-30T00:00:00",
          "2018-05-31T00:00:00",
          "2018-06-30T00:00:00",
          "2018-07-31T00:00:00",
          "2018-08-31T00:00:00",
          "2018-09-30T00:00:00",
          "2018-10-31T00:00:00",
          "2018-11-30T00:00:00",
          "2018-12-31T00:00:00"
         ],
         "xaxis": "x",
         "y": [
          1,
          1.1694604288837382,
          0.6086760971524409,
          0.4591611359493313,
          0.2140730035973004,
          0.11258954853690588,
          0.15707540836044265,
          0.061897903083171765,
          0.11565508566268443,
          0.38108609832601353,
          0.6630620880253256,
          0.9270601594037383,
          1.1252241060630077,
          0.9276196463177309,
          0.9234959225778507,
          0.46874565259752904,
          0.2954422291020684,
          0.10407759183417101,
          0.18984725266123106,
          0.03197552181743198,
          0.11394408529554065,
          0.3031285676773174,
          0.7138988392461914,
          0.9507974416568137,
          0.9131789898727154,
          0.6751801289093183,
          0.6075598682314866,
          0.26692541491203675,
          0.18640641188323165,
          0.08172189615083433,
          0.14681469634203947,
          0,
          0.11427140298212185,
          0.26703640897088515,
          0.4816829733691364,
          0.9183400888406628,
          1.0724090504375916,
          0.8806205496167273,
          0.7372555027088862,
          0.29604034434409526,
          0.14887519823531425,
          0.11487615590842355,
          0.19525896164109713,
          0.029754667446153696,
          0.1281212057118919,
          0.40774353744703234,
          0.503890444072806,
          0.6834920317969031,
          0.9543297377463418,
          0.7699332965133167,
          0.8137551882797858,
          0.406087984201912,
          0.18911044475304403,
          0.09485280772921904,
          0.13623392816383673,
          0.05679247582055062,
          0.11407673916623239,
          0.37758701561155894,
          0.6633782015004809,
          0.9799172121067267,
          1.3141654146355497,
          0.6418045547839399,
          0.5878991222710601,
          0.28343133940708065,
          0.20353198666364444,
          0.12011478602314296,
          0.14371704380399994,
          0.05497497306060908,
          0.13360570463547677,
          0.2801709637895109,
          0.6962899112913422,
          1.0326781681099344,
          0.8827072029878961,
          0.9561533042554518,
          0.8743818500558599,
          0.2648846264419838,
          0.15138127340080026,
          0.08296701093373833,
          0.18000506410393508,
          0.07220046245694584,
          0.0862543615013113,
          0.3046153340937389,
          0.6364697531083388,
          0.8245077876381216
         ],
         "yaxis": "y"
        },
        {
         "hovertemplate": "variable=Fioul<br>DateTime=%{x}<br>Relative Consumption=%{y}<extra></extra>",
         "legendgroup": "Fioul",
         "line": {
          "color": "#EF553B",
          "dash": "solid"
         },
         "marker": {
          "symbol": "circle"
         },
         "mode": "lines",
         "name": "Fioul",
         "orientation": "v",
         "showlegend": true,
         "type": "scatter",
         "x": [
          "2012-01-31T00:00:00",
          "2012-02-29T00:00:00",
          "2012-03-31T00:00:00",
          "2012-04-30T00:00:00",
          "2012-05-31T00:00:00",
          "2012-06-30T00:00:00",
          "2012-07-31T00:00:00",
          "2012-08-31T00:00:00",
          "2012-09-30T00:00:00",
          "2012-10-31T00:00:00",
          "2012-11-30T00:00:00",
          "2012-12-31T00:00:00",
          "2013-01-31T00:00:00",
          "2013-02-28T00:00:00",
          "2013-03-31T00:00:00",
          "2013-04-30T00:00:00",
          "2013-05-31T00:00:00",
          "2013-06-30T00:00:00",
          "2013-07-31T00:00:00",
          "2013-08-31T00:00:00",
          "2013-09-30T00:00:00",
          "2013-10-31T00:00:00",
          "2013-11-30T00:00:00",
          "2013-12-31T00:00:00",
          "2014-01-31T00:00:00",
          "2014-02-28T00:00:00",
          "2014-03-31T00:00:00",
          "2014-04-30T00:00:00",
          "2014-05-31T00:00:00",
          "2014-06-30T00:00:00",
          "2014-07-31T00:00:00",
          "2014-08-31T00:00:00",
          "2014-09-30T00:00:00",
          "2014-10-31T00:00:00",
          "2014-11-30T00:00:00",
          "2014-12-31T00:00:00",
          "2015-01-31T00:00:00",
          "2015-02-28T00:00:00",
          "2015-03-31T00:00:00",
          "2015-04-30T00:00:00",
          "2015-05-31T00:00:00",
          "2015-06-30T00:00:00",
          "2015-07-31T00:00:00",
          "2015-08-31T00:00:00",
          "2015-09-30T00:00:00",
          "2015-10-31T00:00:00",
          "2015-11-30T00:00:00",
          "2015-12-31T00:00:00",
          "2016-01-31T00:00:00",
          "2016-02-29T00:00:00",
          "2016-03-31T00:00:00",
          "2016-04-30T00:00:00",
          "2016-05-31T00:00:00",
          "2016-06-30T00:00:00",
          "2016-07-31T00:00:00",
          "2016-08-31T00:00:00",
          "2016-09-30T00:00:00",
          "2016-10-31T00:00:00",
          "2016-11-30T00:00:00",
          "2016-12-31T00:00:00",
          "2017-01-31T00:00:00",
          "2017-02-28T00:00:00",
          "2017-03-31T00:00:00",
          "2017-04-30T00:00:00",
          "2017-05-31T00:00:00",
          "2017-06-30T00:00:00",
          "2017-07-31T00:00:00",
          "2017-08-31T00:00:00",
          "2017-09-30T00:00:00",
          "2017-10-31T00:00:00",
          "2017-11-30T00:00:00",
          "2017-12-31T00:00:00",
          "2018-01-31T00:00:00",
          "2018-02-28T00:00:00",
          "2018-03-31T00:00:00",
          "2018-04-30T00:00:00",
          "2018-05-31T00:00:00",
          "2018-06-30T00:00:00",
          "2018-07-31T00:00:00",
          "2018-08-31T00:00:00",
          "2018-09-30T00:00:00",
          "2018-10-31T00:00:00",
          "2018-11-30T00:00:00",
          "2018-12-31T00:00:00"
         ],
         "xaxis": "x",
         "y": [
          1,
          2.525391672474499,
          0.9771616149316145,
          0.7570218642236632,
          0.5242892637567912,
          0.47496975177020156,
          0.4736186209916237,
          0.39439934917727404,
          0.47536744798211267,
          0.6400382928339547,
          0.8285462972798616,
          0.817256647485705,
          0.8940081301023647,
          0.9216331194150887,
          1.0556839468045693,
          0.7346498330194081,
          0.5479994714656207,
          0.5998152720527083,
          0.5305591323745442,
          0.46101540781349987,
          0.4869667049249558,
          0.6669754101970864,
          0.7385529557766994,
          0.7787539542921397,
          0.3955004624675819,
          0.38639878955263707,
          0.45307314242187924,
          0.3347928482044081,
          0.29016796511673093,
          0.236963466356455,
          0.3065991662629251,
          0.2694981255165516,
          0.33169159500794093,
          0.4531495726385006,
          0.4295326357024973,
          0.40652843592686533,
          0.5013031999647642,
          0.49124161534615113,
          0.4553336632355113,
          0.3403580043163641,
          0.29689382417941146,
          0.31010329738090486,
          0.32303295826392,
          0.26074103629010315,
          0.29694952755762705,
          0.4556380886745964,
          0.7304733750806404,
          0.5291807976205589,
          0.413455086236602,
          0.26183178616120817,
          0.22100380078399268,
          0.19894396758322475,
          0.17930399276633335,
          0.1621512385581375,
          0.12061076811072279,
          0.09653136359279016,
          0.11661567000800574,
          0.17426996188852584,
          0.42044391706155615,
          0.2124682296430061,
          1.7795402787241592,
          0.7499255129244792,
          0.8153368240783683,
          0.40086353190508145,
          0.2501794166949502,
          0.16181572286144363,
          0.12219896210356684,
          0.10869931316439231,
          0.39220489516106044,
          0.7771463288882902,
          0.836190614369399,
          0.7330447984703593,
          0.21184383363603154,
          0.712882766411122,
          0.5165335399108227,
          0.0024457669318838277,
          0.0073165739572457165,
          0,
          0.017922238084011055,
          0.04730123609682545,
          0.18590030908897776,
          0.5382176991654856,
          0.6773932373507991,
          0.5198692654667554
         ],
         "yaxis": "y"
        },
        {
         "hovertemplate": "variable=Charbon<br>DateTime=%{x}<br>Relative Consumption=%{y}<extra></extra>",
         "legendgroup": "Charbon",
         "line": {
          "color": "#00cc96",
          "dash": "solid"
         },
         "marker": {
          "symbol": "circle"
         },
         "mode": "lines",
         "name": "Charbon",
         "orientation": "v",
         "showlegend": true,
         "type": "scatter",
         "x": [
          "2012-01-31T00:00:00",
          "2012-02-29T00:00:00",
          "2012-03-31T00:00:00",
          "2012-04-30T00:00:00",
          "2012-05-31T00:00:00",
          "2012-06-30T00:00:00",
          "2012-07-31T00:00:00",
          "2012-08-31T00:00:00",
          "2012-09-30T00:00:00",
          "2012-10-31T00:00:00",
          "2012-11-30T00:00:00",
          "2012-12-31T00:00:00",
          "2013-01-31T00:00:00",
          "2013-02-28T00:00:00",
          "2013-03-31T00:00:00",
          "2013-04-30T00:00:00",
          "2013-05-31T00:00:00",
          "2013-06-30T00:00:00",
          "2013-07-31T00:00:00",
          "2013-08-31T00:00:00",
          "2013-09-30T00:00:00",
          "2013-10-31T00:00:00",
          "2013-11-30T00:00:00",
          "2013-12-31T00:00:00",
          "2014-01-31T00:00:00",
          "2014-02-28T00:00:00",
          "2014-03-31T00:00:00",
          "2014-04-30T00:00:00",
          "2014-05-31T00:00:00",
          "2014-06-30T00:00:00",
          "2014-07-31T00:00:00",
          "2014-08-31T00:00:00",
          "2014-09-30T00:00:00",
          "2014-10-31T00:00:00",
          "2014-11-30T00:00:00",
          "2014-12-31T00:00:00",
          "2015-01-31T00:00:00",
          "2015-02-28T00:00:00",
          "2015-03-31T00:00:00",
          "2015-04-30T00:00:00",
          "2015-05-31T00:00:00",
          "2015-06-30T00:00:00",
          "2015-07-31T00:00:00",
          "2015-08-31T00:00:00",
          "2015-09-30T00:00:00",
          "2015-10-31T00:00:00",
          "2015-11-30T00:00:00",
          "2015-12-31T00:00:00",
          "2016-01-31T00:00:00",
          "2016-02-29T00:00:00",
          "2016-03-31T00:00:00",
          "2016-04-30T00:00:00",
          "2016-05-31T00:00:00",
          "2016-06-30T00:00:00",
          "2016-07-31T00:00:00",
          "2016-08-31T00:00:00",
          "2016-09-30T00:00:00",
          "2016-10-31T00:00:00",
          "2016-11-30T00:00:00",
          "2016-12-31T00:00:00",
          "2017-01-31T00:00:00",
          "2017-02-28T00:00:00",
          "2017-03-31T00:00:00",
          "2017-04-30T00:00:00",
          "2017-05-31T00:00:00",
          "2017-06-30T00:00:00",
          "2017-07-31T00:00:00",
          "2017-08-31T00:00:00",
          "2017-09-30T00:00:00",
          "2017-10-31T00:00:00",
          "2017-11-30T00:00:00",
          "2017-12-31T00:00:00",
          "2018-01-31T00:00:00",
          "2018-02-28T00:00:00",
          "2018-03-31T00:00:00",
          "2018-04-30T00:00:00",
          "2018-05-31T00:00:00",
          "2018-06-30T00:00:00",
          "2018-07-31T00:00:00",
          "2018-08-31T00:00:00",
          "2018-09-30T00:00:00",
          "2018-10-31T00:00:00",
          "2018-11-30T00:00:00",
          "2018-12-31T00:00:00"
         ],
         "xaxis": "x",
         "y": [
          1,
          3.4332800032678854,
          1.9420658478799602,
          2.1986942076740834,
          1.1150458865499304,
          1.261479126385447,
          1.4644352005664334,
          1.5333725933389615,
          1.8267442335448383,
          2.7096177936330714,
          2.4170583589771524,
          2.289599275618856,
          3.4140090139157437,
          3.5489399798480443,
          3.7762608589090716,
          2.052599330083604,
          0.7268994580757606,
          0.4780684077231013,
          1.1171952016557285,
          1.5761178889463796,
          2.27158301789167,
          2.5736908036273527,
          2.7743457422183493,
          1.9862537784918717,
          1.2549249748100544,
          0.904792216987555,
          1.3427909098336102,
          0.9923551918520738,
          0.45243525503118115,
          0.43276871544892576,
          0.16560823506985103,
          0.061001198224449237,
          0.8879537594292095,
          1.4163714223468862,
          1.2260171291631492,
          1.6227506059203183,
          2.153815255575829,
          2.2736996541488526,
          1.4533223496092156,
          0.6986356580703141,
          0,
          0.028819340431905448,
          0.26092222434029577,
          0.16589281337654202,
          0.7646013180468942,
          1.320856594319327,
          1.036402194929332,
          1.0033489011737156,
          0.9946413496364478,
          0.5491973257808884,
          1.0076849758993491,
          0.6138074943492826,
          0.17863552190844478,
          0.17414694588927318,
          0.20213978377495168,
          0.13518218458102993,
          1.0017197244083769,
          1.2554995778982054,
          1.5500565071757306,
          1.716963045668691,
          2.269160698238066,
          1.2795205740584408,
          0.4864777647667548,
          0.8302381471092837,
          0.6598302061490701,
          0.43331336292584627,
          1.1312219166144715,
          0.22392091718635115,
          0.7404162468342367,
          1.606455434220201,
          1.9209791400016345,
          1.1110161760300648,
          0.3746180659568095,
          1.2927500612728413,
          1.0945582908962175,
          0.28991789439285426,
          0.1676928732877645,
          0.32289697992974054,
          0.748978785980774,
          0.6348853517061083,
          0.425925900710765,
          1.0277790637509872,
          0.6357840200430273,
          0.24924225919773427
         ],
         "yaxis": "y"
        },
        {
         "hovertemplate": "variable=Gaz<br>DateTime=%{x}<br>Relative Consumption=%{y}<extra></extra>",
         "legendgroup": "Gaz",
         "line": {
          "color": "#ab63fa",
          "dash": "solid"
         },
         "marker": {
          "symbol": "circle"
         },
         "mode": "lines",
         "name": "Gaz",
         "orientation": "v",
         "showlegend": true,
         "type": "scatter",
         "x": [
          "2012-01-31T00:00:00",
          "2012-02-29T00:00:00",
          "2012-03-31T00:00:00",
          "2012-04-30T00:00:00",
          "2012-05-31T00:00:00",
          "2012-06-30T00:00:00",
          "2012-07-31T00:00:00",
          "2012-08-31T00:00:00",
          "2012-09-30T00:00:00",
          "2012-10-31T00:00:00",
          "2012-11-30T00:00:00",
          "2012-12-31T00:00:00",
          "2013-01-31T00:00:00",
          "2013-02-28T00:00:00",
          "2013-03-31T00:00:00",
          "2013-04-30T00:00:00",
          "2013-05-31T00:00:00",
          "2013-06-30T00:00:00",
          "2013-07-31T00:00:00",
          "2013-08-31T00:00:00",
          "2013-09-30T00:00:00",
          "2013-10-31T00:00:00",
          "2013-11-30T00:00:00",
          "2013-12-31T00:00:00",
          "2014-01-31T00:00:00",
          "2014-02-28T00:00:00",
          "2014-03-31T00:00:00",
          "2014-04-30T00:00:00",
          "2014-05-31T00:00:00",
          "2014-06-30T00:00:00",
          "2014-07-31T00:00:00",
          "2014-08-31T00:00:00",
          "2014-09-30T00:00:00",
          "2014-10-31T00:00:00",
          "2014-11-30T00:00:00",
          "2014-12-31T00:00:00",
          "2015-01-31T00:00:00",
          "2015-02-28T00:00:00",
          "2015-03-31T00:00:00",
          "2015-04-30T00:00:00",
          "2015-05-31T00:00:00",
          "2015-06-30T00:00:00",
          "2015-07-31T00:00:00",
          "2015-08-31T00:00:00",
          "2015-09-30T00:00:00",
          "2015-10-31T00:00:00",
          "2015-11-30T00:00:00",
          "2015-12-31T00:00:00",
          "2016-01-31T00:00:00",
          "2016-02-29T00:00:00",
          "2016-03-31T00:00:00",
          "2016-04-30T00:00:00",
          "2016-05-31T00:00:00",
          "2016-06-30T00:00:00",
          "2016-07-31T00:00:00",
          "2016-08-31T00:00:00",
          "2016-09-30T00:00:00",
          "2016-10-31T00:00:00",
          "2016-11-30T00:00:00",
          "2016-12-31T00:00:00",
          "2017-01-31T00:00:00",
          "2017-02-28T00:00:00",
          "2017-03-31T00:00:00",
          "2017-04-30T00:00:00",
          "2017-05-31T00:00:00",
          "2017-06-30T00:00:00",
          "2017-07-31T00:00:00",
          "2017-08-31T00:00:00",
          "2017-09-30T00:00:00",
          "2017-10-31T00:00:00",
          "2017-11-30T00:00:00",
          "2017-12-31T00:00:00",
          "2018-01-31T00:00:00",
          "2018-02-28T00:00:00",
          "2018-03-31T00:00:00",
          "2018-04-30T00:00:00",
          "2018-05-31T00:00:00",
          "2018-06-30T00:00:00",
          "2018-07-31T00:00:00",
          "2018-08-31T00:00:00",
          "2018-09-30T00:00:00",
          "2018-10-31T00:00:00",
          "2018-11-30T00:00:00",
          "2018-12-31T00:00:00"
         ],
         "xaxis": "x",
         "y": [
          1,
          1.2491325867361813,
          0.7838861239259804,
          0.267749678437291,
          0.05110264281671783,
          0.1400775866504313,
          0.09072863537361296,
          0.16761172374762043,
          0.08683928724553669,
          0.18227388567802566,
          0.6847135090637808,
          0.7470428235778352,
          0.8007072664597232,
          0.7867046253580063,
          0.7118397502958377,
          0.20015105729818722,
          0.05072630297209692,
          0.012985439640535761,
          0.015582362928535888,
          0.040053370834691036,
          0.10801145620744652,
          0.16366982798538818,
          0.5598118986777341,
          0.6172387796052068,
          0.4122951859918709,
          0.3426037146924145,
          0.33960561834365194,
          0.030760122794079796,
          0.023700903805587464,
          0.010898489084017887,
          0,
          0.008911145792244758,
          0.032220754943490706,
          0.15353362259685469,
          0.4933715206914884,
          0.6451222281294482,
          0.7232255740966231,
          0.7972763038295975,
          0.6055630520159837,
          0.14073422627724705,
          0.01465365552487609,
          0.004969524430190863,
          0.11521693049100482,
          0.000018522012039307468,
          0.1808907715790015,
          0.530764444596889,
          0.821911403042412,
          0.7074970930731105,
          0.9071671268586324,
          0.7072262600970689,
          0.8026314977104734,
          0.37707852990104435,
          0.17989483613164348,
          0.21021001903651237,
          0.3088608619595603,
          0.3523313382153699,
          0.7342744344783825,
          0.9330491004819153,
          1.2898073367747689,
          1.4828324958411223,
          1.4465106930319502,
          1.171545524704591,
          1.0497934795657617,
          0.5558753537189799,
          0.32450126052581935,
          0.2808354113430173,
          0.46970080090552063,
          0.3113887736027028,
          0.45621705054108286,
          0.8847771699051604,
          1.2820370097240563,
          1.1970765404997512,
          0.7177529369394089,
          1.157084086504656,
          0.9280632492411119,
          0.10895264881922172,
          0.04302704556757961,
          0.07914757584592427,
          0.40167987789192067,
          0.38103153887050034,
          0.3149979591486734,
          0.5899964670977036,
          1.1742545404654512,
          0.9689271982026787
         ],
         "yaxis": "y"
        },
        {
         "hovertemplate": "variable=Nucléaire<br>DateTime=%{x}<br>Relative Consumption=%{y}<extra></extra>",
         "legendgroup": "Nucléaire",
         "line": {
          "color": "#FFA15A",
          "dash": "solid"
         },
         "marker": {
          "symbol": "circle"
         },
         "mode": "lines",
         "name": "Nucléaire",
         "orientation": "v",
         "showlegend": true,
         "type": "scatter",
         "x": [
          "2012-01-31T00:00:00",
          "2012-02-29T00:00:00",
          "2012-03-31T00:00:00",
          "2012-04-30T00:00:00",
          "2012-05-31T00:00:00",
          "2012-06-30T00:00:00",
          "2012-07-31T00:00:00",
          "2012-08-31T00:00:00",
          "2012-09-30T00:00:00",
          "2012-10-31T00:00:00",
          "2012-11-30T00:00:00",
          "2012-12-31T00:00:00",
          "2013-01-31T00:00:00",
          "2013-02-28T00:00:00",
          "2013-03-31T00:00:00",
          "2013-04-30T00:00:00",
          "2013-05-31T00:00:00",
          "2013-06-30T00:00:00",
          "2013-07-31T00:00:00",
          "2013-08-31T00:00:00",
          "2013-09-30T00:00:00",
          "2013-10-31T00:00:00",
          "2013-11-30T00:00:00",
          "2013-12-31T00:00:00",
          "2014-01-31T00:00:00",
          "2014-02-28T00:00:00",
          "2014-03-31T00:00:00",
          "2014-04-30T00:00:00",
          "2014-05-31T00:00:00",
          "2014-06-30T00:00:00",
          "2014-07-31T00:00:00",
          "2014-08-31T00:00:00",
          "2014-09-30T00:00:00",
          "2014-10-31T00:00:00",
          "2014-11-30T00:00:00",
          "2014-12-31T00:00:00",
          "2015-01-31T00:00:00",
          "2015-02-28T00:00:00",
          "2015-03-31T00:00:00",
          "2015-04-30T00:00:00",
          "2015-05-31T00:00:00",
          "2015-06-30T00:00:00",
          "2015-07-31T00:00:00",
          "2015-08-31T00:00:00",
          "2015-09-30T00:00:00",
          "2015-10-31T00:00:00",
          "2015-11-30T00:00:00",
          "2015-12-31T00:00:00",
          "2016-01-31T00:00:00",
          "2016-02-29T00:00:00",
          "2016-03-31T00:00:00",
          "2016-04-30T00:00:00",
          "2016-05-31T00:00:00",
          "2016-06-30T00:00:00",
          "2016-07-31T00:00:00",
          "2016-08-31T00:00:00",
          "2016-09-30T00:00:00",
          "2016-10-31T00:00:00",
          "2016-11-30T00:00:00",
          "2016-12-31T00:00:00",
          "2017-01-31T00:00:00",
          "2017-02-28T00:00:00",
          "2017-03-31T00:00:00",
          "2017-04-30T00:00:00",
          "2017-05-31T00:00:00",
          "2017-06-30T00:00:00",
          "2017-07-31T00:00:00",
          "2017-08-31T00:00:00",
          "2017-09-30T00:00:00",
          "2017-10-31T00:00:00",
          "2017-11-30T00:00:00",
          "2017-12-31T00:00:00",
          "2018-01-31T00:00:00",
          "2018-02-28T00:00:00",
          "2018-03-31T00:00:00",
          "2018-04-30T00:00:00",
          "2018-05-31T00:00:00",
          "2018-06-30T00:00:00",
          "2018-07-31T00:00:00",
          "2018-08-31T00:00:00",
          "2018-09-30T00:00:00",
          "2018-10-31T00:00:00",
          "2018-11-30T00:00:00",
          "2018-12-31T00:00:00"
         ],
         "xaxis": "x",
         "y": [
          1,
          0.7472314496337391,
          0.6801873495876078,
          0.4054234827158532,
          0.15752651322023106,
          0.004504878354063803,
          0.14262794010217045,
          0.11198843543160929,
          0.22329011198386894,
          0.3869500734140584,
          0.6509971550136895,
          0.8225003821797229,
          0.9759163027020322,
          0.6301546911503607,
          0.6347554975342514,
          0.307128574330493,
          0.28650168802684567,
          0.13009284362186482,
          0.25775898392050073,
          0.20958549038592744,
          0.2005220997953086,
          0.2809091451837939,
          0.4990174579206949,
          0.8543871657735658,
          0.9929267022811995,
          0.6073308690760767,
          0.5735898855446819,
          0.28945378886295814,
          0.3200346027421073,
          0.2757701917469531,
          0.42305536107739516,
          0.27586728439822844,
          0.3336572717676024,
          0.38435888263521245,
          0.6001463193610226,
          0.9282277207610448,
          1.0607850566073453,
          0.674896106572425,
          0.642422721543793,
          0.28778366041011605,
          0.23514182085743845,
          0.2589589424354589,
          0.4156462846062668,
          0.3373532898778338,
          0.2544949484238197,
          0.48736119091492314,
          0.5626402679266809,
          0.845163609085862,
          0.9253846959179528,
          0.6638969005990694,
          0.6581158729689769,
          0.2803061777528617,
          0.18071182766250551,
          0.13211922364617978,
          0.11374404096917588,
          0.038735523908636424,
          0,
          0.15315424847161824,
          0.28572761318680023,
          0.6233060121314329,
          0.8591079281666398,
          0.4418463136114705,
          0.48005806434766435,
          0.32311882681674514,
          0.22379430112721876,
          0.02463710702147826,
          0.10290901597210904,
          0.129002482114786,
          0.17571869709017504,
          0.0945403833713143,
          0.23654108287973388,
          0.6686039327182252,
          0.8765012736667935,
          0.609316732533161,
          0.5667910400645715,
          0.2517566782152166,
          0.2511716704729357,
          0.13157988132384868,
          0.21340688918945663,
          0.050321116781251236,
          0.221847697672118,
          0.31225563636938714,
          0.378765849425235,
          0.7602658622360708
         ],
         "yaxis": "y"
        },
        {
         "hovertemplate": "variable=Eolien<br>DateTime=%{x}<br>Relative Consumption=%{y}<extra></extra>",
         "legendgroup": "Eolien",
         "line": {
          "color": "#19d3f3",
          "dash": "solid"
         },
         "marker": {
          "symbol": "circle"
         },
         "mode": "lines",
         "name": "Eolien",
         "orientation": "v",
         "showlegend": true,
         "type": "scatter",
         "x": [
          "2012-01-31T00:00:00",
          "2012-02-29T00:00:00",
          "2012-03-31T00:00:00",
          "2012-04-30T00:00:00",
          "2012-05-31T00:00:00",
          "2012-06-30T00:00:00",
          "2012-07-31T00:00:00",
          "2012-08-31T00:00:00",
          "2012-09-30T00:00:00",
          "2012-10-31T00:00:00",
          "2012-11-30T00:00:00",
          "2012-12-31T00:00:00",
          "2013-01-31T00:00:00",
          "2013-02-28T00:00:00",
          "2013-03-31T00:00:00",
          "2013-04-30T00:00:00",
          "2013-05-31T00:00:00",
          "2013-06-30T00:00:00",
          "2013-07-31T00:00:00",
          "2013-08-31T00:00:00",
          "2013-09-30T00:00:00",
          "2013-10-31T00:00:00",
          "2013-11-30T00:00:00",
          "2013-12-31T00:00:00",
          "2014-01-31T00:00:00",
          "2014-02-28T00:00:00",
          "2014-03-31T00:00:00",
          "2014-04-30T00:00:00",
          "2014-05-31T00:00:00",
          "2014-06-30T00:00:00",
          "2014-07-31T00:00:00",
          "2014-08-31T00:00:00",
          "2014-09-30T00:00:00",
          "2014-10-31T00:00:00",
          "2014-11-30T00:00:00",
          "2014-12-31T00:00:00",
          "2015-01-31T00:00:00",
          "2015-02-28T00:00:00",
          "2015-03-31T00:00:00",
          "2015-04-30T00:00:00",
          "2015-05-31T00:00:00",
          "2015-06-30T00:00:00",
          "2015-07-31T00:00:00",
          "2015-08-31T00:00:00",
          "2015-09-30T00:00:00",
          "2015-10-31T00:00:00",
          "2015-11-30T00:00:00",
          "2015-12-31T00:00:00",
          "2016-01-31T00:00:00",
          "2016-02-29T00:00:00",
          "2016-03-31T00:00:00",
          "2016-04-30T00:00:00",
          "2016-05-31T00:00:00",
          "2016-06-30T00:00:00",
          "2016-07-31T00:00:00",
          "2016-08-31T00:00:00",
          "2016-09-30T00:00:00",
          "2016-10-31T00:00:00",
          "2016-11-30T00:00:00",
          "2016-12-31T00:00:00",
          "2017-01-31T00:00:00",
          "2017-02-28T00:00:00",
          "2017-03-31T00:00:00",
          "2017-04-30T00:00:00",
          "2017-05-31T00:00:00",
          "2017-06-30T00:00:00",
          "2017-07-31T00:00:00",
          "2017-08-31T00:00:00",
          "2017-09-30T00:00:00",
          "2017-10-31T00:00:00",
          "2017-11-30T00:00:00",
          "2017-12-31T00:00:00",
          "2018-01-31T00:00:00",
          "2018-02-28T00:00:00",
          "2018-03-31T00:00:00",
          "2018-04-30T00:00:00",
          "2018-05-31T00:00:00",
          "2018-06-30T00:00:00",
          "2018-07-31T00:00:00",
          "2018-08-31T00:00:00",
          "2018-09-30T00:00:00",
          "2018-10-31T00:00:00",
          "2018-11-30T00:00:00",
          "2018-12-31T00:00:00"
         ],
         "xaxis": "x",
         "y": [
          1,
          0.45902728290301326,
          0.2889337683246096,
          0.9805040545902788,
          0.2856824047038724,
          0.30877291322763106,
          0.21321020881562372,
          0.20792470354614223,
          0.2355519714159689,
          0.7246596119456731,
          0.6770463633964048,
          1.8165042247333216,
          0.6936988223421124,
          0.8557810468808178,
          0.7272105922201512,
          0.8868711918112252,
          0.494977575496605,
          0.5042066701899485,
          0.1735144385600072,
          0.010897312264341713,
          0.25483815143080385,
          1.0228591839077312,
          1.2563647773602542,
          1.4931770891904983,
          1.7057306157837973,
          2.0452761124412446,
          0.6608920972635524,
          0.38169552203323265,
          0.933035311090821,
          0.2716770685052992,
          0.2646936289005439,
          0.2873366379152117,
          0,
          0.6374554758382314,
          0.9014959186063655,
          1.6213559817807102,
          1.827385804593047,
          1.375261551226749,
          1.4946967229401187,
          0.8463159661182273,
          0.9923808547124089,
          0.614278147748256,
          0.7811599210582897,
          0.4636421215905111,
          1.0992266066426877,
          0.6538841850293935,
          2.114185792706341,
          2.1508096652901787,
          2.467758184783502,
          2.529369194669862,
          2.015009879367418,
          1.0935949884716436,
          0.945944040419461,
          0.39875119668244374,
          0.3367072543283051,
          0.5340941601896745,
          0.30571674796046866,
          0.7893425195038116,
          1.8578629684250643,
          0.9335346692669808,
          1.5343534535250203,
          2.110105855775803,
          2.2542513910067754,
          0.865867848966585,
          0.9035376351165919,
          0.8708188949675536,
          1.1491962197945116,
          0.5995735935667283,
          1.0749788923571397,
          1.5852180656950259,
          1.872866438294305,
          3.0924028218107074,
          3.819089583225295,
          2.392110956570989,
          2.799274910951677,
          1.6739569852750522,
          1.0198793499370413,
          0.7511459891399794,
          0.4369104354205186,
          0.7900953441987925,
          1.0329646318063772,
          2.055723011788233,
          2.423277432797869,
          3.419006958966976
         ],
         "yaxis": "y"
        },
        {
         "hovertemplate": "variable=Solaire<br>DateTime=%{x}<br>Relative Consumption=%{y}<extra></extra>",
         "legendgroup": "Solaire",
         "line": {
          "color": "#FF6692",
          "dash": "solid"
         },
         "marker": {
          "symbol": "circle"
         },
         "mode": "lines",
         "name": "Solaire",
         "orientation": "v",
         "showlegend": true,
         "type": "scatter",
         "x": [
          "2012-01-31T00:00:00",
          "2012-02-29T00:00:00",
          "2012-03-31T00:00:00",
          "2012-04-30T00:00:00",
          "2012-05-31T00:00:00",
          "2012-06-30T00:00:00",
          "2012-07-31T00:00:00",
          "2012-08-31T00:00:00",
          "2012-09-30T00:00:00",
          "2012-10-31T00:00:00",
          "2012-11-30T00:00:00",
          "2012-12-31T00:00:00",
          "2013-01-31T00:00:00",
          "2013-02-28T00:00:00",
          "2013-03-31T00:00:00",
          "2013-04-30T00:00:00",
          "2013-05-31T00:00:00",
          "2013-06-30T00:00:00",
          "2013-07-31T00:00:00",
          "2013-08-31T00:00:00",
          "2013-09-30T00:00:00",
          "2013-10-31T00:00:00",
          "2013-11-30T00:00:00",
          "2013-12-31T00:00:00",
          "2014-01-31T00:00:00",
          "2014-02-28T00:00:00",
          "2014-03-31T00:00:00",
          "2014-04-30T00:00:00",
          "2014-05-31T00:00:00",
          "2014-06-30T00:00:00",
          "2014-07-31T00:00:00",
          "2014-08-31T00:00:00",
          "2014-09-30T00:00:00",
          "2014-10-31T00:00:00",
          "2014-11-30T00:00:00",
          "2014-12-31T00:00:00",
          "2015-01-31T00:00:00",
          "2015-02-28T00:00:00",
          "2015-03-31T00:00:00",
          "2015-04-30T00:00:00",
          "2015-05-31T00:00:00",
          "2015-06-30T00:00:00",
          "2015-07-31T00:00:00",
          "2015-08-31T00:00:00",
          "2015-09-30T00:00:00",
          "2015-10-31T00:00:00",
          "2015-11-30T00:00:00",
          "2015-12-31T00:00:00",
          "2016-01-31T00:00:00",
          "2016-02-29T00:00:00",
          "2016-03-31T00:00:00",
          "2016-04-30T00:00:00",
          "2016-05-31T00:00:00",
          "2016-06-30T00:00:00",
          "2016-07-31T00:00:00",
          "2016-08-31T00:00:00",
          "2016-09-30T00:00:00",
          "2016-10-31T00:00:00",
          "2016-11-30T00:00:00",
          "2016-12-31T00:00:00",
          "2017-01-31T00:00:00",
          "2017-02-28T00:00:00",
          "2017-03-31T00:00:00",
          "2017-04-30T00:00:00",
          "2017-05-31T00:00:00",
          "2017-06-30T00:00:00",
          "2017-07-31T00:00:00",
          "2017-08-31T00:00:00",
          "2017-09-30T00:00:00",
          "2017-10-31T00:00:00",
          "2017-11-30T00:00:00",
          "2017-12-31T00:00:00",
          "2018-01-31T00:00:00",
          "2018-02-28T00:00:00",
          "2018-03-31T00:00:00",
          "2018-04-30T00:00:00",
          "2018-05-31T00:00:00",
          "2018-06-30T00:00:00",
          "2018-07-31T00:00:00",
          "2018-08-31T00:00:00",
          "2018-09-30T00:00:00",
          "2018-10-31T00:00:00",
          "2018-11-30T00:00:00",
          "2018-12-31T00:00:00"
         ],
         "xaxis": "x",
         "y": [
          null,
          null,
          null,
          null,
          null,
          null,
          null,
          null,
          null,
          null,
          null,
          null,
          null,
          null,
          null,
          null,
          null,
          null,
          null,
          null,
          null,
          null,
          null,
          null,
          null,
          null,
          null,
          null,
          null,
          null,
          null,
          null,
          null,
          null,
          null,
          null,
          null,
          null,
          null,
          null,
          null,
          null,
          null,
          null,
          null,
          null,
          null,
          null,
          null,
          null,
          null,
          null,
          null,
          null,
          null,
          null,
          null,
          null,
          null,
          null,
          null,
          null,
          null,
          null,
          null,
          null,
          null,
          null,
          null,
          null,
          null,
          null,
          null,
          null,
          null,
          null,
          null,
          null,
          null,
          null,
          null,
          null,
          null,
          null
         ],
         "yaxis": "y"
        },
        {
         "hovertemplate": "variable=Hydraulique<br>DateTime=%{x}<br>Relative Consumption=%{y}<extra></extra>",
         "legendgroup": "Hydraulique",
         "line": {
          "color": "#B6E880",
          "dash": "solid"
         },
         "marker": {
          "symbol": "circle"
         },
         "mode": "lines",
         "name": "Hydraulique",
         "orientation": "v",
         "showlegend": true,
         "type": "scatter",
         "x": [
          "2012-01-31T00:00:00",
          "2012-02-29T00:00:00",
          "2012-03-31T00:00:00",
          "2012-04-30T00:00:00",
          "2012-05-31T00:00:00",
          "2012-06-30T00:00:00",
          "2012-07-31T00:00:00",
          "2012-08-31T00:00:00",
          "2012-09-30T00:00:00",
          "2012-10-31T00:00:00",
          "2012-11-30T00:00:00",
          "2012-12-31T00:00:00",
          "2013-01-31T00:00:00",
          "2013-02-28T00:00:00",
          "2013-03-31T00:00:00",
          "2013-04-30T00:00:00",
          "2013-05-31T00:00:00",
          "2013-06-30T00:00:00",
          "2013-07-31T00:00:00",
          "2013-08-31T00:00:00",
          "2013-09-30T00:00:00",
          "2013-10-31T00:00:00",
          "2013-11-30T00:00:00",
          "2013-12-31T00:00:00",
          "2014-01-31T00:00:00",
          "2014-02-28T00:00:00",
          "2014-03-31T00:00:00",
          "2014-04-30T00:00:00",
          "2014-05-31T00:00:00",
          "2014-06-30T00:00:00",
          "2014-07-31T00:00:00",
          "2014-08-31T00:00:00",
          "2014-09-30T00:00:00",
          "2014-10-31T00:00:00",
          "2014-11-30T00:00:00",
          "2014-12-31T00:00:00",
          "2015-01-31T00:00:00",
          "2015-02-28T00:00:00",
          "2015-03-31T00:00:00",
          "2015-04-30T00:00:00",
          "2015-05-31T00:00:00",
          "2015-06-30T00:00:00",
          "2015-07-31T00:00:00",
          "2015-08-31T00:00:00",
          "2015-09-30T00:00:00",
          "2015-10-31T00:00:00",
          "2015-11-30T00:00:00",
          "2015-12-31T00:00:00",
          "2016-01-31T00:00:00",
          "2016-02-29T00:00:00",
          "2016-03-31T00:00:00",
          "2016-04-30T00:00:00",
          "2016-05-31T00:00:00",
          "2016-06-30T00:00:00",
          "2016-07-31T00:00:00",
          "2016-08-31T00:00:00",
          "2016-09-30T00:00:00",
          "2016-10-31T00:00:00",
          "2016-11-30T00:00:00",
          "2016-12-31T00:00:00",
          "2017-01-31T00:00:00",
          "2017-02-28T00:00:00",
          "2017-03-31T00:00:00",
          "2017-04-30T00:00:00",
          "2017-05-31T00:00:00",
          "2017-06-30T00:00:00",
          "2017-07-31T00:00:00",
          "2017-08-31T00:00:00",
          "2017-09-30T00:00:00",
          "2017-10-31T00:00:00",
          "2017-11-30T00:00:00",
          "2017-12-31T00:00:00",
          "2018-01-31T00:00:00",
          "2018-02-28T00:00:00",
          "2018-03-31T00:00:00",
          "2018-04-30T00:00:00",
          "2018-05-31T00:00:00",
          "2018-06-30T00:00:00",
          "2018-07-31T00:00:00",
          "2018-08-31T00:00:00",
          "2018-09-30T00:00:00",
          "2018-10-31T00:00:00",
          "2018-11-30T00:00:00",
          "2018-12-31T00:00:00"
         ],
         "xaxis": "x",
         "y": [
          1,
          0.6261244325864581,
          0.2904221198927741,
          0.6407632861830549,
          1.2373744029778908,
          1.0279804739689034,
          0.5483322691048333,
          0.209559359003499,
          0.2322606884407649,
          0.45298978491832814,
          0.5421022485879862,
          0.9402363040847725,
          1.0337299537400786,
          1.021198600157341,
          0.918870510018279,
          1.1108907617742563,
          1.4591258139836096,
          1.1582691310402107,
          0.92125670854536,
          0.4552678806767182,
          0.34933901078658997,
          0.532263384710287,
          0.9008682491836852,
          0.7317325219997952,
          1.0634738383740132,
          1.0733816209166005,
          1.0641402201264676,
          0.7703477633310367,
          0.8628856232389203,
          0.5805788966260343,
          0.8703588255957116,
          0.6492580471045843,
          0.2645273489925274,
          0.26537705187370564,
          0.5415264564517193,
          0.7499315853107236,
          0.8688787752183097,
          0.9000040570036733,
          0.9249187213332373,
          0.7479469293521945,
          0.941881028493269,
          0.7289534744834627,
          0.32803016596420864,
          0.17375466366431594,
          0.18047845428664008,
          0.29032699449608235,
          0.20882116072639006,
          0.23457859827247235,
          0.7277458229241369,
          1.0429557312862516,
          0.9596838409795674,
          0.9373950155804059,
          0.9600444355296758,
          1.12317718320975,
          0.6498717634056252,
          0.28908494660126394,
          0.16320141435715632,
          0.08599562649964236,
          0.377315074968892,
          0.431190697819751,
          0.6112866346171775,
          0.43537079753636543,
          0.8723040454626317,
          0.3555949860474351,
          0.7507255988868186,
          0.594236761694628,
          0.2921968700090664,
          0.1940401860073187,
          0.09065160518752172,
          0,
          0.30317182090924255,
          0.6410457645133635,
          1.1371398275294662,
          1.1063281445684279,
          1.0801559350939889,
          1.0469925759352652,
          1.2350861017133656,
          1.2136096850001235,
          0.6370909418951397,
          0.29202992808771994,
          0.07398576168102072,
          0.04496621599487555,
          0.296699262129307,
          0.6042169907313844
         ],
         "yaxis": "y"
        },
        {
         "hovertemplate": "variable=Pompage<br>DateTime=%{x}<br>Relative Consumption=%{y}<extra></extra>",
         "legendgroup": "Pompage",
         "line": {
          "color": "#FF97FF",
          "dash": "solid"
         },
         "marker": {
          "symbol": "circle"
         },
         "mode": "lines",
         "name": "Pompage",
         "orientation": "v",
         "showlegend": true,
         "type": "scatter",
         "x": [
          "2012-01-31T00:00:00",
          "2012-02-29T00:00:00",
          "2012-03-31T00:00:00",
          "2012-04-30T00:00:00",
          "2012-05-31T00:00:00",
          "2012-06-30T00:00:00",
          "2012-07-31T00:00:00",
          "2012-08-31T00:00:00",
          "2012-09-30T00:00:00",
          "2012-10-31T00:00:00",
          "2012-11-30T00:00:00",
          "2012-12-31T00:00:00",
          "2013-01-31T00:00:00",
          "2013-02-28T00:00:00",
          "2013-03-31T00:00:00",
          "2013-04-30T00:00:00",
          "2013-05-31T00:00:00",
          "2013-06-30T00:00:00",
          "2013-07-31T00:00:00",
          "2013-08-31T00:00:00",
          "2013-09-30T00:00:00",
          "2013-10-31T00:00:00",
          "2013-11-30T00:00:00",
          "2013-12-31T00:00:00",
          "2014-01-31T00:00:00",
          "2014-02-28T00:00:00",
          "2014-03-31T00:00:00",
          "2014-04-30T00:00:00",
          "2014-05-31T00:00:00",
          "2014-06-30T00:00:00",
          "2014-07-31T00:00:00",
          "2014-08-31T00:00:00",
          "2014-09-30T00:00:00",
          "2014-10-31T00:00:00",
          "2014-11-30T00:00:00",
          "2014-12-31T00:00:00",
          "2015-01-31T00:00:00",
          "2015-02-28T00:00:00",
          "2015-03-31T00:00:00",
          "2015-04-30T00:00:00",
          "2015-05-31T00:00:00",
          "2015-06-30T00:00:00",
          "2015-07-31T00:00:00",
          "2015-08-31T00:00:00",
          "2015-09-30T00:00:00",
          "2015-10-31T00:00:00",
          "2015-11-30T00:00:00",
          "2015-12-31T00:00:00",
          "2016-01-31T00:00:00",
          "2016-02-29T00:00:00",
          "2016-03-31T00:00:00",
          "2016-04-30T00:00:00",
          "2016-05-31T00:00:00",
          "2016-06-30T00:00:00",
          "2016-07-31T00:00:00",
          "2016-08-31T00:00:00",
          "2016-09-30T00:00:00",
          "2016-10-31T00:00:00",
          "2016-11-30T00:00:00",
          "2016-12-31T00:00:00",
          "2017-01-31T00:00:00",
          "2017-02-28T00:00:00",
          "2017-03-31T00:00:00",
          "2017-04-30T00:00:00",
          "2017-05-31T00:00:00",
          "2017-06-30T00:00:00",
          "2017-07-31T00:00:00",
          "2017-08-31T00:00:00",
          "2017-09-30T00:00:00",
          "2017-10-31T00:00:00",
          "2017-11-30T00:00:00",
          "2017-12-31T00:00:00",
          "2018-01-31T00:00:00",
          "2018-02-28T00:00:00",
          "2018-03-31T00:00:00",
          "2018-04-30T00:00:00",
          "2018-05-31T00:00:00",
          "2018-06-30T00:00:00",
          "2018-07-31T00:00:00",
          "2018-08-31T00:00:00",
          "2018-09-30T00:00:00",
          "2018-10-31T00:00:00",
          "2018-11-30T00:00:00",
          "2018-12-31T00:00:00"
         ],
         "xaxis": "x",
         "y": [
          1,
          2.0074522359310745,
          1.9011218699567916,
          1.5079650163985632,
          0.8169555937321048,
          1.1598209172783593,
          1.5042037586547972,
          1.7031053152168258,
          0.7882476963923161,
          0.755393305221511,
          1.33965589046801,
          0.7860482065698374,
          1.042045395387579,
          1.7176896246551097,
          1.053506168983289,
          1.3520693424957053,
          0.6640611171846534,
          0.9716044562444689,
          1.2995028372117239,
          0.970925087198709,
          1.3996486022177106,
          1.0181139049403927,
          0.8636602634181898,
          0.39030662710187974,
          0.11251756988911475,
          0.6262897600083296,
          0.7562678952574318,
          1.5538445520329016,
          0.39000989119683516,
          0.8695689520537252,
          0.6741709615284504,
          0.7630017179447134,
          1.0222343693060547,
          0.49090270185850415,
          0.44193086574001805,
          0.8874746212712794,
          0.790343068353376,
          1.7728564735280339,
          0.9438362226039878,
          1.4134910718933833,
          0.3252615961268157,
          0.8726378260190537,
          1.435436514134,
          1.528598573585299,
          1.989497110729346,
          1.7800301941798116,
          1.2742386381383728,
          0.1959784476026864,
          0.20254047581862697,
          0.9695455255349058,
          1.331120828778177,
          2.060617418918216,
          0.9110937581342082,
          1.3233822687282004,
          1.6638919256598472,
          1.3771981883492115,
          1.635741058878651,
          1.0488026445936804,
          1.131131240564319,
          1.3943281794991935,
          1.239078036337134,
          0.8564995574990892,
          0.6846061741891823,
          1.1506273101150504,
          0.7462439481493052,
          1.284507262220834,
          1.6184288614711857,
          1.5168827112291114,
          1.6190171273882035,
          0.6339970846998803,
          1.0132672184913325,
          0.5602842417616745,
          0,
          1.6384220938101932,
          0.8803659742828882,
          0.6763704513509294,
          0.8086027382997556,
          1.3921078661044306,
          1.8359440887084182,
          1.468147743245354,
          0.9707480868342966,
          0.6005049716278831,
          0.6850590868863555,
          0.7199333645686918
         ],
         "yaxis": "y"
        },
        {
         "hovertemplate": "variable=Bioénergies<br>DateTime=%{x}<br>Relative Consumption=%{y}<extra></extra>",
         "legendgroup": "Bioénergies",
         "line": {
          "color": "#FECB52",
          "dash": "solid"
         },
         "marker": {
          "symbol": "circle"
         },
         "mode": "lines",
         "name": "Bioénergies",
         "orientation": "v",
         "showlegend": true,
         "type": "scatter",
         "x": [
          "2012-01-31T00:00:00",
          "2012-02-29T00:00:00",
          "2012-03-31T00:00:00",
          "2012-04-30T00:00:00",
          "2012-05-31T00:00:00",
          "2012-06-30T00:00:00",
          "2012-07-31T00:00:00",
          "2012-08-31T00:00:00",
          "2012-09-30T00:00:00",
          "2012-10-31T00:00:00",
          "2012-11-30T00:00:00",
          "2012-12-31T00:00:00",
          "2013-01-31T00:00:00",
          "2013-02-28T00:00:00",
          "2013-03-31T00:00:00",
          "2013-04-30T00:00:00",
          "2013-05-31T00:00:00",
          "2013-06-30T00:00:00",
          "2013-07-31T00:00:00",
          "2013-08-31T00:00:00",
          "2013-09-30T00:00:00",
          "2013-10-31T00:00:00",
          "2013-11-30T00:00:00",
          "2013-12-31T00:00:00",
          "2014-01-31T00:00:00",
          "2014-02-28T00:00:00",
          "2014-03-31T00:00:00",
          "2014-04-30T00:00:00",
          "2014-05-31T00:00:00",
          "2014-06-30T00:00:00",
          "2014-07-31T00:00:00",
          "2014-08-31T00:00:00",
          "2014-09-30T00:00:00",
          "2014-10-31T00:00:00",
          "2014-11-30T00:00:00",
          "2014-12-31T00:00:00",
          "2015-01-31T00:00:00",
          "2015-02-28T00:00:00",
          "2015-03-31T00:00:00",
          "2015-04-30T00:00:00",
          "2015-05-31T00:00:00",
          "2015-06-30T00:00:00",
          "2015-07-31T00:00:00",
          "2015-08-31T00:00:00",
          "2015-09-30T00:00:00",
          "2015-10-31T00:00:00",
          "2015-11-30T00:00:00",
          "2015-12-31T00:00:00",
          "2016-01-31T00:00:00",
          "2016-02-29T00:00:00",
          "2016-03-31T00:00:00",
          "2016-04-30T00:00:00",
          "2016-05-31T00:00:00",
          "2016-06-30T00:00:00",
          "2016-07-31T00:00:00",
          "2016-08-31T00:00:00",
          "2016-09-30T00:00:00",
          "2016-10-31T00:00:00",
          "2016-11-30T00:00:00",
          "2016-12-31T00:00:00",
          "2017-01-31T00:00:00",
          "2017-02-28T00:00:00",
          "2017-03-31T00:00:00",
          "2017-04-30T00:00:00",
          "2017-05-31T00:00:00",
          "2017-06-30T00:00:00",
          "2017-07-31T00:00:00",
          "2017-08-31T00:00:00",
          "2017-09-30T00:00:00",
          "2017-10-31T00:00:00",
          "2017-11-30T00:00:00",
          "2017-12-31T00:00:00",
          "2018-01-31T00:00:00",
          "2018-02-28T00:00:00",
          "2018-03-31T00:00:00",
          "2018-04-30T00:00:00",
          "2018-05-31T00:00:00",
          "2018-06-30T00:00:00",
          "2018-07-31T00:00:00",
          "2018-08-31T00:00:00",
          "2018-09-30T00:00:00",
          "2018-10-31T00:00:00",
          "2018-11-30T00:00:00",
          "2018-12-31T00:00:00"
         ],
         "xaxis": "x",
         "y": [
          1,
          0.47332616110055675,
          1.189475129901344,
          0,
          0.5634490809623005,
          0.25401149083251323,
          0.9687275390848539,
          0.7572733307391218,
          0.6215853686451351,
          0.4365829651841512,
          1.0314601597729305,
          1.052496165907479,
          1.301984572069495,
          0.7984022706983773,
          1.1988142925813174,
          0.1852770847162776,
          0.7947947902121912,
          0.5458191223933898,
          1.1559090805044987,
          1.2227252958546027,
          0.6930940554398338,
          0.8611120012818463,
          1.3946299814590162,
          1.5411815871998544,
          2.4992331814956397,
          2.078256689633072,
          2.5421704397189107,
          1.265850252935656,
          1.8660928880444991,
          1.1048595692082315,
          1.7357612104287319,
          1.7227184288232205,
          1.3331654725662103,
          1.8459175498432032,
          2.7051067823379964,
          2.9725776546798826,
          2.583954036669948,
          2.0608831002357686,
          2.6252615194451443,
          1.5949916451118185,
          2.0797491244534996,
          1.7305331105363158,
          2.2177123629454996,
          2.3361366081442996,
          2.111442763293429,
          1.942046833154028,
          2.8896513837068247,
          3.219264312037907,
          3.328724792272302,
          2.8444296930436983,
          3.324801428342529,
          2.5355323093826545,
          2.7343420239430496,
          2.1653443816238247,
          3.0510678233799537,
          2.83954952274132,
          2.436972096962484,
          2.362286263648226,
          3.3550163664247954,
          3.693089477418913,
          3.824034609838168,
          2.9711813582988085,
          3.4559937738915476,
          3.0506191773296414,
          3.031464737793853,
          3.160665644241995,
          3.7294893217662017,
          3.4374436331174043,
          3.2553391168997647,
          3.267640259115985,
          4.1955135394968766,
          3.95061688831918,
          3.612997001396297,
          3.3861469086913742,
          3.7024469521825725,
          3.5065397028864433,
          3.707775768535263,
          2.9164785863071407,
          3.6584842172728744,
          3.666120356170029,
          3.4400576830636123,
          3.2762240483439022,
          3.4777851534781523,
          3.961892553848972
         ],
         "yaxis": "y"
        },
        {
         "mode": "lines",
         "name": "Consommation (Rolling Mean)",
         "type": "scatter",
         "x": [
          "2012-01-31T00:00:00",
          "2012-02-29T00:00:00",
          "2012-03-31T00:00:00",
          "2012-04-30T00:00:00",
          "2012-05-31T00:00:00",
          "2012-06-30T00:00:00",
          "2012-07-31T00:00:00",
          "2012-08-31T00:00:00",
          "2012-09-30T00:00:00",
          "2012-10-31T00:00:00",
          "2012-11-30T00:00:00",
          "2012-12-31T00:00:00",
          "2013-01-31T00:00:00",
          "2013-02-28T00:00:00",
          "2013-03-31T00:00:00",
          "2013-04-30T00:00:00",
          "2013-05-31T00:00:00",
          "2013-06-30T00:00:00",
          "2013-07-31T00:00:00",
          "2013-08-31T00:00:00",
          "2013-09-30T00:00:00",
          "2013-10-31T00:00:00",
          "2013-11-30T00:00:00",
          "2013-12-31T00:00:00",
          "2014-01-31T00:00:00",
          "2014-02-28T00:00:00",
          "2014-03-31T00:00:00",
          "2014-04-30T00:00:00",
          "2014-05-31T00:00:00",
          "2014-06-30T00:00:00",
          "2014-07-31T00:00:00",
          "2014-08-31T00:00:00",
          "2014-09-30T00:00:00",
          "2014-10-31T00:00:00",
          "2014-11-30T00:00:00",
          "2014-12-31T00:00:00",
          "2015-01-31T00:00:00",
          "2015-02-28T00:00:00",
          "2015-03-31T00:00:00",
          "2015-04-30T00:00:00",
          "2015-05-31T00:00:00",
          "2015-06-30T00:00:00",
          "2015-07-31T00:00:00",
          "2015-08-31T00:00:00",
          "2015-09-30T00:00:00",
          "2015-10-31T00:00:00",
          "2015-11-30T00:00:00",
          "2015-12-31T00:00:00",
          "2016-01-31T00:00:00",
          "2016-02-29T00:00:00",
          "2016-03-31T00:00:00",
          "2016-04-30T00:00:00",
          "2016-05-31T00:00:00",
          "2016-06-30T00:00:00",
          "2016-07-31T00:00:00",
          "2016-08-31T00:00:00",
          "2016-09-30T00:00:00",
          "2016-10-31T00:00:00",
          "2016-11-30T00:00:00",
          "2016-12-31T00:00:00",
          "2017-01-31T00:00:00",
          "2017-02-28T00:00:00",
          "2017-03-31T00:00:00",
          "2017-04-30T00:00:00",
          "2017-05-31T00:00:00",
          "2017-06-30T00:00:00",
          "2017-07-31T00:00:00",
          "2017-08-31T00:00:00",
          "2017-09-30T00:00:00",
          "2017-10-31T00:00:00",
          "2017-11-30T00:00:00",
          "2017-12-31T00:00:00",
          "2018-01-31T00:00:00",
          "2018-02-28T00:00:00",
          "2018-03-31T00:00:00",
          "2018-04-30T00:00:00",
          "2018-05-31T00:00:00",
          "2018-06-30T00:00:00",
          "2018-07-31T00:00:00",
          "2018-08-31T00:00:00",
          "2018-09-30T00:00:00",
          "2018-10-31T00:00:00",
          "2018-11-30T00:00:00",
          "2018-12-31T00:00:00"
         ],
         "y": [
          null,
          null,
          null,
          null,
          null,
          null,
          null,
          null,
          null,
          null,
          null,
          0.48914974641509107,
          0.4995850885870084,
          0.47943169003984104,
          0.5056666754919587,
          0.5064653852126417,
          0.5132461540047057,
          0.5125368242794778,
          0.5152678113045436,
          0.5127742795323985,
          0.5126316961684699,
          0.5061352352810786,
          0.5103716312161507,
          0.5123497380705736,
          0.4946793117213826,
          0.47364268527068165,
          0.44731468074181785,
          0.4304963276013602,
          0.4214100094997904,
          0.41954703485951245,
          0.4159609884995798,
          0.41329636168146044,
          0.41332363815534223,
          0.41031595826313955,
          0.3909646361067183,
          0.3882598567053724,
          0.40152902841911203,
          0.41864906347806286,
          0.42945703301784616,
          0.43188327713718433,
          0.42875567599985787,
          0.431518530979657,
          0.43555555308791183,
          0.4380351087084246,
          0.43918925893590544,
          0.45091485297558437,
          0.45276547553422347,
          0.4331948041139102,
          0.4233548613896394,
          0.4141309236310218,
          0.42050589742859673,
          0.42967653408341483,
          0.43302947129322567,
          0.4313608589449586,
          0.4264421061551869,
          0.4286952568530534,
          0.42752488464091504,
          0.4250118411546256,
          0.43830248760693175,
          0.4630045859660838,
          0.49299089237351773,
          0.48231349722940303,
          0.4634921583953426,
          0.45327077132910665,
          0.45447256648832335,
          0.4565777313461503,
          0.4572013243161639,
          0.45704986575283546,
          0.45867727954193915,
          0.45055927522343514,
          0.453301917706007,
          0.45769866403960763,
          0.42174381306896974,
          0.44793954219159576,
          0.4718131028403291,
          0.470267543426571,
          0.46592165065466734,
          0.46282600273055036,
          0.4658500044222116,
          0.4672854618719062,
          0.46333951661072587,
          0.46537654746941143,
          0.4603915342874945,
          0.44304400258151017
         ]
        },
        {
         "mode": "lines",
         "name": "Fioul (Rolling Mean)",
         "type": "scatter",
         "x": [
          "2012-01-31T00:00:00",
          "2012-02-29T00:00:00",
          "2012-03-31T00:00:00",
          "2012-04-30T00:00:00",
          "2012-05-31T00:00:00",
          "2012-06-30T00:00:00",
          "2012-07-31T00:00:00",
          "2012-08-31T00:00:00",
          "2012-09-30T00:00:00",
          "2012-10-31T00:00:00",
          "2012-11-30T00:00:00",
          "2012-12-31T00:00:00",
          "2013-01-31T00:00:00",
          "2013-02-28T00:00:00",
          "2013-03-31T00:00:00",
          "2013-04-30T00:00:00",
          "2013-05-31T00:00:00",
          "2013-06-30T00:00:00",
          "2013-07-31T00:00:00",
          "2013-08-31T00:00:00",
          "2013-09-30T00:00:00",
          "2013-10-31T00:00:00",
          "2013-11-30T00:00:00",
          "2013-12-31T00:00:00",
          "2014-01-31T00:00:00",
          "2014-02-28T00:00:00",
          "2014-03-31T00:00:00",
          "2014-04-30T00:00:00",
          "2014-05-31T00:00:00",
          "2014-06-30T00:00:00",
          "2014-07-31T00:00:00",
          "2014-08-31T00:00:00",
          "2014-09-30T00:00:00",
          "2014-10-31T00:00:00",
          "2014-11-30T00:00:00",
          "2014-12-31T00:00:00",
          "2015-01-31T00:00:00",
          "2015-02-28T00:00:00",
          "2015-03-31T00:00:00",
          "2015-04-30T00:00:00",
          "2015-05-31T00:00:00",
          "2015-06-30T00:00:00",
          "2015-07-31T00:00:00",
          "2015-08-31T00:00:00",
          "2015-09-30T00:00:00",
          "2015-10-31T00:00:00",
          "2015-11-30T00:00:00",
          "2015-12-31T00:00:00",
          "2016-01-31T00:00:00",
          "2016-02-29T00:00:00",
          "2016-03-31T00:00:00",
          "2016-04-30T00:00:00",
          "2016-05-31T00:00:00",
          "2016-06-30T00:00:00",
          "2016-07-31T00:00:00",
          "2016-08-31T00:00:00",
          "2016-09-30T00:00:00",
          "2016-10-31T00:00:00",
          "2016-11-30T00:00:00",
          "2016-12-31T00:00:00",
          "2017-01-31T00:00:00",
          "2017-02-28T00:00:00",
          "2017-03-31T00:00:00",
          "2017-04-30T00:00:00",
          "2017-05-31T00:00:00",
          "2017-06-30T00:00:00",
          "2017-07-31T00:00:00",
          "2017-08-31T00:00:00",
          "2017-09-30T00:00:00",
          "2017-10-31T00:00:00",
          "2017-11-30T00:00:00",
          "2017-12-31T00:00:00",
          "2018-01-31T00:00:00",
          "2018-02-28T00:00:00",
          "2018-03-31T00:00:00",
          "2018-04-30T00:00:00",
          "2018-05-31T00:00:00",
          "2018-06-30T00:00:00",
          "2018-07-31T00:00:00",
          "2018-08-31T00:00:00",
          "2018-09-30T00:00:00",
          "2018-10-31T00:00:00",
          "2018-11-30T00:00:00",
          "2018-12-31T00:00:00"
         ],
         "y": [
          null,
          null,
          null,
          null,
          null,
          null,
          null,
          null,
          null,
          null,
          null,
          0.8240050685756084,
          0.8151724127508055,
          0.6815258666625214,
          0.6880693943186009,
          0.686205058384913,
          0.6881809090273153,
          0.698584702384191,
          0.7033297449994343,
          0.7088810832191199,
          0.7098476879643568,
          0.7120924477446177,
          0.7045930026193542,
          0.7013844448532237,
          0.6598421392169919,
          0.6152392783951209,
          0.5650217113632301,
          0.5317002959619801,
          0.5102143370995725,
          0.47997668662488485,
          0.46131335611558316,
          0.4453535825908375,
          0.432413990097753,
          0.4145951703012041,
          0.3888434769616873,
          0.3578246837645811,
          0.3666415785560129,
          0.3753784807054725,
          0.3755668574399418,
          0.37603062044927144,
          0.37659110870449486,
          0.38268609462319897,
          0.38405557728994855,
          0.38332581985441117,
          0.38043064756688505,
          0.3806380239032263,
          0.4057164188514049,
          0.41593744899254603,
          0.40861677284853254,
          0.3894992870831206,
          0.36997179854549417,
          0.35818729548439915,
          0.34838814286664266,
          0.3360588046314121,
          0.31919028878531225,
          0.3055061493938695,
          0.29047832793140105,
          0.26703098403256187,
          0.24119519586430482,
          0.21480248186617543,
          0.3286429145734719,
          0.36931739180374445,
          0.41884514374494247,
          0.4356717741050971,
          0.44157805943248185,
          0.4415500997910908,
          0.44168244929049444,
          0.44269644508812794,
          0.4656622138508825,
          0.5159019111008628,
          0.5505474692098498,
          0.5939288499454625,
          0.46328747952145183,
          0.4602005839786721,
          0.4353003102980433,
          0.4020988298836102,
          0.38186025965546816,
          0.36837561608368113,
          0.3596858890820515,
          0.35456938265975424,
          0.33737733382041407,
          0.317466614676847,
          0.304233499925297,
          0.28646887217499667
         ]
        },
        {
         "mode": "lines",
         "name": "Charbon (Rolling Mean)",
         "type": "scatter",
         "x": [
          "2012-01-31T00:00:00",
          "2012-02-29T00:00:00",
          "2012-03-31T00:00:00",
          "2012-04-30T00:00:00",
          "2012-05-31T00:00:00",
          "2012-06-30T00:00:00",
          "2012-07-31T00:00:00",
          "2012-08-31T00:00:00",
          "2012-09-30T00:00:00",
          "2012-10-31T00:00:00",
          "2012-11-30T00:00:00",
          "2012-12-31T00:00:00",
          "2013-01-31T00:00:00",
          "2013-02-28T00:00:00",
          "2013-03-31T00:00:00",
          "2013-04-30T00:00:00",
          "2013-05-31T00:00:00",
          "2013-06-30T00:00:00",
          "2013-07-31T00:00:00",
          "2013-08-31T00:00:00",
          "2013-09-30T00:00:00",
          "2013-10-31T00:00:00",
          "2013-11-30T00:00:00",
          "2013-12-31T00:00:00",
          "2014-01-31T00:00:00",
          "2014-02-28T00:00:00",
          "2014-03-31T00:00:00",
          "2014-04-30T00:00:00",
          "2014-05-31T00:00:00",
          "2014-06-30T00:00:00",
          "2014-07-31T00:00:00",
          "2014-08-31T00:00:00",
          "2014-09-30T00:00:00",
          "2014-10-31T00:00:00",
          "2014-11-30T00:00:00",
          "2014-12-31T00:00:00",
          "2015-01-31T00:00:00",
          "2015-02-28T00:00:00",
          "2015-03-31T00:00:00",
          "2015-04-30T00:00:00",
          "2015-05-31T00:00:00",
          "2015-06-30T00:00:00",
          "2015-07-31T00:00:00",
          "2015-08-31T00:00:00",
          "2015-09-30T00:00:00",
          "2015-10-31T00:00:00",
          "2015-11-30T00:00:00",
          "2015-12-31T00:00:00",
          "2016-01-31T00:00:00",
          "2016-02-29T00:00:00",
          "2016-03-31T00:00:00",
          "2016-04-30T00:00:00",
          "2016-05-31T00:00:00",
          "2016-06-30T00:00:00",
          "2016-07-31T00:00:00",
          "2016-08-31T00:00:00",
          "2016-09-30T00:00:00",
          "2016-10-31T00:00:00",
          "2016-11-30T00:00:00",
          "2016-12-31T00:00:00",
          "2017-01-31T00:00:00",
          "2017-02-28T00:00:00",
          "2017-03-31T00:00:00",
          "2017-04-30T00:00:00",
          "2017-05-31T00:00:00",
          "2017-06-30T00:00:00",
          "2017-07-31T00:00:00",
          "2017-08-31T00:00:00",
          "2017-09-30T00:00:00",
          "2017-10-31T00:00:00",
          "2017-11-30T00:00:00",
          "2017-12-31T00:00:00",
          "2018-01-31T00:00:00",
          "2018-02-28T00:00:00",
          "2018-03-31T00:00:00",
          "2018-04-30T00:00:00",
          "2018-05-31T00:00:00",
          "2018-06-30T00:00:00",
          "2018-07-31T00:00:00",
          "2018-08-31T00:00:00",
          "2018-09-30T00:00:00",
          "2018-10-31T00:00:00",
          "2018-11-30T00:00:00",
          "2018-12-31T00:00:00"
         ],
         "y": [
          null,
          null,
          null,
          null,
          null,
          null,
          null,
          null,
          null,
          null,
          null,
          1.9326160439530515,
          2.133783461779364,
          2.1434217931610435,
          2.2962713774134698,
          2.2840968042809293,
          2.2517512685747487,
          2.186467042019553,
          2.157530375443661,
          2.161092483410946,
          2.1981623821065153,
          2.1868351329393723,
          2.216609081542805,
          2.1913302901155567,
          2.011406620190082,
          1.7910609732850415,
          1.5882718108620864,
          1.4999181326761255,
          1.4770461157557442,
          1.4732711413995625,
          1.3939722275174065,
          1.2677125032905787,
          1.1524100650853737,
          1.0559667833120014,
          0.9269393988907347,
          0.8966474678431053,
          0.9715549912402531,
          1.0856306110036946,
          1.0948415643183285,
          1.070364936503182,
          1.0326619985839167,
          0.9989995506658317,
          1.0069423831050355,
          1.0156833510343766,
          1.0054039809191835,
          0.997444411916887,
          0.9816431673974022,
          0.9300263586685187,
          0.8334285331735702,
          0.6897200058095732,
          0.6525835580004177,
          0.6455145443569984,
          0.6604008378493688,
          0.6725114716374828,
          0.667612934923704,
          0.6650537158574114,
          0.6848135830542016,
          0.6793671650191081,
          0.7221716910396413,
          0.7816395364142226,
          0.8878494821310241,
          0.9487097528208203,
          0.9052758185597707,
          0.9233117062897707,
          0.9634112633098227,
          0.9850084647295372,
          1.062431975799497,
          1.069826870183274,
          1.048051580385429,
          1.0772979017455953,
          1.108208121147754,
          1.0577125486778685,
          0.8998339959877638,
          0.9009364532556304,
          0.9516098304330857,
          0.9065831427067166,
          0.8655716983016077,
          0.8563703330519323,
          0.8245167388324575,
          0.8587637750424372,
          0.8325562461988146,
          0.7843332153263801,
          0.6772336219964962,
          0.6054191289271353
         ]
        },
        {
         "mode": "lines",
         "name": "Gaz (Rolling Mean)",
         "type": "scatter",
         "x": [
          "2012-01-31T00:00:00",
          "2012-02-29T00:00:00",
          "2012-03-31T00:00:00",
          "2012-04-30T00:00:00",
          "2012-05-31T00:00:00",
          "2012-06-30T00:00:00",
          "2012-07-31T00:00:00",
          "2012-08-31T00:00:00",
          "2012-09-30T00:00:00",
          "2012-10-31T00:00:00",
          "2012-11-30T00:00:00",
          "2012-12-31T00:00:00",
          "2013-01-31T00:00:00",
          "2013-02-28T00:00:00",
          "2013-03-31T00:00:00",
          "2013-04-30T00:00:00",
          "2013-05-31T00:00:00",
          "2013-06-30T00:00:00",
          "2013-07-31T00:00:00",
          "2013-08-31T00:00:00",
          "2013-09-30T00:00:00",
          "2013-10-31T00:00:00",
          "2013-11-30T00:00:00",
          "2013-12-31T00:00:00",
          "2014-01-31T00:00:00",
          "2014-02-28T00:00:00",
          "2014-03-31T00:00:00",
          "2014-04-30T00:00:00",
          "2014-05-31T00:00:00",
          "2014-06-30T00:00:00",
          "2014-07-31T00:00:00",
          "2014-08-31T00:00:00",
          "2014-09-30T00:00:00",
          "2014-10-31T00:00:00",
          "2014-11-30T00:00:00",
          "2014-12-31T00:00:00",
          "2015-01-31T00:00:00",
          "2015-02-28T00:00:00",
          "2015-03-31T00:00:00",
          "2015-04-30T00:00:00",
          "2015-05-31T00:00:00",
          "2015-06-30T00:00:00",
          "2015-07-31T00:00:00",
          "2015-08-31T00:00:00",
          "2015-09-30T00:00:00",
          "2015-10-31T00:00:00",
          "2015-11-30T00:00:00",
          "2015-12-31T00:00:00",
          "2016-01-31T00:00:00",
          "2016-02-29T00:00:00",
          "2016-03-31T00:00:00",
          "2016-04-30T00:00:00",
          "2016-05-31T00:00:00",
          "2016-06-30T00:00:00",
          "2016-07-31T00:00:00",
          "2016-08-31T00:00:00",
          "2016-09-30T00:00:00",
          "2016-10-31T00:00:00",
          "2016-11-30T00:00:00",
          "2016-12-31T00:00:00",
          "2017-01-31T00:00:00",
          "2017-02-28T00:00:00",
          "2017-03-31T00:00:00",
          "2017-04-30T00:00:00",
          "2017-05-31T00:00:00",
          "2017-06-30T00:00:00",
          "2017-07-31T00:00:00",
          "2017-08-31T00:00:00",
          "2017-09-30T00:00:00",
          "2017-10-31T00:00:00",
          "2017-11-30T00:00:00",
          "2017-12-31T00:00:00",
          "2018-01-31T00:00:00",
          "2018-02-28T00:00:00",
          "2018-03-31T00:00:00",
          "2018-04-30T00:00:00",
          "2018-05-31T00:00:00",
          "2018-06-30T00:00:00",
          "2018-07-31T00:00:00",
          "2018-08-31T00:00:00",
          "2018-09-30T00:00:00",
          "2018-10-31T00:00:00",
          "2018-11-30T00:00:00",
          "2018-12-31T00:00:00"
         ],
         "y": [
          null,
          null,
          null,
          null,
          null,
          null,
          null,
          null,
          null,
          null,
          null,
          0.4542632069377512,
          0.43765547914272807,
          0.39911981569454685,
          0.3931159512253683,
          0.3874827327971096,
          0.3874513711433913,
          0.3768603588925665,
          0.3705981695221435,
          0.35996830677939945,
          0.36173265419289186,
          0.36018231605183876,
          0.3497738485196682,
          0.33895684485528244,
          0.30658917148296144,
          0.2695807622608288,
          0.2385612512648133,
          0.2244453400561377,
          0.22219322345892858,
          0.2220193109125521,
          0.22072078066850742,
          0.21812559524830358,
          0.21180970347630723,
          0.21096501969392947,
          0.20542832152840898,
          0.20775194223876245,
          0.23366280791415842,
          0.271552190342257,
          0.29371530981495136,
          0.3028798184385486,
          0.3021258810818227,
          0.30163180069400375,
          0.3112332115682542,
          0.3104921595865704,
          0.3228813276395296,
          0.3543172294728658,
          0.3816955530021094,
          0.3868934584140813,
          0.40222192114424876,
          0.39471775083320465,
          0.41114012130774547,
          0.43083547994306187,
          0.4446055783269592,
          0.461708952877486,
          0.47784594716653234,
          0.5072053485168099,
          0.5533206537584249,
          0.5868443750821771,
          0.6258357028932069,
          0.6904469864572079,
          0.7353922836383177,
          0.7740855556889444,
          0.7946823875102186,
          0.8095821228283798,
          0.8216326581945612,
          0.8275181075534367,
          0.8409214357989332,
          0.8375095554145443,
          0.8143381067531026,
          0.8103154458717065,
          0.8096679186174804,
          0.7858549223390329,
          0.7251251093313211,
          0.7239199894813265,
          0.7137758036209391,
          0.6765322448792924,
          0.6530760602994391,
          0.6362687406746814,
          0.630600330423548,
          0.6364038941958645,
          0.6246356365798303,
          0.6000705780125424,
          0.5910887055743252,
          0.5720762603829025
         ]
        },
        {
         "mode": "lines",
         "name": "Nucléaire (Rolling Mean)",
         "type": "scatter",
         "x": [
          "2012-01-31T00:00:00",
          "2012-02-29T00:00:00",
          "2012-03-31T00:00:00",
          "2012-04-30T00:00:00",
          "2012-05-31T00:00:00",
          "2012-06-30T00:00:00",
          "2012-07-31T00:00:00",
          "2012-08-31T00:00:00",
          "2012-09-30T00:00:00",
          "2012-10-31T00:00:00",
          "2012-11-30T00:00:00",
          "2012-12-31T00:00:00",
          "2013-01-31T00:00:00",
          "2013-02-28T00:00:00",
          "2013-03-31T00:00:00",
          "2013-04-30T00:00:00",
          "2013-05-31T00:00:00",
          "2013-06-30T00:00:00",
          "2013-07-31T00:00:00",
          "2013-08-31T00:00:00",
          "2013-09-30T00:00:00",
          "2013-10-31T00:00:00",
          "2013-11-30T00:00:00",
          "2013-12-31T00:00:00",
          "2014-01-31T00:00:00",
          "2014-02-28T00:00:00",
          "2014-03-31T00:00:00",
          "2014-04-30T00:00:00",
          "2014-05-31T00:00:00",
          "2014-06-30T00:00:00",
          "2014-07-31T00:00:00",
          "2014-08-31T00:00:00",
          "2014-09-30T00:00:00",
          "2014-10-31T00:00:00",
          "2014-11-30T00:00:00",
          "2014-12-31T00:00:00",
          "2015-01-31T00:00:00",
          "2015-02-28T00:00:00",
          "2015-03-31T00:00:00",
          "2015-04-30T00:00:00",
          "2015-05-31T00:00:00",
          "2015-06-30T00:00:00",
          "2015-07-31T00:00:00",
          "2015-08-31T00:00:00",
          "2015-09-30T00:00:00",
          "2015-10-31T00:00:00",
          "2015-11-30T00:00:00",
          "2015-12-31T00:00:00",
          "2016-01-31T00:00:00",
          "2016-02-29T00:00:00",
          "2016-03-31T00:00:00",
          "2016-04-30T00:00:00",
          "2016-05-31T00:00:00",
          "2016-06-30T00:00:00",
          "2016-07-31T00:00:00",
          "2016-08-31T00:00:00",
          "2016-09-30T00:00:00",
          "2016-10-31T00:00:00",
          "2016-11-30T00:00:00",
          "2016-12-31T00:00:00",
          "2017-01-31T00:00:00",
          "2017-02-28T00:00:00",
          "2017-03-31T00:00:00",
          "2017-04-30T00:00:00",
          "2017-05-31T00:00:00",
          "2017-06-30T00:00:00",
          "2017-07-31T00:00:00",
          "2017-08-31T00:00:00",
          "2017-09-30T00:00:00",
          "2017-10-31T00:00:00",
          "2017-11-30T00:00:00",
          "2017-12-31T00:00:00",
          "2018-01-31T00:00:00",
          "2018-02-28T00:00:00",
          "2018-03-31T00:00:00",
          "2018-04-30T00:00:00",
          "2018-05-31T00:00:00",
          "2018-06-30T00:00:00",
          "2018-07-31T00:00:00",
          "2018-08-31T00:00:00",
          "2018-09-30T00:00:00",
          "2018-10-31T00:00:00",
          "2018-11-30T00:00:00",
          "2018-12-31T00:00:00"
         ],
         "y": [
          null,
          null,
          null,
          null,
          null,
          null,
          null,
          null,
          null,
          null,
          null,
          0.4444356476363845,
          0.4424286728615539,
          0.4326722763212723,
          0.42888628865015926,
          0.4206950462847126,
          0.4314429775185971,
          0.44190864129091395,
          0.4515028949424415,
          0.45963598285530133,
          0.4577386485062546,
          0.4489019044870659,
          0.4362369297293163,
          0.43889416169546996,
          0.44031169499373396,
          0.43840970982087685,
          0.4333125754884128,
          0.4318396766994515,
          0.4346340862590567,
          0.44677386526948065,
          0.46054856336588856,
          0.466072046200247,
          0.4771666438646048,
          0.4857874553188896,
          0.49421486043891694,
          0.500368240021207,
          0.506023102881719,
          0.511653539339748,
          0.5173896090063407,
          0.5172504316352705,
          0.5101760331448814,
          0.5087750957022569,
          0.5081576726629962,
          0.5132815064529633,
          0.5066846461743147,
          0.5152681718642906,
          0.5121426675780955,
          0.5052206582718303,
          0.4939372948810475,
          0.49302069438326784,
          0.4943284570020332,
          0.49370533344726203,
          0.48916950068101767,
          0.4785995241152443,
          0.45344100381215346,
          0.428556189981387,
          0.40734827761273534,
          0.3794976990757933,
          0.3564216445141366,
          0.33793351143460076,
          0.3324104474553247,
          0.31390623187302485,
          0.2990680811545821,
          0.30263580190990574,
          0.30622600803196515,
          0.2972691649799067,
          0.2963662462301511,
          0.30388849274733026,
          0.3185317175048448,
          0.3136472287464862,
          0.3095483512208973,
          0.31332317793646336,
          0.3147726233948095,
          0.3287284916382837,
          0.3359562396146927,
          0.3300093938978986,
          0.332290841343375,
          0.34120273920190586,
          0.3504108953033515,
          0.3438541148588903,
          0.34769819824071885,
          0.36584113599055823,
          0.37769319986935,
          0.3853316939958371
         ]
        },
        {
         "mode": "lines",
         "name": "Eolien (Rolling Mean)",
         "type": "scatter",
         "x": [
          "2012-01-31T00:00:00",
          "2012-02-29T00:00:00",
          "2012-03-31T00:00:00",
          "2012-04-30T00:00:00",
          "2012-05-31T00:00:00",
          "2012-06-30T00:00:00",
          "2012-07-31T00:00:00",
          "2012-08-31T00:00:00",
          "2012-09-30T00:00:00",
          "2012-10-31T00:00:00",
          "2012-11-30T00:00:00",
          "2012-12-31T00:00:00",
          "2013-01-31T00:00:00",
          "2013-02-28T00:00:00",
          "2013-03-31T00:00:00",
          "2013-04-30T00:00:00",
          "2013-05-31T00:00:00",
          "2013-06-30T00:00:00",
          "2013-07-31T00:00:00",
          "2013-08-31T00:00:00",
          "2013-09-30T00:00:00",
          "2013-10-31T00:00:00",
          "2013-11-30T00:00:00",
          "2013-12-31T00:00:00",
          "2014-01-31T00:00:00",
          "2014-02-28T00:00:00",
          "2014-03-31T00:00:00",
          "2014-04-30T00:00:00",
          "2014-05-31T00:00:00",
          "2014-06-30T00:00:00",
          "2014-07-31T00:00:00",
          "2014-08-31T00:00:00",
          "2014-09-30T00:00:00",
          "2014-10-31T00:00:00",
          "2014-11-30T00:00:00",
          "2014-12-31T00:00:00",
          "2015-01-31T00:00:00",
          "2015-02-28T00:00:00",
          "2015-03-31T00:00:00",
          "2015-04-30T00:00:00",
          "2015-05-31T00:00:00",
          "2015-06-30T00:00:00",
          "2015-07-31T00:00:00",
          "2015-08-31T00:00:00",
          "2015-09-30T00:00:00",
          "2015-10-31T00:00:00",
          "2015-11-30T00:00:00",
          "2015-12-31T00:00:00",
          "2016-01-31T00:00:00",
          "2016-02-29T00:00:00",
          "2016-03-31T00:00:00",
          "2016-04-30T00:00:00",
          "2016-05-31T00:00:00",
          "2016-06-30T00:00:00",
          "2016-07-31T00:00:00",
          "2016-08-31T00:00:00",
          "2016-09-30T00:00:00",
          "2016-10-31T00:00:00",
          "2016-11-30T00:00:00",
          "2016-12-31T00:00:00",
          "2017-01-31T00:00:00",
          "2017-02-28T00:00:00",
          "2017-03-31T00:00:00",
          "2017-04-30T00:00:00",
          "2017-05-31T00:00:00",
          "2017-06-30T00:00:00",
          "2017-07-31T00:00:00",
          "2017-08-31T00:00:00",
          "2017-09-30T00:00:00",
          "2017-10-31T00:00:00",
          "2017-11-30T00:00:00",
          "2017-12-31T00:00:00",
          "2018-01-31T00:00:00",
          "2018-02-28T00:00:00",
          "2018-03-31T00:00:00",
          "2018-04-30T00:00:00",
          "2018-05-31T00:00:00",
          "2018-06-30T00:00:00",
          "2018-07-31T00:00:00",
          "2018-08-31T00:00:00",
          "2018-09-30T00:00:00",
          "2018-10-31T00:00:00",
          "2018-11-30T00:00:00",
          "2018-12-31T00:00:00"
         ],
         "y": [
          null,
          null,
          null,
          null,
          null,
          null,
          null,
          null,
          null,
          null,
          null,
          0.599818125633545,
          0.5742930274953877,
          0.6073558411602048,
          0.6438789098181664,
          0.6360761712532453,
          0.6535174354859731,
          0.6698035818994995,
          0.6664956010448648,
          0.6500766517713814,
          0.6516838334392844,
          0.6765337977694559,
          0.7248103322664433,
          0.6978664043045414,
          0.7822023870913485,
          0.8813269758880505,
          0.8758004346416675,
          0.8337024621601681,
          0.8702072734596861,
          0.850829806652632,
          0.8584280725143433,
          0.8814646829852492,
          0.8602281703660156,
          0.8281111946935572,
          0.7985387897973998,
          0.8092203641799175,
          0.8193582965806883,
          0.7635237498128137,
          0.8330074686191941,
          0.8717258389596103,
          0.8766713009280761,
          0.905221390864989,
          0.9482602485448012,
          0.9629523721844095,
          1.0545545894046333,
          1.055923648503897,
          1.1569811380122283,
          1.201102278304684,
          1.2544666433205554,
          1.3506422802741482,
          1.394001709976423,
          1.4146082951725412,
          1.4107385606481289,
          1.3927779813926444,
          1.3557402591651455,
          1.3616112623817427,
          1.2954854408248908,
          1.306773635364426,
          1.2854134000076527,
          1.1839738170057197,
          1.1061900894008463,
          1.0712514778263413,
          1.0911882704629543,
          1.0722110088375327,
          1.0686771417289604,
          1.108016116586053,
          1.1757235303749034,
          1.181180149822991,
          1.245285328522714,
          1.311608290705315,
          1.312858579861085,
          1.4927642592397288,
          1.6831589367147517,
          1.706659361781017,
          1.7520779884430924,
          1.8194187498021315,
          1.8291138927038355,
          1.8191411505515378,
          1.7597840018537048,
          1.775660814406377,
          1.7721596260271468,
          1.811368371534914,
          1.8572359544102108,
          1.8844529658399
         ]
        },
        {
         "mode": "lines",
         "name": "Solaire (Rolling Mean)",
         "type": "scatter",
         "x": [
          "2012-01-31T00:00:00",
          "2012-02-29T00:00:00",
          "2012-03-31T00:00:00",
          "2012-04-30T00:00:00",
          "2012-05-31T00:00:00",
          "2012-06-30T00:00:00",
          "2012-07-31T00:00:00",
          "2012-08-31T00:00:00",
          "2012-09-30T00:00:00",
          "2012-10-31T00:00:00",
          "2012-11-30T00:00:00",
          "2012-12-31T00:00:00",
          "2013-01-31T00:00:00",
          "2013-02-28T00:00:00",
          "2013-03-31T00:00:00",
          "2013-04-30T00:00:00",
          "2013-05-31T00:00:00",
          "2013-06-30T00:00:00",
          "2013-07-31T00:00:00",
          "2013-08-31T00:00:00",
          "2013-09-30T00:00:00",
          "2013-10-31T00:00:00",
          "2013-11-30T00:00:00",
          "2013-12-31T00:00:00",
          "2014-01-31T00:00:00",
          "2014-02-28T00:00:00",
          "2014-03-31T00:00:00",
          "2014-04-30T00:00:00",
          "2014-05-31T00:00:00",
          "2014-06-30T00:00:00",
          "2014-07-31T00:00:00",
          "2014-08-31T00:00:00",
          "2014-09-30T00:00:00",
          "2014-10-31T00:00:00",
          "2014-11-30T00:00:00",
          "2014-12-31T00:00:00",
          "2015-01-31T00:00:00",
          "2015-02-28T00:00:00",
          "2015-03-31T00:00:00",
          "2015-04-30T00:00:00",
          "2015-05-31T00:00:00",
          "2015-06-30T00:00:00",
          "2015-07-31T00:00:00",
          "2015-08-31T00:00:00",
          "2015-09-30T00:00:00",
          "2015-10-31T00:00:00",
          "2015-11-30T00:00:00",
          "2015-12-31T00:00:00",
          "2016-01-31T00:00:00",
          "2016-02-29T00:00:00",
          "2016-03-31T00:00:00",
          "2016-04-30T00:00:00",
          "2016-05-31T00:00:00",
          "2016-06-30T00:00:00",
          "2016-07-31T00:00:00",
          "2016-08-31T00:00:00",
          "2016-09-30T00:00:00",
          "2016-10-31T00:00:00",
          "2016-11-30T00:00:00",
          "2016-12-31T00:00:00",
          "2017-01-31T00:00:00",
          "2017-02-28T00:00:00",
          "2017-03-31T00:00:00",
          "2017-04-30T00:00:00",
          "2017-05-31T00:00:00",
          "2017-06-30T00:00:00",
          "2017-07-31T00:00:00",
          "2017-08-31T00:00:00",
          "2017-09-30T00:00:00",
          "2017-10-31T00:00:00",
          "2017-11-30T00:00:00",
          "2017-12-31T00:00:00",
          "2018-01-31T00:00:00",
          "2018-02-28T00:00:00",
          "2018-03-31T00:00:00",
          "2018-04-30T00:00:00",
          "2018-05-31T00:00:00",
          "2018-06-30T00:00:00",
          "2018-07-31T00:00:00",
          "2018-08-31T00:00:00",
          "2018-09-30T00:00:00",
          "2018-10-31T00:00:00",
          "2018-11-30T00:00:00",
          "2018-12-31T00:00:00"
         ],
         "y": [
          null,
          null,
          null,
          null,
          null,
          null,
          null,
          null,
          null,
          null,
          null,
          null,
          null,
          null,
          null,
          null,
          null,
          null,
          null,
          null,
          null,
          null,
          null,
          null,
          null,
          null,
          null,
          null,
          null,
          null,
          null,
          null,
          null,
          null,
          null,
          null,
          null,
          null,
          null,
          null,
          null,
          null,
          null,
          null,
          null,
          null,
          null,
          null,
          null,
          null,
          null,
          null,
          null,
          null,
          null,
          null,
          null,
          null,
          null,
          null,
          null,
          null,
          null,
          null,
          null,
          null,
          null,
          null,
          null,
          null,
          null,
          null,
          null,
          null,
          null,
          null,
          null,
          null,
          null,
          null,
          null,
          null,
          null,
          null
         ]
        },
        {
         "mode": "lines",
         "name": "Hydraulique (Rolling Mean)",
         "type": "scatter",
         "x": [
          "2012-01-31T00:00:00",
          "2012-02-29T00:00:00",
          "2012-03-31T00:00:00",
          "2012-04-30T00:00:00",
          "2012-05-31T00:00:00",
          "2012-06-30T00:00:00",
          "2012-07-31T00:00:00",
          "2012-08-31T00:00:00",
          "2012-09-30T00:00:00",
          "2012-10-31T00:00:00",
          "2012-11-30T00:00:00",
          "2012-12-31T00:00:00",
          "2013-01-31T00:00:00",
          "2013-02-28T00:00:00",
          "2013-03-31T00:00:00",
          "2013-04-30T00:00:00",
          "2013-05-31T00:00:00",
          "2013-06-30T00:00:00",
          "2013-07-31T00:00:00",
          "2013-08-31T00:00:00",
          "2013-09-30T00:00:00",
          "2013-10-31T00:00:00",
          "2013-11-30T00:00:00",
          "2013-12-31T00:00:00",
          "2014-01-31T00:00:00",
          "2014-02-28T00:00:00",
          "2014-03-31T00:00:00",
          "2014-04-30T00:00:00",
          "2014-05-31T00:00:00",
          "2014-06-30T00:00:00",
          "2014-07-31T00:00:00",
          "2014-08-31T00:00:00",
          "2014-09-30T00:00:00",
          "2014-10-31T00:00:00",
          "2014-11-30T00:00:00",
          "2014-12-31T00:00:00",
          "2015-01-31T00:00:00",
          "2015-02-28T00:00:00",
          "2015-03-31T00:00:00",
          "2015-04-30T00:00:00",
          "2015-05-31T00:00:00",
          "2015-06-30T00:00:00",
          "2015-07-31T00:00:00",
          "2015-08-31T00:00:00",
          "2015-09-30T00:00:00",
          "2015-10-31T00:00:00",
          "2015-11-30T00:00:00",
          "2015-12-31T00:00:00",
          "2016-01-31T00:00:00",
          "2016-02-29T00:00:00",
          "2016-03-31T00:00:00",
          "2016-04-30T00:00:00",
          "2016-05-31T00:00:00",
          "2016-06-30T00:00:00",
          "2016-07-31T00:00:00",
          "2016-08-31T00:00:00",
          "2016-09-30T00:00:00",
          "2016-10-31T00:00:00",
          "2016-11-30T00:00:00",
          "2016-12-31T00:00:00",
          "2017-01-31T00:00:00",
          "2017-02-28T00:00:00",
          "2017-03-31T00:00:00",
          "2017-04-30T00:00:00",
          "2017-05-31T00:00:00",
          "2017-06-30T00:00:00",
          "2017-07-31T00:00:00",
          "2017-08-31T00:00:00",
          "2017-09-30T00:00:00",
          "2017-10-31T00:00:00",
          "2017-11-30T00:00:00",
          "2017-12-31T00:00:00",
          "2018-01-31T00:00:00",
          "2018-02-28T00:00:00",
          "2018-03-31T00:00:00",
          "2018-04-30T00:00:00",
          "2018-05-31T00:00:00",
          "2018-06-30T00:00:00",
          "2018-07-31T00:00:00",
          "2018-08-31T00:00:00",
          "2018-09-30T00:00:00",
          "2018-10-31T00:00:00",
          "2018-11-30T00:00:00",
          "2018-12-31T00:00:00"
         ],
         "y": [
          null,
          null,
          null,
          null,
          null,
          null,
          null,
          null,
          null,
          null,
          null,
          0.6456787808124388,
          0.6484896102907787,
          0.6814124575883523,
          0.7337831567654777,
          0.7729604463980778,
          0.7914397306485542,
          0.8022971187378299,
          0.8333741553578738,
          0.8538498654973088,
          0.8636063923594608,
          0.8702125256754574,
          0.9001096923917656,
          0.8827343772180175,
          0.8852130342708455,
          0.8895616193341169,
          0.9016674285097994,
          0.8732888453061979,
          0.8236021627441404,
          0.7754613098762925,
          0.7712198196304882,
          0.7873856668328104,
          0.780318028349972,
          0.7580775006135901,
          0.7281323512192598,
          0.7296489398285037,
          0.7134326845655283,
          0.6989845542394512,
          0.6873827626733485,
          0.6855160265084451,
          0.6920989769463075,
          0.7044635251010932,
          0.6592694701318013,
          0.6196441881784456,
          0.6126401136196217,
          0.6147192755048198,
          0.5869938341943756,
          0.544047751941188,
          0.5322866725833403,
          0.5441993121068885,
          0.5470964054107493,
          0.5628837459297669,
          0.5643973631828009,
          0.5972493389099914,
          0.6240694720301094,
          0.6336803289415217,
          0.6322405756140649,
          0.6152129616143615,
          0.62925412113457,
          0.6456384627635098,
          0.6359335304045967,
          0.585301452592106,
          0.5780198029656948,
          0.5295364671712806,
          0.5120932307843757,
          0.46801486232478223,
          0.43820862120840237,
          0.4302882244922403,
          0.4242424070614374,
          0.4170761048531339,
          0.410897500348163,
          0.42838542257263074,
          0.4722065219819882,
          0.52811963423466,
          0.5454406250372732,
          0.603057090861259,
          0.6434204660968046,
          0.6950348763722625,
          0.7237760490294353,
          0.7319418608694687,
          0.7305530405772603,
          0.7343002252435,
          0.7337608453451719,
          0.7306917808633404
         ]
        },
        {
         "mode": "lines",
         "name": "Pompage (Rolling Mean)",
         "type": "scatter",
         "x": [
          "2012-01-31T00:00:00",
          "2012-02-29T00:00:00",
          "2012-03-31T00:00:00",
          "2012-04-30T00:00:00",
          "2012-05-31T00:00:00",
          "2012-06-30T00:00:00",
          "2012-07-31T00:00:00",
          "2012-08-31T00:00:00",
          "2012-09-30T00:00:00",
          "2012-10-31T00:00:00",
          "2012-11-30T00:00:00",
          "2012-12-31T00:00:00",
          "2013-01-31T00:00:00",
          "2013-02-28T00:00:00",
          "2013-03-31T00:00:00",
          "2013-04-30T00:00:00",
          "2013-05-31T00:00:00",
          "2013-06-30T00:00:00",
          "2013-07-31T00:00:00",
          "2013-08-31T00:00:00",
          "2013-09-30T00:00:00",
          "2013-10-31T00:00:00",
          "2013-11-30T00:00:00",
          "2013-12-31T00:00:00",
          "2014-01-31T00:00:00",
          "2014-02-28T00:00:00",
          "2014-03-31T00:00:00",
          "2014-04-30T00:00:00",
          "2014-05-31T00:00:00",
          "2014-06-30T00:00:00",
          "2014-07-31T00:00:00",
          "2014-08-31T00:00:00",
          "2014-09-30T00:00:00",
          "2014-10-31T00:00:00",
          "2014-11-30T00:00:00",
          "2014-12-31T00:00:00",
          "2015-01-31T00:00:00",
          "2015-02-28T00:00:00",
          "2015-03-31T00:00:00",
          "2015-04-30T00:00:00",
          "2015-05-31T00:00:00",
          "2015-06-30T00:00:00",
          "2015-07-31T00:00:00",
          "2015-08-31T00:00:00",
          "2015-09-30T00:00:00",
          "2015-10-31T00:00:00",
          "2015-11-30T00:00:00",
          "2015-12-31T00:00:00",
          "2016-01-31T00:00:00",
          "2016-02-29T00:00:00",
          "2016-03-31T00:00:00",
          "2016-04-30T00:00:00",
          "2016-05-31T00:00:00",
          "2016-06-30T00:00:00",
          "2016-07-31T00:00:00",
          "2016-08-31T00:00:00",
          "2016-09-30T00:00:00",
          "2016-10-31T00:00:00",
          "2016-11-30T00:00:00",
          "2016-12-31T00:00:00",
          "2017-01-31T00:00:00",
          "2017-02-28T00:00:00",
          "2017-03-31T00:00:00",
          "2017-04-30T00:00:00",
          "2017-05-31T00:00:00",
          "2017-06-30T00:00:00",
          "2017-07-31T00:00:00",
          "2017-08-31T00:00:00",
          "2017-09-30T00:00:00",
          "2017-10-31T00:00:00",
          "2017-11-30T00:00:00",
          "2017-12-31T00:00:00",
          "2018-01-31T00:00:00",
          "2018-02-28T00:00:00",
          "2018-03-31T00:00:00",
          "2018-04-30T00:00:00",
          "2018-05-31T00:00:00",
          "2018-06-30T00:00:00",
          "2018-07-31T00:00:00",
          "2018-08-31T00:00:00",
          "2018-09-30T00:00:00",
          "2018-10-31T00:00:00",
          "2018-11-30T00:00:00",
          "2018-12-31T00:00:00"
         ],
         "y": [
          null,
          null,
          null,
          null,
          null,
          null,
          null,
          null,
          null,
          null,
          null,
          1.2724974838183492,
          1.2760012667673142,
          1.2518543824943171,
          1.1812197407465252,
          1.1682284345879537,
          1.1554872282089994,
          1.139802523122842,
          1.1227441130025857,
          1.061729094001076,
          1.1126791694865257,
          1.1345725527964323,
          1.0949062505422809,
          1.0619277855866176,
          0.9844671334617455,
          0.8935171447411806,
          0.8687472885973592,
          0.8855618893921254,
          0.8627242872264739,
          0.854221328543912,
          0.8021103389036391,
          0.7847833914658063,
          0.7533322053898349,
          0.7093979384663442,
          0.6742538219931632,
          0.7156844881739466,
          0.7721699463793016,
          0.8677171725059436,
          0.8833478664514901,
          0.87165174310653,
          0.8662560518506952,
          0.8665117913478059,
          0.9299505873982682,
          0.9937503253683172,
          1.074355553820258,
          1.1817828448470336,
          1.2511418258802298,
          1.1935171447411805,
          1.1445335953632847,
          1.0775910163638573,
          1.10986473354504,
          1.1637919291304426,
          1.2126112759643919,
          1.2501733128568209,
          1.269211263817308,
          1.2565945650476342,
          1.2271148940600762,
          1.1661792649278986,
          1.1542536484633943,
          1.2541161261214364,
          1.3404942561646453,
          1.3310737588283272,
          1.2771975376125777,
          1.2013650285456472,
          1.1876275443802389,
          1.1843879605046248,
          1.1805993718222363,
          1.1922397487288947,
          1.1908460877713574,
          1.1562789577802073,
          1.1464569559407918,
          1.0769532944626652,
          0.9736967914345707,
          1.0388570027938295,
          1.0551703194683049,
          1.0156489145712948,
          1.0208454804171656,
          1.0298121974074654,
          1.0479384663439015,
          1.0438772190119217,
          0.9898547989657628,
          0.9870637895430964,
          0.9597131119093483,
          0.9730172054765998
         ]
        },
        {
         "mode": "lines",
         "name": "Bioénergies (Rolling Mean)",
         "type": "scatter",
         "x": [
          "2012-01-31T00:00:00",
          "2012-02-29T00:00:00",
          "2012-03-31T00:00:00",
          "2012-04-30T00:00:00",
          "2012-05-31T00:00:00",
          "2012-06-30T00:00:00",
          "2012-07-31T00:00:00",
          "2012-08-31T00:00:00",
          "2012-09-30T00:00:00",
          "2012-10-31T00:00:00",
          "2012-11-30T00:00:00",
          "2012-12-31T00:00:00",
          "2013-01-31T00:00:00",
          "2013-02-28T00:00:00",
          "2013-03-31T00:00:00",
          "2013-04-30T00:00:00",
          "2013-05-31T00:00:00",
          "2013-06-30T00:00:00",
          "2013-07-31T00:00:00",
          "2013-08-31T00:00:00",
          "2013-09-30T00:00:00",
          "2013-10-31T00:00:00",
          "2013-11-30T00:00:00",
          "2013-12-31T00:00:00",
          "2014-01-31T00:00:00",
          "2014-02-28T00:00:00",
          "2014-03-31T00:00:00",
          "2014-04-30T00:00:00",
          "2014-05-31T00:00:00",
          "2014-06-30T00:00:00",
          "2014-07-31T00:00:00",
          "2014-08-31T00:00:00",
          "2014-09-30T00:00:00",
          "2014-10-31T00:00:00",
          "2014-11-30T00:00:00",
          "2014-12-31T00:00:00",
          "2015-01-31T00:00:00",
          "2015-02-28T00:00:00",
          "2015-03-31T00:00:00",
          "2015-04-30T00:00:00",
          "2015-05-31T00:00:00",
          "2015-06-30T00:00:00",
          "2015-07-31T00:00:00",
          "2015-08-31T00:00:00",
          "2015-09-30T00:00:00",
          "2015-10-31T00:00:00",
          "2015-11-30T00:00:00",
          "2015-12-31T00:00:00",
          "2016-01-31T00:00:00",
          "2016-02-29T00:00:00",
          "2016-03-31T00:00:00",
          "2016-04-30T00:00:00",
          "2016-05-31T00:00:00",
          "2016-06-30T00:00:00",
          "2016-07-31T00:00:00",
          "2016-08-31T00:00:00",
          "2016-09-30T00:00:00",
          "2016-10-31T00:00:00",
          "2016-11-30T00:00:00",
          "2016-12-31T00:00:00",
          "2017-01-31T00:00:00",
          "2017-02-28T00:00:00",
          "2017-03-31T00:00:00",
          "2017-04-30T00:00:00",
          "2017-05-31T00:00:00",
          "2017-06-30T00:00:00",
          "2017-07-31T00:00:00",
          "2017-08-31T00:00:00",
          "2017-09-30T00:00:00",
          "2017-10-31T00:00:00",
          "2017-11-30T00:00:00",
          "2017-12-31T00:00:00",
          "2018-01-31T00:00:00",
          "2018-02-28T00:00:00",
          "2018-03-31T00:00:00",
          "2018-04-30T00:00:00",
          "2018-05-31T00:00:00",
          "2018-06-30T00:00:00",
          "2018-07-31T00:00:00",
          "2018-08-31T00:00:00",
          "2018-09-30T00:00:00",
          "2018-10-31T00:00:00",
          "2018-11-30T00:00:00",
          "2018-12-31T00:00:00"
         ],
         "y": [
          null,
          null,
          null,
          null,
          null,
          null,
          null,
          null,
          null,
          null,
          null,
          0.6956989493441988,
          0.7208643303499901,
          0.7479540061498083,
          0.748732269706473,
          0.7641720267661628,
          0.7834508358703203,
          0.8077681385003933,
          0.8233666002853637,
          0.8621542640449871,
          0.8681133212778788,
          0.9034907409526866,
          0.9337548927598603,
          0.9744786778675584,
          1.074249395319737,
          1.1809039302309616,
          1.292850275825761,
          1.3828980398440425,
          1.4721728813300683,
          1.5187595852313052,
          1.5670805960583243,
          1.608746690472376,
          1.6620859752329074,
          1.7441531042796872,
          1.8533595043529354,
          1.9726425099762712,
          1.9797025812407967,
          1.978254782124355,
          1.9851790387682076,
          2.012607488116221,
          2.030412174483638,
          2.082551636260978,
          2.1227142323040424,
          2.1738324139141323,
          2.2386888548080672,
          2.246699628417302,
          2.2620783451980384,
          2.28263556664454,
          2.3446997962780696,
          2.4099953456787304,
          2.4682903380868457,
          2.5466687267760824,
          2.6012181350668784,
          2.637452407657504,
          2.7068986960270416,
          2.74884977224346,
          2.7759772167158814,
          2.8109971692570643,
          2.849777584483562,
          2.889263014931979,
          2.9305388330624678,
          2.941101471833727,
          2.9520341672961457,
          2.994958072958395,
          3.0197182991126286,
          3.1026617376641425,
          3.1591968625296634,
          3.2090213717276703,
          3.27721862338911,
          3.3526647896780895,
          3.4227062207674295,
          3.444166838342452,
          3.4265803709722964,
          3.4611608335050104,
          3.481698598362595,
          3.5196919754923286,
          3.5760512280541126,
          3.555702306559542,
          3.549785214518431,
          3.56884160810615,
          3.584234821953137,
          3.5849501377221302,
          3.525139438887237,
          3.526079077681386
         ]
        }
       ],
       "layout": {
        "legend": {
         "title": {
          "text": "Source"
         },
         "tracegroupgap": 0
        },
        "template": {
         "data": {
          "bar": [
           {
            "error_x": {
             "color": "#f2f5fa"
            },
            "error_y": {
             "color": "#f2f5fa"
            },
            "marker": {
             "line": {
              "color": "rgb(17,17,17)",
              "width": 0.5
             },
             "pattern": {
              "fillmode": "overlay",
              "size": 10,
              "solidity": 0.2
             }
            },
            "type": "bar"
           }
          ],
          "barpolar": [
           {
            "marker": {
             "line": {
              "color": "rgb(17,17,17)",
              "width": 0.5
             },
             "pattern": {
              "fillmode": "overlay",
              "size": 10,
              "solidity": 0.2
             }
            },
            "type": "barpolar"
           }
          ],
          "carpet": [
           {
            "aaxis": {
             "endlinecolor": "#A2B1C6",
             "gridcolor": "#506784",
             "linecolor": "#506784",
             "minorgridcolor": "#506784",
             "startlinecolor": "#A2B1C6"
            },
            "baxis": {
             "endlinecolor": "#A2B1C6",
             "gridcolor": "#506784",
             "linecolor": "#506784",
             "minorgridcolor": "#506784",
             "startlinecolor": "#A2B1C6"
            },
            "type": "carpet"
           }
          ],
          "choropleth": [
           {
            "colorbar": {
             "outlinewidth": 0,
             "ticks": ""
            },
            "type": "choropleth"
           }
          ],
          "contour": [
           {
            "colorbar": {
             "outlinewidth": 0,
             "ticks": ""
            },
            "colorscale": [
             [
              0,
              "#0d0887"
             ],
             [
              0.1111111111111111,
              "#46039f"
             ],
             [
              0.2222222222222222,
              "#7201a8"
             ],
             [
              0.3333333333333333,
              "#9c179e"
             ],
             [
              0.4444444444444444,
              "#bd3786"
             ],
             [
              0.5555555555555556,
              "#d8576b"
             ],
             [
              0.6666666666666666,
              "#ed7953"
             ],
             [
              0.7777777777777778,
              "#fb9f3a"
             ],
             [
              0.8888888888888888,
              "#fdca26"
             ],
             [
              1,
              "#f0f921"
             ]
            ],
            "type": "contour"
           }
          ],
          "contourcarpet": [
           {
            "colorbar": {
             "outlinewidth": 0,
             "ticks": ""
            },
            "type": "contourcarpet"
           }
          ],
          "heatmap": [
           {
            "colorbar": {
             "outlinewidth": 0,
             "ticks": ""
            },
            "colorscale": [
             [
              0,
              "#0d0887"
             ],
             [
              0.1111111111111111,
              "#46039f"
             ],
             [
              0.2222222222222222,
              "#7201a8"
             ],
             [
              0.3333333333333333,
              "#9c179e"
             ],
             [
              0.4444444444444444,
              "#bd3786"
             ],
             [
              0.5555555555555556,
              "#d8576b"
             ],
             [
              0.6666666666666666,
              "#ed7953"
             ],
             [
              0.7777777777777778,
              "#fb9f3a"
             ],
             [
              0.8888888888888888,
              "#fdca26"
             ],
             [
              1,
              "#f0f921"
             ]
            ],
            "type": "heatmap"
           }
          ],
          "heatmapgl": [
           {
            "colorbar": {
             "outlinewidth": 0,
             "ticks": ""
            },
            "colorscale": [
             [
              0,
              "#0d0887"
             ],
             [
              0.1111111111111111,
              "#46039f"
             ],
             [
              0.2222222222222222,
              "#7201a8"
             ],
             [
              0.3333333333333333,
              "#9c179e"
             ],
             [
              0.4444444444444444,
              "#bd3786"
             ],
             [
              0.5555555555555556,
              "#d8576b"
             ],
             [
              0.6666666666666666,
              "#ed7953"
             ],
             [
              0.7777777777777778,
              "#fb9f3a"
             ],
             [
              0.8888888888888888,
              "#fdca26"
             ],
             [
              1,
              "#f0f921"
             ]
            ],
            "type": "heatmapgl"
           }
          ],
          "histogram": [
           {
            "marker": {
             "pattern": {
              "fillmode": "overlay",
              "size": 10,
              "solidity": 0.2
             }
            },
            "type": "histogram"
           }
          ],
          "histogram2d": [
           {
            "colorbar": {
             "outlinewidth": 0,
             "ticks": ""
            },
            "colorscale": [
             [
              0,
              "#0d0887"
             ],
             [
              0.1111111111111111,
              "#46039f"
             ],
             [
              0.2222222222222222,
              "#7201a8"
             ],
             [
              0.3333333333333333,
              "#9c179e"
             ],
             [
              0.4444444444444444,
              "#bd3786"
             ],
             [
              0.5555555555555556,
              "#d8576b"
             ],
             [
              0.6666666666666666,
              "#ed7953"
             ],
             [
              0.7777777777777778,
              "#fb9f3a"
             ],
             [
              0.8888888888888888,
              "#fdca26"
             ],
             [
              1,
              "#f0f921"
             ]
            ],
            "type": "histogram2d"
           }
          ],
          "histogram2dcontour": [
           {
            "colorbar": {
             "outlinewidth": 0,
             "ticks": ""
            },
            "colorscale": [
             [
              0,
              "#0d0887"
             ],
             [
              0.1111111111111111,
              "#46039f"
             ],
             [
              0.2222222222222222,
              "#7201a8"
             ],
             [
              0.3333333333333333,
              "#9c179e"
             ],
             [
              0.4444444444444444,
              "#bd3786"
             ],
             [
              0.5555555555555556,
              "#d8576b"
             ],
             [
              0.6666666666666666,
              "#ed7953"
             ],
             [
              0.7777777777777778,
              "#fb9f3a"
             ],
             [
              0.8888888888888888,
              "#fdca26"
             ],
             [
              1,
              "#f0f921"
             ]
            ],
            "type": "histogram2dcontour"
           }
          ],
          "mesh3d": [
           {
            "colorbar": {
             "outlinewidth": 0,
             "ticks": ""
            },
            "type": "mesh3d"
           }
          ],
          "parcoords": [
           {
            "line": {
             "colorbar": {
              "outlinewidth": 0,
              "ticks": ""
             }
            },
            "type": "parcoords"
           }
          ],
          "pie": [
           {
            "automargin": true,
            "type": "pie"
           }
          ],
          "scatter": [
           {
            "marker": {
             "line": {
              "color": "#283442"
             }
            },
            "type": "scatter"
           }
          ],
          "scatter3d": [
           {
            "line": {
             "colorbar": {
              "outlinewidth": 0,
              "ticks": ""
             }
            },
            "marker": {
             "colorbar": {
              "outlinewidth": 0,
              "ticks": ""
             }
            },
            "type": "scatter3d"
           }
          ],
          "scattercarpet": [
           {
            "marker": {
             "colorbar": {
              "outlinewidth": 0,
              "ticks": ""
             }
            },
            "type": "scattercarpet"
           }
          ],
          "scattergeo": [
           {
            "marker": {
             "colorbar": {
              "outlinewidth": 0,
              "ticks": ""
             }
            },
            "type": "scattergeo"
           }
          ],
          "scattergl": [
           {
            "marker": {
             "line": {
              "color": "#283442"
             }
            },
            "type": "scattergl"
           }
          ],
          "scattermapbox": [
           {
            "marker": {
             "colorbar": {
              "outlinewidth": 0,
              "ticks": ""
             }
            },
            "type": "scattermapbox"
           }
          ],
          "scatterpolar": [
           {
            "marker": {
             "colorbar": {
              "outlinewidth": 0,
              "ticks": ""
             }
            },
            "type": "scatterpolar"
           }
          ],
          "scatterpolargl": [
           {
            "marker": {
             "colorbar": {
              "outlinewidth": 0,
              "ticks": ""
             }
            },
            "type": "scatterpolargl"
           }
          ],
          "scatterternary": [
           {
            "marker": {
             "colorbar": {
              "outlinewidth": 0,
              "ticks": ""
             }
            },
            "type": "scatterternary"
           }
          ],
          "surface": [
           {
            "colorbar": {
             "outlinewidth": 0,
             "ticks": ""
            },
            "colorscale": [
             [
              0,
              "#0d0887"
             ],
             [
              0.1111111111111111,
              "#46039f"
             ],
             [
              0.2222222222222222,
              "#7201a8"
             ],
             [
              0.3333333333333333,
              "#9c179e"
             ],
             [
              0.4444444444444444,
              "#bd3786"
             ],
             [
              0.5555555555555556,
              "#d8576b"
             ],
             [
              0.6666666666666666,
              "#ed7953"
             ],
             [
              0.7777777777777778,
              "#fb9f3a"
             ],
             [
              0.8888888888888888,
              "#fdca26"
             ],
             [
              1,
              "#f0f921"
             ]
            ],
            "type": "surface"
           }
          ],
          "table": [
           {
            "cells": {
             "fill": {
              "color": "#506784"
             },
             "line": {
              "color": "rgb(17,17,17)"
             }
            },
            "header": {
             "fill": {
              "color": "#2a3f5f"
             },
             "line": {
              "color": "rgb(17,17,17)"
             }
            },
            "type": "table"
           }
          ]
         },
         "layout": {
          "annotationdefaults": {
           "arrowcolor": "#f2f5fa",
           "arrowhead": 0,
           "arrowwidth": 1
          },
          "autotypenumbers": "strict",
          "coloraxis": {
           "colorbar": {
            "outlinewidth": 0,
            "ticks": ""
           }
          },
          "colorscale": {
           "diverging": [
            [
             0,
             "#8e0152"
            ],
            [
             0.1,
             "#c51b7d"
            ],
            [
             0.2,
             "#de77ae"
            ],
            [
             0.3,
             "#f1b6da"
            ],
            [
             0.4,
             "#fde0ef"
            ],
            [
             0.5,
             "#f7f7f7"
            ],
            [
             0.6,
             "#e6f5d0"
            ],
            [
             0.7,
             "#b8e186"
            ],
            [
             0.8,
             "#7fbc41"
            ],
            [
             0.9,
             "#4d9221"
            ],
            [
             1,
             "#276419"
            ]
           ],
           "sequential": [
            [
             0,
             "#0d0887"
            ],
            [
             0.1111111111111111,
             "#46039f"
            ],
            [
             0.2222222222222222,
             "#7201a8"
            ],
            [
             0.3333333333333333,
             "#9c179e"
            ],
            [
             0.4444444444444444,
             "#bd3786"
            ],
            [
             0.5555555555555556,
             "#d8576b"
            ],
            [
             0.6666666666666666,
             "#ed7953"
            ],
            [
             0.7777777777777778,
             "#fb9f3a"
            ],
            [
             0.8888888888888888,
             "#fdca26"
            ],
            [
             1,
             "#f0f921"
            ]
           ],
           "sequentialminus": [
            [
             0,
             "#0d0887"
            ],
            [
             0.1111111111111111,
             "#46039f"
            ],
            [
             0.2222222222222222,
             "#7201a8"
            ],
            [
             0.3333333333333333,
             "#9c179e"
            ],
            [
             0.4444444444444444,
             "#bd3786"
            ],
            [
             0.5555555555555556,
             "#d8576b"
            ],
            [
             0.6666666666666666,
             "#ed7953"
            ],
            [
             0.7777777777777778,
             "#fb9f3a"
            ],
            [
             0.8888888888888888,
             "#fdca26"
            ],
            [
             1,
             "#f0f921"
            ]
           ]
          },
          "colorway": [
           "#636efa",
           "#EF553B",
           "#00cc96",
           "#ab63fa",
           "#FFA15A",
           "#19d3f3",
           "#FF6692",
           "#B6E880",
           "#FF97FF",
           "#FECB52"
          ],
          "font": {
           "color": "#f2f5fa"
          },
          "geo": {
           "bgcolor": "rgb(17,17,17)",
           "lakecolor": "rgb(17,17,17)",
           "landcolor": "rgb(17,17,17)",
           "showlakes": true,
           "showland": true,
           "subunitcolor": "#506784"
          },
          "hoverlabel": {
           "align": "left"
          },
          "hovermode": "closest",
          "mapbox": {
           "style": "dark"
          },
          "paper_bgcolor": "rgb(17,17,17)",
          "plot_bgcolor": "rgb(17,17,17)",
          "polar": {
           "angularaxis": {
            "gridcolor": "#506784",
            "linecolor": "#506784",
            "ticks": ""
           },
           "bgcolor": "rgb(17,17,17)",
           "radialaxis": {
            "gridcolor": "#506784",
            "linecolor": "#506784",
            "ticks": ""
           }
          },
          "scene": {
           "xaxis": {
            "backgroundcolor": "rgb(17,17,17)",
            "gridcolor": "#506784",
            "gridwidth": 2,
            "linecolor": "#506784",
            "showbackground": true,
            "ticks": "",
            "zerolinecolor": "#C8D4E3"
           },
           "yaxis": {
            "backgroundcolor": "rgb(17,17,17)",
            "gridcolor": "#506784",
            "gridwidth": 2,
            "linecolor": "#506784",
            "showbackground": true,
            "ticks": "",
            "zerolinecolor": "#C8D4E3"
           },
           "zaxis": {
            "backgroundcolor": "rgb(17,17,17)",
            "gridcolor": "#506784",
            "gridwidth": 2,
            "linecolor": "#506784",
            "showbackground": true,
            "ticks": "",
            "zerolinecolor": "#C8D4E3"
           }
          },
          "shapedefaults": {
           "line": {
            "color": "#f2f5fa"
           }
          },
          "sliderdefaults": {
           "bgcolor": "#C8D4E3",
           "bordercolor": "rgb(17,17,17)",
           "borderwidth": 1,
           "tickwidth": 0
          },
          "ternary": {
           "aaxis": {
            "gridcolor": "#506784",
            "linecolor": "#506784",
            "ticks": ""
           },
           "baxis": {
            "gridcolor": "#506784",
            "linecolor": "#506784",
            "ticks": ""
           },
           "bgcolor": "rgb(17,17,17)",
           "caxis": {
            "gridcolor": "#506784",
            "linecolor": "#506784",
            "ticks": ""
           }
          },
          "title": {
           "x": 0.05
          },
          "updatemenudefaults": {
           "bgcolor": "#506784",
           "borderwidth": 0
          },
          "xaxis": {
           "automargin": true,
           "gridcolor": "#283442",
           "linecolor": "#506784",
           "ticks": "",
           "title": {
            "standoff": 15
           },
           "zerolinecolor": "#283442",
           "zerolinewidth": 2
          },
          "yaxis": {
           "automargin": true,
           "gridcolor": "#283442",
           "linecolor": "#506784",
           "ticks": "",
           "title": {
            "standoff": 15
           },
           "zerolinecolor": "#283442",
           "zerolinewidth": 2
          }
         }
        },
        "title": {
         "text": "Relative Monthly Energy Consumption Over Time (Month 1 as Base)"
        },
        "xaxis": {
         "anchor": "y",
         "domain": [
          0,
          1
         ],
         "title": {
          "text": "Year"
         }
        },
        "yaxis": {
         "anchor": "x",
         "domain": [
          0,
          1
         ],
         "title": {
          "text": "Relative Consumption(Year base=2013)"
         }
        }
       }
      }
     },
     "metadata": {},
     "output_type": "display_data"
    }
   ],
   "source": [
    "base_month_consumption = df_data_nationales_norm_minmax.iloc[0, :]\n",
    "relative_consumption = df_data_nationales_norm_minmax.div(base_month_consumption)\n",
    "\n",
    "fig = px.line(relative_consumption, x=df_data_nationales_norm_minmax.index, y=relative_consumption.columns,\n",
    "              labels={'index': 'Month', 'value': 'Relative Consumption'},\n",
    "              title='Relative Monthly Energy Consumption Over Time (Month 1 as Base)',\n",
    "              template='plotly_dark')\n",
    "\n",
    "for source in relative_consumption.columns:\n",
    "    rolling_mean = relative_consumption[source].rolling(window=12).mean()\n",
    "    fig.add_scatter(x=df_data_nationales_norm_minmax.index, y=rolling_mean, mode='lines', name=f'{source} (Rolling Mean)')\n",
    "\n",
    "fig.update_layout(xaxis_title='Year', yaxis_title='Relative Consumption(Year base=2013)', legend_title='Source')\n",
    "fig.show()\n"
   ]
  },
  {
   "cell_type": "code",
   "execution_count": 20,
   "metadata": {},
   "outputs": [
    {
     "data": {
      "text/html": [
       "<div>\n",
       "<style scoped>\n",
       "    .dataframe tbody tr th:only-of-type {\n",
       "        vertical-align: middle;\n",
       "    }\n",
       "\n",
       "    .dataframe tbody tr th {\n",
       "        vertical-align: top;\n",
       "    }\n",
       "\n",
       "    .dataframe thead th {\n",
       "        text-align: right;\n",
       "    }\n",
       "</style>\n",
       "<table border=\"1\" class=\"dataframe\">\n",
       "  <thead>\n",
       "    <tr style=\"text-align: right;\">\n",
       "      <th></th>\n",
       "      <th>Consommation</th>\n",
       "      <th>Fioul</th>\n",
       "      <th>Charbon</th>\n",
       "      <th>Gaz</th>\n",
       "      <th>Nucléaire</th>\n",
       "      <th>Eolien</th>\n",
       "      <th>Solaire</th>\n",
       "      <th>Hydraulique</th>\n",
       "      <th>Pompage</th>\n",
       "      <th>Bioénergies</th>\n",
       "    </tr>\n",
       "    <tr>\n",
       "      <th>DateTime</th>\n",
       "      <th></th>\n",
       "      <th></th>\n",
       "      <th></th>\n",
       "      <th></th>\n",
       "      <th></th>\n",
       "      <th></th>\n",
       "      <th></th>\n",
       "      <th></th>\n",
       "      <th></th>\n",
       "      <th></th>\n",
       "    </tr>\n",
       "  </thead>\n",
       "  <tbody>\n",
       "    <tr>\n",
       "      <th>2012-01-31</th>\n",
       "      <td>0.760939</td>\n",
       "      <td>0.395978</td>\n",
       "      <td>0.264812</td>\n",
       "      <td>0.674385</td>\n",
       "      <td>0.942698</td>\n",
       "      <td>0.261843</td>\n",
       "      <td>0.000000</td>\n",
       "      <td>0.685342</td>\n",
       "      <td>0.485291</td>\n",
       "      <td>0.238350</td>\n",
       "    </tr>\n",
       "    <tr>\n",
       "      <th>2012-02-29</th>\n",
       "      <td>0.889888</td>\n",
       "      <td>1.000000</td>\n",
       "      <td>0.909174</td>\n",
       "      <td>0.842396</td>\n",
       "      <td>0.704414</td>\n",
       "      <td>0.120193</td>\n",
       "      <td>0.065022</td>\n",
       "      <td>0.429109</td>\n",
       "      <td>0.974199</td>\n",
       "      <td>0.112817</td>\n",
       "    </tr>\n",
       "    <tr>\n",
       "      <th>2012-03-31</th>\n",
       "      <td>0.463166</td>\n",
       "      <td>0.386935</td>\n",
       "      <td>0.514283</td>\n",
       "      <td>0.528641</td>\n",
       "      <td>0.641211</td>\n",
       "      <td>0.075655</td>\n",
       "      <td>0.163887</td>\n",
       "      <td>0.199038</td>\n",
       "      <td>0.922598</td>\n",
       "      <td>0.283511</td>\n",
       "    </tr>\n",
       "    <tr>\n",
       "      <th>2012-04-30</th>\n",
       "      <td>0.349394</td>\n",
       "      <td>0.299764</td>\n",
       "      <td>0.582241</td>\n",
       "      <td>0.180566</td>\n",
       "      <td>0.382192</td>\n",
       "      <td>0.256738</td>\n",
       "      <td>0.144519</td>\n",
       "      <td>0.439142</td>\n",
       "      <td>0.731803</td>\n",
       "      <td>0.000000</td>\n",
       "    </tr>\n",
       "    <tr>\n",
       "      <th>2012-05-31</th>\n",
       "      <td>0.162897</td>\n",
       "      <td>0.207607</td>\n",
       "      <td>0.295278</td>\n",
       "      <td>0.034463</td>\n",
       "      <td>0.148500</td>\n",
       "      <td>0.074804</td>\n",
       "      <td>0.234420</td>\n",
       "      <td>0.848024</td>\n",
       "      <td>0.396462</td>\n",
       "      <td>0.134298</td>\n",
       "    </tr>\n",
       "    <tr>\n",
       "      <th>...</th>\n",
       "      <td>...</td>\n",
       "      <td>...</td>\n",
       "      <td>...</td>\n",
       "      <td>...</td>\n",
       "      <td>...</td>\n",
       "      <td>...</td>\n",
       "      <td>...</td>\n",
       "      <td>...</td>\n",
       "      <td>...</td>\n",
       "      <td>...</td>\n",
       "    </tr>\n",
       "    <tr>\n",
       "      <th>2018-08-31</th>\n",
       "      <td>0.054940</td>\n",
       "      <td>0.018730</td>\n",
       "      <td>0.168125</td>\n",
       "      <td>0.256962</td>\n",
       "      <td>0.047438</td>\n",
       "      <td>0.206881</td>\n",
       "      <td>0.917987</td>\n",
       "      <td>0.200140</td>\n",
       "      <td>0.712480</td>\n",
       "      <td>0.873819</td>\n",
       "    </tr>\n",
       "    <tr>\n",
       "      <th>2018-09-30</th>\n",
       "      <td>0.065634</td>\n",
       "      <td>0.073612</td>\n",
       "      <td>0.112790</td>\n",
       "      <td>0.212430</td>\n",
       "      <td>0.209135</td>\n",
       "      <td>0.270474</td>\n",
       "      <td>0.802404</td>\n",
       "      <td>0.050706</td>\n",
       "      <td>0.471096</td>\n",
       "      <td>0.819937</td>\n",
       "    </tr>\n",
       "    <tr>\n",
       "      <th>2018-10-31</th>\n",
       "      <td>0.231794</td>\n",
       "      <td>0.213122</td>\n",
       "      <td>0.272168</td>\n",
       "      <td>0.397885</td>\n",
       "      <td>0.294363</td>\n",
       "      <td>0.538276</td>\n",
       "      <td>0.525221</td>\n",
       "      <td>0.030817</td>\n",
       "      <td>0.291420</td>\n",
       "      <td>0.780887</td>\n",
       "    </tr>\n",
       "    <tr>\n",
       "      <th>2018-11-30</th>\n",
       "      <td>0.484315</td>\n",
       "      <td>0.268233</td>\n",
       "      <td>0.168363</td>\n",
       "      <td>0.791900</td>\n",
       "      <td>0.357062</td>\n",
       "      <td>0.634517</td>\n",
       "      <td>0.277117</td>\n",
       "      <td>0.203340</td>\n",
       "      <td>0.332453</td>\n",
       "      <td>0.828930</td>\n",
       "    </tr>\n",
       "    <tr>\n",
       "      <th>2018-12-31</th>\n",
       "      <td>0.627400</td>\n",
       "      <td>0.205857</td>\n",
       "      <td>0.066002</td>\n",
       "      <td>0.653430</td>\n",
       "      <td>0.716701</td>\n",
       "      <td>0.895241</td>\n",
       "      <td>0.126261</td>\n",
       "      <td>0.414095</td>\n",
       "      <td>0.349378</td>\n",
       "      <td>0.944316</td>\n",
       "    </tr>\n",
       "  </tbody>\n",
       "</table>\n",
       "<p>84 rows × 10 columns</p>\n",
       "</div>"
      ],
      "text/plain": [
       "            Consommation     Fioul   Charbon       Gaz  Nucléaire    Eolien  \\\n",
       "DateTime                                                                      \n",
       "2012-01-31      0.760939  0.395978  0.264812  0.674385   0.942698  0.261843   \n",
       "2012-02-29      0.889888  1.000000  0.909174  0.842396   0.704414  0.120193   \n",
       "2012-03-31      0.463166  0.386935  0.514283  0.528641   0.641211  0.075655   \n",
       "2012-04-30      0.349394  0.299764  0.582241  0.180566   0.382192  0.256738   \n",
       "2012-05-31      0.162897  0.207607  0.295278  0.034463   0.148500  0.074804   \n",
       "...                  ...       ...       ...       ...        ...       ...   \n",
       "2018-08-31      0.054940  0.018730  0.168125  0.256962   0.047438  0.206881   \n",
       "2018-09-30      0.065634  0.073612  0.112790  0.212430   0.209135  0.270474   \n",
       "2018-10-31      0.231794  0.213122  0.272168  0.397885   0.294363  0.538276   \n",
       "2018-11-30      0.484315  0.268233  0.168363  0.791900   0.357062  0.634517   \n",
       "2018-12-31      0.627400  0.205857  0.066002  0.653430   0.716701  0.895241   \n",
       "\n",
       "             Solaire  Hydraulique   Pompage  Bioénergies  \n",
       "DateTime                                                  \n",
       "2012-01-31  0.000000     0.685342  0.485291     0.238350  \n",
       "2012-02-29  0.065022     0.429109  0.974199     0.112817  \n",
       "2012-03-31  0.163887     0.199038  0.922598     0.283511  \n",
       "2012-04-30  0.144519     0.439142  0.731803     0.000000  \n",
       "2012-05-31  0.234420     0.848024  0.396462     0.134298  \n",
       "...              ...          ...       ...          ...  \n",
       "2018-08-31  0.917987     0.200140  0.712480     0.873819  \n",
       "2018-09-30  0.802404     0.050706  0.471096     0.819937  \n",
       "2018-10-31  0.525221     0.030817  0.291420     0.780887  \n",
       "2018-11-30  0.277117     0.203340  0.332453     0.828930  \n",
       "2018-12-31  0.126261     0.414095  0.349378     0.944316  \n",
       "\n",
       "[84 rows x 10 columns]"
      ]
     },
     "execution_count": 20,
     "metadata": {},
     "output_type": "execute_result"
    }
   ],
   "source": [
    "df_data_nationales_norm_minmax"
   ]
  },
  {
   "cell_type": "code",
   "execution_count": 21,
   "metadata": {},
   "outputs": [],
   "source": [
    "df2 = df_data_nationales_norm_minmax.drop('2012-01-31', axis=0)"
   ]
  },
  {
   "cell_type": "code",
   "execution_count": 22,
   "metadata": {},
   "outputs": [
    {
     "data": {
      "application/vnd.plotly.v1+json": {
       "config": {
        "plotlyServerURL": "https://plot.ly"
       },
       "data": [
        {
         "hovertemplate": "variable=Consommation<br>DateTime=%{x}<br>Relative Consumption=%{y}<extra></extra>",
         "legendgroup": "Consommation",
         "line": {
          "color": "#636efa",
          "dash": "solid"
         },
         "marker": {
          "symbol": "circle"
         },
         "mode": "lines",
         "name": "Consommation",
         "orientation": "v",
         "showlegend": true,
         "type": "scatter",
         "x": [
          "2012-02-29T00:00:00",
          "2012-03-31T00:00:00",
          "2012-04-30T00:00:00",
          "2012-05-31T00:00:00",
          "2012-06-30T00:00:00",
          "2012-07-31T00:00:00",
          "2012-08-31T00:00:00",
          "2012-09-30T00:00:00",
          "2012-10-31T00:00:00",
          "2012-11-30T00:00:00",
          "2012-12-31T00:00:00",
          "2013-01-31T00:00:00",
          "2013-02-28T00:00:00",
          "2013-03-31T00:00:00",
          "2013-04-30T00:00:00",
          "2013-05-31T00:00:00",
          "2013-06-30T00:00:00",
          "2013-07-31T00:00:00",
          "2013-08-31T00:00:00",
          "2013-09-30T00:00:00",
          "2013-10-31T00:00:00",
          "2013-11-30T00:00:00",
          "2013-12-31T00:00:00",
          "2014-01-31T00:00:00",
          "2014-02-28T00:00:00",
          "2014-03-31T00:00:00",
          "2014-04-30T00:00:00",
          "2014-05-31T00:00:00",
          "2014-06-30T00:00:00",
          "2014-07-31T00:00:00",
          "2014-08-31T00:00:00",
          "2014-09-30T00:00:00",
          "2014-10-31T00:00:00",
          "2014-11-30T00:00:00",
          "2014-12-31T00:00:00",
          "2015-01-31T00:00:00",
          "2015-02-28T00:00:00",
          "2015-03-31T00:00:00",
          "2015-04-30T00:00:00",
          "2015-05-31T00:00:00",
          "2015-06-30T00:00:00",
          "2015-07-31T00:00:00",
          "2015-08-31T00:00:00",
          "2015-09-30T00:00:00",
          "2015-10-31T00:00:00",
          "2015-11-30T00:00:00",
          "2015-12-31T00:00:00",
          "2016-01-31T00:00:00",
          "2016-02-29T00:00:00",
          "2016-03-31T00:00:00",
          "2016-04-30T00:00:00",
          "2016-05-31T00:00:00",
          "2016-06-30T00:00:00",
          "2016-07-31T00:00:00",
          "2016-08-31T00:00:00",
          "2016-09-30T00:00:00",
          "2016-10-31T00:00:00",
          "2016-11-30T00:00:00",
          "2016-12-31T00:00:00",
          "2017-01-31T00:00:00",
          "2017-02-28T00:00:00",
          "2017-03-31T00:00:00",
          "2017-04-30T00:00:00",
          "2017-05-31T00:00:00",
          "2017-06-30T00:00:00",
          "2017-07-31T00:00:00",
          "2017-08-31T00:00:00",
          "2017-09-30T00:00:00",
          "2017-10-31T00:00:00",
          "2017-11-30T00:00:00",
          "2017-12-31T00:00:00",
          "2018-01-31T00:00:00",
          "2018-02-28T00:00:00",
          "2018-03-31T00:00:00",
          "2018-04-30T00:00:00",
          "2018-05-31T00:00:00",
          "2018-06-30T00:00:00",
          "2018-07-31T00:00:00",
          "2018-08-31T00:00:00",
          "2018-09-30T00:00:00",
          "2018-10-31T00:00:00",
          "2018-11-30T00:00:00",
          "2018-12-31T00:00:00"
         ],
         "xaxis": "x",
         "y": [
          1,
          0.520476009379324,
          0.3926264836404984,
          0.1830527979485678,
          0.09627478258873089,
          0.13431442781725647,
          0.05292859985203085,
          0.09889610867216633,
          0.3258648936841446,
          0.5669812091532034,
          0.7927246929497448,
          0.9621737326649398,
          0.793203107524684,
          0.7896769311462184,
          0.4008221578261964,
          0.2526312321521396,
          0.0889962492647264,
          0.16233747459282755,
          0.027342115241943625,
          0.0974330404700409,
          0.2592037833778238,
          0.6104514711349532,
          0.8130223290790262,
          0.7808549715054095,
          0.5773432877534681,
          0.5195215273862738,
          0.2282466412025756,
          0.15939522815762006,
          0.0698800011804065,
          0.1255405422158453,
          0,
          0.09771292825289955,
          0.2283415516895891,
          0.4118847987262875,
          0.7852682024625901,
          0.9170118320815839,
          0.7530144055043304,
          0.6304236419633318,
          0.25314267762498704,
          0.12730246749555874,
          0.09823004957771338,
          0.16696500096841566,
          0.02544307332788919,
          0.10955582809602618,
          0.3486595419361283,
          0.4308743003418889,
          0.5844507560202812,
          0.8160427785121889,
          0.6583662666108556,
          0.695838155940448,
          0.34724388630193076,
          0.16170743368679166,
          0.08110818065024826,
          0.11649297812827526,
          0.04856297350288254,
          0.097546472158207,
          0.3228728448486022,
          0.5672515162686455,
          0.8379225050325709,
          1.1237365388155407,
          0.5488039945024465,
          0.5027097178758034,
          0.24236077801932873,
          0.1740392249594266,
          0.10270957704639373,
          0.12289175439752102,
          0.04700883561582605,
          0.11424559680313832,
          0.23957284647667548,
          0.5953941613535038,
          0.8830381452886236,
          0.7547986927872788,
          0.8176021014820568,
          0.7476797234520078,
          0.22650157277644603,
          0.12944540034184415,
          0.07094469285543178,
          0.15392146639433685,
          0.06173826892617641,
          0.0737556905483685,
          0.26047511020488084,
          0.5442422311936246,
          0.7050326520454587
         ],
         "yaxis": "y"
        },
        {
         "hovertemplate": "variable=Fioul<br>DateTime=%{x}<br>Relative Consumption=%{y}<extra></extra>",
         "legendgroup": "Fioul",
         "line": {
          "color": "#EF553B",
          "dash": "solid"
         },
         "marker": {
          "symbol": "circle"
         },
         "mode": "lines",
         "name": "Fioul",
         "orientation": "v",
         "showlegend": true,
         "type": "scatter",
         "x": [
          "2012-02-29T00:00:00",
          "2012-03-31T00:00:00",
          "2012-04-30T00:00:00",
          "2012-05-31T00:00:00",
          "2012-06-30T00:00:00",
          "2012-07-31T00:00:00",
          "2012-08-31T00:00:00",
          "2012-09-30T00:00:00",
          "2012-10-31T00:00:00",
          "2012-11-30T00:00:00",
          "2012-12-31T00:00:00",
          "2013-01-31T00:00:00",
          "2013-02-28T00:00:00",
          "2013-03-31T00:00:00",
          "2013-04-30T00:00:00",
          "2013-05-31T00:00:00",
          "2013-06-30T00:00:00",
          "2013-07-31T00:00:00",
          "2013-08-31T00:00:00",
          "2013-09-30T00:00:00",
          "2013-10-31T00:00:00",
          "2013-11-30T00:00:00",
          "2013-12-31T00:00:00",
          "2014-01-31T00:00:00",
          "2014-02-28T00:00:00",
          "2014-03-31T00:00:00",
          "2014-04-30T00:00:00",
          "2014-05-31T00:00:00",
          "2014-06-30T00:00:00",
          "2014-07-31T00:00:00",
          "2014-08-31T00:00:00",
          "2014-09-30T00:00:00",
          "2014-10-31T00:00:00",
          "2014-11-30T00:00:00",
          "2014-12-31T00:00:00",
          "2015-01-31T00:00:00",
          "2015-02-28T00:00:00",
          "2015-03-31T00:00:00",
          "2015-04-30T00:00:00",
          "2015-05-31T00:00:00",
          "2015-06-30T00:00:00",
          "2015-07-31T00:00:00",
          "2015-08-31T00:00:00",
          "2015-09-30T00:00:00",
          "2015-10-31T00:00:00",
          "2015-11-30T00:00:00",
          "2015-12-31T00:00:00",
          "2016-01-31T00:00:00",
          "2016-02-29T00:00:00",
          "2016-03-31T00:00:00",
          "2016-04-30T00:00:00",
          "2016-05-31T00:00:00",
          "2016-06-30T00:00:00",
          "2016-07-31T00:00:00",
          "2016-08-31T00:00:00",
          "2016-09-30T00:00:00",
          "2016-10-31T00:00:00",
          "2016-11-30T00:00:00",
          "2016-12-31T00:00:00",
          "2017-01-31T00:00:00",
          "2017-02-28T00:00:00",
          "2017-03-31T00:00:00",
          "2017-04-30T00:00:00",
          "2017-05-31T00:00:00",
          "2017-06-30T00:00:00",
          "2017-07-31T00:00:00",
          "2017-08-31T00:00:00",
          "2017-09-30T00:00:00",
          "2017-10-31T00:00:00",
          "2017-11-30T00:00:00",
          "2017-12-31T00:00:00",
          "2018-01-31T00:00:00",
          "2018-02-28T00:00:00",
          "2018-03-31T00:00:00",
          "2018-04-30T00:00:00",
          "2018-05-31T00:00:00",
          "2018-06-30T00:00:00",
          "2018-07-31T00:00:00",
          "2018-08-31T00:00:00",
          "2018-09-30T00:00:00",
          "2018-10-31T00:00:00",
          "2018-11-30T00:00:00",
          "2018-12-31T00:00:00"
         ],
         "xaxis": "x",
         "y": [
          1,
          0.386934678522221,
          0.2997641405389989,
          0.2076071088185175,
          0.18807765818947345,
          0.18754263988189587,
          0.15617353675314163,
          0.18823513721193394,
          0.25344119876930404,
          0.32808625541558567,
          0.323615800429451,
          0.3540077128813737,
          0.3649466058910492,
          0.4180278086409305,
          0.29090530432436373,
          0.21699583373087813,
          0.23751376017842837,
          0.21008983998695027,
          0.18255204245675483,
          0.1928281898735346,
          0.26410770949583123,
          0.29245085577281166,
          0.3083695740269387,
          0.15660955359057302,
          0.15300548970846375,
          0.17940707865641156,
          0.13257066294051809,
          0.11490018292188733,
          0.09383236229818834,
          0.12140658005833393,
          0.10671537744182252,
          0.13134263434191723,
          0.17943734335453915,
          0.1700855516331139,
          0.16097639045769457,
          0.19850512909689114,
          0.1945209611247388,
          0.18030219557560892,
          0.1347743433329948,
          0.11756347635711523,
          0.12279413952333615,
          0.12791400311675094,
          0.10324776118178003,
          0.11758553367947941,
          0.18042274140713407,
          0.2892515181080358,
          0.20954404949868324,
          0.16371919284563055,
          0.10367967433132971,
          0.08751268296035941,
          0.07877747034316065,
          0.07100046884634048,
          0.06420835244113005,
          0.047759232528292374,
          0.03822431373514593,
          0.046177260849894285,
          0.06900710245780126,
          0.1664866173608568,
          0.0841327830287884,
          0.7046591220364962,
          0.296954140262,
          0.3228555922493648,
          0.15873321206935645,
          0.09906559026933531,
          0.06407549554595976,
          0.048388122696163986,
          0.043042556269255274,
          0.15530458084419016,
          0.3077329894442889,
          0.33111323818932986,
          0.29026974566368435,
          0.08388553583391556,
          0.2822860208898232,
          0.20453601140004493,
          0.0009684703400828706,
          0.0028972036444852092,
          0,
          0.0070968152304272045,
          0.01873025741408161,
          0.07361246618304707,
          0.2131224653315318,
          0.26823294173891726,
          0.2058568859369694
         ],
         "yaxis": "y"
        },
        {
         "hovertemplate": "variable=Charbon<br>DateTime=%{x}<br>Relative Consumption=%{y}<extra></extra>",
         "legendgroup": "Charbon",
         "line": {
          "color": "#00cc96",
          "dash": "solid"
         },
         "marker": {
          "symbol": "circle"
         },
         "mode": "lines",
         "name": "Charbon",
         "orientation": "v",
         "showlegend": true,
         "type": "scatter",
         "x": [
          "2012-02-29T00:00:00",
          "2012-03-31T00:00:00",
          "2012-04-30T00:00:00",
          "2012-05-31T00:00:00",
          "2012-06-30T00:00:00",
          "2012-07-31T00:00:00",
          "2012-08-31T00:00:00",
          "2012-09-30T00:00:00",
          "2012-10-31T00:00:00",
          "2012-11-30T00:00:00",
          "2012-12-31T00:00:00",
          "2013-01-31T00:00:00",
          "2013-02-28T00:00:00",
          "2013-03-31T00:00:00",
          "2013-04-30T00:00:00",
          "2013-05-31T00:00:00",
          "2013-06-30T00:00:00",
          "2013-07-31T00:00:00",
          "2013-08-31T00:00:00",
          "2013-09-30T00:00:00",
          "2013-10-31T00:00:00",
          "2013-11-30T00:00:00",
          "2013-12-31T00:00:00",
          "2014-01-31T00:00:00",
          "2014-02-28T00:00:00",
          "2014-03-31T00:00:00",
          "2014-04-30T00:00:00",
          "2014-05-31T00:00:00",
          "2014-06-30T00:00:00",
          "2014-07-31T00:00:00",
          "2014-08-31T00:00:00",
          "2014-09-30T00:00:00",
          "2014-10-31T00:00:00",
          "2014-11-30T00:00:00",
          "2014-12-31T00:00:00",
          "2015-01-31T00:00:00",
          "2015-02-28T00:00:00",
          "2015-03-31T00:00:00",
          "2015-04-30T00:00:00",
          "2015-05-31T00:00:00",
          "2015-06-30T00:00:00",
          "2015-07-31T00:00:00",
          "2015-08-31T00:00:00",
          "2015-09-30T00:00:00",
          "2015-10-31T00:00:00",
          "2015-11-30T00:00:00",
          "2015-12-31T00:00:00",
          "2016-01-31T00:00:00",
          "2016-02-29T00:00:00",
          "2016-03-31T00:00:00",
          "2016-04-30T00:00:00",
          "2016-05-31T00:00:00",
          "2016-06-30T00:00:00",
          "2016-07-31T00:00:00",
          "2016-08-31T00:00:00",
          "2016-09-30T00:00:00",
          "2016-10-31T00:00:00",
          "2016-11-30T00:00:00",
          "2016-12-31T00:00:00",
          "2017-01-31T00:00:00",
          "2017-02-28T00:00:00",
          "2017-03-31T00:00:00",
          "2017-04-30T00:00:00",
          "2017-05-31T00:00:00",
          "2017-06-30T00:00:00",
          "2017-07-31T00:00:00",
          "2017-08-31T00:00:00",
          "2017-09-30T00:00:00",
          "2017-10-31T00:00:00",
          "2017-11-30T00:00:00",
          "2017-12-31T00:00:00",
          "2018-01-31T00:00:00",
          "2018-02-28T00:00:00",
          "2018-03-31T00:00:00",
          "2018-04-30T00:00:00",
          "2018-05-31T00:00:00",
          "2018-06-30T00:00:00",
          "2018-07-31T00:00:00",
          "2018-08-31T00:00:00",
          "2018-09-30T00:00:00",
          "2018-10-31T00:00:00",
          "2018-11-30T00:00:00",
          "2018-12-31T00:00:00"
         ],
         "xaxis": "x",
         "y": [
          1,
          0.565659033353368,
          0.640406318616981,
          0.32477569131809836,
          0.3674268120237028,
          0.42654114991277897,
          0.44662031406685654,
          0.5320696918999019,
          0.7892213251042696,
          0.7040085156691365,
          0.666883934150304,
          0.9943870032931194,
          1.0336878950945074,
          1.0998988883268268,
          0.597853751552418,
          0.2117215774372841,
          0.13924538845304293,
          0.3254017151506294,
          0.4590705935566541,
          0.661636398933241,
          0.7496303246975622,
          0.8080744185087306,
          0.5785295043227769,
          0.36551780618405255,
          0.263535807194971,
          0.3911102236215825,
          0.2890399824388119,
          0.1317793056786925,
          0.12605109837735493,
          0.04823615752639482,
          0.017767615273553774,
          0.25863132589944077,
          0.41254177375534384,
          0.3570979145296026,
          0.47265314928457386,
          0.6273345761271354,
          0.6622529045066776,
          0.4233043469294393,
          0.20348927480582255,
          0,
          0.008394113036068846,
          0.07599794484922383,
          0.04831904569934317,
          0.2227028722734897,
          0.3847214887984962,
          0.3018694059158756,
          0.29224208343586944,
          0.2897058639813013,
          0.15996287085764868,
          0.2935050374394772,
          0.1787816588699566,
          0.052030571855023425,
          0.050723199308974384,
          0.05887657970877696,
          0.03937406341817737,
          0.29176755856059333,
          0.365685168906465,
          0.45147978192875216,
          0.5000940919570909,
          0.6609308579778578,
          0.3726816842321511,
          0.14169475379337326,
          0.241820692259018,
          0.19218654042811145,
          0.12620973602893074,
          0.3294872295698996,
          0.06522069769235757,
          0.21565856735526642,
          0.4679069090464905,
          0.5595171783755465,
          0.32360197099350196,
          0.10911375291273599,
          0.3765349927889272,
          0.3188083377570103,
          0.08444341682499033,
          0.048843343137801185,
          0.09404912492496935,
          0.21815254953510244,
          0.18492093598593992,
          0.12405801458236952,
          0.2993577752973018,
          0.18518268811104,
          0.07259596041118084
         ],
         "yaxis": "y"
        },
        {
         "hovertemplate": "variable=Gaz<br>DateTime=%{x}<br>Relative Consumption=%{y}<extra></extra>",
         "legendgroup": "Gaz",
         "line": {
          "color": "#ab63fa",
          "dash": "solid"
         },
         "marker": {
          "symbol": "circle"
         },
         "mode": "lines",
         "name": "Gaz",
         "orientation": "v",
         "showlegend": true,
         "type": "scatter",
         "x": [
          "2012-02-29T00:00:00",
          "2012-03-31T00:00:00",
          "2012-04-30T00:00:00",
          "2012-05-31T00:00:00",
          "2012-06-30T00:00:00",
          "2012-07-31T00:00:00",
          "2012-08-31T00:00:00",
          "2012-09-30T00:00:00",
          "2012-10-31T00:00:00",
          "2012-11-30T00:00:00",
          "2012-12-31T00:00:00",
          "2013-01-31T00:00:00",
          "2013-02-28T00:00:00",
          "2013-03-31T00:00:00",
          "2013-04-30T00:00:00",
          "2013-05-31T00:00:00",
          "2013-06-30T00:00:00",
          "2013-07-31T00:00:00",
          "2013-08-31T00:00:00",
          "2013-09-30T00:00:00",
          "2013-10-31T00:00:00",
          "2013-11-30T00:00:00",
          "2013-12-31T00:00:00",
          "2014-01-31T00:00:00",
          "2014-02-28T00:00:00",
          "2014-03-31T00:00:00",
          "2014-04-30T00:00:00",
          "2014-05-31T00:00:00",
          "2014-06-30T00:00:00",
          "2014-07-31T00:00:00",
          "2014-08-31T00:00:00",
          "2014-09-30T00:00:00",
          "2014-10-31T00:00:00",
          "2014-11-30T00:00:00",
          "2014-12-31T00:00:00",
          "2015-01-31T00:00:00",
          "2015-02-28T00:00:00",
          "2015-03-31T00:00:00",
          "2015-04-30T00:00:00",
          "2015-05-31T00:00:00",
          "2015-06-30T00:00:00",
          "2015-07-31T00:00:00",
          "2015-08-31T00:00:00",
          "2015-09-30T00:00:00",
          "2015-10-31T00:00:00",
          "2015-11-30T00:00:00",
          "2015-12-31T00:00:00",
          "2016-01-31T00:00:00",
          "2016-02-29T00:00:00",
          "2016-03-31T00:00:00",
          "2016-04-30T00:00:00",
          "2016-05-31T00:00:00",
          "2016-06-30T00:00:00",
          "2016-07-31T00:00:00",
          "2016-08-31T00:00:00",
          "2016-09-30T00:00:00",
          "2016-10-31T00:00:00",
          "2016-11-30T00:00:00",
          "2016-12-31T00:00:00",
          "2017-01-31T00:00:00",
          "2017-02-28T00:00:00",
          "2017-03-31T00:00:00",
          "2017-04-30T00:00:00",
          "2017-05-31T00:00:00",
          "2017-06-30T00:00:00",
          "2017-07-31T00:00:00",
          "2017-08-31T00:00:00",
          "2017-09-30T00:00:00",
          "2017-10-31T00:00:00",
          "2017-11-30T00:00:00",
          "2017-12-31T00:00:00",
          "2018-01-31T00:00:00",
          "2018-02-28T00:00:00",
          "2018-03-31T00:00:00",
          "2018-04-30T00:00:00",
          "2018-05-31T00:00:00",
          "2018-06-30T00:00:00",
          "2018-07-31T00:00:00",
          "2018-08-31T00:00:00",
          "2018-09-30T00:00:00",
          "2018-10-31T00:00:00",
          "2018-11-30T00:00:00",
          "2018-12-31T00:00:00"
         ],
         "xaxis": "x",
         "y": [
          1,
          0.6275443713898871,
          0.21434848572551102,
          0.04091050330393052,
          0.11213988662039116,
          0.07263331077662054,
          0.13418249233699664,
          0.06951967162464018,
          0.14592036715196366,
          0.5481511861385723,
          0.5980492635531667,
          0.641010630065993,
          0.6298007382975748,
          0.5698672485646868,
          0.16023203575303047,
          0.040609222360164385,
          0.010395565513557694,
          0.012474546812721095,
          0.03206494751637631,
          0.08646916856893967,
          0.1310267858859049,
          0.44816051123960243,
          0.4941339183360593,
          0.3300651911332678,
          0.27427329839148046,
          0.2718731557800414,
          0.024625186405913834,
          0.01897388960727924,
          0.008724845704725549,
          0,
          0.007133867042511802,
          0.025794503550403153,
          0.12291219060901916,
          0.3949712992282133,
          0.5164561672472796,
          0.5789822327718759,
          0.6382639539592633,
          0.4847868500478721,
          0.11266556310484784,
          0.011731064964980347,
          0.003978380264000297,
          0.09223755085282938,
          0.000014827899164573909,
          0.14481310751138535,
          0.4249064112431063,
          0.6579857188658876,
          0.5663907103101897,
          0.7262376600301017,
          0.5661738934735165,
          0.642551084034757,
          0.3018723023520672,
          0.14401580588149168,
          0.16828479319858544,
          0.24726027103861967,
          0.2820608011964248,
          0.5878274590505598,
          0.7469576171412271,
          1.0325623960742751,
          1.1870897545916785,
          1.1580121344936585,
          0.93788724843508,
          0.8404179754118285,
          0.44500908840382497,
          0.25978127860205646,
          0.22482434156713757,
          0.3760215736047579,
          0.24928400468385872,
          0.36522708268552806,
          0.708313256174804,
          1.0263418177840111,
          0.9583262443161092,
          0.5746010828320496,
          0.9263100641125409,
          0.742966166358704,
          0.08722264551908025,
          0.034445539268176166,
          0.06336202952860788,
          0.3215670475313251,
          0.3050369055426578,
          0.25217335813143865,
          0.4723249344085134,
          0.9400559659832616,
          0.7756800266770381
         ],
         "yaxis": "y"
        },
        {
         "hovertemplate": "variable=Nucléaire<br>DateTime=%{x}<br>Relative Consumption=%{y}<extra></extra>",
         "legendgroup": "Nucléaire",
         "line": {
          "color": "#FFA15A",
          "dash": "solid"
         },
         "marker": {
          "symbol": "circle"
         },
         "mode": "lines",
         "name": "Nucléaire",
         "orientation": "v",
         "showlegend": true,
         "type": "scatter",
         "x": [
          "2012-02-29T00:00:00",
          "2012-03-31T00:00:00",
          "2012-04-30T00:00:00",
          "2012-05-31T00:00:00",
          "2012-06-30T00:00:00",
          "2012-07-31T00:00:00",
          "2012-08-31T00:00:00",
          "2012-09-30T00:00:00",
          "2012-10-31T00:00:00",
          "2012-11-30T00:00:00",
          "2012-12-31T00:00:00",
          "2013-01-31T00:00:00",
          "2013-02-28T00:00:00",
          "2013-03-31T00:00:00",
          "2013-04-30T00:00:00",
          "2013-05-31T00:00:00",
          "2013-06-30T00:00:00",
          "2013-07-31T00:00:00",
          "2013-08-31T00:00:00",
          "2013-09-30T00:00:00",
          "2013-10-31T00:00:00",
          "2013-11-30T00:00:00",
          "2013-12-31T00:00:00",
          "2014-01-31T00:00:00",
          "2014-02-28T00:00:00",
          "2014-03-31T00:00:00",
          "2014-04-30T00:00:00",
          "2014-05-31T00:00:00",
          "2014-06-30T00:00:00",
          "2014-07-31T00:00:00",
          "2014-08-31T00:00:00",
          "2014-09-30T00:00:00",
          "2014-10-31T00:00:00",
          "2014-11-30T00:00:00",
          "2014-12-31T00:00:00",
          "2015-01-31T00:00:00",
          "2015-02-28T00:00:00",
          "2015-03-31T00:00:00",
          "2015-04-30T00:00:00",
          "2015-05-31T00:00:00",
          "2015-06-30T00:00:00",
          "2015-07-31T00:00:00",
          "2015-08-31T00:00:00",
          "2015-09-30T00:00:00",
          "2015-10-31T00:00:00",
          "2015-11-30T00:00:00",
          "2015-12-31T00:00:00",
          "2016-01-31T00:00:00",
          "2016-02-29T00:00:00",
          "2016-03-31T00:00:00",
          "2016-04-30T00:00:00",
          "2016-05-31T00:00:00",
          "2016-06-30T00:00:00",
          "2016-07-31T00:00:00",
          "2016-08-31T00:00:00",
          "2016-09-30T00:00:00",
          "2016-10-31T00:00:00",
          "2016-11-30T00:00:00",
          "2016-12-31T00:00:00",
          "2017-01-31T00:00:00",
          "2017-02-28T00:00:00",
          "2017-03-31T00:00:00",
          "2017-04-30T00:00:00",
          "2017-05-31T00:00:00",
          "2017-06-30T00:00:00",
          "2017-07-31T00:00:00",
          "2017-08-31T00:00:00",
          "2017-09-30T00:00:00",
          "2017-10-31T00:00:00",
          "2017-11-30T00:00:00",
          "2017-12-31T00:00:00",
          "2018-01-31T00:00:00",
          "2018-02-28T00:00:00",
          "2018-03-31T00:00:00",
          "2018-04-30T00:00:00",
          "2018-05-31T00:00:00",
          "2018-06-30T00:00:00",
          "2018-07-31T00:00:00",
          "2018-08-31T00:00:00",
          "2018-09-30T00:00:00",
          "2018-10-31T00:00:00",
          "2018-11-30T00:00:00",
          "2018-12-31T00:00:00"
         ],
         "xaxis": "x",
         "y": [
          1,
          0.9102766618308243,
          0.542567477472441,
          0.21081354819506568,
          0.006028759036135191,
          0.1908751835486589,
          0.14987114833898013,
          0.2988232255124114,
          0.517845004521323,
          0.8712121998248071,
          1.1007304130238058,
          1.3060428642027642,
          0.8433192840842493,
          0.8494764210545225,
          0.41102201263214266,
          0.3834175986132229,
          0.1740997969044675,
          0.34495200121306874,
          0.28048269446990926,
          0.2683533995974018,
          0.3759332470835957,
          0.6678218083102523,
          1.1434036484844818,
          1.3288074301046746,
          0.8127747692816788,
          0.7676201072985233,
          0.3873683167442109,
          0.4282938076267729,
          0.3690559222074015,
          0.5661637519201832,
          0.3691858587234876,
          0.446524663718513,
          0.5143772827329587,
          0.8031598772444449,
          1.242222501764376,
          1.4196204631473912,
          0.9031955318572715,
          0.8597372632785747,
          0.38513322820014506,
          0.3146840526756401,
          0.3465578738186,
          0.5562483816895004,
          0.45147094657644554,
          0.34058382921190244,
          0.6522225358070872,
          0.7529665248999665,
          1.1310600075788098,
          1.2384177571374126,
          0.8884755866799813,
          0.8807389909666639,
          0.3751263117876741,
          0.24184183863123362,
          0.1768116474633649,
          0.15222062859496657,
          0.051838722697797206,
          0,
          0.20496226242443072,
          0.38238167481688795,
          0.834153878877757,
          1.1497213193954,
          0.5913111845440187,
          0.6424489555183581,
          0.4324213427782304,
          0.2994979684499537,
          0.03297118588029761,
          0.1377204024570307,
          0.17264059506330667,
          0.23515966462105525,
          0.1265208837471361,
          0.316556647870852,
          0.8947748827300379,
          1.1729983716510017,
          0.8154323975949112,
          0.7585213929932796,
          0.33691927492963114,
          0.33613637460796025,
          0.17608985996018167,
          0.28559677097913844,
          0.06734341388590709,
          0.2968928807544948,
          0.4178834235663414,
          0.5068922749583008,
          1.0174436081467404
         ],
         "yaxis": "y"
        },
        {
         "hovertemplate": "variable=Eolien<br>DateTime=%{x}<br>Relative Consumption=%{y}<extra></extra>",
         "legendgroup": "Eolien",
         "line": {
          "color": "#19d3f3",
          "dash": "solid"
         },
         "marker": {
          "symbol": "circle"
         },
         "mode": "lines",
         "name": "Eolien",
         "orientation": "v",
         "showlegend": true,
         "type": "scatter",
         "x": [
          "2012-02-29T00:00:00",
          "2012-03-31T00:00:00",
          "2012-04-30T00:00:00",
          "2012-05-31T00:00:00",
          "2012-06-30T00:00:00",
          "2012-07-31T00:00:00",
          "2012-08-31T00:00:00",
          "2012-09-30T00:00:00",
          "2012-10-31T00:00:00",
          "2012-11-30T00:00:00",
          "2012-12-31T00:00:00",
          "2013-01-31T00:00:00",
          "2013-02-28T00:00:00",
          "2013-03-31T00:00:00",
          "2013-04-30T00:00:00",
          "2013-05-31T00:00:00",
          "2013-06-30T00:00:00",
          "2013-07-31T00:00:00",
          "2013-08-31T00:00:00",
          "2013-09-30T00:00:00",
          "2013-10-31T00:00:00",
          "2013-11-30T00:00:00",
          "2013-12-31T00:00:00",
          "2014-01-31T00:00:00",
          "2014-02-28T00:00:00",
          "2014-03-31T00:00:00",
          "2014-04-30T00:00:00",
          "2014-05-31T00:00:00",
          "2014-06-30T00:00:00",
          "2014-07-31T00:00:00",
          "2014-08-31T00:00:00",
          "2014-09-30T00:00:00",
          "2014-10-31T00:00:00",
          "2014-11-30T00:00:00",
          "2014-12-31T00:00:00",
          "2015-01-31T00:00:00",
          "2015-02-28T00:00:00",
          "2015-03-31T00:00:00",
          "2015-04-30T00:00:00",
          "2015-05-31T00:00:00",
          "2015-06-30T00:00:00",
          "2015-07-31T00:00:00",
          "2015-08-31T00:00:00",
          "2015-09-30T00:00:00",
          "2015-10-31T00:00:00",
          "2015-11-30T00:00:00",
          "2015-12-31T00:00:00",
          "2016-01-31T00:00:00",
          "2016-02-29T00:00:00",
          "2016-03-31T00:00:00",
          "2016-04-30T00:00:00",
          "2016-05-31T00:00:00",
          "2016-06-30T00:00:00",
          "2016-07-31T00:00:00",
          "2016-08-31T00:00:00",
          "2016-09-30T00:00:00",
          "2016-10-31T00:00:00",
          "2016-11-30T00:00:00",
          "2016-12-31T00:00:00",
          "2017-01-31T00:00:00",
          "2017-02-28T00:00:00",
          "2017-03-31T00:00:00",
          "2017-04-30T00:00:00",
          "2017-05-31T00:00:00",
          "2017-06-30T00:00:00",
          "2017-07-31T00:00:00",
          "2017-08-31T00:00:00",
          "2017-09-30T00:00:00",
          "2017-10-31T00:00:00",
          "2017-11-30T00:00:00",
          "2017-12-31T00:00:00",
          "2018-01-31T00:00:00",
          "2018-02-28T00:00:00",
          "2018-03-31T00:00:00",
          "2018-04-30T00:00:00",
          "2018-05-31T00:00:00",
          "2018-06-30T00:00:00",
          "2018-07-31T00:00:00",
          "2018-08-31T00:00:00",
          "2018-09-30T00:00:00",
          "2018-10-31T00:00:00",
          "2018-11-30T00:00:00",
          "2018-12-31T00:00:00"
         ],
         "xaxis": "x",
         "y": [
          1,
          0.6294479197343432,
          2.136047444477166,
          0.6223647598834197,
          0.6726678886598357,
          0.4644826500665155,
          0.4529680724665643,
          0.5131546210636418,
          1.5786852741360575,
          1.474958871975059,
          3.9572903232358114,
          1.511236582616555,
          1.8643359093355538,
          1.5842426350370151,
          1.9320664039889106,
          1.078318422308653,
          1.0984241873406924,
          0.3780046307109563,
          0.023740009951966574,
          0.5551699450610825,
          2.228318930062047,
          2.7370154763234593,
          3.252915773866949,
          3.7159678287449354,
          4.455674398058352,
          1.4397664842139473,
          0.8315312319112852,
          2.0326358494206533,
          0.5918538584180434,
          0.5766402973403878,
          0.6259685395996872,
          0,
          1.388709341646949,
          1.9639266600997227,
          3.53215602246301,
          3.9809960598336604,
          2.9960344459902712,
          3.2562263259979893,
          1.8437160439917541,
          2.1619212880688106,
          1.3382170747311446,
          1.7017723132229137,
          1.0100535172077623,
          2.394686868481716,
          1.4244996090298865,
          4.605795497242899,
          4.68558132686117,
          5.376059935210668,
          5.510280736851726,
          4.389738811653956,
          2.3824182770911824,
          2.0607577711657004,
          0.8686873559249743,
          0.733523402353945,
          1.1635346744792987,
          0.6660099722766649,
          1.7195982655144049,
          4.047391163059926,
          2.0337237110680086,
          3.3426192966599984,
          4.596907274075128,
          4.910931168949865,
          1.8863102068587327,
          1.9683745798340664,
          1.8970961583378187,
          2.503546657459405,
          1.3061829130827738,
          2.3418627441024444,
          3.4534288586719204,
          4.080076518436527,
          6.736860611538189,
          8.319962070821443,
          5.211260954779483,
          6.098275669472851,
          3.6467483472627014,
          2.2218273029155196,
          1.6363863698678824,
          0.9518180110284039,
          1.7212383089780956,
          2.2503338478567727,
          4.478433174575772,
          5.279157738669483,
          7.448374173631351
         ],
         "yaxis": "y"
        },
        {
         "hovertemplate": "variable=Solaire<br>DateTime=%{x}<br>Relative Consumption=%{y}<extra></extra>",
         "legendgroup": "Solaire",
         "line": {
          "color": "#FF6692",
          "dash": "solid"
         },
         "marker": {
          "symbol": "circle"
         },
         "mode": "lines",
         "name": "Solaire",
         "orientation": "v",
         "showlegend": true,
         "type": "scatter",
         "x": [
          "2012-02-29T00:00:00",
          "2012-03-31T00:00:00",
          "2012-04-30T00:00:00",
          "2012-05-31T00:00:00",
          "2012-06-30T00:00:00",
          "2012-07-31T00:00:00",
          "2012-08-31T00:00:00",
          "2012-09-30T00:00:00",
          "2012-10-31T00:00:00",
          "2012-11-30T00:00:00",
          "2012-12-31T00:00:00",
          "2013-01-31T00:00:00",
          "2013-02-28T00:00:00",
          "2013-03-31T00:00:00",
          "2013-04-30T00:00:00",
          "2013-05-31T00:00:00",
          "2013-06-30T00:00:00",
          "2013-07-31T00:00:00",
          "2013-08-31T00:00:00",
          "2013-09-30T00:00:00",
          "2013-10-31T00:00:00",
          "2013-11-30T00:00:00",
          "2013-12-31T00:00:00",
          "2014-01-31T00:00:00",
          "2014-02-28T00:00:00",
          "2014-03-31T00:00:00",
          "2014-04-30T00:00:00",
          "2014-05-31T00:00:00",
          "2014-06-30T00:00:00",
          "2014-07-31T00:00:00",
          "2014-08-31T00:00:00",
          "2014-09-30T00:00:00",
          "2014-10-31T00:00:00",
          "2014-11-30T00:00:00",
          "2014-12-31T00:00:00",
          "2015-01-31T00:00:00",
          "2015-02-28T00:00:00",
          "2015-03-31T00:00:00",
          "2015-04-30T00:00:00",
          "2015-05-31T00:00:00",
          "2015-06-30T00:00:00",
          "2015-07-31T00:00:00",
          "2015-08-31T00:00:00",
          "2015-09-30T00:00:00",
          "2015-10-31T00:00:00",
          "2015-11-30T00:00:00",
          "2015-12-31T00:00:00",
          "2016-01-31T00:00:00",
          "2016-02-29T00:00:00",
          "2016-03-31T00:00:00",
          "2016-04-30T00:00:00",
          "2016-05-31T00:00:00",
          "2016-06-30T00:00:00",
          "2016-07-31T00:00:00",
          "2016-08-31T00:00:00",
          "2016-09-30T00:00:00",
          "2016-10-31T00:00:00",
          "2016-11-30T00:00:00",
          "2016-12-31T00:00:00",
          "2017-01-31T00:00:00",
          "2017-02-28T00:00:00",
          "2017-03-31T00:00:00",
          "2017-04-30T00:00:00",
          "2017-05-31T00:00:00",
          "2017-06-30T00:00:00",
          "2017-07-31T00:00:00",
          "2017-08-31T00:00:00",
          "2017-09-30T00:00:00",
          "2017-10-31T00:00:00",
          "2017-11-30T00:00:00",
          "2017-12-31T00:00:00",
          "2018-01-31T00:00:00",
          "2018-02-28T00:00:00",
          "2018-03-31T00:00:00",
          "2018-04-30T00:00:00",
          "2018-05-31T00:00:00",
          "2018-06-30T00:00:00",
          "2018-07-31T00:00:00",
          "2018-08-31T00:00:00",
          "2018-09-30T00:00:00",
          "2018-10-31T00:00:00",
          "2018-11-30T00:00:00",
          "2018-12-31T00:00:00"
         ],
         "xaxis": "x",
         "y": [
          1,
          2.520479933802234,
          2.2226074693922744,
          3.605237548584847,
          3.841708088830875,
          4.527233737551498,
          4.4327212759386265,
          3.115385736013099,
          1.7079081855635259,
          0.5969336915160804,
          0.2205679255508226,
          0.2766029357776781,
          1.2477171677146035,
          2.564761344234209,
          3.5772142162033007,
          4.361098323494962,
          5.049607533492223,
          6.148694400578064,
          5.498965659908977,
          3.8981102169491915,
          2.2786541341553668,
          0.7082694761868686,
          1.0816167172667783,
          0.6253998962746273,
          1.6249919875063372,
          4.757136946628051,
          5.3345376354111425,
          6.4307574865827135,
          7.37977471781454,
          6.517653708764792,
          6.566451251988553,
          5.96901058814617,
          4.108544523242059,
          1.4224536295139474,
          0.7838316618785948,
          1.4831621087717868,
          2.7342066465820154,
          4.7802712010582304,
          7.59629851929117,
          8.298548427511697,
          9.542524489094266,
          9.432983503003955,
          8.351232758570454,
          6.836754910930205,
          4.5051775277232275,
          2.9420361640259425,
          2.119523096377187,
          1.7677484018717184,
          3.3218516727173126,
          6.374384494804989,
          7.7506104063354035,
          9.294900557669557,
          9.050516587318697,
          10.859825065411084,
          10.808440215142738,
          8.059985898011151,
          6.985833911204088,
          2.8525176711905686,
          2.853298525118438,
          2.7980385415513345,
          3.5521103451490896,
          6.6750540479117975,
          10.628599066471645,
          11.138024672653211,
          11.609642963282381,
          11.001456817029606,
          10.657758716136286,
          8.03253946517333,
          6.806068517018536,
          3.8301584434201397,
          1.7913546650194918,
          1.8710017656622397,
          4.8720098830467276,
          7.761367543282032,
          10.54157464439096,
          12.128036735098217,
          13.748326117232978,
          15.379384290850602,
          14.118077933883812,
          12.340475621623824,
          8.077572593192583,
          4.261894911046751,
          1.941814727837442
         ],
         "yaxis": "y"
        },
        {
         "hovertemplate": "variable=Hydraulique<br>DateTime=%{x}<br>Relative Consumption=%{y}<extra></extra>",
         "legendgroup": "Hydraulique",
         "line": {
          "color": "#B6E880",
          "dash": "solid"
         },
         "marker": {
          "symbol": "circle"
         },
         "mode": "lines",
         "name": "Hydraulique",
         "orientation": "v",
         "showlegend": true,
         "type": "scatter",
         "x": [
          "2012-02-29T00:00:00",
          "2012-03-31T00:00:00",
          "2012-04-30T00:00:00",
          "2012-05-31T00:00:00",
          "2012-06-30T00:00:00",
          "2012-07-31T00:00:00",
          "2012-08-31T00:00:00",
          "2012-09-30T00:00:00",
          "2012-10-31T00:00:00",
          "2012-11-30T00:00:00",
          "2012-12-31T00:00:00",
          "2013-01-31T00:00:00",
          "2013-02-28T00:00:00",
          "2013-03-31T00:00:00",
          "2013-04-30T00:00:00",
          "2013-05-31T00:00:00",
          "2013-06-30T00:00:00",
          "2013-07-31T00:00:00",
          "2013-08-31T00:00:00",
          "2013-09-30T00:00:00",
          "2013-10-31T00:00:00",
          "2013-11-30T00:00:00",
          "2013-12-31T00:00:00",
          "2014-01-31T00:00:00",
          "2014-02-28T00:00:00",
          "2014-03-31T00:00:00",
          "2014-04-30T00:00:00",
          "2014-05-31T00:00:00",
          "2014-06-30T00:00:00",
          "2014-07-31T00:00:00",
          "2014-08-31T00:00:00",
          "2014-09-30T00:00:00",
          "2014-10-31T00:00:00",
          "2014-11-30T00:00:00",
          "2014-12-31T00:00:00",
          "2015-01-31T00:00:00",
          "2015-02-28T00:00:00",
          "2015-03-31T00:00:00",
          "2015-04-30T00:00:00",
          "2015-05-31T00:00:00",
          "2015-06-30T00:00:00",
          "2015-07-31T00:00:00",
          "2015-08-31T00:00:00",
          "2015-09-30T00:00:00",
          "2015-10-31T00:00:00",
          "2015-11-30T00:00:00",
          "2015-12-31T00:00:00",
          "2016-01-31T00:00:00",
          "2016-02-29T00:00:00",
          "2016-03-31T00:00:00",
          "2016-04-30T00:00:00",
          "2016-05-31T00:00:00",
          "2016-06-30T00:00:00",
          "2016-07-31T00:00:00",
          "2016-08-31T00:00:00",
          "2016-09-30T00:00:00",
          "2016-10-31T00:00:00",
          "2016-11-30T00:00:00",
          "2016-12-31T00:00:00",
          "2017-01-31T00:00:00",
          "2017-02-28T00:00:00",
          "2017-03-31T00:00:00",
          "2017-04-30T00:00:00",
          "2017-05-31T00:00:00",
          "2017-06-30T00:00:00",
          "2017-07-31T00:00:00",
          "2017-08-31T00:00:00",
          "2017-09-30T00:00:00",
          "2017-10-31T00:00:00",
          "2017-11-30T00:00:00",
          "2017-12-31T00:00:00",
          "2018-01-31T00:00:00",
          "2018-02-28T00:00:00",
          "2018-03-31T00:00:00",
          "2018-04-30T00:00:00",
          "2018-05-31T00:00:00",
          "2018-06-30T00:00:00",
          "2018-07-31T00:00:00",
          "2018-08-31T00:00:00",
          "2018-09-30T00:00:00",
          "2018-10-31T00:00:00",
          "2018-11-30T00:00:00",
          "2018-12-31T00:00:00"
         ],
         "xaxis": "x",
         "y": [
          1,
          0.4638408993130472,
          1.0233801027954221,
          1.9762436004396435,
          1.6418149819236691,
          0.8757560647166042,
          0.3346928311642943,
          0.37094972876448684,
          0.7234820450099225,
          0.8658059330932277,
          1.5016764322720155,
          1.6509976291291528,
          1.6309834707118367,
          1.4675525537671732,
          1.7742332098194544,
          2.330408682434105,
          1.8499024646834423,
          1.4713636149602718,
          0.7271204523932273,
          0.5579386342479961,
          0.850092021663425,
          1.4388006637311495,
          1.168669491105914,
          1.6985023791212044,
          1.714326362385456,
          1.6995666751584975,
          1.2303429210529389,
          1.378137600659385,
          0.9272580120020557,
          1.390073251095386,
          1.0369473116111498,
          0.4224836713363685,
          0.4238407544287311,
          0.8648863201436287,
          1.1977356996161774,
          1.3877094232356615,
          1.4374204393938845,
          1.4772123130740793,
          1.1945659527491999,
          1.5043032654107613,
          1.1642310003336365,
          0.5239057108970312,
          0.27750819904368307,
          0.2882469440476894,
          0.4636889720095576,
          0.3335138350435719,
          0.3746517242642191,
          1.1623022278780766,
          1.66573236405726,
          1.5327366111799987,
          1.497138534760766,
          1.533312526335743,
          1.7938561805838114,
          1.0379274942539285,
          0.46170526425088154,
          0.26065332362608407,
          0.1373459044624771,
          0.6026199511337399,
          0.6886661426683908,
          0.9763021578506572,
          0.6953422912086208,
          1.3931800135305852,
          0.5679302188839803,
          1.1990038398368281,
          0.9490713519034781,
          0.46667539997126456,
          0.3099067468198899,
          0.14478209197658826,
          0,
          0.4842037862296313,
          1.0238312564569103,
          1.8161562915410505,
          1.766946132413801,
          1.725145799904296,
          1.6721797161152812,
          1.9725888935707987,
          1.9382883366918324,
          1.0175149039678582,
          0.4664087725843458,
          0.11816462963343062,
          0.07181674065828186,
          0.4738662902894104,
          0.9650110413922417
         ],
         "yaxis": "y"
        },
        {
         "hovertemplate": "variable=Pompage<br>DateTime=%{x}<br>Relative Consumption=%{y}<extra></extra>",
         "legendgroup": "Pompage",
         "line": {
          "color": "#FF97FF",
          "dash": "solid"
         },
         "marker": {
          "symbol": "circle"
         },
         "mode": "lines",
         "name": "Pompage",
         "orientation": "v",
         "showlegend": true,
         "type": "scatter",
         "x": [
          "2012-02-29T00:00:00",
          "2012-03-31T00:00:00",
          "2012-04-30T00:00:00",
          "2012-05-31T00:00:00",
          "2012-06-30T00:00:00",
          "2012-07-31T00:00:00",
          "2012-08-31T00:00:00",
          "2012-09-30T00:00:00",
          "2012-10-31T00:00:00",
          "2012-11-30T00:00:00",
          "2012-12-31T00:00:00",
          "2013-01-31T00:00:00",
          "2013-02-28T00:00:00",
          "2013-03-31T00:00:00",
          "2013-04-30T00:00:00",
          "2013-05-31T00:00:00",
          "2013-06-30T00:00:00",
          "2013-07-31T00:00:00",
          "2013-08-31T00:00:00",
          "2013-09-30T00:00:00",
          "2013-10-31T00:00:00",
          "2013-11-30T00:00:00",
          "2013-12-31T00:00:00",
          "2014-01-31T00:00:00",
          "2014-02-28T00:00:00",
          "2014-03-31T00:00:00",
          "2014-04-30T00:00:00",
          "2014-05-31T00:00:00",
          "2014-06-30T00:00:00",
          "2014-07-31T00:00:00",
          "2014-08-31T00:00:00",
          "2014-09-30T00:00:00",
          "2014-10-31T00:00:00",
          "2014-11-30T00:00:00",
          "2014-12-31T00:00:00",
          "2015-01-31T00:00:00",
          "2015-02-28T00:00:00",
          "2015-03-31T00:00:00",
          "2015-04-30T00:00:00",
          "2015-05-31T00:00:00",
          "2015-06-30T00:00:00",
          "2015-07-31T00:00:00",
          "2015-08-31T00:00:00",
          "2015-09-30T00:00:00",
          "2015-10-31T00:00:00",
          "2015-11-30T00:00:00",
          "2015-12-31T00:00:00",
          "2016-01-31T00:00:00",
          "2016-02-29T00:00:00",
          "2016-03-31T00:00:00",
          "2016-04-30T00:00:00",
          "2016-05-31T00:00:00",
          "2016-06-30T00:00:00",
          "2016-07-31T00:00:00",
          "2016-08-31T00:00:00",
          "2016-09-30T00:00:00",
          "2016-10-31T00:00:00",
          "2016-11-30T00:00:00",
          "2016-12-31T00:00:00",
          "2017-01-31T00:00:00",
          "2017-02-28T00:00:00",
          "2017-03-31T00:00:00",
          "2017-04-30T00:00:00",
          "2017-05-31T00:00:00",
          "2017-06-30T00:00:00",
          "2017-07-31T00:00:00",
          "2017-08-31T00:00:00",
          "2017-09-30T00:00:00",
          "2017-10-31T00:00:00",
          "2017-11-30T00:00:00",
          "2017-12-31T00:00:00",
          "2018-01-31T00:00:00",
          "2018-02-28T00:00:00",
          "2018-03-31T00:00:00",
          "2018-04-30T00:00:00",
          "2018-05-31T00:00:00",
          "2018-06-30T00:00:00",
          "2018-07-31T00:00:00",
          "2018-08-31T00:00:00",
          "2018-09-30T00:00:00",
          "2018-10-31T00:00:00",
          "2018-11-30T00:00:00",
          "2018-12-31T00:00:00"
         ],
         "xaxis": "x",
         "y": [
          1,
          0.9470321813535126,
          0.7511835098278966,
          0.40696141064257674,
          0.5777576654223228,
          0.7493098623874027,
          0.8483914509811041,
          0.3926607479289388,
          0.3762945347843621,
          0.6673413526308214,
          0.39156508558484393,
          0.5190885126610592,
          0.8556565351396417,
          0.5247976266267992,
          0.6735250375053649,
          0.3307979663469581,
          0.4839987915298169,
          0.6473393558024073,
          0.48366036801288337,
          0.6972263534671553,
          0.5071671877005742,
          0.43022705495038416,
          0.1944288487246881,
          0.056049936270054314,
          0.3119823967905522,
          0.3767302064383454,
          0.7740381186764399,
          0.1942810315563723,
          0.43317043189842636,
          0.33583412320431316,
          0.3800846188456516,
          0.50921977171324,
          0.24454016542556445,
          0.22014514608615163,
          0.44209003102863903,
          0.39370454459994053,
          0.8831375620281033,
          0.4701662165158456,
          0.7041218947049037,
          0.16202706610150375,
          0.43469917261284996,
          0.7150538819511347,
          0.7614619895931527,
          0.9910557646750681,
          0.8867111069042286,
          0.6347541502263288,
          0.09762545982160808,
          0.1008942938683106,
          0.4829731478443978,
          0.6630896640790018,
          1.0264839093232436,
          0.4538557589698441,
          0.6592347479263455,
          0.8288575418523566,
          0.6860428177064222,
          0.8148343604897675,
          0.5224545948448115,
          0.5634660792014762,
          0.6945760175720902,
          0.6172391124227364,
          0.42665999328339543,
          0.34103236029008477,
          0.5731779264881882,
          0.37173683876129215,
          0.6398694022351511,
          0.8062103956961865,
          0.7556258047283341,
          0.8065034367491632,
          0.31582175324128037,
          0.5047528406180833,
          0.27910215333308275,
          0,
          0.8161699015719188,
          0.4385489021981968,
          0.33692978554840824,
          0.4028004870186704,
          0.6934699820933764,
          0.9145642699971344,
          0.7313487797952084,
          0.4835721963686249,
          0.29913786284900745,
          0.34125797596804036,
          0.3586303831706264
         ],
         "yaxis": "y"
        },
        {
         "hovertemplate": "variable=Bioénergies<br>DateTime=%{x}<br>Relative Consumption=%{y}<extra></extra>",
         "legendgroup": "Bioénergies",
         "line": {
          "color": "#FECB52",
          "dash": "solid"
         },
         "marker": {
          "symbol": "circle"
         },
         "mode": "lines",
         "name": "Bioénergies",
         "orientation": "v",
         "showlegend": true,
         "type": "scatter",
         "x": [
          "2012-02-29T00:00:00",
          "2012-03-31T00:00:00",
          "2012-04-30T00:00:00",
          "2012-05-31T00:00:00",
          "2012-06-30T00:00:00",
          "2012-07-31T00:00:00",
          "2012-08-31T00:00:00",
          "2012-09-30T00:00:00",
          "2012-10-31T00:00:00",
          "2012-11-30T00:00:00",
          "2012-12-31T00:00:00",
          "2013-01-31T00:00:00",
          "2013-02-28T00:00:00",
          "2013-03-31T00:00:00",
          "2013-04-30T00:00:00",
          "2013-05-31T00:00:00",
          "2013-06-30T00:00:00",
          "2013-07-31T00:00:00",
          "2013-08-31T00:00:00",
          "2013-09-30T00:00:00",
          "2013-10-31T00:00:00",
          "2013-11-30T00:00:00",
          "2013-12-31T00:00:00",
          "2014-01-31T00:00:00",
          "2014-02-28T00:00:00",
          "2014-03-31T00:00:00",
          "2014-04-30T00:00:00",
          "2014-05-31T00:00:00",
          "2014-06-30T00:00:00",
          "2014-07-31T00:00:00",
          "2014-08-31T00:00:00",
          "2014-09-30T00:00:00",
          "2014-10-31T00:00:00",
          "2014-11-30T00:00:00",
          "2014-12-31T00:00:00",
          "2015-01-31T00:00:00",
          "2015-02-28T00:00:00",
          "2015-03-31T00:00:00",
          "2015-04-30T00:00:00",
          "2015-05-31T00:00:00",
          "2015-06-30T00:00:00",
          "2015-07-31T00:00:00",
          "2015-08-31T00:00:00",
          "2015-09-30T00:00:00",
          "2015-10-31T00:00:00",
          "2015-11-30T00:00:00",
          "2015-12-31T00:00:00",
          "2016-01-31T00:00:00",
          "2016-02-29T00:00:00",
          "2016-03-31T00:00:00",
          "2016-04-30T00:00:00",
          "2016-05-31T00:00:00",
          "2016-06-30T00:00:00",
          "2016-07-31T00:00:00",
          "2016-08-31T00:00:00",
          "2016-09-30T00:00:00",
          "2016-10-31T00:00:00",
          "2016-11-30T00:00:00",
          "2016-12-31T00:00:00",
          "2017-01-31T00:00:00",
          "2017-02-28T00:00:00",
          "2017-03-31T00:00:00",
          "2017-04-30T00:00:00",
          "2017-05-31T00:00:00",
          "2017-06-30T00:00:00",
          "2017-07-31T00:00:00",
          "2017-08-31T00:00:00",
          "2017-09-30T00:00:00",
          "2017-10-31T00:00:00",
          "2017-11-30T00:00:00",
          "2017-12-31T00:00:00",
          "2018-01-31T00:00:00",
          "2018-02-28T00:00:00",
          "2018-03-31T00:00:00",
          "2018-04-30T00:00:00",
          "2018-05-31T00:00:00",
          "2018-06-30T00:00:00",
          "2018-07-31T00:00:00",
          "2018-08-31T00:00:00",
          "2018-09-30T00:00:00",
          "2018-10-31T00:00:00",
          "2018-11-30T00:00:00",
          "2018-12-31T00:00:00"
         ],
         "xaxis": "x",
         "y": [
          1,
          2.5130137052548074,
          0,
          1.190403420026888,
          0.5366521263939797,
          2.046638488843321,
          1.5998974765695264,
          1.313228424137497,
          0.9223723534930502,
          2.179174202783606,
          2.2236171426913356,
          2.7507133116035227,
          1.6867909199059865,
          2.532744629609925,
          0.3914363919490096,
          1.6791693667727345,
          1.1531564642957315,
          2.4420984418372966,
          2.583261599172073,
          1.464305403758547,
          1.8192782737375581,
          2.946446015610642,
          3.25606677563811,
          5.280150109777442,
          4.390749678405273,
          5.370864001702272,
          2.674372043988352,
          3.9425095027613595,
          2.334245727384393,
          3.6671567157682934,
          3.639601125823328,
          2.816589451693086,
          3.899884902941259,
          5.715100927546882,
          6.280188797864412,
          5.459140544147938,
          4.354044355891708,
          5.546411196332364,
          3.3697517192018616,
          4.393902757493396,
          3.656111266938125,
          4.685378804731549,
          4.935574663171838,
          4.460862164018141,
          4.102978015494576,
          6.104989796017057,
          6.801365689470064,
          7.0326237293381375,
          6.009449565242618,
          7.0243348067046405,
          5.3568395701753495,
          5.7768664583957925,
          4.574740548016748,
          6.446015610643087,
          5.999139190064895,
          5.148610614076657,
          4.99082125136617,
          7.0881701502064915,
          7.802419939840019,
          8.079068777746606,
          6.2772388312328875,
          7.301505933785333,
          6.445067752512303,
          6.404600013540826,
          6.677563811163442,
          7.8793221847162656,
          7.262314901683893,
          6.877581220802577,
          6.903569943225227,
          8.863895310036648,
          8.346500178932395,
          7.6332079194513955,
          7.153939898056886,
          7.822189552282107,
          7.408294725846537,
          7.833447785590615,
          6.161667843429307,
          7.729309127486913,
          7.745442059753744,
          7.267837626098977,
          6.921704983992799,
          7.347544757280608,
          8.370322368484677
         ],
         "yaxis": "y"
        },
        {
         "mode": "lines",
         "name": "Consommation (Rolling Mean)",
         "type": "scatter",
         "x": [
          "2012-02-29T00:00:00",
          "2012-03-31T00:00:00",
          "2012-04-30T00:00:00",
          "2012-05-31T00:00:00",
          "2012-06-30T00:00:00",
          "2012-07-31T00:00:00",
          "2012-08-31T00:00:00",
          "2012-09-30T00:00:00",
          "2012-10-31T00:00:00",
          "2012-11-30T00:00:00",
          "2012-12-31T00:00:00",
          "2013-01-31T00:00:00",
          "2013-02-28T00:00:00",
          "2013-03-31T00:00:00",
          "2013-04-30T00:00:00",
          "2013-05-31T00:00:00",
          "2013-06-30T00:00:00",
          "2013-07-31T00:00:00",
          "2013-08-31T00:00:00",
          "2013-09-30T00:00:00",
          "2013-10-31T00:00:00",
          "2013-11-30T00:00:00",
          "2013-12-31T00:00:00",
          "2014-01-31T00:00:00",
          "2014-02-28T00:00:00",
          "2014-03-31T00:00:00",
          "2014-04-30T00:00:00",
          "2014-05-31T00:00:00",
          "2014-06-30T00:00:00",
          "2014-07-31T00:00:00",
          "2014-08-31T00:00:00",
          "2014-09-30T00:00:00",
          "2014-10-31T00:00:00",
          "2014-11-30T00:00:00",
          "2014-12-31T00:00:00",
          "2015-01-31T00:00:00",
          "2015-02-28T00:00:00",
          "2015-03-31T00:00:00",
          "2015-04-30T00:00:00",
          "2015-05-31T00:00:00",
          "2015-06-30T00:00:00",
          "2015-07-31T00:00:00",
          "2015-08-31T00:00:00",
          "2015-09-30T00:00:00",
          "2015-10-31T00:00:00",
          "2015-11-30T00:00:00",
          "2015-12-31T00:00:00",
          "2016-01-31T00:00:00",
          "2016-02-29T00:00:00",
          "2016-03-31T00:00:00",
          "2016-04-30T00:00:00",
          "2016-05-31T00:00:00",
          "2016-06-30T00:00:00",
          "2016-07-31T00:00:00",
          "2016-08-31T00:00:00",
          "2016-09-30T00:00:00",
          "2016-10-31T00:00:00",
          "2016-11-30T00:00:00",
          "2016-12-31T00:00:00",
          "2017-01-31T00:00:00",
          "2017-02-28T00:00:00",
          "2017-03-31T00:00:00",
          "2017-04-30T00:00:00",
          "2017-05-31T00:00:00",
          "2017-06-30T00:00:00",
          "2017-07-31T00:00:00",
          "2017-08-31T00:00:00",
          "2017-09-30T00:00:00",
          "2017-10-31T00:00:00",
          "2017-11-30T00:00:00",
          "2017-12-31T00:00:00",
          "2018-01-31T00:00:00",
          "2018-02-28T00:00:00",
          "2018-03-31T00:00:00",
          "2018-04-30T00:00:00",
          "2018-05-31T00:00:00",
          "2018-06-30T00:00:00",
          "2018-07-31T00:00:00",
          "2018-08-31T00:00:00",
          "2018-09-30T00:00:00",
          "2018-10-31T00:00:00",
          "2018-11-30T00:00:00",
          "2018-12-31T00:00:00"
         ],
         "y": [
          null,
          null,
          null,
          null,
          null,
          null,
          null,
          null,
          null,
          null,
          null,
          0.42719281152921723,
          0.40995973715627426,
          0.4323931473035154,
          0.43307612015232366,
          0.4388743230026213,
          0.4382677785589542,
          0.44060303245691856,
          0.4384708254060779,
          0.43834890305590074,
          0.4327938105303741,
          0.4364163323621865,
          0.4381078020396267,
          0.42299790527633246,
          0.40500958696206446,
          0.38249663664873584,
          0.3681153435967673,
          0.360345676597224,
          0.3587526559235308,
          0.3556862448921155,
          0.35340773528862024,
          0.35343105927052515,
          0.3508592066298389,
          0.3343119839291167,
          0.3319991400444137,
          0.3433455450924283,
          0.3579848049050001,
          0.36722664778642167,
          0.36930131748828926,
          0.3666269207664508,
          0.36898942479955976,
          0.37244146302894054,
          0.374561719139598,
          0.37554862745985856,
          0.38557512664707017,
          0.387157585115037,
          0.37042279791151117,
          0.36200871011406166,
          0.354121365206272,
          0.35957257470436504,
          0.36741434209411045,
          0.37028142261004643,
          0.36885460019942434,
          0.3646485982960794,
          0.3665752566439955,
          0.3655744769825105,
          0.36342558555855003,
          0.3747903535524464,
          0.3959129993034705,
          0.42155414599541646,
          0.41242395665304915,
          0.39632992014766205,
          0.38758966112411186,
          0.3886173103968315,
          0.390417426763177,
          0.3909506581189474,
          0.3908211466283593,
          0.39221274034877035,
          0.3852710738177764,
          0.3876162942415146,
          0.391375930929519,
          0.36063111042716384,
          0.3830309526754647,
          0.403445119806815,
          0.4021235193699082,
          0.39840736731844295,
          0.3957602936358628,
          0.3983461029689308,
          0.3995735557447933,
          0.39619939689022915,
          0.3979412522009129,
          0.39367859135425637,
          0.37884480025065925
         ]
        },
        {
         "mode": "lines",
         "name": "Fioul (Rolling Mean)",
         "type": "scatter",
         "x": [
          "2012-02-29T00:00:00",
          "2012-03-31T00:00:00",
          "2012-04-30T00:00:00",
          "2012-05-31T00:00:00",
          "2012-06-30T00:00:00",
          "2012-07-31T00:00:00",
          "2012-08-31T00:00:00",
          "2012-09-30T00:00:00",
          "2012-10-31T00:00:00",
          "2012-11-30T00:00:00",
          "2012-12-31T00:00:00",
          "2013-01-31T00:00:00",
          "2013-02-28T00:00:00",
          "2013-03-31T00:00:00",
          "2013-04-30T00:00:00",
          "2013-05-31T00:00:00",
          "2013-06-30T00:00:00",
          "2013-07-31T00:00:00",
          "2013-08-31T00:00:00",
          "2013-09-30T00:00:00",
          "2013-10-31T00:00:00",
          "2013-11-30T00:00:00",
          "2013-12-31T00:00:00",
          "2014-01-31T00:00:00",
          "2014-02-28T00:00:00",
          "2014-03-31T00:00:00",
          "2014-04-30T00:00:00",
          "2014-05-31T00:00:00",
          "2014-06-30T00:00:00",
          "2014-07-31T00:00:00",
          "2014-08-31T00:00:00",
          "2014-09-30T00:00:00",
          "2014-10-31T00:00:00",
          "2014-11-30T00:00:00",
          "2014-12-31T00:00:00",
          "2015-01-31T00:00:00",
          "2015-02-28T00:00:00",
          "2015-03-31T00:00:00",
          "2015-04-30T00:00:00",
          "2015-05-31T00:00:00",
          "2015-06-30T00:00:00",
          "2015-07-31T00:00:00",
          "2015-08-31T00:00:00",
          "2015-09-30T00:00:00",
          "2015-10-31T00:00:00",
          "2015-11-30T00:00:00",
          "2015-12-31T00:00:00",
          "2016-01-31T00:00:00",
          "2016-02-29T00:00:00",
          "2016-03-31T00:00:00",
          "2016-04-30T00:00:00",
          "2016-05-31T00:00:00",
          "2016-06-30T00:00:00",
          "2016-07-31T00:00:00",
          "2016-08-31T00:00:00",
          "2016-09-30T00:00:00",
          "2016-10-31T00:00:00",
          "2016-11-30T00:00:00",
          "2016-12-31T00:00:00",
          "2017-01-31T00:00:00",
          "2017-02-28T00:00:00",
          "2017-03-31T00:00:00",
          "2017-04-30T00:00:00",
          "2017-05-31T00:00:00",
          "2017-06-30T00:00:00",
          "2017-07-31T00:00:00",
          "2017-08-31T00:00:00",
          "2017-09-30T00:00:00",
          "2017-10-31T00:00:00",
          "2017-11-30T00:00:00",
          "2017-12-31T00:00:00",
          "2018-01-31T00:00:00",
          "2018-02-28T00:00:00",
          "2018-03-31T00:00:00",
          "2018-04-30T00:00:00",
          "2018-05-31T00:00:00",
          "2018-06-30T00:00:00",
          "2018-07-31T00:00:00",
          "2018-08-31T00:00:00",
          "2018-09-30T00:00:00",
          "2018-10-31T00:00:00",
          "2018-11-30T00:00:00",
          "2018-12-31T00:00:00"
         ],
         "y": [
          null,
          null,
          null,
          null,
          null,
          null,
          null,
          null,
          null,
          null,
          null,
          0.3227904889509914,
          0.2698693727752455,
          0.2724604669518046,
          0.27172223060058504,
          0.2725046243432817,
          0.27662429950902795,
          0.27850323285111583,
          0.28070144165975025,
          0.281084196048217,
          0.28197307194209426,
          0.27900345530519643,
          0.2777329364383204,
          0.2612830898307537,
          0.24362133014887155,
          0.22373626931682833,
          0.21054171586817452,
          0.2020337449674253,
          0.19006029514407197,
          0.18267002348335393,
          0.17635030139877625,
          0.1712265051044748,
          0.16417064125936712,
          0.15397353258105897,
          0.14169076728362195,
          0.1451820652424818,
          0.14864168786050472,
          0.1487162809371045,
          0.1488999209698109,
          0.14912186208941322,
          0.1515353435248422,
          0.1520776287797103,
          0.15178866075804007,
          0.1506422357028369,
          0.15072435220721983,
          0.1606548494134633,
          0.1647021543335457,
          0.16180332631260733,
          0.15423321907982324,
          0.1465007596952191,
          0.14183435361273294,
          0.13795410298683503,
          0.13307195406331787,
          0.12639238984761297,
          0.12097376922706016,
          0.11502307982459471,
          0.10573844324548365,
          0.09550803484988539,
          0.08505709597739415,
          0.13013542340996628,
          0.14624162890418882,
          0.16585353801160593,
          0.17251651648878888,
          0.1748552766073718,
          0.1748442051994409,
          0.17489661271343024,
          0.17529813292460603,
          0.184392076257464,
          0.20428590017300463,
          0.21800478524204406,
          0.23518286546161873,
          0.18345173327807038,
          0.18222938999705562,
          0.17236942492627896,
          0.15922236311550617,
          0.15120833089676866,
          0.14586870626793869,
          0.1424277639791273,
          0.1404017390745295,
          0.13359406285276756,
          0.12570985251003783,
          0.12046982780583675,
          0.11343542282861052
         ]
        },
        {
         "mode": "lines",
         "name": "Charbon (Rolling Mean)",
         "type": "scatter",
         "x": [
          "2012-02-29T00:00:00",
          "2012-03-31T00:00:00",
          "2012-04-30T00:00:00",
          "2012-05-31T00:00:00",
          "2012-06-30T00:00:00",
          "2012-07-31T00:00:00",
          "2012-08-31T00:00:00",
          "2012-09-30T00:00:00",
          "2012-10-31T00:00:00",
          "2012-11-30T00:00:00",
          "2012-12-31T00:00:00",
          "2013-01-31T00:00:00",
          "2013-02-28T00:00:00",
          "2013-03-31T00:00:00",
          "2013-04-30T00:00:00",
          "2013-05-31T00:00:00",
          "2013-06-30T00:00:00",
          "2013-07-31T00:00:00",
          "2013-08-31T00:00:00",
          "2013-09-30T00:00:00",
          "2013-10-31T00:00:00",
          "2013-11-30T00:00:00",
          "2013-12-31T00:00:00",
          "2014-01-31T00:00:00",
          "2014-02-28T00:00:00",
          "2014-03-31T00:00:00",
          "2014-04-30T00:00:00",
          "2014-05-31T00:00:00",
          "2014-06-30T00:00:00",
          "2014-07-31T00:00:00",
          "2014-08-31T00:00:00",
          "2014-09-30T00:00:00",
          "2014-10-31T00:00:00",
          "2014-11-30T00:00:00",
          "2014-12-31T00:00:00",
          "2015-01-31T00:00:00",
          "2015-02-28T00:00:00",
          "2015-03-31T00:00:00",
          "2015-04-30T00:00:00",
          "2015-05-31T00:00:00",
          "2015-06-30T00:00:00",
          "2015-07-31T00:00:00",
          "2015-08-31T00:00:00",
          "2015-09-30T00:00:00",
          "2015-10-31T00:00:00",
          "2015-11-30T00:00:00",
          "2015-12-31T00:00:00",
          "2016-01-31T00:00:00",
          "2016-02-29T00:00:00",
          "2016-03-31T00:00:00",
          "2016-04-30T00:00:00",
          "2016-05-31T00:00:00",
          "2016-06-30T00:00:00",
          "2016-07-31T00:00:00",
          "2016-08-31T00:00:00",
          "2016-09-30T00:00:00",
          "2016-10-31T00:00:00",
          "2016-11-30T00:00:00",
          "2016-12-31T00:00:00",
          "2017-01-31T00:00:00",
          "2017-02-28T00:00:00",
          "2017-03-31T00:00:00",
          "2017-04-30T00:00:00",
          "2017-05-31T00:00:00",
          "2017-06-30T00:00:00",
          "2017-07-31T00:00:00",
          "2017-08-31T00:00:00",
          "2017-09-30T00:00:00",
          "2017-10-31T00:00:00",
          "2017-11-30T00:00:00",
          "2017-12-31T00:00:00",
          "2018-01-31T00:00:00",
          "2018-02-28T00:00:00",
          "2018-03-31T00:00:00",
          "2018-04-30T00:00:00",
          "2018-05-31T00:00:00",
          "2018-06-30T00:00:00",
          "2018-07-31T00:00:00",
          "2018-08-31T00:00:00",
          "2018-09-30T00:00:00",
          "2018-10-31T00:00:00",
          "2018-11-30T00:00:00",
          "2018-12-31T00:00:00"
         ],
         "y": [
          null,
          null,
          null,
          null,
          null,
          null,
          null,
          null,
          null,
          null,
          null,
          0.6214999824507098,
          0.6243073070419187,
          0.6688272949563735,
          0.6652812477009934,
          0.6558600715442588,
          0.6368449529133705,
          0.6284166666831914,
          0.6294541899740079,
          0.6402514155601194,
          0.6369521655262271,
          0.6456243240961933,
          0.6382614549438994,
          0.5858556885181438,
          0.5216763478598491,
          0.46261062580107876,
          0.4368761450416116,
          0.4302142890617289,
          0.429114764888755,
          0.40601763508673544,
          0.3692423868964771,
          0.33565863081032704,
          0.3075679182318089,
          0.26998654290021484,
          0.2611635133136979,
          0.2829815774756215,
          0.31620800225159706,
          0.3188908458605851,
          0.31176162022450266,
          0.3007800114179449,
          0.29097526263950446,
          0.29328874491640683,
          0.29583469745188934,
          0.2928406596497268,
          0.2905223025699894,
          0.2859199268521789,
          0.2708856713647868,
          0.24274994535263397,
          0.2008924425485482,
          0.19007583342438472,
          0.18801686542972926,
          0.19235274641764785,
          0.1958801702737233,
          0.19445338984535274,
          0.19370797465525558,
          0.19946336517918087,
          0.19787700518817827,
          0.21034453652258467,
          0.22766553723268645,
          0.25860095339906614,
          0.2763275211802747,
          0.26367666420976604,
          0.26892991699218777,
          0.28060958103994516,
          0.28690012576660817,
          0.30945101325503505,
          0.31160489944455005,
          0.30526248351077284,
          0.313780961855775,
          0.32278407822634114,
          0.3080764014793754,
          0.26209164272394864,
          0.26241275177034656,
          0.2771722171006497,
          0.264057444147814,
          0.2521121777069549,
          0.24943212678162474,
          0.24015423677872497,
          0.2501292566365235,
          0.2424958772387821,
          0.22845011609301635,
          0.1972555752376408,
          0.1763384076891141
         ]
        },
        {
         "mode": "lines",
         "name": "Gaz (Rolling Mean)",
         "type": "scatter",
         "x": [
          "2012-02-29T00:00:00",
          "2012-03-31T00:00:00",
          "2012-04-30T00:00:00",
          "2012-05-31T00:00:00",
          "2012-06-30T00:00:00",
          "2012-07-31T00:00:00",
          "2012-08-31T00:00:00",
          "2012-09-30T00:00:00",
          "2012-10-31T00:00:00",
          "2012-11-30T00:00:00",
          "2012-12-31T00:00:00",
          "2013-01-31T00:00:00",
          "2013-02-28T00:00:00",
          "2013-03-31T00:00:00",
          "2013-04-30T00:00:00",
          "2013-05-31T00:00:00",
          "2013-06-30T00:00:00",
          "2013-07-31T00:00:00",
          "2013-08-31T00:00:00",
          "2013-09-30T00:00:00",
          "2013-10-31T00:00:00",
          "2013-11-30T00:00:00",
          "2013-12-31T00:00:00",
          "2014-01-31T00:00:00",
          "2014-02-28T00:00:00",
          "2014-03-31T00:00:00",
          "2014-04-30T00:00:00",
          "2014-05-31T00:00:00",
          "2014-06-30T00:00:00",
          "2014-07-31T00:00:00",
          "2014-08-31T00:00:00",
          "2014-09-30T00:00:00",
          "2014-10-31T00:00:00",
          "2014-11-30T00:00:00",
          "2014-12-31T00:00:00",
          "2015-01-31T00:00:00",
          "2015-02-28T00:00:00",
          "2015-03-31T00:00:00",
          "2015-04-30T00:00:00",
          "2015-05-31T00:00:00",
          "2015-06-30T00:00:00",
          "2015-07-31T00:00:00",
          "2015-08-31T00:00:00",
          "2015-09-30T00:00:00",
          "2015-10-31T00:00:00",
          "2015-11-30T00:00:00",
          "2015-12-31T00:00:00",
          "2016-01-31T00:00:00",
          "2016-02-29T00:00:00",
          "2016-03-31T00:00:00",
          "2016-04-30T00:00:00",
          "2016-05-31T00:00:00",
          "2016-06-30T00:00:00",
          "2016-07-31T00:00:00",
          "2016-08-31T00:00:00",
          "2016-09-30T00:00:00",
          "2016-10-31T00:00:00",
          "2016-11-30T00:00:00",
          "2016-12-31T00:00:00",
          "2017-01-31T00:00:00",
          "2017-02-28T00:00:00",
          "2017-03-31T00:00:00",
          "2017-04-30T00:00:00",
          "2017-05-31T00:00:00",
          "2017-06-30T00:00:00",
          "2017-07-31T00:00:00",
          "2017-08-31T00:00:00",
          "2017-09-30T00:00:00",
          "2017-10-31T00:00:00",
          "2017-11-30T00:00:00",
          "2017-12-31T00:00:00",
          "2018-01-31T00:00:00",
          "2018-02-28T00:00:00",
          "2018-03-31T00:00:00",
          "2018-04-30T00:00:00",
          "2018-05-31T00:00:00",
          "2018-06-30T00:00:00",
          "2018-07-31T00:00:00",
          "2018-08-31T00:00:00",
          "2018-09-30T00:00:00",
          "2018-10-31T00:00:00",
          "2018-11-30T00:00:00",
          "2018-12-31T00:00:00"
         ],
         "y": [
          null,
          null,
          null,
          null,
          null,
          null,
          null,
          null,
          null,
          null,
          null,
          0.3503675140573061,
          0.319517575582104,
          0.31471114868000394,
          0.31020144451563053,
          0.3101763377703167,
          0.3016976443447473,
          0.2966844140144223,
          0.28817461861270394,
          0.28958707669139555,
          0.288345944919224,
          0.2800133886776432,
          0.27135377657621756,
          0.24544165666515716,
          0.21581437000631595,
          0.19098152894092882,
          0.17968095816200244,
          0.17787801376592868,
          0.17773878711519264,
          0.17669924154746589,
          0.17462165150797723,
          0.16956542942309916,
          0.16888921315002536,
          0.16445677881574292,
          0.16631696622501127,
          0.18706005302822862,
          0.21739260765887716,
          0.23513541551452974,
          0.24247211357277423,
          0.24186854485258266,
          0.24147300606585556,
          0.2491594686369247,
          0.24856621537497905,
          0.2584844323717276,
          0.28365061742456815,
          0.30556848572770773,
          0.3097296976496169,
          0.322000983254469,
          0.31599347821399015,
          0.3291404977128972,
          0.3449077259834988,
          0.3559314543932081,
          0.36962365547109016,
          0.38254221548657275,
          0.40604604659467775,
          0.44296390922294226,
          0.46980150971445234,
          0.5010162328151513,
          0.5527411531719421,
          0.5887223593772384,
          0.6196984722907021,
          0.6361873799054579,
          0.6481154454097712,
          0.6577625681364849,
          0.6624741971671976,
          0.6732043057143757,
          0.6704729060049953,
          0.6519228746412425,
          0.648702511227374,
          0.6481841297031853,
          0.629120503846888,
          0.5805029162084205,
          0.5795381508482089,
          0.5714171667604485,
          0.5416016298533864,
          0.5228236515755632,
          0.5093684589056856,
          0.5048305817328996,
          0.5094766568044662,
          0.5000555130916253,
          0.48038981961110117,
          0.47319933196103875,
          0.4579788138244494
         ]
        },
        {
         "mode": "lines",
         "name": "Nucléaire (Rolling Mean)",
         "type": "scatter",
         "x": [
          "2012-02-29T00:00:00",
          "2012-03-31T00:00:00",
          "2012-04-30T00:00:00",
          "2012-05-31T00:00:00",
          "2012-06-30T00:00:00",
          "2012-07-31T00:00:00",
          "2012-08-31T00:00:00",
          "2012-09-30T00:00:00",
          "2012-10-31T00:00:00",
          "2012-11-30T00:00:00",
          "2012-12-31T00:00:00",
          "2013-01-31T00:00:00",
          "2013-02-28T00:00:00",
          "2013-03-31T00:00:00",
          "2013-04-30T00:00:00",
          "2013-05-31T00:00:00",
          "2013-06-30T00:00:00",
          "2013-07-31T00:00:00",
          "2013-08-31T00:00:00",
          "2013-09-30T00:00:00",
          "2013-10-31T00:00:00",
          "2013-11-30T00:00:00",
          "2013-12-31T00:00:00",
          "2014-01-31T00:00:00",
          "2014-02-28T00:00:00",
          "2014-03-31T00:00:00",
          "2014-04-30T00:00:00",
          "2014-05-31T00:00:00",
          "2014-06-30T00:00:00",
          "2014-07-31T00:00:00",
          "2014-08-31T00:00:00",
          "2014-09-30T00:00:00",
          "2014-10-31T00:00:00",
          "2014-11-30T00:00:00",
          "2014-12-31T00:00:00",
          "2015-01-31T00:00:00",
          "2015-02-28T00:00:00",
          "2015-03-31T00:00:00",
          "2015-04-30T00:00:00",
          "2015-05-31T00:00:00",
          "2015-06-30T00:00:00",
          "2015-07-31T00:00:00",
          "2015-08-31T00:00:00",
          "2015-09-30T00:00:00",
          "2015-10-31T00:00:00",
          "2015-11-30T00:00:00",
          "2015-12-31T00:00:00",
          "2016-01-31T00:00:00",
          "2016-02-29T00:00:00",
          "2016-03-31T00:00:00",
          "2016-04-30T00:00:00",
          "2016-05-31T00:00:00",
          "2016-06-30T00:00:00",
          "2016-07-31T00:00:00",
          "2016-08-31T00:00:00",
          "2016-09-30T00:00:00",
          "2016-10-31T00:00:00",
          "2016-11-30T00:00:00",
          "2016-12-31T00:00:00",
          "2017-01-31T00:00:00",
          "2017-02-28T00:00:00",
          "2017-03-31T00:00:00",
          "2017-04-30T00:00:00",
          "2017-05-31T00:00:00",
          "2017-06-30T00:00:00",
          "2017-07-31T00:00:00",
          "2017-08-31T00:00:00",
          "2017-09-30T00:00:00",
          "2017-10-31T00:00:00",
          "2017-11-30T00:00:00",
          "2017-12-31T00:00:00",
          "2018-01-31T00:00:00",
          "2018-02-28T00:00:00",
          "2018-03-31T00:00:00",
          "2018-04-30T00:00:00",
          "2018-05-31T00:00:00",
          "2018-06-30T00:00:00",
          "2018-07-31T00:00:00",
          "2018-08-31T00:00:00",
          "2018-09-30T00:00:00",
          "2018-10-31T00:00:00",
          "2018-11-30T00:00:00",
          "2018-12-31T00:00:00"
         ],
         "y": [
          null,
          null,
          null,
          null,
          null,
          null,
          null,
          null,
          null,
          null,
          null,
          0.5920905404589347,
          0.5790338141326222,
          0.5739671274012637,
          0.5630050053312388,
          0.5773886761994186,
          0.5913945960217796,
          0.6042343308271471,
          0.6151186263380578,
          0.6125794741784737,
          0.6007534943919964,
          0.5838042950991169,
          0.5873603980541732,
          0.5892574452126658,
          0.5867120689791182,
          0.5798907094994515,
          0.5779195681754573,
          0.5816592522599198,
          0.5979055960351644,
          0.6163399085940905,
          0.6237318389485554,
          0.6385794442919813,
          0.6501164472627615,
          0.6613946196739443,
          0.6696295241139354,
          0.6771972768674952,
          0.6847323404154612,
          0.6924087700804655,
          0.6922225127017932,
          0.6827550331225324,
          0.6808801957567988,
          0.6800539149042418,
          0.686911005558655,
          0.6780826026831043,
          0.6895697071059482,
          0.6853869277439083,
          0.6761233865617778,
          0.6610231610609464,
          0.6597964989628388,
          0.6615466429368463,
          0.6607127332358069,
          0.6546425487321065,
          0.6404970298691701,
          0.6068280504446256,
          0.5735253651214051,
          0.5451433793537465,
          0.5078716899051918,
          0.4769896190649352,
          0.4522474416731808,
          0.4448560718613464,
          0.42009237168334956,
          0.40023486872932407,
          0.4050094546452038,
          0.40981413213009715,
          0.3978274269981748,
          0.3966190748200135,
          0.40668589751713924,
          0.4262825362355605,
          0.4197457546791193,
          0.4142603357669497,
          0.4193120860879731,
          0.4212518404426066,
          0.43992860819684765,
          0.4496013113197577,
          0.4416428056657078,
          0.444696006178875,
          0.45662256235219867,
          0.4689455930623743,
          0.46017082796425773,
          0.4653152626420443,
          0.4895954742936448,
          0.5054567765509321,
          0.5156791703356575
         ]
        },
        {
         "mode": "lines",
         "name": "Eolien (Rolling Mean)",
         "type": "scatter",
         "x": [
          "2012-02-29T00:00:00",
          "2012-03-31T00:00:00",
          "2012-04-30T00:00:00",
          "2012-05-31T00:00:00",
          "2012-06-30T00:00:00",
          "2012-07-31T00:00:00",
          "2012-08-31T00:00:00",
          "2012-09-30T00:00:00",
          "2012-10-31T00:00:00",
          "2012-11-30T00:00:00",
          "2012-12-31T00:00:00",
          "2013-01-31T00:00:00",
          "2013-02-28T00:00:00",
          "2013-03-31T00:00:00",
          "2013-04-30T00:00:00",
          "2013-05-31T00:00:00",
          "2013-06-30T00:00:00",
          "2013-07-31T00:00:00",
          "2013-08-31T00:00:00",
          "2013-09-30T00:00:00",
          "2013-10-31T00:00:00",
          "2013-11-30T00:00:00",
          "2013-12-31T00:00:00",
          "2014-01-31T00:00:00",
          "2014-02-28T00:00:00",
          "2014-03-31T00:00:00",
          "2014-04-30T00:00:00",
          "2014-05-31T00:00:00",
          "2014-06-30T00:00:00",
          "2014-07-31T00:00:00",
          "2014-08-31T00:00:00",
          "2014-09-30T00:00:00",
          "2014-10-31T00:00:00",
          "2014-11-30T00:00:00",
          "2014-12-31T00:00:00",
          "2015-01-31T00:00:00",
          "2015-02-28T00:00:00",
          "2015-03-31T00:00:00",
          "2015-04-30T00:00:00",
          "2015-05-31T00:00:00",
          "2015-06-30T00:00:00",
          "2015-07-31T00:00:00",
          "2015-08-31T00:00:00",
          "2015-09-30T00:00:00",
          "2015-10-31T00:00:00",
          "2015-11-30T00:00:00",
          "2015-12-31T00:00:00",
          "2016-01-31T00:00:00",
          "2016-02-29T00:00:00",
          "2016-03-31T00:00:00",
          "2016-04-30T00:00:00",
          "2016-05-31T00:00:00",
          "2016-06-30T00:00:00",
          "2016-07-31T00:00:00",
          "2016-08-31T00:00:00",
          "2016-09-30T00:00:00",
          "2016-10-31T00:00:00",
          "2016-11-30T00:00:00",
          "2016-12-31T00:00:00",
          "2017-01-31T00:00:00",
          "2017-02-28T00:00:00",
          "2017-03-31T00:00:00",
          "2017-04-30T00:00:00",
          "2017-05-31T00:00:00",
          "2017-06-30T00:00:00",
          "2017-07-31T00:00:00",
          "2017-08-31T00:00:00",
          "2017-09-30T00:00:00",
          "2017-10-31T00:00:00",
          "2017-11-30T00:00:00",
          "2017-12-31T00:00:00",
          "2018-01-31T00:00:00",
          "2018-02-28T00:00:00",
          "2018-03-31T00:00:00",
          "2018-04-30T00:00:00",
          "2018-05-31T00:00:00",
          "2018-06-30T00:00:00",
          "2018-07-31T00:00:00",
          "2018-08-31T00:00:00",
          "2018-09-30T00:00:00",
          "2018-10-31T00:00:00",
          "2018-11-30T00:00:00",
          "2018-12-31T00:00:00"
         ],
         "y": [
          null,
          null,
          null,
          null,
          null,
          null,
          null,
          null,
          null,
          null,
          null,
          1.251108700692914,
          1.3231366931375437,
          1.4027029194127663,
          1.3857044993720784,
          1.4237006379075146,
          1.4591803294642525,
          1.4519738278512893,
          1.4162048226417394,
          1.419706099641526,
          1.4738422376353586,
          1.5790136213310586,
          1.5203157422169866,
          1.7040433460610185,
          1.9199882201212517,
          1.907948540885996,
          1.8162372765461938,
          1.8957637288055273,
          1.8535495347286395,
          1.8701025069477593,
          1.9202882177517357,
          1.8740240556633123,
          1.8040565899620538,
          1.7396325219434094,
          1.7629025426597478,
          1.7849882285838081,
          1.6633515659114682,
          1.8147232193934715,
          1.8990719537335108,
          1.9098457402875237,
          1.9720426749802824,
          2.065803676303826,
          2.0978107577711658,
          2.2973679968113085,
          2.3003505190932203,
          2.520506255521818,
          2.6166250308883314,
          2.7328803538364155,
          2.9424008780748703,
          3.0368602518795336,
          3.08175210463782,
          3.0733218115625607,
          3.0341943349953797,
          2.953506925756299,
          2.9662970221955933,
          2.822240614178506,
          2.8468321688855496,
          2.800298474370301,
          2.579310339720871,
          2.4098569531749825,
          2.333742497943599,
          2.377175194384925,
          2.335832855198887,
          2.3281342559212512,
          2.413834989455655,
          2.56133692738111,
          2.573224280598066,
          2.7128786782502146,
          2.8573645610133407,
          2.860088340628057,
          3.252016415667239,
          3.6667949801806934,
          3.7179911202393896,
          3.8169364952829716,
          3.9636396736499684,
          3.984760733906757,
          3.9630349182009286,
          3.8337241976650116,
          3.868312147322955,
          3.860684739302483,
          3.9461017656278035,
          4.046025200647216,
          4.105317997488313
         ]
        },
        {
         "mode": "lines",
         "name": "Solaire (Rolling Mean)",
         "type": "scatter",
         "x": [
          "2012-02-29T00:00:00",
          "2012-03-31T00:00:00",
          "2012-04-30T00:00:00",
          "2012-05-31T00:00:00",
          "2012-06-30T00:00:00",
          "2012-07-31T00:00:00",
          "2012-08-31T00:00:00",
          "2012-09-30T00:00:00",
          "2012-10-31T00:00:00",
          "2012-11-30T00:00:00",
          "2012-12-31T00:00:00",
          "2013-01-31T00:00:00",
          "2013-02-28T00:00:00",
          "2013-03-31T00:00:00",
          "2013-04-30T00:00:00",
          "2013-05-31T00:00:00",
          "2013-06-30T00:00:00",
          "2013-07-31T00:00:00",
          "2013-08-31T00:00:00",
          "2013-09-30T00:00:00",
          "2013-10-31T00:00:00",
          "2013-11-30T00:00:00",
          "2013-12-31T00:00:00",
          "2014-01-31T00:00:00",
          "2014-02-28T00:00:00",
          "2014-03-31T00:00:00",
          "2014-04-30T00:00:00",
          "2014-05-31T00:00:00",
          "2014-06-30T00:00:00",
          "2014-07-31T00:00:00",
          "2014-08-31T00:00:00",
          "2014-09-30T00:00:00",
          "2014-10-31T00:00:00",
          "2014-11-30T00:00:00",
          "2014-12-31T00:00:00",
          "2015-01-31T00:00:00",
          "2015-02-28T00:00:00",
          "2015-03-31T00:00:00",
          "2015-04-30T00:00:00",
          "2015-05-31T00:00:00",
          "2015-06-30T00:00:00",
          "2015-07-31T00:00:00",
          "2015-08-31T00:00:00",
          "2015-09-30T00:00:00",
          "2015-10-31T00:00:00",
          "2015-11-30T00:00:00",
          "2015-12-31T00:00:00",
          "2016-01-31T00:00:00",
          "2016-02-29T00:00:00",
          "2016-03-31T00:00:00",
          "2016-04-30T00:00:00",
          "2016-05-31T00:00:00",
          "2016-06-30T00:00:00",
          "2016-07-31T00:00:00",
          "2016-08-31T00:00:00",
          "2016-09-30T00:00:00",
          "2016-10-31T00:00:00",
          "2016-11-30T00:00:00",
          "2016-12-31T00:00:00",
          "2017-01-31T00:00:00",
          "2017-02-28T00:00:00",
          "2017-03-31T00:00:00",
          "2017-04-30T00:00:00",
          "2017-05-31T00:00:00",
          "2017-06-30T00:00:00",
          "2017-07-31T00:00:00",
          "2017-08-31T00:00:00",
          "2017-09-30T00:00:00",
          "2017-10-31T00:00:00",
          "2017-11-30T00:00:00",
          "2017-12-31T00:00:00",
          "2018-01-31T00:00:00",
          "2018-02-28T00:00:00",
          "2018-03-31T00:00:00",
          "2018-04-30T00:00:00",
          "2018-05-31T00:00:00",
          "2018-06-30T00:00:00",
          "2018-07-31T00:00:00",
          "2018-08-31T00:00:00",
          "2018-09-30T00:00:00",
          "2018-10-31T00:00:00",
          "2018-11-30T00:00:00",
          "2018-12-31T00:00:00"
         ],
         "y": [
          null,
          null,
          null,
          null,
          null,
          null,
          null,
          null,
          null,
          null,
          null,
          2.338948877376797,
          2.359591974686347,
          2.3632820922223448,
          2.4761659877899302,
          2.539154385699107,
          2.639812672754219,
          2.7749343946730995,
          2.8637880933372952,
          2.929015133415303,
          2.976577295797956,
          2.985855277853856,
          3.057609343830185,
          3.086675757204931,
          3.118115325520909,
          3.300813292387062,
          3.447256910654382,
          3.619728507578362,
          3.8139091062718884,
          3.8446557152874488,
          3.9336128479607466,
          4.106187878893828,
          4.258678744651053,
          4.318194090761643,
          4.293378669479294,
          4.364858853854057,
          4.457293408777031,
          4.459221263312879,
          4.647701336969548,
          4.803350582046963,
          4.983579729653607,
          5.226523879173537,
          5.375255671388696,
          5.447567698287365,
          5.480620448660797,
          5.607252326536795,
          5.7185599460783445,
          5.74227547050334,
          5.791245889347947,
          5.9240886638268435,
          5.936947987747196,
          6.019977331927019,
          5.978976673445722,
          6.097880136979648,
          6.302647425027339,
          6.4045833406174175,
          6.6113047059074885,
          6.603844831504541,
          6.6649927838996454,
          6.750850295539614,
          6.770038518242262,
          6.795094314334495,
          7.034926702679183,
          7.18852037892782,
          7.401780910258128,
          7.413583556226338,
          7.401026764642467,
          7.398739561905981,
          7.383759112390519,
          7.465229176742984,
          7.37673385506807,
          7.299480790410645,
          7.409472418568782,
          7.499998543182969,
          7.492746508009579,
          7.575247513213328,
          7.7534711093758775,
          8.118298398860961,
          8.406658333673255,
          8.765653013377463,
          8.871611686391967,
          8.907589725360852,
          8.920128063929015
         ]
        },
        {
         "mode": "lines",
         "name": "Hydraulique (Rolling Mean)",
         "type": "scatter",
         "x": [
          "2012-02-29T00:00:00",
          "2012-03-31T00:00:00",
          "2012-04-30T00:00:00",
          "2012-05-31T00:00:00",
          "2012-06-30T00:00:00",
          "2012-07-31T00:00:00",
          "2012-08-31T00:00:00",
          "2012-09-30T00:00:00",
          "2012-10-31T00:00:00",
          "2012-11-30T00:00:00",
          "2012-12-31T00:00:00",
          "2013-01-31T00:00:00",
          "2013-02-28T00:00:00",
          "2013-03-31T00:00:00",
          "2013-04-30T00:00:00",
          "2013-05-31T00:00:00",
          "2013-06-30T00:00:00",
          "2013-07-31T00:00:00",
          "2013-08-31T00:00:00",
          "2013-09-30T00:00:00",
          "2013-10-31T00:00:00",
          "2013-11-30T00:00:00",
          "2013-12-31T00:00:00",
          "2014-01-31T00:00:00",
          "2014-02-28T00:00:00",
          "2014-03-31T00:00:00",
          "2014-04-30T00:00:00",
          "2014-05-31T00:00:00",
          "2014-06-30T00:00:00",
          "2014-07-31T00:00:00",
          "2014-08-31T00:00:00",
          "2014-09-30T00:00:00",
          "2014-10-31T00:00:00",
          "2014-11-30T00:00:00",
          "2014-12-31T00:00:00",
          "2015-01-31T00:00:00",
          "2015-02-28T00:00:00",
          "2015-03-31T00:00:00",
          "2015-04-30T00:00:00",
          "2015-05-31T00:00:00",
          "2015-06-30T00:00:00",
          "2015-07-31T00:00:00",
          "2015-08-31T00:00:00",
          "2015-09-30T00:00:00",
          "2015-10-31T00:00:00",
          "2015-11-30T00:00:00",
          "2015-12-31T00:00:00",
          "2016-01-31T00:00:00",
          "2016-02-29T00:00:00",
          "2016-03-31T00:00:00",
          "2016-04-30T00:00:00",
          "2016-05-31T00:00:00",
          "2016-06-30T00:00:00",
          "2016-07-31T00:00:00",
          "2016-08-31T00:00:00",
          "2016-09-30T00:00:00",
          "2016-10-31T00:00:00",
          "2016-11-30T00:00:00",
          "2016-12-31T00:00:00",
          "2017-01-31T00:00:00",
          "2017-02-28T00:00:00",
          "2017-03-31T00:00:00",
          "2017-04-30T00:00:00",
          "2017-05-31T00:00:00",
          "2017-06-30T00:00:00",
          "2017-07-31T00:00:00",
          "2017-08-31T00:00:00",
          "2017-09-30T00:00:00",
          "2017-10-31T00:00:00",
          "2017-11-30T00:00:00",
          "2017-12-31T00:00:00",
          "2018-01-31T00:00:00",
          "2018-02-28T00:00:00",
          "2018-03-31T00:00:00",
          "2018-04-30T00:00:00",
          "2018-05-31T00:00:00",
          "2018-06-30T00:00:00",
          "2018-07-31T00:00:00",
          "2018-08-31T00:00:00",
          "2018-09-30T00:00:00",
          "2018-10-31T00:00:00",
          "2018-11-30T00:00:00",
          "2018-12-31T00:00:00"
         ],
         "y": [
          null,
          null,
          null,
          null,
          null,
          null,
          null,
          null,
          null,
          null,
          null,
          1.0357200207184571,
          1.0883019766111102,
          1.1719446144822874,
          1.23451570673429,
          1.2640294635671618,
          1.2813700871304763,
          1.331004049650782,
          1.3637063514198597,
          1.3792887602101522,
          1.389839591597944,
          1.4375891524844375,
          1.4098385740539292,
          1.4137973032199334,
          1.420742544192735,
          1.4400770543086787,
          1.3947528635781357,
          1.315396940096909,
          1.2385099023734603,
          1.2317357053847195,
          1.2575546103195465,
          1.2462666967435776,
          1.210745757807353,
          1.162919562508393,
          1.1653417465509148,
          1.139442333560453,
          1.1163668399778222,
          1.0978373098041205,
          1.094855895778809,
          1.105369701174757,
          1.1251174502023886,
          1.0529368218525257,
          0.9896502291385701,
          0.978463835197847,
          0.9817845199962493,
          0.9375034795712445,
          0.8689131482919147,
          0.850129215345449,
          0.8691552090673972,
          0.8737822339095572,
          0.8989966157438541,
          0.9014140541542695,
          0.9538828191751173,
          0.9967179677881921,
          1.0120677232221253,
          1.0097682548536582,
          0.9825729992247347,
          1.0049985088989155,
          1.0311663770992632,
          1.015666371263645,
          0.9348005318595916,
          0.9231708153888071,
          0.8457367890657417,
          0.8178777318574988,
          0.7474789961341376,
          0.6998746549439155,
          0.6872247784913331,
          0.6775688425205417,
          0.6661233504820019,
          0.6562553367399929,
          0.6841857628890362,
          0.7541736073632356,
          0.8434739274636672,
          0.8711377429948098,
          0.9631585344307515,
          1.027623955575249,
          1.110058704307612,
          1.1559619963073282,
          1.1690038317876994,
          1.1667857099257697,
          1.1727704383139599,
          1.1719089803189415,
          1.167007295730219
         ]
        },
        {
         "mode": "lines",
         "name": "Pompage (Rolling Mean)",
         "type": "scatter",
         "x": [
          "2012-02-29T00:00:00",
          "2012-03-31T00:00:00",
          "2012-04-30T00:00:00",
          "2012-05-31T00:00:00",
          "2012-06-30T00:00:00",
          "2012-07-31T00:00:00",
          "2012-08-31T00:00:00",
          "2012-09-30T00:00:00",
          "2012-10-31T00:00:00",
          "2012-11-30T00:00:00",
          "2012-12-31T00:00:00",
          "2013-01-31T00:00:00",
          "2013-02-28T00:00:00",
          "2013-03-31T00:00:00",
          "2013-04-30T00:00:00",
          "2013-05-31T00:00:00",
          "2013-06-30T00:00:00",
          "2013-07-31T00:00:00",
          "2013-08-31T00:00:00",
          "2013-09-30T00:00:00",
          "2013-10-31T00:00:00",
          "2013-11-30T00:00:00",
          "2013-12-31T00:00:00",
          "2014-01-31T00:00:00",
          "2014-02-28T00:00:00",
          "2014-03-31T00:00:00",
          "2014-04-30T00:00:00",
          "2014-05-31T00:00:00",
          "2014-06-30T00:00:00",
          "2014-07-31T00:00:00",
          "2014-08-31T00:00:00",
          "2014-09-30T00:00:00",
          "2014-10-31T00:00:00",
          "2014-11-30T00:00:00",
          "2014-12-31T00:00:00",
          "2015-01-31T00:00:00",
          "2015-02-28T00:00:00",
          "2015-03-31T00:00:00",
          "2015-04-30T00:00:00",
          "2015-05-31T00:00:00",
          "2015-06-30T00:00:00",
          "2015-07-31T00:00:00",
          "2015-08-31T00:00:00",
          "2015-09-30T00:00:00",
          "2015-10-31T00:00:00",
          "2015-11-30T00:00:00",
          "2015-12-31T00:00:00",
          "2016-01-31T00:00:00",
          "2016-02-29T00:00:00",
          "2016-03-31T00:00:00",
          "2016-04-30T00:00:00",
          "2016-05-31T00:00:00",
          "2016-06-30T00:00:00",
          "2016-07-31T00:00:00",
          "2016-08-31T00:00:00",
          "2016-09-30T00:00:00",
          "2016-10-31T00:00:00",
          "2016-11-30T00:00:00",
          "2016-12-31T00:00:00",
          "2017-01-31T00:00:00",
          "2017-02-28T00:00:00",
          "2017-03-31T00:00:00",
          "2017-04-30T00:00:00",
          "2017-05-31T00:00:00",
          "2017-06-30T00:00:00",
          "2017-07-31T00:00:00",
          "2017-08-31T00:00:00",
          "2017-09-30T00:00:00",
          "2017-10-31T00:00:00",
          "2017-11-30T00:00:00",
          "2017-12-31T00:00:00",
          "2018-01-31T00:00:00",
          "2018-02-28T00:00:00",
          "2018-03-31T00:00:00",
          "2018-04-30T00:00:00",
          "2018-05-31T00:00:00",
          "2018-06-30T00:00:00",
          "2018-07-31T00:00:00",
          "2018-08-31T00:00:00",
          "2018-09-30T00:00:00",
          "2018-10-31T00:00:00",
          "2018-11-30T00:00:00",
          "2018-12-31T00:00:00"
         ],
         "y": [
          null,
          null,
          null,
          null,
          null,
          null,
          null,
          null,
          null,
          null,
          null,
          0.6356321928504034,
          0.6236035707787069,
          0.5884173578848141,
          0.5819458185246031,
          0.5755988648333016,
          0.5677856253422594,
          0.5592880831268431,
          0.5288938262128248,
          0.5542742933410095,
          0.5651803477506938,
          0.5454208229439907,
          0.5289928032056445,
          0.49040625517306063,
          0.4451000769773032,
          0.4327611252949321,
          0.44113721539252154,
          0.4297608041599728,
          0.42552510752402356,
          0.39956633814084913,
          0.3909350257102464,
          0.3752678105640868,
          0.35338222537450265,
          0.3358753996358166,
          0.3565138314944792,
          0.38465171552196975,
          0.43224797929176567,
          0.4400343134648907,
          0.43420796146726265,
          0.4315201310126902,
          0.4316475260722255,
          0.4632491726344607,
          0.4950306201967525,
          0.5351836196102381,
          0.5886978647334601,
          0.623248615078475,
          0.5945432341445557,
          0.5701423799169197,
          0.5367953454016111,
          0.5528722993652074,
          0.5797358005834023,
          0.6040548583224307,
          0.622766156265222,
          0.6322497945903239,
          0.625964863599763,
          0.6112797465843213,
          0.5809250372460365,
          0.5749843646606322,
          0.6247302444731723,
          0.6677589793527078,
          0.6630662164726242,
          0.6362281078235478,
          0.5984526092539598,
          0.5916093659032472,
          0.5899955870956477,
          0.5881083249159668,
          0.5939069071677928,
          0.5932126635227425,
          0.5759932600557816,
          0.5711004901738321,
          0.5364776681539148,
          0.4850410754520202,
          0.5175002344760639,
          0.5256266129684064,
          0.5059392678900915,
          0.5085279052448729,
          0.5129946202330584,
          0.5220241097581374,
          0.5200010243470436,
          0.4930900876486654,
          0.4916997634493094,
          0.4780751913951391,
          0.48470254388160106
         ]
        },
        {
         "mode": "lines",
         "name": "Bioénergies (Rolling Mean)",
         "type": "scatter",
         "x": [
          "2012-02-29T00:00:00",
          "2012-03-31T00:00:00",
          "2012-04-30T00:00:00",
          "2012-05-31T00:00:00",
          "2012-06-30T00:00:00",
          "2012-07-31T00:00:00",
          "2012-08-31T00:00:00",
          "2012-09-30T00:00:00",
          "2012-10-31T00:00:00",
          "2012-11-30T00:00:00",
          "2012-12-31T00:00:00",
          "2013-01-31T00:00:00",
          "2013-02-28T00:00:00",
          "2013-03-31T00:00:00",
          "2013-04-30T00:00:00",
          "2013-05-31T00:00:00",
          "2013-06-30T00:00:00",
          "2013-07-31T00:00:00",
          "2013-08-31T00:00:00",
          "2013-09-30T00:00:00",
          "2013-10-31T00:00:00",
          "2013-11-30T00:00:00",
          "2013-12-31T00:00:00",
          "2014-01-31T00:00:00",
          "2014-02-28T00:00:00",
          "2014-03-31T00:00:00",
          "2014-04-30T00:00:00",
          "2014-05-31T00:00:00",
          "2014-06-30T00:00:00",
          "2014-07-31T00:00:00",
          "2014-08-31T00:00:00",
          "2014-09-30T00:00:00",
          "2014-10-31T00:00:00",
          "2014-11-30T00:00:00",
          "2014-12-31T00:00:00",
          "2015-01-31T00:00:00",
          "2015-02-28T00:00:00",
          "2015-03-31T00:00:00",
          "2015-04-30T00:00:00",
          "2015-05-31T00:00:00",
          "2015-06-30T00:00:00",
          "2015-07-31T00:00:00",
          "2015-08-31T00:00:00",
          "2015-09-30T00:00:00",
          "2015-10-31T00:00:00",
          "2015-11-30T00:00:00",
          "2015-12-31T00:00:00",
          "2016-01-31T00:00:00",
          "2016-02-29T00:00:00",
          "2016-03-31T00:00:00",
          "2016-04-30T00:00:00",
          "2016-05-31T00:00:00",
          "2016-06-30T00:00:00",
          "2016-07-31T00:00:00",
          "2016-08-31T00:00:00",
          "2016-09-30T00:00:00",
          "2016-10-31T00:00:00",
          "2016-11-30T00:00:00",
          "2016-12-31T00:00:00",
          "2017-01-31T00:00:00",
          "2017-02-28T00:00:00",
          "2017-03-31T00:00:00",
          "2017-04-30T00:00:00",
          "2017-05-31T00:00:00",
          "2017-06-30T00:00:00",
          "2017-07-31T00:00:00",
          "2017-08-31T00:00:00",
          "2017-09-30T00:00:00",
          "2017-10-31T00:00:00",
          "2017-11-30T00:00:00",
          "2017-12-31T00:00:00",
          "2018-01-31T00:00:00",
          "2018-02-28T00:00:00",
          "2018-03-31T00:00:00",
          "2018-04-30T00:00:00",
          "2018-05-31T00:00:00",
          "2018-06-30T00:00:00",
          "2018-07-31T00:00:00",
          "2018-08-31T00:00:00",
          "2018-09-30T00:00:00",
          "2018-10-31T00:00:00",
          "2018-11-30T00:00:00",
          "2018-12-31T00:00:00"
         ],
         "y": [
          null,
          null,
          null,
          null,
          null,
          null,
          null,
          null,
          null,
          null,
          null,
          1.5229758876497945,
          1.5802084643086267,
          1.5818527080048865,
          1.614472407333971,
          1.6552029028961244,
          1.7065782643879375,
          1.7395332604707685,
          1.8214802706876474,
          1.8340700189894017,
          1.9088121790097772,
          1.9727514967453634,
          2.0587889661575947,
          2.269575366005421,
          2.4949052625470287,
          2.7314152102213907,
          2.9216598478913363,
          3.1102715258903877,
          3.208695631147777,
          3.3107838206420266,
          3.398812114529631,
          3.5115024518575093,
          3.684886337624484,
          3.915607580285837,
          4.1676177488046955,
          4.182533618335571,
          4.179474841459441,
          4.194103774345281,
          4.2520520806130735,
          4.289668185174077,
          4.399823646803554,
          4.484675487550493,
          4.592673282329534,
          4.729696008356623,
          4.7466204344027325,
          4.779111173441914,
          4.8225425810757185,
          4.953666179841568,
          5.091616613954144,
          5.2147769148185,
          5.380367569066291,
          5.49561454414149,
          5.572166984231376,
          5.7188867180573375,
          5.807517095298426,
          5.864829466136636,
          5.938816402459267,
          6.020748098641721,
          6.10416928617255,
          6.19137304020659,
          6.213688812372445,
          6.236786406295836,
          6.32747208815725,
          6.379783217752668,
          6.555018489681559,
          6.674460704187658,
          6.779725346822574,
          6.923806230716401,
          7.083201955037989,
          7.231179051690503,
          7.276519071614867,
          7.239364000090266,
          7.3124224223256,
          7.355812723866997,
          7.436081638311517,
          7.555152285982332,
          7.512160955337822,
          7.499659867235375,
          7.539920463741196,
          7.57244183084923,
          7.573953084246527,
          7.4475905381835235,
          7.449575720646213
         ]
        }
       ],
       "layout": {
        "annotations": [
         {
          "showarrow": false,
          "text": "Source: RTE",
          "x": 0.1,
          "xanchor": "right",
          "xref": "paper",
          "y": -0.25,
          "yanchor": "bottom",
          "yref": "paper"
         }
        ],
        "legend": {
         "title": {
          "text": "Source"
         },
         "tracegroupgap": 0
        },
        "template": {
         "data": {
          "bar": [
           {
            "error_x": {
             "color": "#f2f5fa"
            },
            "error_y": {
             "color": "#f2f5fa"
            },
            "marker": {
             "line": {
              "color": "rgb(17,17,17)",
              "width": 0.5
             },
             "pattern": {
              "fillmode": "overlay",
              "size": 10,
              "solidity": 0.2
             }
            },
            "type": "bar"
           }
          ],
          "barpolar": [
           {
            "marker": {
             "line": {
              "color": "rgb(17,17,17)",
              "width": 0.5
             },
             "pattern": {
              "fillmode": "overlay",
              "size": 10,
              "solidity": 0.2
             }
            },
            "type": "barpolar"
           }
          ],
          "carpet": [
           {
            "aaxis": {
             "endlinecolor": "#A2B1C6",
             "gridcolor": "#506784",
             "linecolor": "#506784",
             "minorgridcolor": "#506784",
             "startlinecolor": "#A2B1C6"
            },
            "baxis": {
             "endlinecolor": "#A2B1C6",
             "gridcolor": "#506784",
             "linecolor": "#506784",
             "minorgridcolor": "#506784",
             "startlinecolor": "#A2B1C6"
            },
            "type": "carpet"
           }
          ],
          "choropleth": [
           {
            "colorbar": {
             "outlinewidth": 0,
             "ticks": ""
            },
            "type": "choropleth"
           }
          ],
          "contour": [
           {
            "colorbar": {
             "outlinewidth": 0,
             "ticks": ""
            },
            "colorscale": [
             [
              0,
              "#0d0887"
             ],
             [
              0.1111111111111111,
              "#46039f"
             ],
             [
              0.2222222222222222,
              "#7201a8"
             ],
             [
              0.3333333333333333,
              "#9c179e"
             ],
             [
              0.4444444444444444,
              "#bd3786"
             ],
             [
              0.5555555555555556,
              "#d8576b"
             ],
             [
              0.6666666666666666,
              "#ed7953"
             ],
             [
              0.7777777777777778,
              "#fb9f3a"
             ],
             [
              0.8888888888888888,
              "#fdca26"
             ],
             [
              1,
              "#f0f921"
             ]
            ],
            "type": "contour"
           }
          ],
          "contourcarpet": [
           {
            "colorbar": {
             "outlinewidth": 0,
             "ticks": ""
            },
            "type": "contourcarpet"
           }
          ],
          "heatmap": [
           {
            "colorbar": {
             "outlinewidth": 0,
             "ticks": ""
            },
            "colorscale": [
             [
              0,
              "#0d0887"
             ],
             [
              0.1111111111111111,
              "#46039f"
             ],
             [
              0.2222222222222222,
              "#7201a8"
             ],
             [
              0.3333333333333333,
              "#9c179e"
             ],
             [
              0.4444444444444444,
              "#bd3786"
             ],
             [
              0.5555555555555556,
              "#d8576b"
             ],
             [
              0.6666666666666666,
              "#ed7953"
             ],
             [
              0.7777777777777778,
              "#fb9f3a"
             ],
             [
              0.8888888888888888,
              "#fdca26"
             ],
             [
              1,
              "#f0f921"
             ]
            ],
            "type": "heatmap"
           }
          ],
          "heatmapgl": [
           {
            "colorbar": {
             "outlinewidth": 0,
             "ticks": ""
            },
            "colorscale": [
             [
              0,
              "#0d0887"
             ],
             [
              0.1111111111111111,
              "#46039f"
             ],
             [
              0.2222222222222222,
              "#7201a8"
             ],
             [
              0.3333333333333333,
              "#9c179e"
             ],
             [
              0.4444444444444444,
              "#bd3786"
             ],
             [
              0.5555555555555556,
              "#d8576b"
             ],
             [
              0.6666666666666666,
              "#ed7953"
             ],
             [
              0.7777777777777778,
              "#fb9f3a"
             ],
             [
              0.8888888888888888,
              "#fdca26"
             ],
             [
              1,
              "#f0f921"
             ]
            ],
            "type": "heatmapgl"
           }
          ],
          "histogram": [
           {
            "marker": {
             "pattern": {
              "fillmode": "overlay",
              "size": 10,
              "solidity": 0.2
             }
            },
            "type": "histogram"
           }
          ],
          "histogram2d": [
           {
            "colorbar": {
             "outlinewidth": 0,
             "ticks": ""
            },
            "colorscale": [
             [
              0,
              "#0d0887"
             ],
             [
              0.1111111111111111,
              "#46039f"
             ],
             [
              0.2222222222222222,
              "#7201a8"
             ],
             [
              0.3333333333333333,
              "#9c179e"
             ],
             [
              0.4444444444444444,
              "#bd3786"
             ],
             [
              0.5555555555555556,
              "#d8576b"
             ],
             [
              0.6666666666666666,
              "#ed7953"
             ],
             [
              0.7777777777777778,
              "#fb9f3a"
             ],
             [
              0.8888888888888888,
              "#fdca26"
             ],
             [
              1,
              "#f0f921"
             ]
            ],
            "type": "histogram2d"
           }
          ],
          "histogram2dcontour": [
           {
            "colorbar": {
             "outlinewidth": 0,
             "ticks": ""
            },
            "colorscale": [
             [
              0,
              "#0d0887"
             ],
             [
              0.1111111111111111,
              "#46039f"
             ],
             [
              0.2222222222222222,
              "#7201a8"
             ],
             [
              0.3333333333333333,
              "#9c179e"
             ],
             [
              0.4444444444444444,
              "#bd3786"
             ],
             [
              0.5555555555555556,
              "#d8576b"
             ],
             [
              0.6666666666666666,
              "#ed7953"
             ],
             [
              0.7777777777777778,
              "#fb9f3a"
             ],
             [
              0.8888888888888888,
              "#fdca26"
             ],
             [
              1,
              "#f0f921"
             ]
            ],
            "type": "histogram2dcontour"
           }
          ],
          "mesh3d": [
           {
            "colorbar": {
             "outlinewidth": 0,
             "ticks": ""
            },
            "type": "mesh3d"
           }
          ],
          "parcoords": [
           {
            "line": {
             "colorbar": {
              "outlinewidth": 0,
              "ticks": ""
             }
            },
            "type": "parcoords"
           }
          ],
          "pie": [
           {
            "automargin": true,
            "type": "pie"
           }
          ],
          "scatter": [
           {
            "marker": {
             "line": {
              "color": "#283442"
             }
            },
            "type": "scatter"
           }
          ],
          "scatter3d": [
           {
            "line": {
             "colorbar": {
              "outlinewidth": 0,
              "ticks": ""
             }
            },
            "marker": {
             "colorbar": {
              "outlinewidth": 0,
              "ticks": ""
             }
            },
            "type": "scatter3d"
           }
          ],
          "scattercarpet": [
           {
            "marker": {
             "colorbar": {
              "outlinewidth": 0,
              "ticks": ""
             }
            },
            "type": "scattercarpet"
           }
          ],
          "scattergeo": [
           {
            "marker": {
             "colorbar": {
              "outlinewidth": 0,
              "ticks": ""
             }
            },
            "type": "scattergeo"
           }
          ],
          "scattergl": [
           {
            "marker": {
             "line": {
              "color": "#283442"
             }
            },
            "type": "scattergl"
           }
          ],
          "scattermapbox": [
           {
            "marker": {
             "colorbar": {
              "outlinewidth": 0,
              "ticks": ""
             }
            },
            "type": "scattermapbox"
           }
          ],
          "scatterpolar": [
           {
            "marker": {
             "colorbar": {
              "outlinewidth": 0,
              "ticks": ""
             }
            },
            "type": "scatterpolar"
           }
          ],
          "scatterpolargl": [
           {
            "marker": {
             "colorbar": {
              "outlinewidth": 0,
              "ticks": ""
             }
            },
            "type": "scatterpolargl"
           }
          ],
          "scatterternary": [
           {
            "marker": {
             "colorbar": {
              "outlinewidth": 0,
              "ticks": ""
             }
            },
            "type": "scatterternary"
           }
          ],
          "surface": [
           {
            "colorbar": {
             "outlinewidth": 0,
             "ticks": ""
            },
            "colorscale": [
             [
              0,
              "#0d0887"
             ],
             [
              0.1111111111111111,
              "#46039f"
             ],
             [
              0.2222222222222222,
              "#7201a8"
             ],
             [
              0.3333333333333333,
              "#9c179e"
             ],
             [
              0.4444444444444444,
              "#bd3786"
             ],
             [
              0.5555555555555556,
              "#d8576b"
             ],
             [
              0.6666666666666666,
              "#ed7953"
             ],
             [
              0.7777777777777778,
              "#fb9f3a"
             ],
             [
              0.8888888888888888,
              "#fdca26"
             ],
             [
              1,
              "#f0f921"
             ]
            ],
            "type": "surface"
           }
          ],
          "table": [
           {
            "cells": {
             "fill": {
              "color": "#506784"
             },
             "line": {
              "color": "rgb(17,17,17)"
             }
            },
            "header": {
             "fill": {
              "color": "#2a3f5f"
             },
             "line": {
              "color": "rgb(17,17,17)"
             }
            },
            "type": "table"
           }
          ]
         },
         "layout": {
          "annotationdefaults": {
           "arrowcolor": "#f2f5fa",
           "arrowhead": 0,
           "arrowwidth": 1
          },
          "autotypenumbers": "strict",
          "coloraxis": {
           "colorbar": {
            "outlinewidth": 0,
            "ticks": ""
           }
          },
          "colorscale": {
           "diverging": [
            [
             0,
             "#8e0152"
            ],
            [
             0.1,
             "#c51b7d"
            ],
            [
             0.2,
             "#de77ae"
            ],
            [
             0.3,
             "#f1b6da"
            ],
            [
             0.4,
             "#fde0ef"
            ],
            [
             0.5,
             "#f7f7f7"
            ],
            [
             0.6,
             "#e6f5d0"
            ],
            [
             0.7,
             "#b8e186"
            ],
            [
             0.8,
             "#7fbc41"
            ],
            [
             0.9,
             "#4d9221"
            ],
            [
             1,
             "#276419"
            ]
           ],
           "sequential": [
            [
             0,
             "#0d0887"
            ],
            [
             0.1111111111111111,
             "#46039f"
            ],
            [
             0.2222222222222222,
             "#7201a8"
            ],
            [
             0.3333333333333333,
             "#9c179e"
            ],
            [
             0.4444444444444444,
             "#bd3786"
            ],
            [
             0.5555555555555556,
             "#d8576b"
            ],
            [
             0.6666666666666666,
             "#ed7953"
            ],
            [
             0.7777777777777778,
             "#fb9f3a"
            ],
            [
             0.8888888888888888,
             "#fdca26"
            ],
            [
             1,
             "#f0f921"
            ]
           ],
           "sequentialminus": [
            [
             0,
             "#0d0887"
            ],
            [
             0.1111111111111111,
             "#46039f"
            ],
            [
             0.2222222222222222,
             "#7201a8"
            ],
            [
             0.3333333333333333,
             "#9c179e"
            ],
            [
             0.4444444444444444,
             "#bd3786"
            ],
            [
             0.5555555555555556,
             "#d8576b"
            ],
            [
             0.6666666666666666,
             "#ed7953"
            ],
            [
             0.7777777777777778,
             "#fb9f3a"
            ],
            [
             0.8888888888888888,
             "#fdca26"
            ],
            [
             1,
             "#f0f921"
            ]
           ]
          },
          "colorway": [
           "#636efa",
           "#EF553B",
           "#00cc96",
           "#ab63fa",
           "#FFA15A",
           "#19d3f3",
           "#FF6692",
           "#B6E880",
           "#FF97FF",
           "#FECB52"
          ],
          "font": {
           "color": "#f2f5fa"
          },
          "geo": {
           "bgcolor": "rgb(17,17,17)",
           "lakecolor": "rgb(17,17,17)",
           "landcolor": "rgb(17,17,17)",
           "showlakes": true,
           "showland": true,
           "subunitcolor": "#506784"
          },
          "hoverlabel": {
           "align": "left"
          },
          "hovermode": "closest",
          "mapbox": {
           "style": "dark"
          },
          "paper_bgcolor": "rgb(17,17,17)",
          "plot_bgcolor": "rgb(17,17,17)",
          "polar": {
           "angularaxis": {
            "gridcolor": "#506784",
            "linecolor": "#506784",
            "ticks": ""
           },
           "bgcolor": "rgb(17,17,17)",
           "radialaxis": {
            "gridcolor": "#506784",
            "linecolor": "#506784",
            "ticks": ""
           }
          },
          "scene": {
           "xaxis": {
            "backgroundcolor": "rgb(17,17,17)",
            "gridcolor": "#506784",
            "gridwidth": 2,
            "linecolor": "#506784",
            "showbackground": true,
            "ticks": "",
            "zerolinecolor": "#C8D4E3"
           },
           "yaxis": {
            "backgroundcolor": "rgb(17,17,17)",
            "gridcolor": "#506784",
            "gridwidth": 2,
            "linecolor": "#506784",
            "showbackground": true,
            "ticks": "",
            "zerolinecolor": "#C8D4E3"
           },
           "zaxis": {
            "backgroundcolor": "rgb(17,17,17)",
            "gridcolor": "#506784",
            "gridwidth": 2,
            "linecolor": "#506784",
            "showbackground": true,
            "ticks": "",
            "zerolinecolor": "#C8D4E3"
           }
          },
          "shapedefaults": {
           "line": {
            "color": "#f2f5fa"
           }
          },
          "sliderdefaults": {
           "bgcolor": "#C8D4E3",
           "bordercolor": "rgb(17,17,17)",
           "borderwidth": 1,
           "tickwidth": 0
          },
          "ternary": {
           "aaxis": {
            "gridcolor": "#506784",
            "linecolor": "#506784",
            "ticks": ""
           },
           "baxis": {
            "gridcolor": "#506784",
            "linecolor": "#506784",
            "ticks": ""
           },
           "bgcolor": "rgb(17,17,17)",
           "caxis": {
            "gridcolor": "#506784",
            "linecolor": "#506784",
            "ticks": ""
           }
          },
          "title": {
           "x": 0.05
          },
          "updatemenudefaults": {
           "bgcolor": "#506784",
           "borderwidth": 0
          },
          "xaxis": {
           "automargin": true,
           "gridcolor": "#283442",
           "linecolor": "#506784",
           "ticks": "",
           "title": {
            "standoff": 15
           },
           "zerolinecolor": "#283442",
           "zerolinewidth": 2
          },
          "yaxis": {
           "automargin": true,
           "gridcolor": "#283442",
           "linecolor": "#506784",
           "ticks": "",
           "title": {
            "standoff": 15
           },
           "zerolinecolor": "#283442",
           "zerolinewidth": 2
          }
         }
        },
        "title": {
         "text": "Evolution of Energy Consumption in France (by source, 2013-2018)",
         "x": 0.5
        },
        "xaxis": {
         "anchor": "y",
         "domain": [
          0,
          1
         ],
         "title": {
          "text": "Year"
         }
        },
        "yaxis": {
         "anchor": "x",
         "domain": [
          0,
          1
         ],
         "title": {
          "text": "Relative Consumption(Year base=2013)"
         }
        }
       }
      }
     },
     "metadata": {},
     "output_type": "display_data"
    }
   ],
   "source": [
    "base_month_consumption = df2.iloc[0, :]\n",
    "relative_consumption = df2.div(base_month_consumption)\n",
    "\n",
    "fig = px.line(relative_consumption, x=df2.index, y=relative_consumption.columns,\n",
    "              labels={'index': 'Month', 'value': 'Relative Consumption'},\n",
    "              title='Evolution of Energy Consumption in France (by source, 2013-2018)',\n",
    "              template='plotly_dark')\n",
    "\n",
    "for source in relative_consumption.columns:\n",
    "    rolling_mean = relative_consumption[source].rolling(window=12).mean()\n",
    "    fig.add_scatter(x=df2.index, y=rolling_mean, mode='lines', name=f'{source} (Rolling Mean)')\n",
    "\n",
    "fig.update_layout(xaxis_title='Year', \n",
    "                  yaxis_title='Relative Consumption(Year base=2013)', \n",
    "                  legend_title='Source',\n",
    "                  title_x=0.5)\n",
    "\n",
    "fig.update_layout(\n",
    "    annotations=[\n",
    "        dict(\n",
    "            text=\"Source: RTE\",\n",
    "            showarrow=False,\n",
    "            xref=\"paper\",\n",
    "            yref=\"paper\",\n",
    "            x=0.1,\n",
    "            y=-0.25,\n",
    "            xanchor='right',\n",
    "            yanchor='bottom'\n",
    "        )\n",
    "    ]\n",
    ")\n",
    "\n",
    "\n",
    "fig.show()\n",
    "\n"
   ]
  },
  {
   "cell_type": "code",
   "execution_count": null,
   "metadata": {},
   "outputs": [],
   "source": []
  },
  {
   "cell_type": "markdown",
   "metadata": {},
   "source": [
    "_______________________"
   ]
  },
  {
   "cell_type": "code",
   "execution_count": 57,
   "metadata": {},
   "outputs": [],
   "source": [
    "df_data_nationales2 = df_data_nationales_clean.groupby(pd.Grouper(freq=\"Y\")).mean()"
   ]
  },
  {
   "cell_type": "code",
   "execution_count": 58,
   "metadata": {},
   "outputs": [],
   "source": [
    "df_data_nationales2 = (df_data_nationales2.dropna(how='all')\n",
    "                                          .drop(['Consommation'], axis=1)\n",
    ")"
   ]
  },
  {
   "cell_type": "code",
   "execution_count": 79,
   "metadata": {},
   "outputs": [
    {
     "data": {
      "application/vnd.plotly.v1+json": {
       "config": {
        "plotlyServerURL": "https://plot.ly"
       },
       "data": [
        {
         "domain": {
          "x": [
           0,
           1
          ],
          "y": [
           0,
           1
          ]
         },
         "hovertemplate": "label=%{label}<br>value=%{value}<extra></extra>",
         "labels": [
          "Fioul",
          "Charbon",
          "Gaz",
          "Nucléaire",
          "Eolien",
          "Solaire",
          "Hydraulique",
          "Pompage",
          "Bioénergies"
         ],
         "legendgroup": "",
         "name": "",
         "showlegend": true,
         "type": "pie",
         "values": [
          342415.5,
          958193.8333333334,
          5031988.333333333,
          65497245.5,
          4688479.833333333,
          1763800.4166666667,
          11234986.75,
          -1233353.25,
          1590997.0833333333
         ]
        }
       ],
       "layout": {
        "annotations": [
         {
          "showarrow": false,
          "text": "Source: RTE",
          "x": 0.1,
          "xanchor": "right",
          "xref": "paper",
          "y": -0.25,
          "yanchor": "bottom",
          "yref": "paper"
         }
        ],
        "legend": {
         "title": {
          "text": "Source"
         },
         "tracegroupgap": 0
        },
        "template": {
         "data": {
          "bar": [
           {
            "error_x": {
             "color": "#f2f5fa"
            },
            "error_y": {
             "color": "#f2f5fa"
            },
            "marker": {
             "line": {
              "color": "rgb(17,17,17)",
              "width": 0.5
             },
             "pattern": {
              "fillmode": "overlay",
              "size": 10,
              "solidity": 0.2
             }
            },
            "type": "bar"
           }
          ],
          "barpolar": [
           {
            "marker": {
             "line": {
              "color": "rgb(17,17,17)",
              "width": 0.5
             },
             "pattern": {
              "fillmode": "overlay",
              "size": 10,
              "solidity": 0.2
             }
            },
            "type": "barpolar"
           }
          ],
          "carpet": [
           {
            "aaxis": {
             "endlinecolor": "#A2B1C6",
             "gridcolor": "#506784",
             "linecolor": "#506784",
             "minorgridcolor": "#506784",
             "startlinecolor": "#A2B1C6"
            },
            "baxis": {
             "endlinecolor": "#A2B1C6",
             "gridcolor": "#506784",
             "linecolor": "#506784",
             "minorgridcolor": "#506784",
             "startlinecolor": "#A2B1C6"
            },
            "type": "carpet"
           }
          ],
          "choropleth": [
           {
            "colorbar": {
             "outlinewidth": 0,
             "ticks": ""
            },
            "type": "choropleth"
           }
          ],
          "contour": [
           {
            "colorbar": {
             "outlinewidth": 0,
             "ticks": ""
            },
            "colorscale": [
             [
              0,
              "#0d0887"
             ],
             [
              0.1111111111111111,
              "#46039f"
             ],
             [
              0.2222222222222222,
              "#7201a8"
             ],
             [
              0.3333333333333333,
              "#9c179e"
             ],
             [
              0.4444444444444444,
              "#bd3786"
             ],
             [
              0.5555555555555556,
              "#d8576b"
             ],
             [
              0.6666666666666666,
              "#ed7953"
             ],
             [
              0.7777777777777778,
              "#fb9f3a"
             ],
             [
              0.8888888888888888,
              "#fdca26"
             ],
             [
              1,
              "#f0f921"
             ]
            ],
            "type": "contour"
           }
          ],
          "contourcarpet": [
           {
            "colorbar": {
             "outlinewidth": 0,
             "ticks": ""
            },
            "type": "contourcarpet"
           }
          ],
          "heatmap": [
           {
            "colorbar": {
             "outlinewidth": 0,
             "ticks": ""
            },
            "colorscale": [
             [
              0,
              "#0d0887"
             ],
             [
              0.1111111111111111,
              "#46039f"
             ],
             [
              0.2222222222222222,
              "#7201a8"
             ],
             [
              0.3333333333333333,
              "#9c179e"
             ],
             [
              0.4444444444444444,
              "#bd3786"
             ],
             [
              0.5555555555555556,
              "#d8576b"
             ],
             [
              0.6666666666666666,
              "#ed7953"
             ],
             [
              0.7777777777777778,
              "#fb9f3a"
             ],
             [
              0.8888888888888888,
              "#fdca26"
             ],
             [
              1,
              "#f0f921"
             ]
            ],
            "type": "heatmap"
           }
          ],
          "heatmapgl": [
           {
            "colorbar": {
             "outlinewidth": 0,
             "ticks": ""
            },
            "colorscale": [
             [
              0,
              "#0d0887"
             ],
             [
              0.1111111111111111,
              "#46039f"
             ],
             [
              0.2222222222222222,
              "#7201a8"
             ],
             [
              0.3333333333333333,
              "#9c179e"
             ],
             [
              0.4444444444444444,
              "#bd3786"
             ],
             [
              0.5555555555555556,
              "#d8576b"
             ],
             [
              0.6666666666666666,
              "#ed7953"
             ],
             [
              0.7777777777777778,
              "#fb9f3a"
             ],
             [
              0.8888888888888888,
              "#fdca26"
             ],
             [
              1,
              "#f0f921"
             ]
            ],
            "type": "heatmapgl"
           }
          ],
          "histogram": [
           {
            "marker": {
             "pattern": {
              "fillmode": "overlay",
              "size": 10,
              "solidity": 0.2
             }
            },
            "type": "histogram"
           }
          ],
          "histogram2d": [
           {
            "colorbar": {
             "outlinewidth": 0,
             "ticks": ""
            },
            "colorscale": [
             [
              0,
              "#0d0887"
             ],
             [
              0.1111111111111111,
              "#46039f"
             ],
             [
              0.2222222222222222,
              "#7201a8"
             ],
             [
              0.3333333333333333,
              "#9c179e"
             ],
             [
              0.4444444444444444,
              "#bd3786"
             ],
             [
              0.5555555555555556,
              "#d8576b"
             ],
             [
              0.6666666666666666,
              "#ed7953"
             ],
             [
              0.7777777777777778,
              "#fb9f3a"
             ],
             [
              0.8888888888888888,
              "#fdca26"
             ],
             [
              1,
              "#f0f921"
             ]
            ],
            "type": "histogram2d"
           }
          ],
          "histogram2dcontour": [
           {
            "colorbar": {
             "outlinewidth": 0,
             "ticks": ""
            },
            "colorscale": [
             [
              0,
              "#0d0887"
             ],
             [
              0.1111111111111111,
              "#46039f"
             ],
             [
              0.2222222222222222,
              "#7201a8"
             ],
             [
              0.3333333333333333,
              "#9c179e"
             ],
             [
              0.4444444444444444,
              "#bd3786"
             ],
             [
              0.5555555555555556,
              "#d8576b"
             ],
             [
              0.6666666666666666,
              "#ed7953"
             ],
             [
              0.7777777777777778,
              "#fb9f3a"
             ],
             [
              0.8888888888888888,
              "#fdca26"
             ],
             [
              1,
              "#f0f921"
             ]
            ],
            "type": "histogram2dcontour"
           }
          ],
          "mesh3d": [
           {
            "colorbar": {
             "outlinewidth": 0,
             "ticks": ""
            },
            "type": "mesh3d"
           }
          ],
          "parcoords": [
           {
            "line": {
             "colorbar": {
              "outlinewidth": 0,
              "ticks": ""
             }
            },
            "type": "parcoords"
           }
          ],
          "pie": [
           {
            "automargin": true,
            "type": "pie"
           }
          ],
          "scatter": [
           {
            "marker": {
             "line": {
              "color": "#283442"
             }
            },
            "type": "scatter"
           }
          ],
          "scatter3d": [
           {
            "line": {
             "colorbar": {
              "outlinewidth": 0,
              "ticks": ""
             }
            },
            "marker": {
             "colorbar": {
              "outlinewidth": 0,
              "ticks": ""
             }
            },
            "type": "scatter3d"
           }
          ],
          "scattercarpet": [
           {
            "marker": {
             "colorbar": {
              "outlinewidth": 0,
              "ticks": ""
             }
            },
            "type": "scattercarpet"
           }
          ],
          "scattergeo": [
           {
            "marker": {
             "colorbar": {
              "outlinewidth": 0,
              "ticks": ""
             }
            },
            "type": "scattergeo"
           }
          ],
          "scattergl": [
           {
            "marker": {
             "line": {
              "color": "#283442"
             }
            },
            "type": "scattergl"
           }
          ],
          "scattermapbox": [
           {
            "marker": {
             "colorbar": {
              "outlinewidth": 0,
              "ticks": ""
             }
            },
            "type": "scattermapbox"
           }
          ],
          "scatterpolar": [
           {
            "marker": {
             "colorbar": {
              "outlinewidth": 0,
              "ticks": ""
             }
            },
            "type": "scatterpolar"
           }
          ],
          "scatterpolargl": [
           {
            "marker": {
             "colorbar": {
              "outlinewidth": 0,
              "ticks": ""
             }
            },
            "type": "scatterpolargl"
           }
          ],
          "scatterternary": [
           {
            "marker": {
             "colorbar": {
              "outlinewidth": 0,
              "ticks": ""
             }
            },
            "type": "scatterternary"
           }
          ],
          "surface": [
           {
            "colorbar": {
             "outlinewidth": 0,
             "ticks": ""
            },
            "colorscale": [
             [
              0,
              "#0d0887"
             ],
             [
              0.1111111111111111,
              "#46039f"
             ],
             [
              0.2222222222222222,
              "#7201a8"
             ],
             [
              0.3333333333333333,
              "#9c179e"
             ],
             [
              0.4444444444444444,
              "#bd3786"
             ],
             [
              0.5555555555555556,
              "#d8576b"
             ],
             [
              0.6666666666666666,
              "#ed7953"
             ],
             [
              0.7777777777777778,
              "#fb9f3a"
             ],
             [
              0.8888888888888888,
              "#fdca26"
             ],
             [
              1,
              "#f0f921"
             ]
            ],
            "type": "surface"
           }
          ],
          "table": [
           {
            "cells": {
             "fill": {
              "color": "#506784"
             },
             "line": {
              "color": "rgb(17,17,17)"
             }
            },
            "header": {
             "fill": {
              "color": "#2a3f5f"
             },
             "line": {
              "color": "rgb(17,17,17)"
             }
            },
            "type": "table"
           }
          ]
         },
         "layout": {
          "annotationdefaults": {
           "arrowcolor": "#f2f5fa",
           "arrowhead": 0,
           "arrowwidth": 1
          },
          "autotypenumbers": "strict",
          "coloraxis": {
           "colorbar": {
            "outlinewidth": 0,
            "ticks": ""
           }
          },
          "colorscale": {
           "diverging": [
            [
             0,
             "#8e0152"
            ],
            [
             0.1,
             "#c51b7d"
            ],
            [
             0.2,
             "#de77ae"
            ],
            [
             0.3,
             "#f1b6da"
            ],
            [
             0.4,
             "#fde0ef"
            ],
            [
             0.5,
             "#f7f7f7"
            ],
            [
             0.6,
             "#e6f5d0"
            ],
            [
             0.7,
             "#b8e186"
            ],
            [
             0.8,
             "#7fbc41"
            ],
            [
             0.9,
             "#4d9221"
            ],
            [
             1,
             "#276419"
            ]
           ],
           "sequential": [
            [
             0,
             "#0d0887"
            ],
            [
             0.1111111111111111,
             "#46039f"
            ],
            [
             0.2222222222222222,
             "#7201a8"
            ],
            [
             0.3333333333333333,
             "#9c179e"
            ],
            [
             0.4444444444444444,
             "#bd3786"
            ],
            [
             0.5555555555555556,
             "#d8576b"
            ],
            [
             0.6666666666666666,
             "#ed7953"
            ],
            [
             0.7777777777777778,
             "#fb9f3a"
            ],
            [
             0.8888888888888888,
             "#fdca26"
            ],
            [
             1,
             "#f0f921"
            ]
           ],
           "sequentialminus": [
            [
             0,
             "#0d0887"
            ],
            [
             0.1111111111111111,
             "#46039f"
            ],
            [
             0.2222222222222222,
             "#7201a8"
            ],
            [
             0.3333333333333333,
             "#9c179e"
            ],
            [
             0.4444444444444444,
             "#bd3786"
            ],
            [
             0.5555555555555556,
             "#d8576b"
            ],
            [
             0.6666666666666666,
             "#ed7953"
            ],
            [
             0.7777777777777778,
             "#fb9f3a"
            ],
            [
             0.8888888888888888,
             "#fdca26"
            ],
            [
             1,
             "#f0f921"
            ]
           ]
          },
          "colorway": [
           "#636efa",
           "#EF553B",
           "#00cc96",
           "#ab63fa",
           "#FFA15A",
           "#19d3f3",
           "#FF6692",
           "#B6E880",
           "#FF97FF",
           "#FECB52"
          ],
          "font": {
           "color": "#f2f5fa"
          },
          "geo": {
           "bgcolor": "rgb(17,17,17)",
           "lakecolor": "rgb(17,17,17)",
           "landcolor": "rgb(17,17,17)",
           "showlakes": true,
           "showland": true,
           "subunitcolor": "#506784"
          },
          "hoverlabel": {
           "align": "left"
          },
          "hovermode": "closest",
          "mapbox": {
           "style": "dark"
          },
          "paper_bgcolor": "rgb(17,17,17)",
          "plot_bgcolor": "rgb(17,17,17)",
          "polar": {
           "angularaxis": {
            "gridcolor": "#506784",
            "linecolor": "#506784",
            "ticks": ""
           },
           "bgcolor": "rgb(17,17,17)",
           "radialaxis": {
            "gridcolor": "#506784",
            "linecolor": "#506784",
            "ticks": ""
           }
          },
          "scene": {
           "xaxis": {
            "backgroundcolor": "rgb(17,17,17)",
            "gridcolor": "#506784",
            "gridwidth": 2,
            "linecolor": "#506784",
            "showbackground": true,
            "ticks": "",
            "zerolinecolor": "#C8D4E3"
           },
           "yaxis": {
            "backgroundcolor": "rgb(17,17,17)",
            "gridcolor": "#506784",
            "gridwidth": 2,
            "linecolor": "#506784",
            "showbackground": true,
            "ticks": "",
            "zerolinecolor": "#C8D4E3"
           },
           "zaxis": {
            "backgroundcolor": "rgb(17,17,17)",
            "gridcolor": "#506784",
            "gridwidth": 2,
            "linecolor": "#506784",
            "showbackground": true,
            "ticks": "",
            "zerolinecolor": "#C8D4E3"
           }
          },
          "shapedefaults": {
           "line": {
            "color": "#f2f5fa"
           }
          },
          "sliderdefaults": {
           "bgcolor": "#C8D4E3",
           "bordercolor": "rgb(17,17,17)",
           "borderwidth": 1,
           "tickwidth": 0
          },
          "ternary": {
           "aaxis": {
            "gridcolor": "#506784",
            "linecolor": "#506784",
            "ticks": ""
           },
           "baxis": {
            "gridcolor": "#506784",
            "linecolor": "#506784",
            "ticks": ""
           },
           "bgcolor": "rgb(17,17,17)",
           "caxis": {
            "gridcolor": "#506784",
            "linecolor": "#506784",
            "ticks": ""
           }
          },
          "title": {
           "x": 0.05
          },
          "updatemenudefaults": {
           "bgcolor": "#506784",
           "borderwidth": 0
          },
          "xaxis": {
           "automargin": true,
           "gridcolor": "#283442",
           "linecolor": "#506784",
           "ticks": "",
           "title": {
            "standoff": 15
           },
           "zerolinecolor": "#283442",
           "zerolinewidth": 2
          },
          "yaxis": {
           "automargin": true,
           "gridcolor": "#283442",
           "linecolor": "#506784",
           "ticks": "",
           "title": {
            "standoff": 15
           },
           "zerolinecolor": "#283442",
           "zerolinewidth": 2
          }
         }
        },
        "title": {
         "text": "Energy Consumption in France (by source, 2012-2018)",
         "x": 0.5
        }
       }
      }
     },
     "metadata": {},
     "output_type": "display_data"
    }
   ],
   "source": [
    "import plotly.express as px\n",
    "\n",
    "\n",
    "latest_month_values = df_data_nationales2.iloc[-1, :]\n",
    "\n",
    "pie_fig = px.pie(values=latest_month_values, names=latest_month_values.index,\n",
    "                 title='Energy Consumption in France (by source, 2012-2018)',\n",
    "                 template='plotly_dark',\n",
    "                 )\n",
    "\n",
    "pie_fig.update_layout(legend_title='Source')\n",
    "\n",
    "pie_fig.update_layout(\n",
    "    title_x=0.5,\n",
    "    annotations=[\n",
    "        dict(\n",
    "            text=\"Source: RTE\",\n",
    "            showarrow=False,\n",
    "            xref=\"paper\",\n",
    "            yref=\"paper\",\n",
    "            x=0.1,\n",
    "            y=-0.25,\n",
    "            xanchor='right',\n",
    "            yanchor='bottom'\n",
    "        )\n",
    "    ]\n",
    ")\n",
    "\n",
    "pie_fig.show()\n"
   ]
  },
  {
   "cell_type": "code",
   "execution_count": null,
   "metadata": {},
   "outputs": [],
   "source": []
  },
  {
   "cell_type": "code",
   "execution_count": 80,
   "metadata": {},
   "outputs": [
    {
     "data": {
      "application/vnd.plotly.v1+json": {
       "config": {
        "plotlyServerURL": "https://plot.ly"
       },
       "data": [
        {
         "domain": {
          "x": [
           0,
           1
          ],
          "y": [
           0,
           1
          ]
         },
         "hovertemplate": "label=%{label}<br>value=%{value}<extra></extra>",
         "labels": [
          "Fioul",
          "Charbon",
          "Gaz",
          "Nucléaire",
          "Eolien",
          "Solaire",
          "Hydraulique",
          "Pompage",
          "Bioénergies"
         ],
         "legendgroup": "",
         "name": "",
         "showlegend": true,
         "type": "pie",
         "values": [
          342415.5,
          958193.8333333334,
          5031988.333333333,
          65497245.5,
          4688479.833333333,
          1763800.4166666667,
          11234986.75,
          -1233353.25,
          1590997.0833333333
         ]
        }
       ],
       "layout": {
        "annotations": [
         {
          "showarrow": false,
          "text": "Source: RTE",
          "x": 0.1,
          "xanchor": "right",
          "xref": "paper",
          "y": -0.25,
          "yanchor": "bottom",
          "yref": "paper"
         }
        ],
        "legend": {
         "title": {
          "text": "Source"
         },
         "tracegroupgap": 0
        },
        "piecolorway": [
         "rgb(228,26,28)",
         "rgb(55,126,184)",
         "rgb(77,175,74)",
         "rgb(152,78,163)",
         "rgb(255,127,0)",
         "rgb(255,255,51)",
         "rgb(166,86,40)",
         "rgb(247,129,191)",
         "rgb(153,153,153)"
        ],
        "template": {
         "data": {
          "bar": [
           {
            "error_x": {
             "color": "#f2f5fa"
            },
            "error_y": {
             "color": "#f2f5fa"
            },
            "marker": {
             "line": {
              "color": "rgb(17,17,17)",
              "width": 0.5
             },
             "pattern": {
              "fillmode": "overlay",
              "size": 10,
              "solidity": 0.2
             }
            },
            "type": "bar"
           }
          ],
          "barpolar": [
           {
            "marker": {
             "line": {
              "color": "rgb(17,17,17)",
              "width": 0.5
             },
             "pattern": {
              "fillmode": "overlay",
              "size": 10,
              "solidity": 0.2
             }
            },
            "type": "barpolar"
           }
          ],
          "carpet": [
           {
            "aaxis": {
             "endlinecolor": "#A2B1C6",
             "gridcolor": "#506784",
             "linecolor": "#506784",
             "minorgridcolor": "#506784",
             "startlinecolor": "#A2B1C6"
            },
            "baxis": {
             "endlinecolor": "#A2B1C6",
             "gridcolor": "#506784",
             "linecolor": "#506784",
             "minorgridcolor": "#506784",
             "startlinecolor": "#A2B1C6"
            },
            "type": "carpet"
           }
          ],
          "choropleth": [
           {
            "colorbar": {
             "outlinewidth": 0,
             "ticks": ""
            },
            "type": "choropleth"
           }
          ],
          "contour": [
           {
            "colorbar": {
             "outlinewidth": 0,
             "ticks": ""
            },
            "colorscale": [
             [
              0,
              "#0d0887"
             ],
             [
              0.1111111111111111,
              "#46039f"
             ],
             [
              0.2222222222222222,
              "#7201a8"
             ],
             [
              0.3333333333333333,
              "#9c179e"
             ],
             [
              0.4444444444444444,
              "#bd3786"
             ],
             [
              0.5555555555555556,
              "#d8576b"
             ],
             [
              0.6666666666666666,
              "#ed7953"
             ],
             [
              0.7777777777777778,
              "#fb9f3a"
             ],
             [
              0.8888888888888888,
              "#fdca26"
             ],
             [
              1,
              "#f0f921"
             ]
            ],
            "type": "contour"
           }
          ],
          "contourcarpet": [
           {
            "colorbar": {
             "outlinewidth": 0,
             "ticks": ""
            },
            "type": "contourcarpet"
           }
          ],
          "heatmap": [
           {
            "colorbar": {
             "outlinewidth": 0,
             "ticks": ""
            },
            "colorscale": [
             [
              0,
              "#0d0887"
             ],
             [
              0.1111111111111111,
              "#46039f"
             ],
             [
              0.2222222222222222,
              "#7201a8"
             ],
             [
              0.3333333333333333,
              "#9c179e"
             ],
             [
              0.4444444444444444,
              "#bd3786"
             ],
             [
              0.5555555555555556,
              "#d8576b"
             ],
             [
              0.6666666666666666,
              "#ed7953"
             ],
             [
              0.7777777777777778,
              "#fb9f3a"
             ],
             [
              0.8888888888888888,
              "#fdca26"
             ],
             [
              1,
              "#f0f921"
             ]
            ],
            "type": "heatmap"
           }
          ],
          "heatmapgl": [
           {
            "colorbar": {
             "outlinewidth": 0,
             "ticks": ""
            },
            "colorscale": [
             [
              0,
              "#0d0887"
             ],
             [
              0.1111111111111111,
              "#46039f"
             ],
             [
              0.2222222222222222,
              "#7201a8"
             ],
             [
              0.3333333333333333,
              "#9c179e"
             ],
             [
              0.4444444444444444,
              "#bd3786"
             ],
             [
              0.5555555555555556,
              "#d8576b"
             ],
             [
              0.6666666666666666,
              "#ed7953"
             ],
             [
              0.7777777777777778,
              "#fb9f3a"
             ],
             [
              0.8888888888888888,
              "#fdca26"
             ],
             [
              1,
              "#f0f921"
             ]
            ],
            "type": "heatmapgl"
           }
          ],
          "histogram": [
           {
            "marker": {
             "pattern": {
              "fillmode": "overlay",
              "size": 10,
              "solidity": 0.2
             }
            },
            "type": "histogram"
           }
          ],
          "histogram2d": [
           {
            "colorbar": {
             "outlinewidth": 0,
             "ticks": ""
            },
            "colorscale": [
             [
              0,
              "#0d0887"
             ],
             [
              0.1111111111111111,
              "#46039f"
             ],
             [
              0.2222222222222222,
              "#7201a8"
             ],
             [
              0.3333333333333333,
              "#9c179e"
             ],
             [
              0.4444444444444444,
              "#bd3786"
             ],
             [
              0.5555555555555556,
              "#d8576b"
             ],
             [
              0.6666666666666666,
              "#ed7953"
             ],
             [
              0.7777777777777778,
              "#fb9f3a"
             ],
             [
              0.8888888888888888,
              "#fdca26"
             ],
             [
              1,
              "#f0f921"
             ]
            ],
            "type": "histogram2d"
           }
          ],
          "histogram2dcontour": [
           {
            "colorbar": {
             "outlinewidth": 0,
             "ticks": ""
            },
            "colorscale": [
             [
              0,
              "#0d0887"
             ],
             [
              0.1111111111111111,
              "#46039f"
             ],
             [
              0.2222222222222222,
              "#7201a8"
             ],
             [
              0.3333333333333333,
              "#9c179e"
             ],
             [
              0.4444444444444444,
              "#bd3786"
             ],
             [
              0.5555555555555556,
              "#d8576b"
             ],
             [
              0.6666666666666666,
              "#ed7953"
             ],
             [
              0.7777777777777778,
              "#fb9f3a"
             ],
             [
              0.8888888888888888,
              "#fdca26"
             ],
             [
              1,
              "#f0f921"
             ]
            ],
            "type": "histogram2dcontour"
           }
          ],
          "mesh3d": [
           {
            "colorbar": {
             "outlinewidth": 0,
             "ticks": ""
            },
            "type": "mesh3d"
           }
          ],
          "parcoords": [
           {
            "line": {
             "colorbar": {
              "outlinewidth": 0,
              "ticks": ""
             }
            },
            "type": "parcoords"
           }
          ],
          "pie": [
           {
            "automargin": true,
            "type": "pie"
           }
          ],
          "scatter": [
           {
            "marker": {
             "line": {
              "color": "#283442"
             }
            },
            "type": "scatter"
           }
          ],
          "scatter3d": [
           {
            "line": {
             "colorbar": {
              "outlinewidth": 0,
              "ticks": ""
             }
            },
            "marker": {
             "colorbar": {
              "outlinewidth": 0,
              "ticks": ""
             }
            },
            "type": "scatter3d"
           }
          ],
          "scattercarpet": [
           {
            "marker": {
             "colorbar": {
              "outlinewidth": 0,
              "ticks": ""
             }
            },
            "type": "scattercarpet"
           }
          ],
          "scattergeo": [
           {
            "marker": {
             "colorbar": {
              "outlinewidth": 0,
              "ticks": ""
             }
            },
            "type": "scattergeo"
           }
          ],
          "scattergl": [
           {
            "marker": {
             "line": {
              "color": "#283442"
             }
            },
            "type": "scattergl"
           }
          ],
          "scattermapbox": [
           {
            "marker": {
             "colorbar": {
              "outlinewidth": 0,
              "ticks": ""
             }
            },
            "type": "scattermapbox"
           }
          ],
          "scatterpolar": [
           {
            "marker": {
             "colorbar": {
              "outlinewidth": 0,
              "ticks": ""
             }
            },
            "type": "scatterpolar"
           }
          ],
          "scatterpolargl": [
           {
            "marker": {
             "colorbar": {
              "outlinewidth": 0,
              "ticks": ""
             }
            },
            "type": "scatterpolargl"
           }
          ],
          "scatterternary": [
           {
            "marker": {
             "colorbar": {
              "outlinewidth": 0,
              "ticks": ""
             }
            },
            "type": "scatterternary"
           }
          ],
          "surface": [
           {
            "colorbar": {
             "outlinewidth": 0,
             "ticks": ""
            },
            "colorscale": [
             [
              0,
              "#0d0887"
             ],
             [
              0.1111111111111111,
              "#46039f"
             ],
             [
              0.2222222222222222,
              "#7201a8"
             ],
             [
              0.3333333333333333,
              "#9c179e"
             ],
             [
              0.4444444444444444,
              "#bd3786"
             ],
             [
              0.5555555555555556,
              "#d8576b"
             ],
             [
              0.6666666666666666,
              "#ed7953"
             ],
             [
              0.7777777777777778,
              "#fb9f3a"
             ],
             [
              0.8888888888888888,
              "#fdca26"
             ],
             [
              1,
              "#f0f921"
             ]
            ],
            "type": "surface"
           }
          ],
          "table": [
           {
            "cells": {
             "fill": {
              "color": "#506784"
             },
             "line": {
              "color": "rgb(17,17,17)"
             }
            },
            "header": {
             "fill": {
              "color": "#2a3f5f"
             },
             "line": {
              "color": "rgb(17,17,17)"
             }
            },
            "type": "table"
           }
          ]
         },
         "layout": {
          "annotationdefaults": {
           "arrowcolor": "#f2f5fa",
           "arrowhead": 0,
           "arrowwidth": 1
          },
          "autotypenumbers": "strict",
          "coloraxis": {
           "colorbar": {
            "outlinewidth": 0,
            "ticks": ""
           }
          },
          "colorscale": {
           "diverging": [
            [
             0,
             "#8e0152"
            ],
            [
             0.1,
             "#c51b7d"
            ],
            [
             0.2,
             "#de77ae"
            ],
            [
             0.3,
             "#f1b6da"
            ],
            [
             0.4,
             "#fde0ef"
            ],
            [
             0.5,
             "#f7f7f7"
            ],
            [
             0.6,
             "#e6f5d0"
            ],
            [
             0.7,
             "#b8e186"
            ],
            [
             0.8,
             "#7fbc41"
            ],
            [
             0.9,
             "#4d9221"
            ],
            [
             1,
             "#276419"
            ]
           ],
           "sequential": [
            [
             0,
             "#0d0887"
            ],
            [
             0.1111111111111111,
             "#46039f"
            ],
            [
             0.2222222222222222,
             "#7201a8"
            ],
            [
             0.3333333333333333,
             "#9c179e"
            ],
            [
             0.4444444444444444,
             "#bd3786"
            ],
            [
             0.5555555555555556,
             "#d8576b"
            ],
            [
             0.6666666666666666,
             "#ed7953"
            ],
            [
             0.7777777777777778,
             "#fb9f3a"
            ],
            [
             0.8888888888888888,
             "#fdca26"
            ],
            [
             1,
             "#f0f921"
            ]
           ],
           "sequentialminus": [
            [
             0,
             "#0d0887"
            ],
            [
             0.1111111111111111,
             "#46039f"
            ],
            [
             0.2222222222222222,
             "#7201a8"
            ],
            [
             0.3333333333333333,
             "#9c179e"
            ],
            [
             0.4444444444444444,
             "#bd3786"
            ],
            [
             0.5555555555555556,
             "#d8576b"
            ],
            [
             0.6666666666666666,
             "#ed7953"
            ],
            [
             0.7777777777777778,
             "#fb9f3a"
            ],
            [
             0.8888888888888888,
             "#fdca26"
            ],
            [
             1,
             "#f0f921"
            ]
           ]
          },
          "colorway": [
           "#636efa",
           "#EF553B",
           "#00cc96",
           "#ab63fa",
           "#FFA15A",
           "#19d3f3",
           "#FF6692",
           "#B6E880",
           "#FF97FF",
           "#FECB52"
          ],
          "font": {
           "color": "#f2f5fa"
          },
          "geo": {
           "bgcolor": "rgb(17,17,17)",
           "lakecolor": "rgb(17,17,17)",
           "landcolor": "rgb(17,17,17)",
           "showlakes": true,
           "showland": true,
           "subunitcolor": "#506784"
          },
          "hoverlabel": {
           "align": "left"
          },
          "hovermode": "closest",
          "mapbox": {
           "style": "dark"
          },
          "paper_bgcolor": "rgb(17,17,17)",
          "plot_bgcolor": "rgb(17,17,17)",
          "polar": {
           "angularaxis": {
            "gridcolor": "#506784",
            "linecolor": "#506784",
            "ticks": ""
           },
           "bgcolor": "rgb(17,17,17)",
           "radialaxis": {
            "gridcolor": "#506784",
            "linecolor": "#506784",
            "ticks": ""
           }
          },
          "scene": {
           "xaxis": {
            "backgroundcolor": "rgb(17,17,17)",
            "gridcolor": "#506784",
            "gridwidth": 2,
            "linecolor": "#506784",
            "showbackground": true,
            "ticks": "",
            "zerolinecolor": "#C8D4E3"
           },
           "yaxis": {
            "backgroundcolor": "rgb(17,17,17)",
            "gridcolor": "#506784",
            "gridwidth": 2,
            "linecolor": "#506784",
            "showbackground": true,
            "ticks": "",
            "zerolinecolor": "#C8D4E3"
           },
           "zaxis": {
            "backgroundcolor": "rgb(17,17,17)",
            "gridcolor": "#506784",
            "gridwidth": 2,
            "linecolor": "#506784",
            "showbackground": true,
            "ticks": "",
            "zerolinecolor": "#C8D4E3"
           }
          },
          "shapedefaults": {
           "line": {
            "color": "#f2f5fa"
           }
          },
          "sliderdefaults": {
           "bgcolor": "#C8D4E3",
           "bordercolor": "rgb(17,17,17)",
           "borderwidth": 1,
           "tickwidth": 0
          },
          "ternary": {
           "aaxis": {
            "gridcolor": "#506784",
            "linecolor": "#506784",
            "ticks": ""
           },
           "baxis": {
            "gridcolor": "#506784",
            "linecolor": "#506784",
            "ticks": ""
           },
           "bgcolor": "rgb(17,17,17)",
           "caxis": {
            "gridcolor": "#506784",
            "linecolor": "#506784",
            "ticks": ""
           }
          },
          "title": {
           "x": 0.05
          },
          "updatemenudefaults": {
           "bgcolor": "#506784",
           "borderwidth": 0
          },
          "xaxis": {
           "automargin": true,
           "gridcolor": "#283442",
           "linecolor": "#506784",
           "ticks": "",
           "title": {
            "standoff": 15
           },
           "zerolinecolor": "#283442",
           "zerolinewidth": 2
          },
          "yaxis": {
           "automargin": true,
           "gridcolor": "#283442",
           "linecolor": "#506784",
           "ticks": "",
           "title": {
            "standoff": 15
           },
           "zerolinecolor": "#283442",
           "zerolinewidth": 2
          }
         }
        },
        "title": {
         "text": "Energy Consumption in France (by source, 2012-2018)",
         "x": 0.5
        }
       }
      }
     },
     "metadata": {},
     "output_type": "display_data"
    }
   ],
   "source": [
    "import plotly.express as px\n",
    "\n",
    "latest_month_values = df_data_nationales2.iloc[-1, :]\n",
    "\n",
    "# Use Set1 color palette\n",
    "colors_set1 = px.colors.qualitative.Set1\n",
    "\n",
    "pie_fig = px.pie(values=latest_month_values, names=latest_month_values.index,\n",
    "                 title='Energy Consumption in France (by source, 2012-2018)',\n",
    "                 template='plotly_dark',\n",
    "                 color_discrete_sequence=colors_set1)\n",
    "\n",
    "pie_fig.update_layout(legend_title='Source')\n",
    "\n",
    "pie_fig.update_layout(\n",
    "    title_x=0.5,\n",
    "    annotations=[\n",
    "        dict(\n",
    "            text=\"Source: RTE\",\n",
    "            showarrow=False,\n",
    "            xref=\"paper\",\n",
    "            yref=\"paper\",\n",
    "            x=0.1,\n",
    "            y=-0.25,\n",
    "            xanchor='right',\n",
    "            yanchor='bottom'\n",
    "        )\n",
    "    ]\n",
    ")\n",
    "\n",
    "pie_fig.show()\n"
   ]
  },
  {
   "cell_type": "code",
   "execution_count": 83,
   "metadata": {},
   "outputs": [
    {
     "data": {
      "application/vnd.plotly.v1+json": {
       "config": {
        "plotlyServerURL": "https://plot.ly"
       },
       "data": [
        {
         "domain": {
          "x": [
           0,
           1
          ],
          "y": [
           0,
           1
          ]
         },
         "hovertemplate": "label=%{label}<br>value=%{value}<extra></extra>",
         "labels": [
          "Fioul",
          "Charbon",
          "Gaz",
          "Nucléaire",
          "Eolien",
          "Solaire",
          "Hydraulique",
          "Pompage",
          "Bioénergies"
         ],
         "legendgroup": "",
         "name": "",
         "showlegend": true,
         "type": "pie",
         "values": [
          342415.5,
          958193.8333333334,
          5031988.333333333,
          65497245.5,
          4688479.833333333,
          1763800.4166666667,
          11234986.75,
          -1233353.25,
          1590997.0833333333
         ]
        }
       ],
       "layout": {
        "annotations": [
         {
          "showarrow": false,
          "text": "Source: RTE",
          "x": 0.1,
          "xanchor": "right",
          "xref": "paper",
          "y": -0.25,
          "yanchor": "bottom",
          "yref": "paper"
         }
        ],
        "legend": {
         "title": {
          "text": "Source"
         },
         "tracegroupgap": 0
        },
        "piecolorway": [
         "rgb(141,211,199)",
         "rgb(255,255,179)",
         "rgb(190,186,218)",
         "rgb(251,128,114)",
         "rgb(128,177,211)",
         "rgb(253,180,98)",
         "rgb(179,222,105)",
         "rgb(252,205,229)",
         "rgb(217,217,217)",
         "rgb(188,128,189)",
         "rgb(204,235,197)",
         "rgb(255,237,111)"
        ],
        "template": {
         "data": {
          "bar": [
           {
            "error_x": {
             "color": "#f2f5fa"
            },
            "error_y": {
             "color": "#f2f5fa"
            },
            "marker": {
             "line": {
              "color": "rgb(17,17,17)",
              "width": 0.5
             },
             "pattern": {
              "fillmode": "overlay",
              "size": 10,
              "solidity": 0.2
             }
            },
            "type": "bar"
           }
          ],
          "barpolar": [
           {
            "marker": {
             "line": {
              "color": "rgb(17,17,17)",
              "width": 0.5
             },
             "pattern": {
              "fillmode": "overlay",
              "size": 10,
              "solidity": 0.2
             }
            },
            "type": "barpolar"
           }
          ],
          "carpet": [
           {
            "aaxis": {
             "endlinecolor": "#A2B1C6",
             "gridcolor": "#506784",
             "linecolor": "#506784",
             "minorgridcolor": "#506784",
             "startlinecolor": "#A2B1C6"
            },
            "baxis": {
             "endlinecolor": "#A2B1C6",
             "gridcolor": "#506784",
             "linecolor": "#506784",
             "minorgridcolor": "#506784",
             "startlinecolor": "#A2B1C6"
            },
            "type": "carpet"
           }
          ],
          "choropleth": [
           {
            "colorbar": {
             "outlinewidth": 0,
             "ticks": ""
            },
            "type": "choropleth"
           }
          ],
          "contour": [
           {
            "colorbar": {
             "outlinewidth": 0,
             "ticks": ""
            },
            "colorscale": [
             [
              0,
              "#0d0887"
             ],
             [
              0.1111111111111111,
              "#46039f"
             ],
             [
              0.2222222222222222,
              "#7201a8"
             ],
             [
              0.3333333333333333,
              "#9c179e"
             ],
             [
              0.4444444444444444,
              "#bd3786"
             ],
             [
              0.5555555555555556,
              "#d8576b"
             ],
             [
              0.6666666666666666,
              "#ed7953"
             ],
             [
              0.7777777777777778,
              "#fb9f3a"
             ],
             [
              0.8888888888888888,
              "#fdca26"
             ],
             [
              1,
              "#f0f921"
             ]
            ],
            "type": "contour"
           }
          ],
          "contourcarpet": [
           {
            "colorbar": {
             "outlinewidth": 0,
             "ticks": ""
            },
            "type": "contourcarpet"
           }
          ],
          "heatmap": [
           {
            "colorbar": {
             "outlinewidth": 0,
             "ticks": ""
            },
            "colorscale": [
             [
              0,
              "#0d0887"
             ],
             [
              0.1111111111111111,
              "#46039f"
             ],
             [
              0.2222222222222222,
              "#7201a8"
             ],
             [
              0.3333333333333333,
              "#9c179e"
             ],
             [
              0.4444444444444444,
              "#bd3786"
             ],
             [
              0.5555555555555556,
              "#d8576b"
             ],
             [
              0.6666666666666666,
              "#ed7953"
             ],
             [
              0.7777777777777778,
              "#fb9f3a"
             ],
             [
              0.8888888888888888,
              "#fdca26"
             ],
             [
              1,
              "#f0f921"
             ]
            ],
            "type": "heatmap"
           }
          ],
          "heatmapgl": [
           {
            "colorbar": {
             "outlinewidth": 0,
             "ticks": ""
            },
            "colorscale": [
             [
              0,
              "#0d0887"
             ],
             [
              0.1111111111111111,
              "#46039f"
             ],
             [
              0.2222222222222222,
              "#7201a8"
             ],
             [
              0.3333333333333333,
              "#9c179e"
             ],
             [
              0.4444444444444444,
              "#bd3786"
             ],
             [
              0.5555555555555556,
              "#d8576b"
             ],
             [
              0.6666666666666666,
              "#ed7953"
             ],
             [
              0.7777777777777778,
              "#fb9f3a"
             ],
             [
              0.8888888888888888,
              "#fdca26"
             ],
             [
              1,
              "#f0f921"
             ]
            ],
            "type": "heatmapgl"
           }
          ],
          "histogram": [
           {
            "marker": {
             "pattern": {
              "fillmode": "overlay",
              "size": 10,
              "solidity": 0.2
             }
            },
            "type": "histogram"
           }
          ],
          "histogram2d": [
           {
            "colorbar": {
             "outlinewidth": 0,
             "ticks": ""
            },
            "colorscale": [
             [
              0,
              "#0d0887"
             ],
             [
              0.1111111111111111,
              "#46039f"
             ],
             [
              0.2222222222222222,
              "#7201a8"
             ],
             [
              0.3333333333333333,
              "#9c179e"
             ],
             [
              0.4444444444444444,
              "#bd3786"
             ],
             [
              0.5555555555555556,
              "#d8576b"
             ],
             [
              0.6666666666666666,
              "#ed7953"
             ],
             [
              0.7777777777777778,
              "#fb9f3a"
             ],
             [
              0.8888888888888888,
              "#fdca26"
             ],
             [
              1,
              "#f0f921"
             ]
            ],
            "type": "histogram2d"
           }
          ],
          "histogram2dcontour": [
           {
            "colorbar": {
             "outlinewidth": 0,
             "ticks": ""
            },
            "colorscale": [
             [
              0,
              "#0d0887"
             ],
             [
              0.1111111111111111,
              "#46039f"
             ],
             [
              0.2222222222222222,
              "#7201a8"
             ],
             [
              0.3333333333333333,
              "#9c179e"
             ],
             [
              0.4444444444444444,
              "#bd3786"
             ],
             [
              0.5555555555555556,
              "#d8576b"
             ],
             [
              0.6666666666666666,
              "#ed7953"
             ],
             [
              0.7777777777777778,
              "#fb9f3a"
             ],
             [
              0.8888888888888888,
              "#fdca26"
             ],
             [
              1,
              "#f0f921"
             ]
            ],
            "type": "histogram2dcontour"
           }
          ],
          "mesh3d": [
           {
            "colorbar": {
             "outlinewidth": 0,
             "ticks": ""
            },
            "type": "mesh3d"
           }
          ],
          "parcoords": [
           {
            "line": {
             "colorbar": {
              "outlinewidth": 0,
              "ticks": ""
             }
            },
            "type": "parcoords"
           }
          ],
          "pie": [
           {
            "automargin": true,
            "type": "pie"
           }
          ],
          "scatter": [
           {
            "marker": {
             "line": {
              "color": "#283442"
             }
            },
            "type": "scatter"
           }
          ],
          "scatter3d": [
           {
            "line": {
             "colorbar": {
              "outlinewidth": 0,
              "ticks": ""
             }
            },
            "marker": {
             "colorbar": {
              "outlinewidth": 0,
              "ticks": ""
             }
            },
            "type": "scatter3d"
           }
          ],
          "scattercarpet": [
           {
            "marker": {
             "colorbar": {
              "outlinewidth": 0,
              "ticks": ""
             }
            },
            "type": "scattercarpet"
           }
          ],
          "scattergeo": [
           {
            "marker": {
             "colorbar": {
              "outlinewidth": 0,
              "ticks": ""
             }
            },
            "type": "scattergeo"
           }
          ],
          "scattergl": [
           {
            "marker": {
             "line": {
              "color": "#283442"
             }
            },
            "type": "scattergl"
           }
          ],
          "scattermapbox": [
           {
            "marker": {
             "colorbar": {
              "outlinewidth": 0,
              "ticks": ""
             }
            },
            "type": "scattermapbox"
           }
          ],
          "scatterpolar": [
           {
            "marker": {
             "colorbar": {
              "outlinewidth": 0,
              "ticks": ""
             }
            },
            "type": "scatterpolar"
           }
          ],
          "scatterpolargl": [
           {
            "marker": {
             "colorbar": {
              "outlinewidth": 0,
              "ticks": ""
             }
            },
            "type": "scatterpolargl"
           }
          ],
          "scatterternary": [
           {
            "marker": {
             "colorbar": {
              "outlinewidth": 0,
              "ticks": ""
             }
            },
            "type": "scatterternary"
           }
          ],
          "surface": [
           {
            "colorbar": {
             "outlinewidth": 0,
             "ticks": ""
            },
            "colorscale": [
             [
              0,
              "#0d0887"
             ],
             [
              0.1111111111111111,
              "#46039f"
             ],
             [
              0.2222222222222222,
              "#7201a8"
             ],
             [
              0.3333333333333333,
              "#9c179e"
             ],
             [
              0.4444444444444444,
              "#bd3786"
             ],
             [
              0.5555555555555556,
              "#d8576b"
             ],
             [
              0.6666666666666666,
              "#ed7953"
             ],
             [
              0.7777777777777778,
              "#fb9f3a"
             ],
             [
              0.8888888888888888,
              "#fdca26"
             ],
             [
              1,
              "#f0f921"
             ]
            ],
            "type": "surface"
           }
          ],
          "table": [
           {
            "cells": {
             "fill": {
              "color": "#506784"
             },
             "line": {
              "color": "rgb(17,17,17)"
             }
            },
            "header": {
             "fill": {
              "color": "#2a3f5f"
             },
             "line": {
              "color": "rgb(17,17,17)"
             }
            },
            "type": "table"
           }
          ]
         },
         "layout": {
          "annotationdefaults": {
           "arrowcolor": "#f2f5fa",
           "arrowhead": 0,
           "arrowwidth": 1
          },
          "autotypenumbers": "strict",
          "coloraxis": {
           "colorbar": {
            "outlinewidth": 0,
            "ticks": ""
           }
          },
          "colorscale": {
           "diverging": [
            [
             0,
             "#8e0152"
            ],
            [
             0.1,
             "#c51b7d"
            ],
            [
             0.2,
             "#de77ae"
            ],
            [
             0.3,
             "#f1b6da"
            ],
            [
             0.4,
             "#fde0ef"
            ],
            [
             0.5,
             "#f7f7f7"
            ],
            [
             0.6,
             "#e6f5d0"
            ],
            [
             0.7,
             "#b8e186"
            ],
            [
             0.8,
             "#7fbc41"
            ],
            [
             0.9,
             "#4d9221"
            ],
            [
             1,
             "#276419"
            ]
           ],
           "sequential": [
            [
             0,
             "#0d0887"
            ],
            [
             0.1111111111111111,
             "#46039f"
            ],
            [
             0.2222222222222222,
             "#7201a8"
            ],
            [
             0.3333333333333333,
             "#9c179e"
            ],
            [
             0.4444444444444444,
             "#bd3786"
            ],
            [
             0.5555555555555556,
             "#d8576b"
            ],
            [
             0.6666666666666666,
             "#ed7953"
            ],
            [
             0.7777777777777778,
             "#fb9f3a"
            ],
            [
             0.8888888888888888,
             "#fdca26"
            ],
            [
             1,
             "#f0f921"
            ]
           ],
           "sequentialminus": [
            [
             0,
             "#0d0887"
            ],
            [
             0.1111111111111111,
             "#46039f"
            ],
            [
             0.2222222222222222,
             "#7201a8"
            ],
            [
             0.3333333333333333,
             "#9c179e"
            ],
            [
             0.4444444444444444,
             "#bd3786"
            ],
            [
             0.5555555555555556,
             "#d8576b"
            ],
            [
             0.6666666666666666,
             "#ed7953"
            ],
            [
             0.7777777777777778,
             "#fb9f3a"
            ],
            [
             0.8888888888888888,
             "#fdca26"
            ],
            [
             1,
             "#f0f921"
            ]
           ]
          },
          "colorway": [
           "#636efa",
           "#EF553B",
           "#00cc96",
           "#ab63fa",
           "#FFA15A",
           "#19d3f3",
           "#FF6692",
           "#B6E880",
           "#FF97FF",
           "#FECB52"
          ],
          "font": {
           "color": "#f2f5fa"
          },
          "geo": {
           "bgcolor": "rgb(17,17,17)",
           "lakecolor": "rgb(17,17,17)",
           "landcolor": "rgb(17,17,17)",
           "showlakes": true,
           "showland": true,
           "subunitcolor": "#506784"
          },
          "hoverlabel": {
           "align": "left"
          },
          "hovermode": "closest",
          "mapbox": {
           "style": "dark"
          },
          "paper_bgcolor": "rgb(17,17,17)",
          "plot_bgcolor": "rgb(17,17,17)",
          "polar": {
           "angularaxis": {
            "gridcolor": "#506784",
            "linecolor": "#506784",
            "ticks": ""
           },
           "bgcolor": "rgb(17,17,17)",
           "radialaxis": {
            "gridcolor": "#506784",
            "linecolor": "#506784",
            "ticks": ""
           }
          },
          "scene": {
           "xaxis": {
            "backgroundcolor": "rgb(17,17,17)",
            "gridcolor": "#506784",
            "gridwidth": 2,
            "linecolor": "#506784",
            "showbackground": true,
            "ticks": "",
            "zerolinecolor": "#C8D4E3"
           },
           "yaxis": {
            "backgroundcolor": "rgb(17,17,17)",
            "gridcolor": "#506784",
            "gridwidth": 2,
            "linecolor": "#506784",
            "showbackground": true,
            "ticks": "",
            "zerolinecolor": "#C8D4E3"
           },
           "zaxis": {
            "backgroundcolor": "rgb(17,17,17)",
            "gridcolor": "#506784",
            "gridwidth": 2,
            "linecolor": "#506784",
            "showbackground": true,
            "ticks": "",
            "zerolinecolor": "#C8D4E3"
           }
          },
          "shapedefaults": {
           "line": {
            "color": "#f2f5fa"
           }
          },
          "sliderdefaults": {
           "bgcolor": "#C8D4E3",
           "bordercolor": "rgb(17,17,17)",
           "borderwidth": 1,
           "tickwidth": 0
          },
          "ternary": {
           "aaxis": {
            "gridcolor": "#506784",
            "linecolor": "#506784",
            "ticks": ""
           },
           "baxis": {
            "gridcolor": "#506784",
            "linecolor": "#506784",
            "ticks": ""
           },
           "bgcolor": "rgb(17,17,17)",
           "caxis": {
            "gridcolor": "#506784",
            "linecolor": "#506784",
            "ticks": ""
           }
          },
          "title": {
           "x": 0.05
          },
          "updatemenudefaults": {
           "bgcolor": "#506784",
           "borderwidth": 0
          },
          "xaxis": {
           "automargin": true,
           "gridcolor": "#283442",
           "linecolor": "#506784",
           "ticks": "",
           "title": {
            "standoff": 15
           },
           "zerolinecolor": "#283442",
           "zerolinewidth": 2
          },
          "yaxis": {
           "automargin": true,
           "gridcolor": "#283442",
           "linecolor": "#506784",
           "ticks": "",
           "title": {
            "standoff": 15
           },
           "zerolinecolor": "#283442",
           "zerolinewidth": 2
          }
         }
        },
        "title": {
         "text": "Energy Consumption in France (by source, 2012-2018)",
         "x": 0.5
        }
       }
      }
     },
     "metadata": {},
     "output_type": "display_data"
    }
   ],
   "source": [
    "import plotly.express as px\n",
    "\n",
    "latest_month_values = df_data_nationales2.iloc[-1, :]\n",
    "\n",
    "# Use Set3 color palette\n",
    "colors_set3 = px.colors.qualitative.Set3\n",
    "\n",
    "pie_fig = px.pie(values=latest_month_values, names=latest_month_values.index,\n",
    "                 title='Energy Consumption in France (by source, 2012-2018)',\n",
    "                 template='plotly_dark',\n",
    "                 color_discrete_sequence=colors_set3)\n",
    "\n",
    "pie_fig.update_layout(legend_title='Source')\n",
    "\n",
    "pie_fig.update_layout(\n",
    "    title_x=0.5,\n",
    "    annotations=[\n",
    "        dict(\n",
    "            text=\"Source: RTE\",\n",
    "            showarrow=False,\n",
    "            xref=\"paper\",\n",
    "            yref=\"paper\",\n",
    "            x=0.1,\n",
    "            y=-0.25,\n",
    "            xanchor='right',\n",
    "            yanchor='bottom'\n",
    "        )\n",
    "    ]\n",
    ")\n",
    "\n",
    "pie_fig.show()\n"
   ]
  }
 ],
 "metadata": {
  "kernelspec": {
   "display_name": "base",
   "language": "python",
   "name": "python3"
  },
  "language_info": {
   "codemirror_mode": {
    "name": "ipython",
    "version": 3
   },
   "file_extension": ".py",
   "mimetype": "text/x-python",
   "name": "python",
   "nbconvert_exporter": "python",
   "pygments_lexer": "ipython3",
   "version": "3.11.5"
  }
 },
 "nbformat": 4,
 "nbformat_minor": 2
}
